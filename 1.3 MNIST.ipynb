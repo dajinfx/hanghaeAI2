{
  "nbformat": 4,
  "nbformat_minor": 0,
  "metadata": {
    "colab": {
      "provenance": []
    },
    "kernelspec": {
      "name": "python3",
      "display_name": "Python 3"
    },
    "language_info": {
      "name": "python"
    }
  },
  "cells": [
    {
      "cell_type": "markdown",
      "source": [
        "# MNIST 실습\n",
        "\n",
        "이번에는 28x28 흑백 손글씨 이미지를 보고 0~9 사이의 숫자 중 어떤 숫자를 쓴 것인지 예측하는 문제를 실습합니다.\n",
        "이번 실습에서는 GPU를 활용할 것이기 때문에, 이전 챕터에서 Colab에서 GPU를 설정하는 방법을 따라해주시길 바랍니다.\n",
        "\n",
        "GPU를 설정했으면 library들을 import합니다."
      ],
      "metadata": {
        "id": "OPJenlrhihrh"
      }
    },
    {
      "cell_type": "code",
      "execution_count": 69,
      "metadata": {
        "id": "6lXVfXoDtoQh"
      },
      "outputs": [],
      "source": [
        "import torch\n",
        "import torchvision\n",
        "import torchvision.transforms as transforms\n",
        "from matplotlib import pyplot as plt\n",
        "from torch import nn\n",
        "from torch.optim import SGD\n",
        "import numpy as np"
      ]
    },
    {
      "cell_type": "code",
      "source": [
        "import os\n",
        "os.environ[\"CUDA_LAUNCH_BLOCKING\"] = \"1\""
      ],
      "metadata": {
        "id": "SYLPYHFCTxYp"
      },
      "execution_count": 70,
      "outputs": []
    },
    {
      "cell_type": "markdown",
      "source": [
        "다음은 dataset을 준비합니다. 손글씨 dataset은 MNIST라는 유명한 dataset이 있습니다. 이 dataset은 `torchvision`에서 제공하고 있으며, 다음과 같이 다운로드 받을 수 있습니다."
      ],
      "metadata": {
        "id": "pF-1zQvmiult"
      }
    },
    {
      "cell_type": "code",
      "source": [
        "transform = transforms.ToTensor()\n",
        "\n",
        "trainset = torchvision.datasets.MNIST(root='./data',train=True,download=True,transform=transform)\n",
        "testset = torchvision.datasets.MNIST(root='./data', train=False, download=True, transform=transform)"
      ],
      "metadata": {
        "id": "KAYlqPaRt6ti"
      },
      "execution_count": 71,
      "outputs": []
    },
    {
      "cell_type": "markdown",
      "source": [
        "[MY CODE] trainset 와 testset  한데 모음"
      ],
      "metadata": {
        "id": "yvGTdcXRKHdw"
      }
    },
    {
      "cell_type": "markdown",
      "source": [
        "MNIST는 손글씨 사진과 어떤 숫자를 의미하는지에 대한 label의 pair들로 구성되어있습니다.\n",
        "이 때, 우리는 PyTorch model을 사용할 것이기 때문에 손글씨 사진들을 모두 tensor로 변환해야합니다.\n",
        "이러한 부가적인 변환들은 `torchvision.transforms`에서 제공하고 있으며, `torchvision.datasets.MNIST`에서 `transform` 인자로 받을 수 있습니다.\n",
        "우리는 단순히 사진을 tensor로 바꾸고 싶기 때문에 `transforms.ToTensor()` transformation을 넘겨줍니다.\n",
        "\n",
        "다음은 전체 data의 개수와 첫 번째 data를 출력한 결과입니다."
      ],
      "metadata": {
        "id": "p-GqH7_ZjVMs"
      }
    },
    {
      "cell_type": "code",
      "source": [
        "from matplotlib import pyplot as plt\n",
        "\n",
        "\n",
        "print(len(trainset))\n",
        "print(trainset[0][0].shape, trainset[0][1])\n",
        "plt.imshow(trainset[0][0][0], cmap='gray')"
      ],
      "metadata": {
        "colab": {
          "base_uri": "https://localhost:8080/",
          "height": 484
        },
        "id": "Zsp3sHmojyhT",
        "outputId": "f02f79e8-4566-43a7-c0c2-514d879b3c0f"
      },
      "execution_count": 72,
      "outputs": [
        {
          "output_type": "stream",
          "name": "stdout",
          "text": [
            "60000\n",
            "torch.Size([1, 28, 28]) 5\n"
          ]
        },
        {
          "output_type": "execute_result",
          "data": {
            "text/plain": [
              "<matplotlib.image.AxesImage at 0x7b4caf1e81f0>"
            ]
          },
          "metadata": {},
          "execution_count": 72
        },
        {
          "output_type": "display_data",
          "data": {
            "text/plain": [
              "<Figure size 640x480 with 1 Axes>"
            ],
            "image/png": "[encoded data removed]"
          },
          "metadata": {}
        }
      ]
    },
    {
      "cell_type": "markdown",
      "source": [
        "첫 번째 출력결과를 통해 우리는 6만장의 손글씨 data가 있는 것을 알 수 있습니다.\n",
        "그리고 두 번째 출력결과를 통해 첫 번째 data의 shape은 (1, 28, 28)이고 5라는 숫자를 쓴 사진이라는 것을 알 수 있습니다.\n",
        "마지막으로 `plt.imshow`를 통해 visualize 했을 때 5라는 숫자가 나오는 것을 알 수 있습니다.\n",
        "\n",
        "다음은 SGD를 위해 dataset을 여러 개의 batch로 나누는 과정을 PyTorch로 구현한 모습입니다."
      ],
      "metadata": {
        "id": "udm8wDBsi301"
      }
    },
    {
      "cell_type": "code",
      "source": [
        "batch_size = 256\n",
        "\n",
        "trainloader = torch.utils.data.DataLoader(trainset,batch_size=batch_size,shuffle=True)\n",
        "testloader = torch.utils.data.DataLoader(testset, batch_size=64, shuffle=False)"
      ],
      "metadata": {
        "id": "UxKu3kA2i5WH"
      },
      "execution_count": 73,
      "outputs": []
    },
    {
      "cell_type": "markdown",
      "source": [
        "PyTorch에서는 `DataLoader`가 dataset을 인자로 받아 batch로 나눠줍니다.\n",
        "부가적으로 `batch_size`라는 인자를 통해 batch size를 받고 있으며, `shuffle`이라는 인자를 통해 data들을 섞을지 결정해줍니다.\n",
        "우리는 SGD가 완전 랜덤으로 batch를 구성해야 잘 동작하는 것을 알고 있기 때문에 `shuffle`에 `True`를 넘겨주고 있습니다.\n",
        "\n",
        "다음은 첫 번째 batch를 출력한 모습입니다."
      ],
      "metadata": {
        "id": "z4Qyrm4WlzWt"
      }
    },
    {
      "cell_type": "code",
      "source": [
        "dataiter = iter(trainloader)\n",
        "images, labels = next(dataiter)\n",
        "print(images.shape, labels.shape)"
      ],
      "metadata": {
        "colab": {
          "base_uri": "https://localhost:8080/"
        },
        "id": "_Hd7XxyAvVNz",
        "outputId": "95e4fced-21bc-4403-dc25-36283ca781bc"
      },
      "execution_count": 74,
      "outputs": [
        {
          "output_type": "stream",
          "name": "stdout",
          "text": [
            "torch.Size([256, 1, 28, 28]) torch.Size([256])\n"
          ]
        }
      ]
    },
    {
      "cell_type": "markdown",
      "source": [
        "`images`는 첫 번째 batch의 image들이고 `labels`는 첫 번째 batch의 label들입니다.\n",
        "위에서 batch size를 64로 설정했기 때문에 총 64개의 image와 label들이 있어야 합니다.\n",
        "실제 shape 출력 결과를 보면 그렇다는 것을 알 수 있습니다.\n",
        "\n",
        "다음은 (n, 1, 28, 28) shape의 image를 입력받아 0~9 사이의 정수 하나를 출력하는 3-layer MLP를 구현합니다."
      ],
      "metadata": {
        "id": "h0ZY5mDimRUK"
      }
    },
    {
      "cell_type": "code",
      "source": [
        "from torch import nn\n",
        "\n",
        "\n",
        "class SimpleANN(nn.Module):\n",
        "  def __init__(self, input_dim, n_dim):\n",
        "    super().__init__()\n",
        "\n",
        "    self.layer1 = nn.Linear(input_dim, n_dim)\n",
        "    self.layer2 = nn.Linear(n_dim, n_dim)\n",
        "    self.layer3 = nn.Linear(n_dim, 10) #  손실함수 MSE로 부터 nn.CrossEntropyLoss() 바꾼다음,   Praramiter를 1로부터 10 바꿔야만 했음,  그렇치 않으면 오류 발생   nn.Linear(n_dim, 10)\n",
        "\n",
        "    self.act = nn.ReLU()\n",
        "\n",
        "  def forward(self, x):\n",
        "    x = torch.flatten(x, start_dim=1)\n",
        "    x = self.act(self.layer1(x))\n",
        "    x = self.act(self.layer2(x))\n",
        "    x = self.act(self.layer3(x))\n",
        "\n",
        "    return x\n",
        "\n",
        "model = None;\n",
        "model = SimpleANN(28 * 28 * 1, 1024)"
      ],
      "metadata": {
        "id": "OLOA-ZGTuVVG"
      },
      "execution_count": 75,
      "outputs": []
    },
    {
      "cell_type": "markdown",
      "source": [
        "[MY CODE] self.layer3 = nn.Linear(n_dim, 10)   \n",
        "손실함수 MSE로 부터 nn.CrossEntropyLoss() 바꾼다음,   Praramiter를 1로부터 10 바꿔야만 했음,  그렇치 않으면 오류 발생   nn.Linear(n_dim, 10)\n",
        "하지만 원리의 구분에 대해서 아직 잘 모르겠습니다."
      ],
      "metadata": {
        "id": "Zqc83RpbOOp-"
      }
    },
    {
      "cell_type": "markdown",
      "source": [
        "이전의 2-layer MLP와 유사한 형태임을 알 수 있습니다.\n",
        "여기서 특이사항은 `forward`의 첫 번째 줄에 `torch.flatten`을 사용한다는 것입니다.\n",
        "`Linear`는 이전에도 봤다시피 (n, d) 형태의 shape을 입력받습니다.\n",
        "이미지는 (n, 1, 28, 28)이기 때문에 (n, 1 * 28 * 28)로 shape을 변환해야 선형 함수에 입력으로 주어줄 수 있게 됩니다.\n",
        "이 역할을 수행하는 것이 바로 `torch.flatten`입니다.\n",
        "우리는 첫 번째 shape인 n을 보존할 것이기 때문에 flatten할 차원은 `start_dim=1`로 넘겨주게 됩니다.\n",
        "\n",
        "다음은 gradient descent를 수행해줄 optimizer를 구현하는 모습입니다."
      ],
      "metadata": {
        "id": "tag1rNcwmnAr"
      }
    },
    {
      "cell_type": "code",
      "source": [
        "from torch.optim import SGD\n",
        "\n",
        "lr = 0.001\n",
        "device = torch.device(\"cuda\" if torch.cuda.is_available() else \"cpu\")\n",
        "model = model.to(device)\n",
        "print(device)\n",
        "optimizer = SGD(model.parameters(), lr=lr, momentum=0.9)"
      ],
      "metadata": {
        "id": "ypS0TcOlvBhZ",
        "colab": {
          "base_uri": "https://localhost:8080/"
        },
        "outputId": "4d49d4fb-f898-4d02-dc0d-fe27f0519a1e"
      },
      "execution_count": 76,
      "outputs": [
        {
          "output_type": "stream",
          "name": "stdout",
          "text": [
            "cpu\n"
          ]
        }
      ]
    },
    {
      "cell_type": "markdown",
      "source": [
        "이전 코드와 거의 똑같습니다. 다른 점은 `model.to('cuda')` 코드를 통해 우리가 구현한 model을 GPU로 옮긴 것입니다.\n",
        "MNIST 부터는 모델과 data가 커지면서 훨씬 많은 행렬 연산이 이루어지기 때문에 GPU를 활용하는 것이 빠릅니다.\n",
        "\n",
        "다음은 model을 MNIST에 학습하는 코드입니다."
      ],
      "metadata": {
        "id": "5PooeOKMnRfZ"
      }
    },
    {
      "cell_type": "code",
      "source": [
        "def accuracy(model, dataloader):\n",
        "  cnt = 0\n",
        "  acc = 0\n",
        "\n",
        "  for data in trainloader:\n",
        "    inputs, labels = data\n",
        "    inputs, labels = inputs.to(device), labels.to(device)\n",
        "\n",
        "    preds = model(inputs)\n",
        "    preds = torch.argmax(preds, dim=-1)\n",
        "\n",
        "    cnt += labels.shape[0]\n",
        "    acc += (labels == preds).sum().item()\n",
        "\n",
        "  return acc / cnt"
      ],
      "metadata": {
        "id": "1R_iV8eFnQjj"
      },
      "execution_count": 77,
      "outputs": []
    },
    {
      "cell_type": "code",
      "source": [
        "n_epochs = 100\n",
        "train_accs = []  # 트레이닝 정확도 리스트\n",
        "test_accs = []   # 테스트 정확도 리스트\n",
        "\n",
        "criterion = nn.CrossEntropyLoss()\n",
        "for epoch in range(n_epochs):\n",
        "  total_loss = 0.\n",
        "  model.train()\n",
        "  for data in trainloader:\n",
        "    #model.zero_grad()\n",
        "    optimizer.zero_grad()\n",
        "    inputs, labels = data\n",
        "    inputs, labels = inputs.to(device), labels.to(device)\n",
        "\n",
        "    preds = model(inputs)\n",
        "    #loss = (preds[:, 0] - labels).pow(2).mean()\n",
        "    loss = criterion(preds, labels)\n",
        "\n",
        "    loss.backward()\n",
        "    optimizer.step()\n",
        "\n",
        "    total_loss += loss.item()\n",
        "  model.eval()\n",
        "  train_acc = accuracy(model, trainloader)\n",
        "  test_acc = accuracy(model, testloader)\n",
        "\n",
        "  train_accs.append(train_acc)\n",
        "  test_accs.append(test_acc)\n",
        "\n",
        "  print(f\"Epoch {epoch:3d} | Loss: {total_loss} | train_acc: {train_acc} | test_acc: {test_acc}\"  )"
      ],
      "metadata": {
        "colab": {
          "base_uri": "https://localhost:8080/"
        },
        "id": "TryX1hewvNiB",
        "outputId": "f66c3328-46f7-4ac2-8998-0b644bfd319c"
      },
      "execution_count": 78,
      "outputs": [
        {
          "output_type": "stream",
          "name": "stdout",
          "text": [
            "Epoch   0 | Loss: 528.6091248989105 | train_acc: 0.5883833333333334 | test_acc: 0.5883833333333334\n",
            "Epoch   1 | Loss: 467.0805026292801 | train_acc: 0.6339 | test_acc: 0.6339\n",
            "Epoch   2 | Loss: 322.9093528389931 | train_acc: 0.7529833333333333 | test_acc: 0.7529833333333333\n",
            "Epoch   3 | Loss: 195.9341766834259 | train_acc: 0.8312833333333334 | test_acc: 0.8312833333333334\n",
            "Epoch   4 | Loss: 143.55190905928612 | train_acc: 0.857 | test_acc: 0.857\n",
            "Epoch   5 | Loss: 119.68079087138176 | train_acc: 0.8735333333333334 | test_acc: 0.8735333333333334\n",
            "Epoch   6 | Loss: 106.0373565852642 | train_acc: 0.8841333333333333 | test_acc: 0.8841333333333333\n",
            "Epoch   7 | Loss: 97.1607977449894 | train_acc: 0.89085 | test_acc: 0.89085\n",
            "Epoch   8 | Loss: 91.02327486872673 | train_acc: 0.8957166666666667 | test_acc: 0.8957166666666667\n",
            "Epoch   9 | Loss: 86.3941148519516 | train_acc: 0.8986833333333333 | test_acc: 0.8986833333333333\n",
            "Epoch  10 | Loss: 82.77879244089127 | train_acc: 0.9030166666666667 | test_acc: 0.9030166666666667\n",
            "Epoch  11 | Loss: 79.77099880576134 | train_acc: 0.9051 | test_acc: 0.9051\n",
            "Epoch  12 | Loss: 77.25548587739468 | train_acc: 0.9074333333333333 | test_acc: 0.9074333333333333\n",
            "Epoch  13 | Loss: 74.96591418981552 | train_acc: 0.91045 | test_acc: 0.91045\n",
            "Epoch  14 | Loss: 73.03923624753952 | train_acc: 0.9132833333333333 | test_acc: 0.9132833333333333\n",
            "Epoch  15 | Loss: 71.35564449429512 | train_acc: 0.9146 | test_acc: 0.9146\n",
            "Epoch  16 | Loss: 69.58909144997597 | train_acc: 0.91705 | test_acc: 0.91705\n",
            "Epoch  17 | Loss: 67.97125686705112 | train_acc: 0.9179833333333334 | test_acc: 0.9179833333333334\n",
            "Epoch  18 | Loss: 66.60388082265854 | train_acc: 0.9202166666666667 | test_acc: 0.9202166666666667\n",
            "Epoch  19 | Loss: 65.21246966719627 | train_acc: 0.9222333333333333 | test_acc: 0.9222333333333333\n",
            "Epoch  20 | Loss: 63.90066136419773 | train_acc: 0.9230166666666667 | test_acc: 0.9230166666666667\n",
            "Epoch  21 | Loss: 62.71950103342533 | train_acc: 0.9254666666666667 | test_acc: 0.9254666666666667\n",
            "Epoch  22 | Loss: 61.351143419742584 | train_acc: 0.9266166666666666 | test_acc: 0.9266166666666666\n",
            "Epoch  23 | Loss: 60.278899028897285 | train_acc: 0.92785 | test_acc: 0.92785\n",
            "Epoch  24 | Loss: 59.21622531116009 | train_acc: 0.9292333333333334 | test_acc: 0.9292333333333334\n",
            "Epoch  25 | Loss: 58.041316747665405 | train_acc: 0.93005 | test_acc: 0.93005\n",
            "Epoch  26 | Loss: 56.976359128952026 | train_acc: 0.9313 | test_acc: 0.9313\n",
            "Epoch  27 | Loss: 55.98453311622143 | train_acc: 0.9327 | test_acc: 0.9327\n",
            "Epoch  28 | Loss: 54.97009804844856 | train_acc: 0.9340166666666667 | test_acc: 0.9340166666666667\n",
            "Epoch  29 | Loss: 54.11725301295519 | train_acc: 0.93515 | test_acc: 0.93515\n",
            "Epoch  30 | Loss: 53.20841331779957 | train_acc: 0.9365666666666667 | test_acc: 0.9365666666666667\n",
            "Epoch  31 | Loss: 52.2108910381794 | train_acc: 0.9381 | test_acc: 0.9381\n",
            "Epoch  32 | Loss: 51.33223580569029 | train_acc: 0.9390166666666667 | test_acc: 0.9390166666666667\n",
            "Epoch  33 | Loss: 50.673147328197956 | train_acc: 0.9399666666666666 | test_acc: 0.9399666666666666\n",
            "Epoch  34 | Loss: 49.62332111597061 | train_acc: 0.9414833333333333 | test_acc: 0.9414833333333333\n",
            "Epoch  35 | Loss: 48.830992087721825 | train_acc: 0.9425833333333333 | test_acc: 0.9425833333333333\n",
            "Epoch  36 | Loss: 48.046103559434414 | train_acc: 0.9434166666666667 | test_acc: 0.9434166666666667\n",
            "Epoch  37 | Loss: 47.26878821849823 | train_acc: 0.9443666666666667 | test_acc: 0.9443666666666667\n",
            "Epoch  38 | Loss: 46.51242705434561 | train_acc: 0.9454 | test_acc: 0.9454\n",
            "Epoch  39 | Loss: 45.752085484564304 | train_acc: 0.9456333333333333 | test_acc: 0.9456333333333333\n",
            "Epoch  40 | Loss: 45.08749344944954 | train_acc: 0.947 | test_acc: 0.947\n",
            "Epoch  41 | Loss: 44.38077091425657 | train_acc: 0.9478 | test_acc: 0.9478\n",
            "Epoch  42 | Loss: 43.65516386926174 | train_acc: 0.9484 | test_acc: 0.9484\n",
            "Epoch  43 | Loss: 43.01210177689791 | train_acc: 0.9492666666666667 | test_acc: 0.9492666666666667\n",
            "Epoch  44 | Loss: 42.364763490855694 | train_acc: 0.9495 | test_acc: 0.9495\n",
            "Epoch  45 | Loss: 41.76731563359499 | train_acc: 0.95035 | test_acc: 0.95035\n",
            "Epoch  46 | Loss: 41.08801456540823 | train_acc: 0.9513333333333334 | test_acc: 0.9513333333333334\n",
            "Epoch  47 | Loss: 40.45089224725962 | train_acc: 0.952 | test_acc: 0.952\n",
            "Epoch  48 | Loss: 39.987965658307076 | train_acc: 0.95295 | test_acc: 0.95295\n",
            "Epoch  49 | Loss: 39.39180229604244 | train_acc: 0.9535166666666667 | test_acc: 0.9535166666666667\n",
            "Epoch  50 | Loss: 38.734026573598385 | train_acc: 0.9539 | test_acc: 0.9539\n",
            "Epoch  51 | Loss: 38.1729791611433 | train_acc: 0.955 | test_acc: 0.955\n",
            "Epoch  52 | Loss: 37.582952842116356 | train_acc: 0.95535 | test_acc: 0.95535\n",
            "Epoch  53 | Loss: 37.087841376662254 | train_acc: 0.956 | test_acc: 0.956\n",
            "Epoch  54 | Loss: 36.55848919600248 | train_acc: 0.95645 | test_acc: 0.95645\n",
            "Epoch  55 | Loss: 36.048897072672844 | train_acc: 0.95715 | test_acc: 0.95715\n",
            "Epoch  56 | Loss: 35.55265744775534 | train_acc: 0.9576333333333333 | test_acc: 0.9576333333333333\n",
            "Epoch  57 | Loss: 35.03059232234955 | train_acc: 0.9586 | test_acc: 0.9586\n",
            "Epoch  58 | Loss: 34.55205925926566 | train_acc: 0.9587166666666667 | test_acc: 0.9587166666666667\n",
            "Epoch  59 | Loss: 34.08967624604702 | train_acc: 0.9593833333333334 | test_acc: 0.9593833333333334\n",
            "Epoch  60 | Loss: 33.602322705090046 | train_acc: 0.9602333333333334 | test_acc: 0.9602333333333334\n",
            "Epoch  61 | Loss: 33.16551631689072 | train_acc: 0.9605666666666667 | test_acc: 0.9605666666666667\n",
            "Epoch  62 | Loss: 32.68789982795715 | train_acc: 0.9614 | test_acc: 0.9614\n",
            "Epoch  63 | Loss: 32.296245992183685 | train_acc: 0.9619333333333333 | test_acc: 0.9619333333333333\n",
            "Epoch  64 | Loss: 31.914212610572577 | train_acc: 0.9620666666666666 | test_acc: 0.9620666666666666\n",
            "Epoch  65 | Loss: 31.38849652186036 | train_acc: 0.9626166666666667 | test_acc: 0.9626166666666667\n",
            "Epoch  66 | Loss: 31.132924284785986 | train_acc: 0.9631666666666666 | test_acc: 0.9631666666666666\n",
            "Epoch  67 | Loss: 30.68750900775194 | train_acc: 0.9641 | test_acc: 0.9641\n",
            "Epoch  68 | Loss: 30.306343972682953 | train_acc: 0.9642833333333334 | test_acc: 0.9642833333333334\n",
            "Epoch  69 | Loss: 29.82635821402073 | train_acc: 0.9649166666666666 | test_acc: 0.9649166666666666\n",
            "Epoch  70 | Loss: 29.440500497817993 | train_acc: 0.9649833333333333 | test_acc: 0.9649833333333333\n",
            "Epoch  71 | Loss: 29.08311675861478 | train_acc: 0.9654166666666667 | test_acc: 0.9654166666666667\n",
            "Epoch  72 | Loss: 28.76108992099762 | train_acc: 0.9661 | test_acc: 0.9661\n",
            "Epoch  73 | Loss: 28.41335015743971 | train_acc: 0.9666833333333333 | test_acc: 0.9666833333333333\n",
            "Epoch  74 | Loss: 28.08272159099579 | train_acc: 0.9669666666666666 | test_acc: 0.9669666666666666\n",
            "Epoch  75 | Loss: 27.709468066692352 | train_acc: 0.96745 | test_acc: 0.96745\n",
            "Epoch  76 | Loss: 27.390333592891693 | train_acc: 0.9679333333333333 | test_acc: 0.9679333333333333\n",
            "Epoch  77 | Loss: 26.98473311588168 | train_acc: 0.9682333333333333 | test_acc: 0.9682333333333333\n",
            "Epoch  78 | Loss: 26.68194905668497 | train_acc: 0.9685166666666667 | test_acc: 0.9685166666666667\n",
            "Epoch  79 | Loss: 26.360490951687098 | train_acc: 0.9689666666666666 | test_acc: 0.9689666666666666\n",
            "Epoch  80 | Loss: 26.033241596072912 | train_acc: 0.9696333333333333 | test_acc: 0.9696333333333333\n",
            "Epoch  81 | Loss: 25.70178821310401 | train_acc: 0.9697833333333333 | test_acc: 0.9697833333333333\n",
            "Epoch  82 | Loss: 25.422334615141153 | train_acc: 0.97 | test_acc: 0.97\n",
            "Epoch  83 | Loss: 25.079825058579445 | train_acc: 0.9706833333333333 | test_acc: 0.9706833333333333\n",
            "Epoch  84 | Loss: 24.843461222946644 | train_acc: 0.9708833333333333 | test_acc: 0.9708833333333333\n",
            "Epoch  85 | Loss: 24.547684211283922 | train_acc: 0.9714 | test_acc: 0.9714\n",
            "Epoch  86 | Loss: 24.29038367792964 | train_acc: 0.9715166666666667 | test_acc: 0.9715166666666667\n",
            "Epoch  87 | Loss: 24.008041560649872 | train_acc: 0.9723 | test_acc: 0.9723\n",
            "Epoch  88 | Loss: 23.695938546210527 | train_acc: 0.9723166666666667 | test_acc: 0.9723166666666667\n",
            "Epoch  89 | Loss: 23.439885202795267 | train_acc: 0.9729 | test_acc: 0.9729\n",
            "Epoch  90 | Loss: 23.143508657813072 | train_acc: 0.9732666666666666 | test_acc: 0.9732666666666666\n",
            "Epoch  91 | Loss: 22.90169107913971 | train_acc: 0.9737166666666667 | test_acc: 0.9737166666666667\n",
            "Epoch  92 | Loss: 22.63505932316184 | train_acc: 0.9737666666666667 | test_acc: 0.9737666666666667\n",
            "Epoch  93 | Loss: 22.40378676354885 | train_acc: 0.97415 | test_acc: 0.97415\n",
            "Epoch  94 | Loss: 22.155615467578173 | train_acc: 0.9746166666666667 | test_acc: 0.9746166666666667\n",
            "Epoch  95 | Loss: 21.928253706544638 | train_acc: 0.9748833333333333 | test_acc: 0.9748833333333333\n",
            "Epoch  96 | Loss: 21.659826904535294 | train_acc: 0.9749333333333333 | test_acc: 0.9749333333333333\n",
            "Epoch  97 | Loss: 21.411645494401455 | train_acc: 0.9751666666666666 | test_acc: 0.9751666666666666\n",
            "Epoch  98 | Loss: 21.177367605268955 | train_acc: 0.9755666666666667 | test_acc: 0.9755666666666667\n",
            "Epoch  99 | Loss: 21.037094930186868 | train_acc: 0.97585 | test_acc: 0.97585\n"
          ]
        }
      ]
    },
    {
      "cell_type": "markdown",
      "source": [
        "##[FEEDBACK] 위에서 보시면 Training 데이터와  Test 데이터가 너무 똑같은데 정상일가요, 이럴수가 없을텐데,  어디가 잘못된거죠?  어떻게 개산해야 할가요?"
      ],
      "metadata": {
        "id": "1lDZoFVbJPiI"
      }
    },
    {
      "cell_type": "markdown",
      "source": [
        "출력 결과를 보면 잘 수렴하는 것을 볼 수 있습니다.\n",
        "이전 구현과 다른 점은 다음 두 가지입니다.\n",
        "- `for data in trainloader`를 통해 batch들을 iterate하면서 model을 학습합니다.\n",
        "- `inputs, labels = inputs.to('cuda'), labels.to('cuda')`를 통해 model의 입력으로 들어가는 tensor들을 GPU로 보냅니다.\n",
        "\n",
        "마지막으로 첫 번째 data에 대한 예측 결과를 살펴봅시다."
      ],
      "metadata": {
        "id": "YRDcptrqniX7"
      }
    },
    {
      "cell_type": "markdown",
      "source": [
        "##[FEEDBACK] 모델 배포한 상태 및 예측값을  볼수가 있습니다."
      ],
      "metadata": {
        "id": "gx2H7WNdPiJj"
      }
    },
    {
      "cell_type": "code",
      "source": [
        "idx = 123\n",
        "\n",
        "x = trainset[idx][0][None]  # (1, 1, 28, 28)\n",
        "x = x.to(device)\n",
        "\n",
        "logits = model(x)\n",
        "\n",
        "print(logits)\n",
        "print(\"오리지널 데이터:\",trainset[idx][1])\n",
        "predicted_class = torch.argmax(logits, dim=1).item()\n",
        "print(\"모델추출 데이터: \",predicted_class)\n"
      ],
      "metadata": {
        "id": "Zct0ssSKwjt1",
        "colab": {
          "base_uri": "https://localhost:8080/"
        },
        "outputId": "8cb153fc-0efc-4000-8224-fe42a98226c0"
      },
      "execution_count": 80,
      "outputs": [
        {
          "output_type": "stream",
          "name": "stdout",
          "text": [
            "tensor([[ 2.6722,  0.0000,  4.4875,  3.6338,  0.0000,  2.2682,  0.0000, 13.6968,\n",
            "          1.9213,  5.4490]], grad_fn=<ReluBackward0>)\n",
            "오리지널 데이터: 7\n",
            "모델추출 데이터:  7\n"
          ]
        }
      ]
    },
    {
      "cell_type": "markdown",
      "source": [],
      "metadata": {
        "id": "vcQ0N7P-PY5Z"
      }
    },
    {
      "cell_type": "markdown",
      "source": [
        "여기서 idx를 조정하여 다른 data에 대한 출력 결과도 볼 수 있습니다.\n",
        "예측 결과를 보시면 아직 성능이 그렇게 좋지 않은 것을 알 수 있습니다."
      ],
      "metadata": {
        "id": "qzgSOrMsoZ2z"
      }
    },
    {
      "cell_type": "markdown",
      "source": [],
      "metadata": {
        "id": "xUfwMlrtWMWH"
      }
    },
    {
      "cell_type": "markdown",
      "source": [
        "##[FEEDBACK]  Train data 예측과 테스트 예측 정확율이 너무 똑같은데,  이럴수가 있을가요?"
      ],
      "metadata": {
        "id": "BU-k7vHeV9Zw"
      }
    },
    {
      "cell_type": "code",
      "source": [
        "# Epoch에 따른 train과 test data에 대한 model의 정확도를 plot합니다\n",
        "plot_acc(train_accs, test_accs, label1='Train Accuracy', label2='Test Accuracy')"
      ],
      "metadata": {
        "colab": {
          "base_uri": "https://localhost:8080/",
          "height": 430
        },
        "id": "1m1fVKknT9VZ",
        "outputId": "9c6e1848-ab5f-472b-ee71-2bb512699335"
      },
      "execution_count": 81,
      "outputs": [
        {
          "output_type": "display_data",
          "data": {
            "text/plain": [
              "<Figure size 640x480 with 1 Axes>"
            ],
            "image/png": "[encoded data removed]"
          },
          "metadata": {}
        }
      ]
    }
  ]
}