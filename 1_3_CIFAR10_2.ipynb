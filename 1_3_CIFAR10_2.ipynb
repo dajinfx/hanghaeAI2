{
  "cells": [
    {
      "cell_type": "markdown",
      "metadata": {
        "id": "OPJenlrhihrh"
      },
      "source": [
        "# MNIST 실습\n",
        "\n",
        "이번에는 28x28 흑백 손글씨 이미지를 보고 0~9 사이의 숫자 중 어떤 숫자를 쓴 것인지 예측하는 문제를 실습합니다.\n",
        "이번 실습에서는 GPU를 활용할 것이기 때문에, 이전 챕터에서 Colab에서 GPU를 설정하는 방법을 따라해주시길 바랍니다.\n",
        "\n",
        "GPU를 설정했으면 library들을 import합니다."
      ]
    },
    {
      "cell_type": "markdown",
      "source": [
        "##[Feedback]\n",
        "심화과제라서 데이터셋이 CIFAR10 바뀌지고, 다음번 강의가 CNN을 넘기고\n",
        "바로 RNN 으로 간다고 들어서,  ANN 대신 CNN 으로 구현을 해보려고 했습니다.  \n",
        "\n",
        "진행과정에 문제들이 많이 발생하여 해결하는데 시간을 많이 소비를 했었고,\n",
        "다시 ANN 모델로 기본과제 토대로 진행하려다 시간문제로 일단 이데로 올립니다."
      ],
      "metadata": {
        "id": "zxZ_kJx58341"
      }
    },
    {
      "cell_type": "code",
      "execution_count": 2,
      "metadata": {
        "id": "6lXVfXoDtoQh"
      },
      "outputs": [],
      "source": [
        "import torch\n",
        "import torchvision\n",
        "import torchvision.transforms as transforms\n",
        "from matplotlib import pyplot as plt\n",
        "from torch import nn\n",
        "from torch.optim import SGD\n",
        "import numpy as np"
      ]
    },
    {
      "cell_type": "markdown",
      "metadata": {
        "id": "pF-1zQvmiult"
      },
      "source": [
        "#[Feedback]\n",
        "저의 환경 세팅의 GPU 문제가 있어 해결이 되지 않아 cpu를 쓰게 되였습니다. 환경문제 별도로 문의드리겠습니다."
      ]
    },
    {
      "cell_type": "code",
      "execution_count": 3,
      "metadata": {
        "colab": {
          "base_uri": "https://localhost:8080/"
        },
        "id": "B7TxFte-WnXQ",
        "outputId": "79f4c1c5-436f-49cf-af50-9b635b7d2893"
      },
      "outputs": [
        {
          "output_type": "stream",
          "name": "stdout",
          "text": [
            "cpu\n"
          ]
        }
      ],
      "source": [
        "device = torch.device(\"cuda\" if torch.cuda.is_available() else \"cpu\")\n",
        "print(device)"
      ]
    },
    {
      "cell_type": "code",
      "execution_count": 3,
      "metadata": {
        "colab": {
          "base_uri": "https://localhost:8080/"
        },
        "id": "KAYlqPaRt6ti",
        "outputId": "1e32b138-c126-491a-f7ab-5fbfc04e7fa3"
      },
      "outputs": [
        {
          "output_type": "stream",
          "name": "stdout",
          "text": [
            "Downloading https://www.cs.toronto.edu/~kriz/cifar-10-python.tar.gz to ./data/cifar-10-python.tar.gz\n"
          ]
        },
        {
          "output_type": "stream",
          "name": "stderr",
          "text": [
            "100%|██████████| 170M/170M [00:05<00:00, 33.5MB/s]\n"
          ]
        },
        {
          "output_type": "stream",
          "name": "stdout",
          "text": [
            "Extracting ./data/cifar-10-python.tar.gz to ./data\n",
            "Files already downloaded and verified\n"
          ]
        }
      ],
      "source": [
        "transform = transforms.Compose([\n",
        "    transforms.ToTensor(),\n",
        "    transforms.Normalize((0.5, 0.5, 0.5), (0.5, 0.5, 0.5))\n",
        "])\n",
        "\n",
        "trainset = torchvision.datasets.CIFAR10(root='./data',train=True,download=True,transform=transform)\n",
        "testset = torchvision.datasets.CIFAR10(root='./data', train=False, download=True, transform=transform)"
      ]
    },
    {
      "cell_type": "markdown",
      "metadata": {
        "id": "yvGTdcXRKHdw"
      },
      "source": [
        "[Feedback]\n",
        "어떤 데이터셋인지 이미지를 확인해보았습니다."
      ]
    },
    {
      "cell_type": "code",
      "execution_count": 4,
      "metadata": {
        "colab": {
          "base_uri": "https://localhost:8080/",
          "height": 482
        },
        "id": "Zsp3sHmojyhT",
        "outputId": "e7ce5e48-6ec2-4737-c730-3c4e77e10b3e"
      },
      "outputs": [
        {
          "output_type": "stream",
          "name": "stdout",
          "text": [
            "50000\n",
            "torch.Size([3, 32, 32]) 6\n"
          ]
        },
        {
          "output_type": "execute_result",
          "data": {
            "text/plain": [
              "<matplotlib.image.AxesImage at 0x7bc55d7bafb0>"
            ]
          },
          "metadata": {},
          "execution_count": 4
        },
        {
          "output_type": "display_data",
          "data": {
            "text/plain": [
              "<Figure size 640x480 with 1 Axes>"
            ],
            "image/png": "[encoded data removed]"
          },
          "metadata": {}
        }
      ],
      "source": [
        "from matplotlib import pyplot as plt\n",
        "print(len(trainset))\n",
        "print(trainset[0][0].shape, trainset[0][1])\n",
        "plt.imshow(trainset[20][0][0], cmap='gray')"
      ]
    },
    {
      "cell_type": "code",
      "execution_count": 5,
      "metadata": {
        "id": "UxKu3kA2i5WH"
      },
      "outputs": [],
      "source": [
        "batch_size = 256\n",
        "\n",
        "trainloader = torch.utils.data.DataLoader(trainset,batch_size=batch_size,shuffle=True)\n",
        "testloader = torch.utils.data.DataLoader(testset, batch_size=batch_size, shuffle=False)"
      ]
    },
    {
      "cell_type": "markdown",
      "metadata": {
        "id": "z4Qyrm4WlzWt"
      },
      "source": [
        "PyTorch에서는 `DataLoader`가 dataset을 인자로 받아 batch로 나눠줍니다.\n",
        "부가적으로 `batch_size`라는 인자를 통해 batch size를 받고 있으며, `shuffle`이라는 인자를 통해 data들을 섞을지 결정해줍니다.\n",
        "우리는 SGD가 완전 랜덤으로 batch를 구성해야 잘 동작하는 것을 알고 있기 때문에 `shuffle`에 `True`를 넘겨주고 있습니다.\n",
        "\n",
        "다음은 첫 번째 batch를 출력한 모습입니다."
      ]
    },
    {
      "cell_type": "markdown",
      "source": [
        "##[Feedback]\n",
        "data 모양을 내다보는 코드,  그런데,  채널 과 Dimension 같은 개념인지 햇갈립니다.  \n",
        "예를 들어 torch.Size([256, 3, 32, 32])   3 은 RGB 체널이자 3 Dim 이라고 하는거죠?"
      ],
      "metadata": {
        "id": "CnMi-EcSXWlJ"
      }
    },
    {
      "cell_type": "code",
      "execution_count": 6,
      "metadata": {
        "colab": {
          "base_uri": "https://localhost:8080/"
        },
        "id": "_Hd7XxyAvVNz",
        "outputId": "3995adcd-2b8a-465a-93b5-f9844231becb"
      },
      "outputs": [
        {
          "output_type": "stream",
          "name": "stdout",
          "text": [
            "torch.Size([256, 3, 32, 32]) torch.Size([256])\n"
          ]
        }
      ],
      "source": [
        "dataiter = iter(trainloader)\n",
        "images, labels = next(dataiter)\n",
        "print(images.shape, labels.shape)"
      ]
    },
    {
      "cell_type": "markdown",
      "metadata": {
        "id": "h0ZY5mDimRUK"
      },
      "source": [
        "`images`는 첫 번째 batch의 image들이고 `labels`는 첫 번째 batch의 label들입니다.\n",
        "위에서 batch size를 64로 설정했기 때문에 총 64개의 image와 label들이 있어야 합니다.\n",
        "실제 shape 출력 결과를 보면 그렇다는 것을 알 수 있습니다.\n",
        "\n",
        "다음은 (n, 1, 28, 28) shape의 image를 입력받아 0~9 사이의 정수 하나를 출력하는 3-layer MLP를 구현합니다."
      ]
    },
    {
      "cell_type": "markdown",
      "source": [
        "##[My code]\n",
        "Activation Sigmoid 와 Relu 비교하기 위한 모델 초기화, Leaky_Relu 로 디폴드 생성"
      ],
      "metadata": {
        "id": "VTm076ItT_xP"
      }
    },
    {
      "cell_type": "code",
      "execution_count": 7,
      "metadata": {
        "id": "OLOA-ZGTuVVG",
        "colab": {
          "base_uri": "https://localhost:8080/"
        },
        "outputId": "20b73bb8-90b3-4036-d4d6-1e7368b6d44f"
      },
      "outputs": [
        {
          "output_type": "stream",
          "name": "stdout",
          "text": [
            "act_type: Leaky_Relu\n"
          ]
        }
      ],
      "source": [
        "from torch import nn\n",
        "\n",
        "class SimpleCNN(nn.Module):\n",
        "     def __init__(self, act_type):\n",
        "        super(SimpleCNN, self).__init__()\n",
        "        self.conv1 = nn.Conv2d(3, 32, 3, padding=1)  # 입력 채널 3, 출력 채널 32, 커널 크기 3x3\n",
        "        self.pool = nn.MaxPool2d(2, 2)               # 풀링 크기 2x2\n",
        "        self.conv2 = nn.Conv2d(32, 64, 3, padding=1) # 입력 채널 32, 출력 채널 64, 커널 크기 3x3\n",
        "        self.dropout = nn.Dropout(0.1)\n",
        "        self.fc1 = nn.Linear(64 * 8 * 8, 512)        # 완전 연결 층\n",
        "        self.fc2 = nn.Linear(512, 10)                # 출력 층 (10개의 클래스)\n",
        "        self.act_type = act_type                     # 모델 activation parameter\n",
        "\n",
        "        print(\"act_type:\",act_type)\n",
        "     def forward(self, x):\n",
        "\n",
        "        # Layer 1 tensor + activation + pool\n",
        "        x = self.conv1(x)\n",
        "        if self.act_type == \"Sigmoid\":\n",
        "            x = torch.sigmoid(x)\n",
        "        elif self.act_type == \"Leaky_Relu\":\n",
        "            x = torch.nn.functional.leaky_relu(x, negative_slope=0.01)\n",
        "            x = self.dropout(x)\n",
        "        x = self.pool(x)\n",
        "\n",
        "        # Layer 2 tensor + activation + pool\n",
        "        x = self.conv2(x)\n",
        "        if self.act_type == \"Sigmoid\":\n",
        "            x = torch.sigmoid(x)\n",
        "        elif self.act_type == \"Leaky_Relu\":\n",
        "            x = torch.nn.functional.leaky_relu(x, negative_slope=0.01)\n",
        "            x = self.dropout(x)\n",
        "        x = self.pool(x)\n",
        "\n",
        "        # Full connection\n",
        "        x = x.view(x.size(0), -1)   # 플래튼\n",
        "        x = self.fc1(x)  # 1st Full connection\n",
        "        if self.act_type == \"Sigmoid\":\n",
        "            x = torch.sigmoid(x)\n",
        "        elif self.act_type == \"Leaky_Relu\":\n",
        "            x = torch.nn.functional.leaky_relu(x, negative_slope=0.01)\n",
        "            x = self.dropout(x)\n",
        "\n",
        "        # outlayer\n",
        "        x = self.fc2(x) # 2st Full connection\n",
        "        if self.act_type == \"Sigmoid\":\n",
        "            x = torch.sigmoid(x)\n",
        "        return x\n",
        "\n",
        "model = SimpleCNN(\"Leaky_Relu\") # 모델 초기화"
      ]
    },
    {
      "cell_type": "code",
      "execution_count": 8,
      "metadata": {
        "id": "sqaUyFhFWcYF"
      },
      "outputs": [],
      "source": [
        "from torch.optim import SGD\n",
        "from torch.optim import Adam\n",
        "import torch.nn.functional as F\n",
        "lr = 0.001"
      ]
    },
    {
      "cell_type": "markdown",
      "metadata": {
        "id": "5PooeOKMnRfZ"
      },
      "source": [
        "이전 코드와 거의 똑같습니다. 다른 점은 `model.to('cuda')` 코드를 통해 우리가 구현한 model을 GPU로 옮긴 것입니다.\n",
        "MNIST 부터는 모델과 data가 커지면서 훨씬 많은 행렬 연산이 이루어지기 때문에 GPU를 활용하는 것이 빠릅니다.\n",
        "\n",
        "다음은 model을 MNIST에 학습하는 코드입니다."
      ]
    },
    {
      "cell_type": "code",
      "execution_count": 9,
      "metadata": {
        "id": "1R_iV8eFnQjj"
      },
      "outputs": [],
      "source": [
        "def accuracy(model, dataloader):\n",
        "  cnt = 0\n",
        "  acc = 0\n",
        "\n",
        "  for data in dataloader:\n",
        "    inputs, labels = data\n",
        "    inputs, labels = inputs.to(device), labels.to(device)\n",
        "\n",
        "    preds = model(inputs)\n",
        "    preds = torch.argmax(preds, dim=-1)\n",
        "\n",
        "    cnt += labels.shape[0]\n",
        "    acc += (labels == preds).sum().item()\n",
        "\n",
        "  return acc / cnt"
      ]
    },
    {
      "cell_type": "markdown",
      "metadata": {
        "id": "xfY39uIQXqfe"
      },
      "source": [
        "##[My Code] Adam 은 momentum 변수가 없다고 하고 SGD는 필요하다고 검색되였습니다."
      ]
    },
    {
      "cell_type": "code",
      "execution_count": 10,
      "metadata": {
        "id": "J9rFqSmXWYc-"
      },
      "outputs": [],
      "source": [
        "def training(n_epochs,active_type, optimizer_type):\n",
        "  model = SimpleCNN(active_type) # 모델 초기화\n",
        "  model = model.to(device)\n",
        "  print(optimizer_type,\" training:\")\n",
        "  optimizer = None;\n",
        "  if   optimizer_type == \"Adam\":\n",
        "    optimizer = Adam(model.parameters(), lr=lr)\n",
        "  elif optimizer_type == \"SGD\":\n",
        "    optimizer = SGD(model.parameters(), lr=lr)\n",
        "\n",
        "  train_accs = []\n",
        "  test_accs  = []\n",
        "\n",
        "\n",
        "  criterion = None\n",
        "  for epoch in range(n_epochs):\n",
        "    total_loss = 0.\n",
        "    model.train()\n",
        "    for data in trainloader:\n",
        "      model.zero_grad()\n",
        "      #optimizer.zero_grad()\n",
        "      inputs, labels = data\n",
        "\n",
        "      if active_type == \"Sigmoid\":\n",
        "        criterion = nn.CrossEntropyLoss()\n",
        "      elif active_type == \"Leaky_Relu\":\n",
        "        criterion = nn.CrossEntropyLoss()\n",
        "      inputs, labels = inputs.to(device), labels.to(device)\n",
        "\n",
        "      preds = model(inputs)\n",
        "      #loss = (preds[:, 0] - labels).pow(2).mean()\n",
        "      loss = criterion(preds, labels)\n",
        "\n",
        "      loss.backward()\n",
        "      optimizer.step()\n",
        "\n",
        "      total_loss += loss.item()\n",
        "    model.eval()\n",
        "    train_acc = accuracy(model, trainloader)\n",
        "    test_acc = accuracy(model, testloader)\n",
        "\n",
        "    train_accs.append(train_acc)\n",
        "    test_accs.append(test_acc)\n",
        "\n",
        "    print(f\"Epoch {epoch:3d} | Loss: {total_loss} | train_acc: {train_acc} | test_acc: {test_acc}\"  )\n",
        "\n",
        "  return train_accs,test_accs"
      ]
    },
    {
      "cell_type": "code",
      "execution_count": 11,
      "metadata": {
        "id": "Eg5_ulo3RoVw"
      },
      "outputs": [],
      "source": [
        "def plot_acc(train_accs, test_accs, label1='train', label2='test'):\n",
        "  x = np.arange(len(train_accs))\n",
        "\n",
        "  plt.plot(x, train_accs, label=label1)\n",
        "  plt.plot(x, test_accs, label=label2)\n",
        "  plt.legend()\n",
        "  plt.show()"
      ]
    },
    {
      "cell_type": "code",
      "execution_count": null,
      "metadata": {
        "colab": {
          "base_uri": "https://localhost:8080/"
        },
        "id": "GIS8-hdHYFLA",
        "outputId": "feb72c3f-53d9-4d27-8e88-b4870bf89541"
      },
      "outputs": [
        {
          "output_type": "stream",
          "name": "stdout",
          "text": [
            "act_type: Leaky_Relu\n",
            "Adam  training:\n",
            "Epoch   0 | Loss: 285.15394401550293 | train_acc: 0.59392 | test_acc: 0.5816\n",
            "Epoch   1 | Loss: 209.1951104402542 | train_acc: 0.67264 | test_acc: 0.6426\n",
            "Epoch   2 | Loss: 176.42260098457336 | train_acc: 0.73506 | test_acc: 0.6879\n",
            "Epoch   3 | Loss: 150.6875188946724 | train_acc: 0.78196 | test_acc: 0.7073\n",
            "Epoch   4 | Loss: 130.15644413232803 | train_acc: 0.82024 | test_acc: 0.7183\n",
            "Epoch   5 | Loss: 110.67836943268776 | train_acc: 0.84032 | test_acc: 0.7096\n",
            "Epoch   6 | Loss: 93.24347242712975 | train_acc: 0.88746 | test_acc: 0.7327\n",
            "Epoch   7 | Loss: 75.34337252378464 | train_acc: 0.91176 | test_acc: 0.7285\n",
            "Epoch   8 | Loss: 58.5378131121397 | train_acc: 0.94534 | test_acc: 0.735\n",
            "Epoch   9 | Loss: 45.34402999281883 | train_acc: 0.96512 | test_acc: 0.7309\n",
            "Epoch  10 | Loss: 34.58346372842789 | train_acc: 0.98268 | test_acc: 0.744\n",
            "Epoch  11 | Loss: 26.846074037253857 | train_acc: 0.98494 | test_acc: 0.7342\n",
            "Epoch  12 | Loss: 20.980075128376484 | train_acc: 0.98952 | test_acc: 0.7369\n",
            "Epoch  13 | Loss: 18.061103340238333 | train_acc: 0.99486 | test_acc: 0.7346\n",
            "Epoch  14 | Loss: 14.813062455505133 | train_acc: 0.99568 | test_acc: 0.7396\n",
            "Epoch  15 | Loss: 12.630203885957599 | train_acc: 0.99672 | test_acc: 0.7403\n",
            "Epoch  16 | Loss: 11.77063873782754 | train_acc: 0.99326 | test_acc: 0.7345\n",
            "Epoch  17 | Loss: 11.346153736114502 | train_acc: 0.99504 | test_acc: 0.7385\n",
            "Epoch  18 | Loss: 9.46250980347395 | train_acc: 0.99796 | test_acc: 0.7397\n",
            "Epoch  19 | Loss: 10.538555907085538 | train_acc: 0.9961 | test_acc: 0.7365\n",
            "Epoch  20 | Loss: 8.939638523384929 | train_acc: 0.99642 | test_acc: 0.7344\n",
            "Epoch  21 | Loss: 9.059046983718872 | train_acc: 0.9979 | test_acc: 0.7407\n",
            "Epoch  22 | Loss: 8.239514324814081 | train_acc: 0.99786 | test_acc: 0.7415\n",
            "Epoch  23 | Loss: 8.731973461806774 | train_acc: 0.99814 | test_acc: 0.74\n",
            "Epoch  24 | Loss: 8.257817775011063 | train_acc: 0.99792 | test_acc: 0.7358\n",
            "Epoch  25 | Loss: 7.272267923690379 | train_acc: 0.99756 | test_acc: 0.7377\n",
            "Epoch  26 | Loss: 7.985188802704215 | train_acc: 0.99538 | test_acc: 0.7313\n",
            "Epoch  27 | Loss: 6.950783526990563 | train_acc: 0.9987 | test_acc: 0.7423\n",
            "Epoch  28 | Loss: 6.200631958432496 | train_acc: 0.99744 | test_acc: 0.7317\n",
            "Epoch  29 | Loss: 7.3837996404618025 | train_acc: 0.99856 | test_acc: 0.7373\n",
            "Epoch  30 | Loss: 6.213604527525604 | train_acc: 0.99756 | test_acc: 0.7341\n",
            "Epoch  31 | Loss: 6.796454506460577 | train_acc: 0.99684 | test_acc: 0.731\n",
            "Epoch  32 | Loss: 6.3180050533264875 | train_acc: 0.9983 | test_acc: 0.7411\n",
            "Epoch  33 | Loss: 5.771222752053291 | train_acc: 0.99822 | test_acc: 0.738\n",
            "Epoch  34 | Loss: 6.517484436975792 | train_acc: 0.9967 | test_acc: 0.7325\n",
            "Epoch  35 | Loss: 6.95234940899536 | train_acc: 0.9984 | test_acc: 0.7295\n",
            "Epoch  36 | Loss: 6.055794548243284 | train_acc: 0.9984 | test_acc: 0.7281\n",
            "Epoch  37 | Loss: 5.504489432089031 | train_acc: 0.99896 | test_acc: 0.7323\n",
            "Epoch  38 | Loss: 5.547601260710508 | train_acc: 0.99736 | test_acc: 0.7323\n",
            "Epoch  39 | Loss: 5.863415813073516 | train_acc: 0.99804 | test_acc: 0.7341\n",
            "Epoch  40 | Loss: 5.041124398354441 | train_acc: 0.99832 | test_acc: 0.7356\n",
            "Epoch  41 | Loss: 5.493977202102542 | train_acc: 0.99848 | test_acc: 0.7309\n",
            "Epoch  42 | Loss: 4.95676898653619 | train_acc: 0.99872 | test_acc: 0.7411\n",
            "Epoch  43 | Loss: 5.265486451098695 | train_acc: 0.99834 | test_acc: 0.7367\n",
            "Epoch  44 | Loss: 4.782293068477884 | train_acc: 0.99828 | test_acc: 0.7351\n",
            "Epoch  45 | Loss: 4.8667100087041035 | train_acc: 0.99844 | test_acc: 0.7297\n",
            "Epoch  46 | Loss: 4.9995050970464945 | train_acc: 0.99914 | test_acc: 0.7345\n",
            "Epoch  47 | Loss: 5.012454309035093 | train_acc: 0.9984 | test_acc: 0.732\n",
            "Epoch  48 | Loss: 5.127530788071454 | train_acc: 0.99888 | test_acc: 0.7357\n",
            "Epoch  49 | Loss: 4.30074652004987 | train_acc: 0.99906 | test_acc: 0.735\n"
          ]
        }
      ],
      "source": [
        "train_accs_Adam,test_accs_Adam =  training(50,\"Leaky_Relu\", \"Adam\")"
      ]
    },
    {
      "cell_type": "code",
      "source": [
        "Model_Relu_Adam = model"
      ],
      "metadata": {
        "id": "RAlIxrxzFeyq"
      },
      "execution_count": null,
      "outputs": []
    },
    {
      "cell_type": "code",
      "execution_count": null,
      "metadata": {
        "colab": {
          "base_uri": "https://localhost:8080/",
          "height": 430
        },
        "id": "1m1fVKknT9VZ",
        "outputId": "14bb3e2b-7526-4278-eb73-b331f9598dd2"
      },
      "outputs": [
        {
          "output_type": "display_data",
          "data": {
            "text/plain": [
              "<Figure size 640x480 with 1 Axes>"
            ],
            "image/png": "[encoded data removed]"
          },
          "metadata": {}
        }
      ],
      "source": [
        "# Epoch에 따른 train과 test data에 대한 model의 정확도를 plot합니다\n",
        "plot_acc(train_accs_Adam, test_accs_Adam, label1='Train Accuracy', label2='Test Accuracy')"
      ]
    },
    {
      "cell_type": "markdown",
      "source": [
        "##[Feedback] Adam Test\n",
        "Taining 데이터 곡선이 가파롭고 훈련이 10에서부터 는 9.8에 가까운데 overfit 된 의심이 듭니다.\n",
        "Test 는 역시 10으로 부터 정확도가 7.3가깝게 되고 더이상 개선이 보이지 않았습니다."
      ],
      "metadata": {
        "id": "gcJPPkaDdTvp"
      }
    },
    {
      "cell_type": "code",
      "execution_count": 12,
      "metadata": {
        "colab": {
          "base_uri": "https://localhost:8080/"
        },
        "id": "BpJjmq-eZsgK",
        "outputId": "26b577cd-b4af-461d-87ee-dd3639635cfb"
      },
      "outputs": [
        {
          "output_type": "stream",
          "name": "stdout",
          "text": [
            "act_type: Leaky_Relu\n",
            "SGD  training:\n",
            "Epoch   0 | Loss: 450.72083592414856 | train_acc: 0.10424 | test_acc: 0.104\n",
            "Epoch   1 | Loss: 449.2220530509949 | train_acc: 0.1473 | test_acc: 0.14\n",
            "Epoch   2 | Loss: 447.64548110961914 | train_acc: 0.17762 | test_acc: 0.1696\n",
            "Epoch   3 | Loss: 445.8290231227875 | train_acc: 0.2116 | test_acc: 0.2072\n",
            "Epoch   4 | Loss: 443.5383687019348 | train_acc: 0.23808 | test_acc: 0.2388\n",
            "Epoch   5 | Loss: 440.7007145881653 | train_acc: 0.24976 | test_acc: 0.2538\n",
            "Epoch   6 | Loss: 437.1986575126648 | train_acc: 0.25404 | test_acc: 0.2601\n",
            "Epoch   7 | Loss: 432.8500130176544 | train_acc: 0.25438 | test_acc: 0.2637\n",
            "Epoch   8 | Loss: 427.86230754852295 | train_acc: 0.25724 | test_acc: 0.2659\n",
            "Epoch   9 | Loss: 422.35147309303284 | train_acc: 0.26024 | test_acc: 0.2689\n",
            "Epoch  10 | Loss: 416.82310009002686 | train_acc: 0.2651 | test_acc: 0.2724\n",
            "Epoch  11 | Loss: 411.44234347343445 | train_acc: 0.27102 | test_acc: 0.2775\n",
            "Epoch  12 | Loss: 406.5532305240631 | train_acc: 0.27794 | test_acc: 0.2844\n",
            "Epoch  13 | Loss: 401.9471607208252 | train_acc: 0.28514 | test_acc: 0.2899\n",
            "Epoch  14 | Loss: 397.6222537755966 | train_acc: 0.29188 | test_acc: 0.2957\n",
            "Epoch  15 | Loss: 393.48028123378754 | train_acc: 0.29734 | test_acc: 0.3018\n",
            "Epoch  16 | Loss: 389.40596413612366 | train_acc: 0.3053 | test_acc: 0.3102\n",
            "Epoch  17 | Loss: 385.74742126464844 | train_acc: 0.3116 | test_acc: 0.3152\n",
            "Epoch  18 | Loss: 381.93465769290924 | train_acc: 0.31994 | test_acc: 0.3229\n",
            "Epoch  19 | Loss: 378.90841484069824 | train_acc: 0.32542 | test_acc: 0.3281\n",
            "Epoch  20 | Loss: 375.68911719322205 | train_acc: 0.33158 | test_acc: 0.3352\n",
            "Epoch  21 | Loss: 372.6771808862686 | train_acc: 0.33886 | test_acc: 0.3408\n",
            "Epoch  22 | Loss: 369.99243664741516 | train_acc: 0.34276 | test_acc: 0.3475\n",
            "Epoch  23 | Loss: 367.3927129507065 | train_acc: 0.3477 | test_acc: 0.3508\n",
            "Epoch  24 | Loss: 364.6751135587692 | train_acc: 0.35186 | test_acc: 0.3574\n",
            "Epoch  25 | Loss: 362.3150713443756 | train_acc: 0.35666 | test_acc: 0.3643\n",
            "Epoch  26 | Loss: 360.199662566185 | train_acc: 0.36118 | test_acc: 0.3658\n",
            "Epoch  27 | Loss: 357.576140999794 | train_acc: 0.36392 | test_acc: 0.3681\n",
            "Epoch  28 | Loss: 355.7863372564316 | train_acc: 0.3682 | test_acc: 0.3708\n",
            "Epoch  29 | Loss: 353.57350492477417 | train_acc: 0.37172 | test_acc: 0.3759\n",
            "Epoch  30 | Loss: 351.61503434181213 | train_acc: 0.37552 | test_acc: 0.379\n",
            "Epoch  31 | Loss: 349.7402129173279 | train_acc: 0.37818 | test_acc: 0.3811\n",
            "Epoch  32 | Loss: 347.6407321691513 | train_acc: 0.38074 | test_acc: 0.3842\n",
            "Epoch  33 | Loss: 346.05162239074707 | train_acc: 0.38462 | test_acc: 0.3886\n",
            "Epoch  34 | Loss: 344.0624363422394 | train_acc: 0.38862 | test_acc: 0.3924\n",
            "Epoch  35 | Loss: 342.53450214862823 | train_acc: 0.39114 | test_acc: 0.3958\n",
            "Epoch  36 | Loss: 340.7449097633362 | train_acc: 0.39354 | test_acc: 0.402\n",
            "Epoch  37 | Loss: 339.22552955150604 | train_acc: 0.3965 | test_acc: 0.4027\n",
            "Epoch  38 | Loss: 337.6306332349777 | train_acc: 0.40072 | test_acc: 0.408\n",
            "Epoch  39 | Loss: 336.1673951148987 | train_acc: 0.40282 | test_acc: 0.4093\n",
            "Epoch  40 | Loss: 334.543120265007 | train_acc: 0.40618 | test_acc: 0.4121\n",
            "Epoch  41 | Loss: 332.97309613227844 | train_acc: 0.40792 | test_acc: 0.413\n",
            "Epoch  42 | Loss: 331.4151896238327 | train_acc: 0.41072 | test_acc: 0.418\n",
            "Epoch  43 | Loss: 330.26197361946106 | train_acc: 0.41376 | test_acc: 0.4196\n",
            "Epoch  44 | Loss: 328.38499319553375 | train_acc: 0.41592 | test_acc: 0.4215\n",
            "Epoch  45 | Loss: 327.05114567279816 | train_acc: 0.42006 | test_acc: 0.4257\n",
            "Epoch  46 | Loss: 325.4682854413986 | train_acc: 0.42138 | test_acc: 0.4282\n",
            "Epoch  47 | Loss: 324.01283943653107 | train_acc: 0.42592 | test_acc: 0.4306\n",
            "Epoch  48 | Loss: 322.7920825481415 | train_acc: 0.4292 | test_acc: 0.4342\n",
            "Epoch  49 | Loss: 320.99718368053436 | train_acc: 0.43154 | test_acc: 0.4371\n"
          ]
        }
      ],
      "source": [
        "train_accs_SGD,test_accs_SGD =  training(50,\"Leaky_Relu\", \"SGD\")"
      ]
    },
    {
      "cell_type": "code",
      "source": [
        "Model_Relu_SGD = model"
      ],
      "metadata": {
        "id": "MUZrgSKkIa7g"
      },
      "execution_count": 13,
      "outputs": []
    },
    {
      "cell_type": "code",
      "execution_count": 14,
      "metadata": {
        "colab": {
          "base_uri": "https://localhost:8080/",
          "height": 432
        },
        "id": "5HmMkn8rClHV",
        "outputId": "5f634bd6-74c9-4966-fa61-44180cff3d66"
      },
      "outputs": [
        {
          "output_type": "display_data",
          "data": {
            "text/plain": [
              "<Figure size 640x480 with 1 Axes>"
            ],
            "image/png": "[encoded data removed]"
          },
          "metadata": {}
        }
      ],
      "source": [
        "plot_acc(train_accs_SGD, test_accs_SGD, label1='Train Accuracy', label2='Test Accuracy')"
      ]
    },
    {
      "cell_type": "markdown",
      "source": [
        "#[Feedback] SGD Test\n",
        "1.SGD 이 Adam 로 사용한 결과보다 곡선이 더욱 smooth 합니다.\n",
        "2.정확도는 낮습니다. SGD 보다 낮습니다,  하지만 배치수량을 늘이면 더 나아질것 같습니다.\n",
        "3.Taining 결과와 Test 결과가 기본적으로 일치한것을 볼수가 있습니다."
      ],
      "metadata": {
        "id": "OUxYsfnfcup-"
      }
    },
    {
      "cell_type": "code",
      "execution_count": 45,
      "metadata": {
        "id": "cM0wPJciC5dL",
        "colab": {
          "base_uri": "https://localhost:8080/"
        },
        "outputId": "8eaa120e-1a48-466c-e470-265222857500"
      },
      "outputs": [
        {
          "output_type": "stream",
          "name": "stdout",
          "text": [
            "act_type: Sigmoid\n",
            "SGD  training:\n",
            "Epoch   0 | Loss: 451.7858655452728 | train_acc: 0.1 | test_acc: 0.1\n",
            "Epoch   1 | Loss: 451.6504089832306 | train_acc: 0.1 | test_acc: 0.1\n",
            "Epoch   2 | Loss: 451.55058097839355 | train_acc: 0.1 | test_acc: 0.1\n",
            "Epoch   3 | Loss: 451.4714460372925 | train_acc: 0.1 | test_acc: 0.1\n",
            "Epoch   4 | Loss: 451.42859530448914 | train_acc: 0.1 | test_acc: 0.1\n",
            "Epoch   5 | Loss: 451.3960416316986 | train_acc: 0.1 | test_acc: 0.1\n",
            "Epoch   6 | Loss: 451.36678099632263 | train_acc: 0.1 | test_acc: 0.1\n",
            "Epoch   7 | Loss: 451.35340785980225 | train_acc: 0.1 | test_acc: 0.1\n",
            "Epoch   8 | Loss: 451.33711433410645 | train_acc: 0.1 | test_acc: 0.1\n",
            "Epoch   9 | Loss: 451.32869505882263 | train_acc: 0.1 | test_acc: 0.1\n"
          ]
        }
      ],
      "source": [
        "train_accs_SGD_Sigmoid,test_accs_SGD_Sigmoid =  training(10, \"Sigmoid\", \"SGD\")"
      ]
    },
    {
      "cell_type": "markdown",
      "source": [
        "##[Feedback]\n",
        "Sigmoid 로서 training 하면서 얻은 결과는 0.1 가까이로 계속나오고 계선이 되지않아 어딘가 잘못되였다고 생각했습니다.  \n",
        "검색을 해보니 CNN 모델에는 Sigmoid 이 적합하지 않다고 나옵니다.\n",
        "이 결론에 대해 코칭님의 멘토링을 받고 싶습니다.\n",
        "\n",
        "GPU 환경문제와 시간상 관계로 Sigmoid 50까지 돌리지 못하고 또한 결과값의 이상으로 배치 10번만 돌리고 올리기로 했습니다."
      ],
      "metadata": {
        "id": "tvyMOFpte-0t"
      }
    },
    {
      "cell_type": "markdown",
      "metadata": {
        "id": "YRDcptrqniX7"
      },
      "source": [
        "출력 결과를 보면 잘 수렴하는 것을 볼 수 있습니다.\n",
        "이전 구현과 다른 점은 다음 두 가지입니다.\n",
        "- `for data in trainloader`를 통해 batch들을 iterate하면서 model을 학습합니다.\n",
        "- `inputs, labels = inputs.to('cuda'), labels.to('cuda')`를 통해 model의 입력으로 들어가는 tensor들을 GPU로 보냅니다.\n",
        "\n",
        "마지막으로 첫 번째 data에 대한 예측 결과를 살펴봅시다."
      ]
    },
    {
      "cell_type": "markdown",
      "metadata": {
        "id": "gx2H7WNdPiJj"
      },
      "source": [
        "##[FEEDBACK]\n",
        "모델 배포한 상태에서 예측값을 직관으로 비교하고 보기 위한 코드 입니다. 위에서 Relu 대한 훈련결과의 모델을 사용한 결과, 정확도는 높지 않았습니다."
      ]
    },
    {
      "cell_type": "code",
      "execution_count": 21,
      "metadata": {
        "id": "Zct0ssSKwjt1"
      },
      "outputs": [],
      "source": [
        "def lb_check(idx, Model):\n",
        "  x = trainset[idx][0][None]  # (1, 1, 28, 28)\n",
        "  x = x.to(device)\n",
        "\n",
        "  model = Model_Relu_SGD\n",
        "  logits = model(x)\n",
        "\n",
        "  print(logits)\n",
        "  print(\"오리지널 데이터:\",trainset[idx][1])\n",
        "  predicted_class = torch.argmax(logits, dim=1).item()\n",
        "  print(\"모델추출 데이터: \",predicted_class)\n",
        "\n",
        "  print(\"--------------------\")\n",
        "\n",
        "  print(len(trainset))\n",
        "  print(trainset[0][0].shape, trainset[0][1])\n",
        "  plt.imshow(trainset[idx][0][0], cmap='gray')\n",
        "\n",
        "  print(\"--------------------\")\n",
        "\n",
        "  def switch_label(index):\n",
        "      if index == 0:\n",
        "          return \"airplane\"\n",
        "      elif index == 1:\n",
        "          return \"automobile\"\n",
        "      elif index == 2:\n",
        "          return \"bird\"\n",
        "      elif index == 3:\n",
        "          return \"cat\"\n",
        "      elif index == 4:\n",
        "          return \"deer\"\n",
        "      elif index == 5:\n",
        "          return \"dog\"\n",
        "      elif index == 6:\n",
        "          return \"frog\"\n",
        "      elif index == 7:\n",
        "          return \"horse\"\n",
        "      elif index == 8:\n",
        "          return \"ship\"\n",
        "      elif index == 9:\n",
        "          return \"truck\"\n",
        "      else:\n",
        "          return \"Unknown\"\n",
        "\n",
        "  label_index = trainset[idx][1]\n",
        "\n",
        "  label_name = switch_label(label_index)\n",
        "  predict_name = switch_label(predicted_class)\n",
        "\n",
        "  print(f\"Correct index: {label_index}\")\n",
        "  print(f\"Correct name: {label_name}\")\n",
        "  print(f\"Predict name: {predict_name}\")\n"
      ]
    },
    {
      "cell_type": "code",
      "execution_count": 53,
      "metadata": {
        "colab": {
          "base_uri": "https://localhost:8080/",
          "height": 621
        },
        "id": "lzuMcYXTSCB7",
        "outputId": "dc643235-0429-4995-ffdc-77a5b8a07775"
      },
      "outputs": [
        {
          "output_type": "stream",
          "name": "stdout",
          "text": [
            "tensor([[ 0.0527,  0.0432, -0.0024,  0.0856,  0.0619, -0.0015,  0.0867,  0.0343,\n",
            "          0.0221,  0.0063]], device='cuda:0', grad_fn=<AddmmBackward0>)\n",
            "오리지널 데이터: 6\n",
            "모델추출 데이터:  6\n",
            "--------------------\n",
            "50000\n",
            "torch.Size([3, 32, 32]) 6\n",
            "--------------------\n",
            "Correct index: 6\n",
            "Correct name: frog\n",
            "Predict name: frog\n"
          ]
        },
        {
          "output_type": "display_data",
          "data": {
            "text/plain": [
              "<Figure size 640x480 with 1 Axes>"
            ],
            "image/png": "[encoded data removed]"
          },
          "metadata": {}
        }
      ],
      "source": [
        "model = Model_Relu_SGD.to(device)\n",
        "lb_check(25,model)"
      ]
    },
    {
      "cell_type": "markdown",
      "metadata": {
        "id": "vcQ0N7P-PY5Z"
      },
      "source": []
    },
    {
      "cell_type": "markdown",
      "metadata": {
        "id": "qzgSOrMsoZ2z"
      },
      "source": [
        "여기서 idx를 조정하여 다른 data에 대한 출력 결과도 볼 수 있습니다.\n",
        "예측 결과를 보시면 아직 성능이 그렇게 좋지 않은 것을 알 수 있습니다."
      ]
    },
    {
      "cell_type": "markdown",
      "metadata": {
        "id": "xUfwMlrtWMWH"
      },
      "source": []
    }
  ],
  "metadata": {
    "colab": {
      "provenance": []
    },
    "kernelspec": {
      "display_name": "Python 3",
      "name": "python3"
    },
    "language_info": {
      "name": "python"
    }
  },
  "nbformat": 4,
  "nbformat_minor": 0
}
