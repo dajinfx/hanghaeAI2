{
  "nbformat": 4,
  "nbformat_minor": 0,
  "metadata": {
    "colab": {
      "provenance": []
    },
    "kernelspec": {
      "name": "python3",
      "display_name": "Python 3"
    },
    "language_info": {
      "name": "python"
    }
  },
  "cells": [
    {
      "cell_type": "markdown",
      "source": [
        "# MNIST 실습\n",
        "\n",
        "이번에는 28x28 흑백 손글씨 이미지를 보고 0~9 사이의 숫자 중 어떤 숫자를 쓴 것인지 예측하는 문제를 실습합니다.\n",
        "이번 실습에서는 GPU를 활용할 것이기 때문에, 이전 챕터에서 Colab에서 GPU를 설정하는 방법을 따라해주시길 바랍니다.\n",
        "\n",
        "GPU를 설정했으면 library들을 import합니다."
      ],
      "metadata": {
        "id": "OPJenlrhihrh"
      }
    },
    {
      "cell_type": "code",
      "execution_count": null,
      "metadata": {
        "id": "6lXVfXoDtoQh"
      },
      "outputs": [],
      "source": [
        "import torch\n",
        "import torchvision\n",
        "import torchvision.transforms as transforms\n",
        "from matplotlib import pyplot as plt\n",
        "from torch import nn\n",
        "from torch.optim import SGD\n",
        "import numpy as np"
      ]
    },
    {
      "cell_type": "code",
      "source": [
        "import os\n",
        "os.environ[\"CUDA_LAUNCH_BLOCKING\"] = \"1\""
      ],
      "metadata": {
        "id": "SYLPYHFCTxYp"
      },
      "execution_count": null,
      "outputs": []
    },
    {
      "cell_type": "markdown",
      "source": [
        "다음은 dataset을 준비합니다. 손글씨 dataset은 MNIST라는 유명한 dataset이 있습니다. 이 dataset은 `torchvision`에서 제공하고 있으며, 다음과 같이 다운로드 받을 수 있습니다."
      ],
      "metadata": {
        "id": "pF-1zQvmiult"
      }
    },
    {
      "cell_type": "code",
      "source": [
        "transform = transforms.ToTensor()\n",
        "\n",
        "trainset = torchvision.datasets.MNIST(root='./data',train=True,download=True,transform=transform)\n",
        "testset = torchvision.datasets.MNIST(root='./data', train=False, download=True, transform=transform)"
      ],
      "metadata": {
        "id": "KAYlqPaRt6ti",
        "colab": {
          "base_uri": "https://localhost:8080/"
        },
        "outputId": "d12a090f-db63-4adb-e2de-3cb1eb2566b8"
      },
      "execution_count": null,
      "outputs": [
        {
          "output_type": "stream",
          "name": "stdout",
          "text": [
            "Downloading http://yann.lecun.com/exdb/mnist/train-images-idx3-ubyte.gz\n",
            "Failed to download (trying next):\n",
            "HTTP Error 403: Forbidden\n",
            "\n",
            "Downloading https://ossci-datasets.s3.amazonaws.com/mnist/train-images-idx3-ubyte.gz\n",
            "Downloading https://ossci-datasets.s3.amazonaws.com/mnist/train-images-idx3-ubyte.gz to ./data/MNIST/raw/train-images-idx3-ubyte.gz\n"
          ]
        },
        {
          "output_type": "stream",
          "name": "stderr",
          "text": [
            "100%|██████████| 9.91M/9.91M [00:00<00:00, 41.8MB/s]\n"
          ]
        },
        {
          "output_type": "stream",
          "name": "stdout",
          "text": [
            "Extracting ./data/MNIST/raw/train-images-idx3-ubyte.gz to ./data/MNIST/raw\n",
            "\n",
            "Downloading http://yann.lecun.com/exdb/mnist/train-labels-idx1-ubyte.gz\n",
            "Failed to download (trying next):\n",
            "HTTP Error 403: Forbidden\n",
            "\n",
            "Downloading https://ossci-datasets.s3.amazonaws.com/mnist/train-labels-idx1-ubyte.gz\n",
            "Downloading https://ossci-datasets.s3.amazonaws.com/mnist/train-labels-idx1-ubyte.gz to ./data/MNIST/raw/train-labels-idx1-ubyte.gz\n"
          ]
        },
        {
          "output_type": "stream",
          "name": "stderr",
          "text": [
            "100%|██████████| 28.9k/28.9k [00:00<00:00, 1.37MB/s]"
          ]
        },
        {
          "output_type": "stream",
          "name": "stdout",
          "text": [
            "Extracting ./data/MNIST/raw/train-labels-idx1-ubyte.gz to ./data/MNIST/raw\n",
            "\n",
            "Downloading http://yann.lecun.com/exdb/mnist/t10k-images-idx3-ubyte.gz\n"
          ]
        },
        {
          "output_type": "stream",
          "name": "stderr",
          "text": [
            "\n"
          ]
        },
        {
          "output_type": "stream",
          "name": "stdout",
          "text": [
            "Failed to download (trying next):\n",
            "HTTP Error 403: Forbidden\n",
            "\n",
            "Downloading https://ossci-datasets.s3.amazonaws.com/mnist/t10k-images-idx3-ubyte.gz\n",
            "Downloading https://ossci-datasets.s3.amazonaws.com/mnist/t10k-images-idx3-ubyte.gz to ./data/MNIST/raw/t10k-images-idx3-ubyte.gz\n"
          ]
        },
        {
          "output_type": "stream",
          "name": "stderr",
          "text": [
            "100%|██████████| 1.65M/1.65M [00:00<00:00, 10.4MB/s]\n"
          ]
        },
        {
          "output_type": "stream",
          "name": "stdout",
          "text": [
            "Extracting ./data/MNIST/raw/t10k-images-idx3-ubyte.gz to ./data/MNIST/raw\n",
            "\n",
            "Downloading http://yann.lecun.com/exdb/mnist/t10k-labels-idx1-ubyte.gz\n",
            "Failed to download (trying next):\n",
            "HTTP Error 403: Forbidden\n",
            "\n",
            "Downloading https://ossci-datasets.s3.amazonaws.com/mnist/t10k-labels-idx1-ubyte.gz\n",
            "Downloading https://ossci-datasets.s3.amazonaws.com/mnist/t10k-labels-idx1-ubyte.gz to ./data/MNIST/raw/t10k-labels-idx1-ubyte.gz\n"
          ]
        },
        {
          "output_type": "stream",
          "name": "stderr",
          "text": [
            "100%|██████████| 4.54k/4.54k [00:00<00:00, 2.95MB/s]"
          ]
        },
        {
          "output_type": "stream",
          "name": "stdout",
          "text": [
            "Extracting ./data/MNIST/raw/t10k-labels-idx1-ubyte.gz to ./data/MNIST/raw\n",
            "\n"
          ]
        },
        {
          "output_type": "stream",
          "name": "stderr",
          "text": [
            "\n"
          ]
        }
      ]
    },
    {
      "cell_type": "markdown",
      "source": [
        "[MY CODE] trainset 와 testset  한데 모음"
      ],
      "metadata": {
        "id": "yvGTdcXRKHdw"
      }
    },
    {
      "cell_type": "markdown",
      "source": [
        "MNIST는 손글씨 사진과 어떤 숫자를 의미하는지에 대한 label의 pair들로 구성되어있습니다.\n",
        "이 때, 우리는 PyTorch model을 사용할 것이기 때문에 손글씨 사진들을 모두 tensor로 변환해야합니다.\n",
        "이러한 부가적인 변환들은 `torchvision.transforms`에서 제공하고 있으며, `torchvision.datasets.MNIST`에서 `transform` 인자로 받을 수 있습니다.\n",
        "우리는 단순히 사진을 tensor로 바꾸고 싶기 때문에 `transforms.ToTensor()` transformation을 넘겨줍니다.\n",
        "\n",
        "다음은 전체 data의 개수와 첫 번째 data를 출력한 결과입니다."
      ],
      "metadata": {
        "id": "p-GqH7_ZjVMs"
      }
    },
    {
      "cell_type": "code",
      "source": [
        "from matplotlib import pyplot as plt\n",
        "\n",
        "\n",
        "print(len(trainset))\n",
        "print(trainset[0][0].shape, trainset[0][1])\n",
        "plt.imshow(trainset[0][0][0], cmap='gray')"
      ],
      "metadata": {
        "colab": {
          "base_uri": "https://localhost:8080/",
          "height": 482
        },
        "id": "Zsp3sHmojyhT",
        "outputId": "7a3604b8-8c1c-447f-c2d6-59ff2e2066cf"
      },
      "execution_count": null,
      "outputs": [
        {
          "output_type": "stream",
          "name": "stdout",
          "text": [
            "60000\n",
            "torch.Size([1, 28, 28]) 5\n"
          ]
        },
        {
          "output_type": "execute_result",
          "data": {
            "text/plain": [
              "<matplotlib.image.AxesImage at 0x7b01c714fe20>"
            ]
          },
          "metadata": {},
          "execution_count": 6
        },
        {
          "output_type": "display_data",
          "data": {
            "text/plain": [
              "<Figure size 640x480 with 1 Axes>"
            ],
            "image/png": "[encoded data removed]"
          },
          "metadata": {}
        }
      ]
    },
    {
      "cell_type": "markdown",
      "source": [
        "첫 번째 출력결과를 통해 우리는 6만장의 손글씨 data가 있는 것을 알 수 있습니다.\n",
        "그리고 두 번째 출력결과를 통해 첫 번째 data의 shape은 (1, 28, 28)이고 5라는 숫자를 쓴 사진이라는 것을 알 수 있습니다.\n",
        "마지막으로 `plt.imshow`를 통해 visualize 했을 때 5라는 숫자가 나오는 것을 알 수 있습니다.\n",
        "\n",
        "다음은 SGD를 위해 dataset을 여러 개의 batch로 나누는 과정을 PyTorch로 구현한 모습입니다."
      ],
      "metadata": {
        "id": "udm8wDBsi301"
      }
    },
    {
      "cell_type": "code",
      "source": [
        "batch_size = 256\n",
        "\n",
        "trainloader = torch.utils.data.DataLoader(trainset,batch_size=batch_size,shuffle=True)\n",
        "testloader = torch.utils.data.DataLoader(testset, batch_size=64, shuffle=False)"
      ],
      "metadata": {
        "id": "UxKu3kA2i5WH"
      },
      "execution_count": null,
      "outputs": []
    },
    {
      "cell_type": "markdown",
      "source": [
        "PyTorch에서는 `DataLoader`가 dataset을 인자로 받아 batch로 나눠줍니다.\n",
        "부가적으로 `batch_size`라는 인자를 통해 batch size를 받고 있으며, `shuffle`이라는 인자를 통해 data들을 섞을지 결정해줍니다.\n",
        "우리는 SGD가 완전 랜덤으로 batch를 구성해야 잘 동작하는 것을 알고 있기 때문에 `shuffle`에 `True`를 넘겨주고 있습니다.\n",
        "\n",
        "다음은 첫 번째 batch를 출력한 모습입니다."
      ],
      "metadata": {
        "id": "z4Qyrm4WlzWt"
      }
    },
    {
      "cell_type": "code",
      "source": [
        "dataiter = iter(trainloader)\n",
        "images, labels = next(dataiter)\n",
        "print(images.shape, labels.shape)"
      ],
      "metadata": {
        "colab": {
          "base_uri": "https://localhost:8080/"
        },
        "id": "_Hd7XxyAvVNz",
        "outputId": "5c4507fc-44bd-4fb6-ad81-a42bbd7d8cf0"
      },
      "execution_count": null,
      "outputs": [
        {
          "output_type": "stream",
          "name": "stdout",
          "text": [
            "torch.Size([256, 1, 28, 28]) torch.Size([256])\n"
          ]
        }
      ]
    },
    {
      "cell_type": "markdown",
      "source": [
        "`images`는 첫 번째 batch의 image들이고 `labels`는 첫 번째 batch의 label들입니다.\n",
        "위에서 batch size를 64로 설정했기 때문에 총 64개의 image와 label들이 있어야 합니다.\n",
        "실제 shape 출력 결과를 보면 그렇다는 것을 알 수 있습니다.\n",
        "\n",
        "다음은 (n, 1, 28, 28) shape의 image를 입력받아 0~9 사이의 정수 하나를 출력하는 3-layer MLP를 구현합니다."
      ],
      "metadata": {
        "id": "h0ZY5mDimRUK"
      }
    },
    {
      "cell_type": "code",
      "source": [
        "from torch import nn\n",
        "\n",
        "\n",
        "class SimpleANN(nn.Module):\n",
        "  def __init__(self, input_dim, n_dim):\n",
        "    super().__init__()\n",
        "\n",
        "    self.layer1 = nn.Linear(input_dim, n_dim)\n",
        "    self.layer2 = nn.Linear(n_dim, n_dim)\n",
        "    self.layer3 = nn.Linear(n_dim, 10) #  손실함수 MSE로 부터 nn.CrossEntropyLoss() 바꾼다음,   Praramiter를 1로부터 10 바꿔야만 했음,  그렇치 않으면 오류 발생   nn.Linear(n_dim, 10)\n",
        "\n",
        "    self.act = nn.ReLU()\n",
        "\n",
        "  def forward(self, x):\n",
        "    x = torch.flatten(x, start_dim=1)\n",
        "    x = self.act(self.layer1(x))\n",
        "    x = self.act(self.layer2(x))\n",
        "    x = self.act(self.layer3(x))\n",
        "\n",
        "    return x\n",
        "\n",
        "model = None;\n",
        "model = SimpleANN(28 * 28 * 1, 1024)"
      ],
      "metadata": {
        "id": "OLOA-ZGTuVVG"
      },
      "execution_count": null,
      "outputs": []
    },
    {
      "cell_type": "markdown",
      "source": [
        "[MY CODE] self.layer3 = nn.Linear(n_dim, 10)   \n",
        "손실함수 MSE로 부터 nn.CrossEntropyLoss() 바꾼다음,   Praramiter를 1로부터 10 바꿔야만 했습니다.  그렇치 않으면 오류 발생하는데,  이에 인지를 하는 debuging 시간이 꽤나 오래걸렸습니다.   nn.Linear(n_dim, 10)"
      ],
      "metadata": {
        "id": "Zqc83RpbOOp-"
      }
    },
    {
      "cell_type": "markdown",
      "source": [
        "이전의 2-layer MLP와 유사한 형태임을 알 수 있습니다.\n",
        "여기서 특이사항은 `forward`의 첫 번째 줄에 `torch.flatten`을 사용한다는 것입니다.\n",
        "`Linear`는 이전에도 봤다시피 (n, d) 형태의 shape을 입력받습니다.\n",
        "이미지는 (n, 1, 28, 28)이기 때문에 (n, 1 * 28 * 28)로 shape을 변환해야 선형 함수에 입력으로 주어줄 수 있게 됩니다.\n",
        "이 역할을 수행하는 것이 바로 `torch.flatten`입니다.\n",
        "우리는 첫 번째 shape인 n을 보존할 것이기 때문에 flatten할 차원은 `start_dim=1`로 넘겨주게 됩니다.\n",
        "\n",
        "다음은 gradient descent를 수행해줄 optimizer를 구현하는 모습입니다."
      ],
      "metadata": {
        "id": "tag1rNcwmnAr"
      }
    },
    {
      "cell_type": "code",
      "source": [
        "from torch.optim import SGD\n",
        "\n",
        "lr = 0.001\n",
        "device = torch.device(\"cuda\" if torch.cuda.is_available() else \"cpu\")\n",
        "model = model.to(device)\n",
        "print(device)\n",
        "optimizer = SGD(model.parameters(), lr=lr, momentum=0.9)"
      ],
      "metadata": {
        "id": "ypS0TcOlvBhZ",
        "colab": {
          "base_uri": "https://localhost:8080/"
        },
        "outputId": "28ba3e0c-801e-493e-90ea-6cf61baf3dfa"
      },
      "execution_count": null,
      "outputs": [
        {
          "output_type": "stream",
          "name": "stdout",
          "text": [
            "cpu\n"
          ]
        }
      ]
    },
    {
      "cell_type": "markdown",
      "source": [
        "이전 코드와 거의 똑같습니다. 다른 점은 `model.to('cuda')` 코드를 통해 우리가 구현한 model을 GPU로 옮긴 것입니다.\n",
        "MNIST 부터는 모델과 data가 커지면서 훨씬 많은 행렬 연산이 이루어지기 때문에 GPU를 활용하는 것이 빠릅니다.\n",
        "\n",
        "다음은 model을 MNIST에 학습하는 코드입니다."
      ],
      "metadata": {
        "id": "5PooeOKMnRfZ"
      }
    },
    {
      "cell_type": "code",
      "source": [
        "def accuracy(model, dataloader):\n",
        "  cnt = 0\n",
        "  acc = 0\n",
        "\n",
        "  for data in dataloader:\n",
        "    inputs, labels = data\n",
        "    inputs, labels = inputs.to(device), labels.to(device)\n",
        "\n",
        "    preds = model(inputs)\n",
        "    preds = torch.argmax(preds, dim=-1)\n",
        "\n",
        "    cnt += labels.shape[0]\n",
        "    acc += (labels == preds).sum().item()\n",
        "\n",
        "  return acc / cnt"
      ],
      "metadata": {
        "id": "1R_iV8eFnQjj"
      },
      "execution_count": null,
      "outputs": []
    },
    {
      "cell_type": "code",
      "source": [
        "n_epochs = 100\n",
        "train_accs = []  # 트레이닝 정확도 리스트\n",
        "test_accs = []   # 테스트 정확도 리스트\n",
        "\n",
        "criterion = nn.CrossEntropyLoss()\n",
        "for epoch in range(n_epochs):\n",
        "  total_loss = 0.\n",
        "  model.train()\n",
        "  for data in trainloader:\n",
        "    #model.zero_grad()\n",
        "    optimizer.zero_grad()\n",
        "    inputs, labels = data\n",
        "    inputs, labels = inputs.to(device), labels.to(device)\n",
        "\n",
        "    preds = model(inputs)\n",
        "    #loss = (preds[:, 0] - labels).pow(2).mean()\n",
        "    loss = criterion(preds, labels)\n",
        "\n",
        "    loss.backward()\n",
        "    optimizer.step()\n",
        "\n",
        "    total_loss += loss.item()\n",
        "  model.eval()\n",
        "  train_acc = accuracy(model, trainloader)\n",
        "  test_acc = accuracy(model, testloader)\n",
        "\n",
        "  train_accs.append(train_acc)\n",
        "  test_accs.append(test_acc)\n",
        "\n",
        "  print(f\"Epoch {epoch:3d} | Loss: {total_loss} | train_acc: {train_acc} | test_acc: {test_acc}\"  )"
      ],
      "metadata": {
        "colab": {
          "base_uri": "https://localhost:8080/"
        },
        "id": "TryX1hewvNiB",
        "outputId": "f69e0a18-df19-451b-8a2f-a15a8e75505e"
      },
      "execution_count": null,
      "outputs": [
        {
          "output_type": "stream",
          "name": "stdout",
          "text": [
            "Epoch   0 | Loss: 516.528350353241 | train_acc: 0.41183333333333333 | test_acc: 0.4124\n",
            "Epoch   1 | Loss: 454.4877498149872 | train_acc: 0.5007666666666667 | test_acc: 0.5018\n",
            "Epoch   2 | Loss: 375.26720690727234 | train_acc: 0.56555 | test_acc: 0.5698\n",
            "Epoch   3 | Loss: 327.3455684185028 | train_acc: 0.5876833333333333 | test_acc: 0.5917\n",
            "Epoch   4 | Loss: 301.2371406555176 | train_acc: 0.5982166666666666 | test_acc: 0.6019\n",
            "Epoch   5 | Loss: 285.1523206233978 | train_acc: 0.6058166666666667 | test_acc: 0.6076\n",
            "Epoch   6 | Loss: 274.0799599289894 | train_acc: 0.6108166666666667 | test_acc: 0.6142\n",
            "Epoch   7 | Loss: 265.60288006067276 | train_acc: 0.6147833333333333 | test_acc: 0.6183\n",
            "Epoch   8 | Loss: 259.05741077661514 | train_acc: 0.6178333333333333 | test_acc: 0.6208\n",
            "Epoch   9 | Loss: 253.62799030542374 | train_acc: 0.6204 | test_acc: 0.6238\n",
            "Epoch  10 | Loss: 249.5419236421585 | train_acc: 0.6227666666666667 | test_acc: 0.6264\n",
            "Epoch  11 | Loss: 246.04355782270432 | train_acc: 0.6246833333333334 | test_acc: 0.6287\n",
            "Epoch  12 | Loss: 243.39309918880463 | train_acc: 0.6267833333333334 | test_acc: 0.63\n",
            "Epoch  13 | Loss: 240.81167602539062 | train_acc: 0.6283 | test_acc: 0.6316\n",
            "Epoch  14 | Loss: 238.72459024190903 | train_acc: 0.6298666666666667 | test_acc: 0.6322\n",
            "Epoch  15 | Loss: 236.71952921152115 | train_acc: 0.6309166666666667 | test_acc: 0.6334\n",
            "Epoch  16 | Loss: 234.96501594781876 | train_acc: 0.63245 | test_acc: 0.636\n",
            "Epoch  17 | Loss: 233.11649376153946 | train_acc: 0.6336333333333334 | test_acc: 0.6359\n",
            "Epoch  18 | Loss: 231.6403881907463 | train_acc: 0.6348166666666667 | test_acc: 0.6369\n",
            "Epoch  19 | Loss: 230.10896241664886 | train_acc: 0.6359166666666667 | test_acc: 0.6374\n",
            "Epoch  20 | Loss: 228.79512935876846 | train_acc: 0.6370333333333333 | test_acc: 0.6383\n",
            "Epoch  21 | Loss: 227.5758706331253 | train_acc: 0.6379 | test_acc: 0.639\n",
            "Epoch  22 | Loss: 226.21107184886932 | train_acc: 0.6391 | test_acc: 0.64\n",
            "Epoch  23 | Loss: 225.13000589609146 | train_acc: 0.6403 | test_acc: 0.6399\n",
            "Epoch  24 | Loss: 223.9576501250267 | train_acc: 0.6412833333333333 | test_acc: 0.6422\n",
            "Epoch  25 | Loss: 222.72674947977066 | train_acc: 0.6419166666666667 | test_acc: 0.6426\n",
            "Epoch  26 | Loss: 221.7043783068657 | train_acc: 0.6424666666666666 | test_acc: 0.6421\n",
            "Epoch  27 | Loss: 220.74269366264343 | train_acc: 0.6434 | test_acc: 0.6431\n",
            "Epoch  28 | Loss: 219.69927209615707 | train_acc: 0.6442666666666667 | test_acc: 0.6437\n",
            "Epoch  29 | Loss: 218.8233689069748 | train_acc: 0.6449833333333334 | test_acc: 0.6445\n",
            "Epoch  30 | Loss: 217.99574971199036 | train_acc: 0.6461 | test_acc: 0.6454\n",
            "Epoch  31 | Loss: 217.08208841085434 | train_acc: 0.6466833333333334 | test_acc: 0.6457\n",
            "Epoch  32 | Loss: 216.169586956501 | train_acc: 0.6474333333333333 | test_acc: 0.6461\n",
            "Epoch  33 | Loss: 215.23711156845093 | train_acc: 0.6483333333333333 | test_acc: 0.6468\n",
            "Epoch  34 | Loss: 214.55990147590637 | train_acc: 0.6490666666666667 | test_acc: 0.6469\n",
            "Epoch  35 | Loss: 213.8727104663849 | train_acc: 0.6498833333333334 | test_acc: 0.6477\n",
            "Epoch  36 | Loss: 212.81954032182693 | train_acc: 0.6504666666666666 | test_acc: 0.648\n",
            "Epoch  37 | Loss: 212.0779077410698 | train_acc: 0.6511 | test_acc: 0.6492\n",
            "Epoch  38 | Loss: 211.4333192706108 | train_acc: 0.65155 | test_acc: 0.6495\n",
            "Epoch  39 | Loss: 210.69053024053574 | train_acc: 0.6523 | test_acc: 0.6504\n",
            "Epoch  40 | Loss: 210.04110646247864 | train_acc: 0.653 | test_acc: 0.6503\n",
            "Epoch  41 | Loss: 209.5008853673935 | train_acc: 0.6531666666666667 | test_acc: 0.6503\n",
            "Epoch  42 | Loss: 208.53317630290985 | train_acc: 0.6538833333333334 | test_acc: 0.6518\n",
            "Epoch  43 | Loss: 207.93275445699692 | train_acc: 0.6543666666666667 | test_acc: 0.6523\n",
            "Epoch  44 | Loss: 207.48171597719193 | train_acc: 0.6547666666666667 | test_acc: 0.6534\n",
            "Epoch  45 | Loss: 206.8635904788971 | train_acc: 0.6552666666666667 | test_acc: 0.6539\n",
            "Epoch  46 | Loss: 206.2551326751709 | train_acc: 0.65555 | test_acc: 0.6534\n",
            "Epoch  47 | Loss: 205.74616289138794 | train_acc: 0.6560166666666667 | test_acc: 0.6542\n",
            "Epoch  48 | Loss: 205.15212106704712 | train_acc: 0.6567166666666666 | test_acc: 0.655\n",
            "Epoch  49 | Loss: 204.607337474823 | train_acc: 0.6570333333333334 | test_acc: 0.655\n",
            "Epoch  50 | Loss: 204.112231194973 | train_acc: 0.6576833333333333 | test_acc: 0.6554\n",
            "Epoch  51 | Loss: 203.5292147397995 | train_acc: 0.6578333333333334 | test_acc: 0.6553\n",
            "Epoch  52 | Loss: 203.0094012618065 | train_acc: 0.6584333333333333 | test_acc: 0.6556\n",
            "Epoch  53 | Loss: 202.49759429693222 | train_acc: 0.6587166666666666 | test_acc: 0.6561\n",
            "Epoch  54 | Loss: 202.1167871952057 | train_acc: 0.65875 | test_acc: 0.6564\n",
            "Epoch  55 | Loss: 201.6279576420784 | train_acc: 0.65955 | test_acc: 0.6575\n",
            "Epoch  56 | Loss: 201.25297892093658 | train_acc: 0.6597166666666666 | test_acc: 0.6574\n",
            "Epoch  57 | Loss: 200.78380835056305 | train_acc: 0.6603166666666667 | test_acc: 0.6576\n",
            "Epoch  58 | Loss: 200.40472221374512 | train_acc: 0.661 | test_acc: 0.6583\n",
            "Epoch  59 | Loss: 199.80605149269104 | train_acc: 0.6609333333333334 | test_acc: 0.6585\n",
            "Epoch  60 | Loss: 199.50382632017136 | train_acc: 0.6613166666666667 | test_acc: 0.6592\n",
            "Epoch  61 | Loss: 199.03243136405945 | train_acc: 0.6620833333333334 | test_acc: 0.6589\n",
            "Epoch  62 | Loss: 198.71842974424362 | train_acc: 0.6619166666666667 | test_acc: 0.6594\n",
            "Epoch  63 | Loss: 198.3597874045372 | train_acc: 0.6629 | test_acc: 0.6596\n",
            "Epoch  64 | Loss: 197.9482102394104 | train_acc: 0.66285 | test_acc: 0.6596\n",
            "Epoch  65 | Loss: 197.4796021580696 | train_acc: 0.6634 | test_acc: 0.6596\n",
            "Epoch  66 | Loss: 197.2175064086914 | train_acc: 0.66415 | test_acc: 0.6608\n",
            "Epoch  67 | Loss: 196.8613748550415 | train_acc: 0.66415 | test_acc: 0.6608\n",
            "Epoch  68 | Loss: 196.57725185155869 | train_acc: 0.66445 | test_acc: 0.6615\n",
            "Epoch  69 | Loss: 196.1129331588745 | train_acc: 0.6649 | test_acc: 0.6616\n",
            "Epoch  70 | Loss: 195.71210676431656 | train_acc: 0.6651666666666667 | test_acc: 0.6622\n",
            "Epoch  71 | Loss: 195.51947927474976 | train_acc: 0.6656333333333333 | test_acc: 0.6625\n",
            "Epoch  72 | Loss: 195.2822458744049 | train_acc: 0.66565 | test_acc: 0.6624\n",
            "Epoch  73 | Loss: 194.96534824371338 | train_acc: 0.6663166666666667 | test_acc: 0.6627\n",
            "Epoch  74 | Loss: 194.54916888475418 | train_acc: 0.6663833333333333 | test_acc: 0.663\n",
            "Epoch  75 | Loss: 194.18069356679916 | train_acc: 0.6665166666666666 | test_acc: 0.6626\n",
            "Epoch  76 | Loss: 193.99076396226883 | train_acc: 0.6670333333333334 | test_acc: 0.6639\n",
            "Epoch  77 | Loss: 193.71255618333817 | train_acc: 0.6672666666666667 | test_acc: 0.6639\n",
            "Epoch  78 | Loss: 193.34410333633423 | train_acc: 0.6675 | test_acc: 0.6636\n",
            "Epoch  79 | Loss: 193.17744028568268 | train_acc: 0.6678833333333334 | test_acc: 0.6639\n",
            "Epoch  80 | Loss: 192.80876219272614 | train_acc: 0.66785 | test_acc: 0.6641\n",
            "Epoch  81 | Loss: 192.48590970039368 | train_acc: 0.6680833333333334 | test_acc: 0.6643\n",
            "Epoch  82 | Loss: 192.4414911866188 | train_acc: 0.66835 | test_acc: 0.6642\n",
            "Epoch  83 | Loss: 192.1177151799202 | train_acc: 0.6687 | test_acc: 0.665\n",
            "Epoch  84 | Loss: 191.94327360391617 | train_acc: 0.669 | test_acc: 0.6651\n",
            "Epoch  85 | Loss: 191.4568298459053 | train_acc: 0.6689333333333334 | test_acc: 0.6656\n",
            "Epoch  86 | Loss: 191.44853174686432 | train_acc: 0.6693166666666667 | test_acc: 0.6651\n",
            "Epoch  87 | Loss: 191.05092924833298 | train_acc: 0.6695 | test_acc: 0.6653\n",
            "Epoch  88 | Loss: 190.95655179023743 | train_acc: 0.6695666666666666 | test_acc: 0.6656\n",
            "Epoch  89 | Loss: 190.57013952732086 | train_acc: 0.6696666666666666 | test_acc: 0.6656\n",
            "Epoch  90 | Loss: 190.40039747953415 | train_acc: 0.6701333333333334 | test_acc: 0.6657\n",
            "Epoch  91 | Loss: 190.20503550767899 | train_acc: 0.6702333333333333 | test_acc: 0.6658\n",
            "Epoch  92 | Loss: 189.99165618419647 | train_acc: 0.6704833333333333 | test_acc: 0.6656\n",
            "Epoch  93 | Loss: 189.79220312833786 | train_acc: 0.6706 | test_acc: 0.6661\n",
            "Epoch  94 | Loss: 189.56953608989716 | train_acc: 0.6707166666666666 | test_acc: 0.666\n",
            "Epoch  95 | Loss: 189.2977670431137 | train_acc: 0.6709333333333334 | test_acc: 0.6663\n",
            "Epoch  96 | Loss: 189.1365218758583 | train_acc: 0.6709666666666667 | test_acc: 0.6661\n",
            "Epoch  97 | Loss: 189.0245260000229 | train_acc: 0.67095 | test_acc: 0.6665\n",
            "Epoch  98 | Loss: 188.7742581963539 | train_acc: 0.6714 | test_acc: 0.6666\n",
            "Epoch  99 | Loss: 188.57390666007996 | train_acc: 0.6714666666666667 | test_acc: 0.6667\n"
          ]
        }
      ]
    },
    {
      "cell_type": "markdown",
      "source": [
        "출력 결과를 보면 잘 수렴하는 것을 볼 수 있습니다.\n",
        "이전 구현과 다른 점은 다음 두 가지입니다.\n",
        "- `for data in trainloader`를 통해 batch들을 iterate하면서 model을 학습합니다.\n",
        "- `inputs, labels = inputs.to('cuda'), labels.to('cuda')`를 통해 model의 입력으로 들어가는 tensor들을 GPU로 보냅니다.\n",
        "\n",
        "마지막으로 첫 번째 data에 대한 예측 결과를 살펴봅시다."
      ],
      "metadata": {
        "id": "YRDcptrqniX7"
      }
    },
    {
      "cell_type": "markdown",
      "source": [
        "##[FEEDBACK] 모델 배포한 상태 및 예측값을  볼수가 있습니다."
      ],
      "metadata": {
        "id": "gx2H7WNdPiJj"
      }
    },
    {
      "cell_type": "code",
      "source": [
        "idx = 61\n",
        "\n",
        "x = trainset[idx][0][None]  # (1, 1, 28, 28)\n",
        "x = x.to(device)\n",
        "\n",
        "logits = model(x)\n",
        "\n",
        "print(logits)\n",
        "print(\"오리지널 데이터:\",trainset[idx][1])\n",
        "predicted_class = torch.argmax(logits, dim=1).item()\n",
        "print(\"모델추출 데이터: \",predicted_class)\n"
      ],
      "metadata": {
        "id": "Zct0ssSKwjt1",
        "colab": {
          "base_uri": "https://localhost:8080/"
        },
        "outputId": "3d22ce55-ce54-43d0-9115-085e19103d21"
      },
      "execution_count": null,
      "outputs": [
        {
          "output_type": "stream",
          "name": "stdout",
          "text": [
            "tensor([[0., 0., 0., 0., 0., 0., 0., 0., 0., 0.]], grad_fn=<ReluBackward0>)\n",
            "오리지널 데이터: 4\n",
            "모델추출 데이터:  0\n"
          ]
        }
      ]
    },
    {
      "cell_type": "markdown",
      "source": [
        "여기서 idx를 조정하여 다른 data에 대한 출력 결과도 볼 수 있습니다.\n",
        "예측 결과를 보시면 아직 성능이 그렇게 좋지 않은 것을 알 수 있습니다."
      ],
      "metadata": {
        "id": "qzgSOrMsoZ2z"
      }
    },
    {
      "cell_type": "markdown",
      "source": [],
      "metadata": {
        "id": "xUfwMlrtWMWH"
      }
    },
    {
      "cell_type": "code",
      "source": [
        "def plot_acc(train_accs, test_accs, label1='train', label2='test'):\n",
        "  x = np.arange(len(train_accs))\n",
        "\n",
        "  plt.plot(x, train_accs, label=label1)\n",
        "  plt.plot(x, test_accs, label=label2)\n",
        "  plt.legend()\n",
        "  plt.show()"
      ],
      "metadata": {
        "id": "d72Gh72WSSfT"
      },
      "execution_count": null,
      "outputs": []
    },
    {
      "cell_type": "markdown",
      "source": [
        "##[FEEDBACK]\n",
        "정확율이 65퍼센트 가까이 입니다.  성능이 그렇게 좋게 나오지가 않았습니다.\n",
        "테스트 Accuracy 가  Train 결과보다 뒤단에 가서 조금 낮게 나왔습니다.처음 training 을 할때 Accuracy가 90% 이상이 나왔었는데, 다시 하니깐 왜서 65 정도밖에 나오니 않는지 날 이해가 않됩니다."
      ],
      "metadata": {
        "id": "BU-k7vHeV9Zw"
      }
    },
    {
      "cell_type": "code",
      "source": [
        "# Epoch에 따른 train과 test data에 대한 model의 정확도를 plot합니다\n",
        "plot_acc(train_accs, test_accs, label1='Train Accuracy', label2='Test Accuracy')"
      ],
      "metadata": {
        "colab": {
          "base_uri": "https://localhost:8080/",
          "height": 430
        },
        "id": "1m1fVKknT9VZ",
        "outputId": "ab703a98-3a5e-4907-fe8c-126ec584a57a"
      },
      "execution_count": null,
      "outputs": [
        {
          "output_type": "display_data",
          "data": {
            "text/plain": [
              "<Figure size 640x480 with 1 Axes>"
            ],
            "image/png": "[encoded data removed]"
          },
          "metadata": {}
        }
      ]
    }
  ]
}