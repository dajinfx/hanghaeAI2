{
  "cells": [
    {
      "cell_type": "markdown",
      "metadata": {
        "id": "OPJenlrhihrh"
      },
      "source": [
        "# MNIST 실습\n",
        "\n",
        "이번에는 28x28 흑백 손글씨 이미지를 보고 0~9 사이의 숫자 중 어떤 숫자를 쓴 것인지 예측하는 문제를 실습합니다.\n",
        "이번 실습에서는 GPU를 활용할 것이기 때문에, 이전 챕터에서 Colab에서 GPU를 설정하는 방법을 따라해주시길 바랍니다.\n",
        "\n",
        "GPU를 설정했으면 library들을 import합니다."
      ]
    },
    {
      "cell_type": "markdown",
      "source": [
        "##[Feedback]\n",
        "심화과제라서 데이터셋이 CIFAR10 바뀌지고, 다음번 강의가 CNN을 넘기고\n",
        "바로 RNN 으로 간다고 들어서,  ANN 대신 CNN 으로 구현을 해보려고 했습니다.  "
      ],
      "metadata": {
        "id": "zxZ_kJx58341"
      }
    },
    {
      "cell_type": "code",
      "execution_count": 1,
      "metadata": {
        "id": "6lXVfXoDtoQh"
      },
      "outputs": [],
      "source": [
        "import torch\n",
        "import torchvision\n",
        "import torchvision.transforms as transforms\n",
        "from matplotlib import pyplot as plt\n",
        "from torch import nn\n",
        "from torch.optim import SGD\n",
        "import numpy as np"
      ]
    },
    {
      "cell_type": "markdown",
      "metadata": {
        "id": "pF-1zQvmiult"
      },
      "source": [
        "#[Feedback]\n",
        "저의 환경 세팅의 GPU 문제가 있어 해결이 되지 않아 cpu를 쓰게 되였습니다. 환경문제 별도로 문의드리겠습니다."
      ]
    },
    {
      "cell_type": "code",
      "execution_count": 2,
      "metadata": {
        "colab": {
          "base_uri": "https://localhost:8080/"
        },
        "id": "B7TxFte-WnXQ",
        "outputId": "29c5b5d9-78e8-472a-82d8-7a08e78ce06d"
      },
      "outputs": [
        {
          "output_type": "stream",
          "name": "stdout",
          "text": [
            "cuda\n"
          ]
        }
      ],
      "source": [
        "device = torch.device(\"cuda\" if torch.cuda.is_available() else \"cpu\")\n",
        "print(device)"
      ]
    },
    {
      "cell_type": "code",
      "execution_count": 3,
      "metadata": {
        "colab": {
          "base_uri": "https://localhost:8080/"
        },
        "id": "KAYlqPaRt6ti",
        "outputId": "1922bd30-4b07-4244-b88b-bd8b31ce32e6"
      },
      "outputs": [
        {
          "output_type": "stream",
          "name": "stdout",
          "text": [
            "Downloading https://www.cs.toronto.edu/~kriz/cifar-10-python.tar.gz to ./data/cifar-10-python.tar.gz\n"
          ]
        },
        {
          "output_type": "stream",
          "name": "stderr",
          "text": [
            "100%|██████████| 170M/170M [00:08<00:00, 20.6MB/s]\n"
          ]
        },
        {
          "output_type": "stream",
          "name": "stdout",
          "text": [
            "Extracting ./data/cifar-10-python.tar.gz to ./data\n",
            "Files already downloaded and verified\n"
          ]
        }
      ],
      "source": [
        "transform = transforms.Compose([\n",
        "    transforms.ToTensor(),\n",
        "    transforms.Normalize((0.5, 0.5, 0.5), (0.5, 0.5, 0.5))\n",
        "])\n",
        "\n",
        "trainset = torchvision.datasets.CIFAR10(root='./data',train=True,download=True,transform=transform)\n",
        "testset = torchvision.datasets.CIFAR10(root='./data', train=False, download=True, transform=transform)"
      ]
    },
    {
      "cell_type": "markdown",
      "metadata": {
        "id": "yvGTdcXRKHdw"
      },
      "source": [
        "[Feedback]\n",
        "어떤 데이터셋인지 이미지를 확인해보았습니다."
      ]
    },
    {
      "cell_type": "code",
      "execution_count": 4,
      "metadata": {
        "colab": {
          "base_uri": "https://localhost:8080/",
          "height": 485
        },
        "id": "Zsp3sHmojyhT",
        "outputId": "ba56aa79-c104-46bf-bc50-787b35ac219f"
      },
      "outputs": [
        {
          "output_type": "stream",
          "name": "stdout",
          "text": [
            "50000\n",
            "torch.Size([3, 32, 32]) 6\n"
          ]
        },
        {
          "output_type": "execute_result",
          "data": {
            "text/plain": [
              "<matplotlib.image.AxesImage at 0x7df3794a2b60>"
            ]
          },
          "metadata": {},
          "execution_count": 4
        },
        {
          "output_type": "display_data",
          "data": {
            "text/plain": [
              "<Figure size 640x480 with 1 Axes>"
            ],
            "image/png": "[encoded data removed]"
          },
          "metadata": {}
        }
      ],
      "source": [
        "from matplotlib import pyplot as plt\n",
        "print(len(trainset))\n",
        "print(trainset[0][0].shape, trainset[0][1])\n",
        "plt.imshow(trainset[20][0][0], cmap='gray')"
      ]
    },
    {
      "cell_type": "code",
      "execution_count": 5,
      "metadata": {
        "id": "UxKu3kA2i5WH"
      },
      "outputs": [],
      "source": [
        "batch_size = 256\n",
        "\n",
        "trainloader = torch.utils.data.DataLoader(trainset,batch_size=batch_size,shuffle=True)\n",
        "testloader = torch.utils.data.DataLoader(testset, batch_size=batch_size, shuffle=False)"
      ]
    },
    {
      "cell_type": "markdown",
      "metadata": {
        "id": "z4Qyrm4WlzWt"
      },
      "source": [
        "PyTorch에서는 `DataLoader`가 dataset을 인자로 받아 batch로 나눠줍니다.\n",
        "부가적으로 `batch_size`라는 인자를 통해 batch size를 받고 있으며, `shuffle`이라는 인자를 통해 data들을 섞을지 결정해줍니다.\n",
        "우리는 SGD가 완전 랜덤으로 batch를 구성해야 잘 동작하는 것을 알고 있기 때문에 `shuffle`에 `True`를 넘겨주고 있습니다.\n",
        "\n",
        "다음은 첫 번째 batch를 출력한 모습입니다."
      ]
    },
    {
      "cell_type": "code",
      "execution_count": 6,
      "metadata": {
        "colab": {
          "base_uri": "https://localhost:8080/"
        },
        "id": "_Hd7XxyAvVNz",
        "outputId": "ba6e78c4-e3f7-439a-a72f-18242cdba22c"
      },
      "outputs": [
        {
          "output_type": "stream",
          "name": "stdout",
          "text": [
            "torch.Size([256, 3, 32, 32]) torch.Size([256])\n"
          ]
        }
      ],
      "source": [
        "dataiter = iter(trainloader)\n",
        "images, labels = next(dataiter)\n",
        "print(images.shape, labels.shape)"
      ]
    },
    {
      "cell_type": "markdown",
      "metadata": {
        "id": "h0ZY5mDimRUK"
      },
      "source": [
        "`images`는 첫 번째 batch의 image들이고 `labels`는 첫 번째 batch의 label들입니다.\n",
        "위에서 batch size를 64로 설정했기 때문에 총 64개의 image와 label들이 있어야 합니다.\n",
        "실제 shape 출력 결과를 보면 그렇다는 것을 알 수 있습니다.\n",
        "\n",
        "다음은 (n, 1, 28, 28) shape의 image를 입력받아 0~9 사이의 정수 하나를 출력하는 3-layer MLP를 구현합니다."
      ]
    },
    {
      "cell_type": "code",
      "execution_count": 20,
      "metadata": {
        "id": "OLOA-ZGTuVVG",
        "colab": {
          "base_uri": "https://localhost:8080/"
        },
        "outputId": "cf64a56d-3997-4f48-b5d0-2e1b012cd00f"
      },
      "outputs": [
        {
          "output_type": "stream",
          "name": "stdout",
          "text": [
            "act_type: Leaky_Relu\n"
          ]
        }
      ],
      "source": [
        "from torch import nn\n",
        "\n",
        "class SimpleCNN(nn.Module):\n",
        "     def __init__(self, act_type):\n",
        "        super(SimpleCNN, self).__init__()\n",
        "        self.conv1 = nn.Conv2d(3, 32, 3, padding=1)\n",
        "        self.pool = nn.MaxPool2d(2, 2)\n",
        "        self.conv2 = nn.Conv2d(32, 64, 3, padding=1)\n",
        "        self.dropout = nn.Dropout(0.1)\n",
        "        self.fc1 = nn.Linear(64 * 8 * 8, 512)\n",
        "        self.fc2 = nn.Linear(512, 10)\n",
        "        self.act_type = act_type\n",
        "\n",
        "        print(\"act_type:\",act_type)\n",
        "     def forward(self, x):\n",
        "\n",
        "        # Layer 1 tensor + activation + pool\n",
        "        x = self.conv1(x)\n",
        "        if self.act_type == \"Sigmoid\":\n",
        "            x = torch.sigmoid(x)\n",
        "        elif self.act_type == \"Leaky_Relu\":\n",
        "            x = torch.nn.functional.leaky_relu(x, negative_slope=0.01)\n",
        "            x = self.dropout(x)\n",
        "        x = self.pool(x)\n",
        "\n",
        "        # Layer 2 tensor + activation + pool\n",
        "        x = self.conv2(x)\n",
        "        if self.act_type == \"Sigmoid\":\n",
        "            x = torch.sigmoid(x)\n",
        "        elif self.act_type == \"Leaky_Relu\":\n",
        "            x = torch.nn.functional.leaky_relu(x, negative_slope=0.01)\n",
        "            x = self.dropout(x)\n",
        "        x = self.pool(x)\n",
        "\n",
        "        # Full connection\n",
        "        x = x.view(x.size(0), -1)\n",
        "        x = self.fc1(x)\n",
        "        if self.act_type == \"Sigmoid\":\n",
        "            x = torch.sigmoid(x)\n",
        "        elif self.act_type == \"Leaky_Relu\":\n",
        "            x = torch.nn.functional.leaky_relu(x, negative_slope=0.01)\n",
        "            x = self.dropout(x)\n",
        "\n",
        "        # outlayer\n",
        "        x = self.fc2(x)\n",
        "        if self.act_type == \"Sigmoid\":\n",
        "            x = torch.sigmoid(x)\n",
        "        return x\n",
        "\n",
        "model = SimpleCNN(\"Leaky_Relu\") # 모델 초기화"
      ]
    },
    {
      "cell_type": "markdown",
      "metadata": {
        "id": "xfY39uIQXqfe"
      },
      "source": [
        "##[My Code] Adam 은 momentum 변수가 없다고 하고 SGD는 필요하다고 배웠습니다."
      ]
    },
    {
      "cell_type": "code",
      "execution_count": 8,
      "metadata": {
        "id": "sqaUyFhFWcYF"
      },
      "outputs": [],
      "source": [
        "from torch.optim import SGD\n",
        "from torch.optim import Adam\n",
        "import torch.nn.functional as F\n",
        "lr = 0.001"
      ]
    },
    {
      "cell_type": "markdown",
      "metadata": {
        "id": "5PooeOKMnRfZ"
      },
      "source": [
        "이전 코드와 거의 똑같습니다. 다른 점은 `model.to('cuda')` 코드를 통해 우리가 구현한 model을 GPU로 옮긴 것입니다.\n",
        "MNIST 부터는 모델과 data가 커지면서 훨씬 많은 행렬 연산이 이루어지기 때문에 GPU를 활용하는 것이 빠릅니다.\n",
        "\n",
        "다음은 model을 MNIST에 학습하는 코드입니다."
      ]
    },
    {
      "cell_type": "code",
      "execution_count": 9,
      "metadata": {
        "id": "1R_iV8eFnQjj"
      },
      "outputs": [],
      "source": [
        "def accuracy(model, dataloader):\n",
        "  cnt = 0\n",
        "  acc = 0\n",
        "\n",
        "  for data in dataloader:\n",
        "    inputs, labels = data\n",
        "    inputs, labels = inputs.to(device), labels.to(device)\n",
        "\n",
        "    preds = model(inputs)\n",
        "    preds = torch.argmax(preds, dim=-1)\n",
        "\n",
        "    cnt += labels.shape[0]\n",
        "    acc += (labels == preds).sum().item()\n",
        "\n",
        "  return acc / cnt"
      ]
    },
    {
      "cell_type": "code",
      "execution_count": 21,
      "metadata": {
        "id": "J9rFqSmXWYc-"
      },
      "outputs": [],
      "source": [
        "def training(n_epochs,active_type, optimizer_type):\n",
        "  model = SimpleCNN(optimizer_type)\n",
        "  model = model.to(device)\n",
        "  print(optimizer_type,\" training:\")\n",
        "  optimizer = None;\n",
        "  if   optimizer_type == \"Adam\":\n",
        "    optimizer = Adam(model.parameters(), lr=lr)\n",
        "  elif optimizer_type == \"SGD\":\n",
        "    optimizer = SGD(model.parameters(), lr=lr, momentum=0.9)\n",
        "\n",
        "  train_accs = []\n",
        "  test_accs  = []\n",
        "\n",
        "  criterion = None\n",
        "  for epoch in range(n_epochs):\n",
        "    total_loss = 0.\n",
        "    model.train()\n",
        "    for data in trainloader:\n",
        "      #model.zero_grad()\n",
        "      optimizer.zero_grad()\n",
        "      inputs, labels = data\n",
        "\n",
        "      if active_type == \"Sigmoid\":\n",
        "        labels = F.one_hot(labels, num_classes=10).float()  #\n",
        "        criterion = nn.BCELoss()\n",
        "      elif active_type == \"Leaky_Relu\":\n",
        "        criterion = nn.CrossEntropyLoss()\n",
        "      inputs, labels = inputs.to(device), labels.to(device)\n",
        "\n",
        "      preds = model(inputs)\n",
        "      #loss = (preds[:, 0] - labels).pow(2).mean()\n",
        "      loss = criterion(preds, labels)\n",
        "\n",
        "      loss.backward()\n",
        "      optimizer.step()\n",
        "\n",
        "      total_loss += loss.item()\n",
        "    model.eval()\n",
        "    train_acc = accuracy(model, trainloader)\n",
        "    test_acc = accuracy(model, testloader)\n",
        "\n",
        "    train_accs.append(train_acc)\n",
        "    test_accs.append(test_acc)\n",
        "\n",
        "    print(f\"Epoch {epoch:3d} | Loss: {total_loss} | train_acc: {train_acc} | test_acc: {test_acc}\"  )\n",
        "\n",
        "  return train_accs,test_accs"
      ]
    },
    {
      "cell_type": "code",
      "execution_count": 11,
      "metadata": {
        "colab": {
          "base_uri": "https://localhost:8080/"
        },
        "id": "GIS8-hdHYFLA",
        "outputId": "feb72c3f-53d9-4d27-8e88-b4870bf89541"
      },
      "outputs": [
        {
          "output_type": "stream",
          "name": "stdout",
          "text": [
            "act_type: Leaky_Relu\n",
            "Adam  training:\n",
            "Epoch   0 | Loss: 285.15394401550293 | train_acc: 0.59392 | test_acc: 0.5816\n",
            "Epoch   1 | Loss: 209.1951104402542 | train_acc: 0.67264 | test_acc: 0.6426\n",
            "Epoch   2 | Loss: 176.42260098457336 | train_acc: 0.73506 | test_acc: 0.6879\n",
            "Epoch   3 | Loss: 150.6875188946724 | train_acc: 0.78196 | test_acc: 0.7073\n",
            "Epoch   4 | Loss: 130.15644413232803 | train_acc: 0.82024 | test_acc: 0.7183\n",
            "Epoch   5 | Loss: 110.67836943268776 | train_acc: 0.84032 | test_acc: 0.7096\n",
            "Epoch   6 | Loss: 93.24347242712975 | train_acc: 0.88746 | test_acc: 0.7327\n",
            "Epoch   7 | Loss: 75.34337252378464 | train_acc: 0.91176 | test_acc: 0.7285\n",
            "Epoch   8 | Loss: 58.5378131121397 | train_acc: 0.94534 | test_acc: 0.735\n",
            "Epoch   9 | Loss: 45.34402999281883 | train_acc: 0.96512 | test_acc: 0.7309\n",
            "Epoch  10 | Loss: 34.58346372842789 | train_acc: 0.98268 | test_acc: 0.744\n",
            "Epoch  11 | Loss: 26.846074037253857 | train_acc: 0.98494 | test_acc: 0.7342\n",
            "Epoch  12 | Loss: 20.980075128376484 | train_acc: 0.98952 | test_acc: 0.7369\n",
            "Epoch  13 | Loss: 18.061103340238333 | train_acc: 0.99486 | test_acc: 0.7346\n",
            "Epoch  14 | Loss: 14.813062455505133 | train_acc: 0.99568 | test_acc: 0.7396\n",
            "Epoch  15 | Loss: 12.630203885957599 | train_acc: 0.99672 | test_acc: 0.7403\n",
            "Epoch  16 | Loss: 11.77063873782754 | train_acc: 0.99326 | test_acc: 0.7345\n",
            "Epoch  17 | Loss: 11.346153736114502 | train_acc: 0.99504 | test_acc: 0.7385\n",
            "Epoch  18 | Loss: 9.46250980347395 | train_acc: 0.99796 | test_acc: 0.7397\n",
            "Epoch  19 | Loss: 10.538555907085538 | train_acc: 0.9961 | test_acc: 0.7365\n",
            "Epoch  20 | Loss: 8.939638523384929 | train_acc: 0.99642 | test_acc: 0.7344\n",
            "Epoch  21 | Loss: 9.059046983718872 | train_acc: 0.9979 | test_acc: 0.7407\n",
            "Epoch  22 | Loss: 8.239514324814081 | train_acc: 0.99786 | test_acc: 0.7415\n",
            "Epoch  23 | Loss: 8.731973461806774 | train_acc: 0.99814 | test_acc: 0.74\n",
            "Epoch  24 | Loss: 8.257817775011063 | train_acc: 0.99792 | test_acc: 0.7358\n",
            "Epoch  25 | Loss: 7.272267923690379 | train_acc: 0.99756 | test_acc: 0.7377\n",
            "Epoch  26 | Loss: 7.985188802704215 | train_acc: 0.99538 | test_acc: 0.7313\n",
            "Epoch  27 | Loss: 6.950783526990563 | train_acc: 0.9987 | test_acc: 0.7423\n",
            "Epoch  28 | Loss: 6.200631958432496 | train_acc: 0.99744 | test_acc: 0.7317\n",
            "Epoch  29 | Loss: 7.3837996404618025 | train_acc: 0.99856 | test_acc: 0.7373\n",
            "Epoch  30 | Loss: 6.213604527525604 | train_acc: 0.99756 | test_acc: 0.7341\n",
            "Epoch  31 | Loss: 6.796454506460577 | train_acc: 0.99684 | test_acc: 0.731\n",
            "Epoch  32 | Loss: 6.3180050533264875 | train_acc: 0.9983 | test_acc: 0.7411\n",
            "Epoch  33 | Loss: 5.771222752053291 | train_acc: 0.99822 | test_acc: 0.738\n",
            "Epoch  34 | Loss: 6.517484436975792 | train_acc: 0.9967 | test_acc: 0.7325\n",
            "Epoch  35 | Loss: 6.95234940899536 | train_acc: 0.9984 | test_acc: 0.7295\n",
            "Epoch  36 | Loss: 6.055794548243284 | train_acc: 0.9984 | test_acc: 0.7281\n",
            "Epoch  37 | Loss: 5.504489432089031 | train_acc: 0.99896 | test_acc: 0.7323\n",
            "Epoch  38 | Loss: 5.547601260710508 | train_acc: 0.99736 | test_acc: 0.7323\n",
            "Epoch  39 | Loss: 5.863415813073516 | train_acc: 0.99804 | test_acc: 0.7341\n",
            "Epoch  40 | Loss: 5.041124398354441 | train_acc: 0.99832 | test_acc: 0.7356\n",
            "Epoch  41 | Loss: 5.493977202102542 | train_acc: 0.99848 | test_acc: 0.7309\n",
            "Epoch  42 | Loss: 4.95676898653619 | train_acc: 0.99872 | test_acc: 0.7411\n",
            "Epoch  43 | Loss: 5.265486451098695 | train_acc: 0.99834 | test_acc: 0.7367\n",
            "Epoch  44 | Loss: 4.782293068477884 | train_acc: 0.99828 | test_acc: 0.7351\n",
            "Epoch  45 | Loss: 4.8667100087041035 | train_acc: 0.99844 | test_acc: 0.7297\n",
            "Epoch  46 | Loss: 4.9995050970464945 | train_acc: 0.99914 | test_acc: 0.7345\n",
            "Epoch  47 | Loss: 5.012454309035093 | train_acc: 0.9984 | test_acc: 0.732\n",
            "Epoch  48 | Loss: 5.127530788071454 | train_acc: 0.99888 | test_acc: 0.7357\n",
            "Epoch  49 | Loss: 4.30074652004987 | train_acc: 0.99906 | test_acc: 0.735\n"
          ]
        }
      ],
      "source": [
        "train_accs_Adam,test_accs_Adam =  training(50,\"Leaky_Relu\", \"Adam\")"
      ]
    },
    {
      "cell_type": "code",
      "source": [
        "Model_Relu_Adam = model"
      ],
      "metadata": {
        "id": "RAlIxrxzFeyq"
      },
      "execution_count": null,
      "outputs": []
    },
    {
      "cell_type": "code",
      "execution_count": 12,
      "metadata": {
        "id": "Eg5_ulo3RoVw"
      },
      "outputs": [],
      "source": [
        "def plot_acc(train_accs, test_accs, label1='train', label2='test'):\n",
        "  x = np.arange(len(train_accs))\n",
        "\n",
        "  plt.plot(x, train_accs, label=label1)\n",
        "  plt.plot(x, test_accs, label=label2)\n",
        "  plt.legend()\n",
        "  plt.show()"
      ]
    },
    {
      "cell_type": "code",
      "execution_count": 13,
      "metadata": {
        "colab": {
          "base_uri": "https://localhost:8080/",
          "height": 430
        },
        "id": "1m1fVKknT9VZ",
        "outputId": "14bb3e2b-7526-4278-eb73-b331f9598dd2"
      },
      "outputs": [
        {
          "output_type": "display_data",
          "data": {
            "text/plain": [
              "<Figure size 640x480 with 1 Axes>"
            ],
            "image/png": "[encoded data removed]"
          },
          "metadata": {}
        }
      ],
      "source": [
        "# Epoch에 따른 train과 test data에 대한 model의 정확도를 plot합니다\n",
        "plot_acc(train_accs_Adam, test_accs_Adam, label1='Train Accuracy', label2='Test Accuracy')"
      ]
    },
    {
      "cell_type": "code",
      "execution_count": 22,
      "metadata": {
        "colab": {
          "base_uri": "https://localhost:8080/"
        },
        "id": "BpJjmq-eZsgK",
        "outputId": "1d997fde-c988-429b-d7fa-dcf3fa7a49c1"
      },
      "outputs": [
        {
          "output_type": "stream",
          "name": "stdout",
          "text": [
            "act_type: SGD\n",
            "SGD  training:\n",
            "Epoch   0 | Loss: 415.4064246416092 | train_acc: 0.31846 | test_acc: 0.3227\n",
            "Epoch   1 | Loss: 369.00511717796326 | train_acc: 0.38142 | test_acc: 0.3855\n",
            "Epoch   2 | Loss: 343.72305560112 | train_acc: 0.41462 | test_acc: 0.4179\n",
            "Epoch   3 | Loss: 324.18776750564575 | train_acc: 0.4425 | test_acc: 0.443\n",
            "Epoch   4 | Loss: 310.86367189884186 | train_acc: 0.4596 | test_acc: 0.4575\n",
            "Epoch   5 | Loss: 300.9603761434555 | train_acc: 0.47674 | test_acc: 0.4718\n",
            "Epoch   6 | Loss: 292.6099590063095 | train_acc: 0.49116 | test_acc: 0.4906\n",
            "Epoch   7 | Loss: 285.2901884317398 | train_acc: 0.50192 | test_acc: 0.4988\n",
            "Epoch   8 | Loss: 278.15688705444336 | train_acc: 0.5095 | test_acc: 0.5064\n",
            "Epoch   9 | Loss: 271.24184930324554 | train_acc: 0.52454 | test_acc: 0.5174\n",
            "Epoch  10 | Loss: 265.69651079177856 | train_acc: 0.53856 | test_acc: 0.5317\n",
            "Epoch  11 | Loss: 260.20627772808075 | train_acc: 0.54224 | test_acc: 0.5377\n",
            "Epoch  12 | Loss: 255.28944420814514 | train_acc: 0.55524 | test_acc: 0.5497\n",
            "Epoch  13 | Loss: 250.27509212493896 | train_acc: 0.56222 | test_acc: 0.5536\n",
            "Epoch  14 | Loss: 246.5264345407486 | train_acc: 0.56982 | test_acc: 0.5623\n",
            "Epoch  15 | Loss: 241.98955953121185 | train_acc: 0.57824 | test_acc: 0.5613\n",
            "Epoch  16 | Loss: 237.76575303077698 | train_acc: 0.58606 | test_acc: 0.5731\n",
            "Epoch  17 | Loss: 233.97129464149475 | train_acc: 0.59704 | test_acc: 0.5823\n",
            "Epoch  18 | Loss: 230.26890563964844 | train_acc: 0.60152 | test_acc: 0.5825\n",
            "Epoch  19 | Loss: 226.80644541978836 | train_acc: 0.6081 | test_acc: 0.5896\n",
            "Epoch  20 | Loss: 223.28806453943253 | train_acc: 0.61522 | test_acc: 0.6005\n",
            "Epoch  21 | Loss: 219.96724569797516 | train_acc: 0.61726 | test_acc: 0.5991\n",
            "Epoch  22 | Loss: 216.71265029907227 | train_acc: 0.62776 | test_acc: 0.6082\n",
            "Epoch  23 | Loss: 214.0813853740692 | train_acc: 0.62886 | test_acc: 0.6107\n",
            "Epoch  24 | Loss: 211.51351231336594 | train_acc: 0.6354 | test_acc: 0.614\n",
            "Epoch  25 | Loss: 209.10406172275543 | train_acc: 0.63532 | test_acc: 0.6171\n",
            "Epoch  26 | Loss: 206.32767498493195 | train_acc: 0.64414 | test_acc: 0.6222\n",
            "Epoch  27 | Loss: 204.32682192325592 | train_acc: 0.63938 | test_acc: 0.6138\n",
            "Epoch  28 | Loss: 202.1302980184555 | train_acc: 0.6532 | test_acc: 0.6329\n",
            "Epoch  29 | Loss: 199.9034447669983 | train_acc: 0.65756 | test_acc: 0.631\n",
            "Epoch  30 | Loss: 197.35849195718765 | train_acc: 0.65938 | test_acc: 0.6311\n",
            "Epoch  31 | Loss: 195.50412958860397 | train_acc: 0.66346 | test_acc: 0.6368\n",
            "Epoch  32 | Loss: 193.61984366178513 | train_acc: 0.665 | test_acc: 0.6367\n",
            "Epoch  33 | Loss: 192.0396209359169 | train_acc: 0.66888 | test_acc: 0.6388\n",
            "Epoch  34 | Loss: 190.07023185491562 | train_acc: 0.67018 | test_acc: 0.6431\n",
            "Epoch  35 | Loss: 188.3209090232849 | train_acc: 0.6682 | test_acc: 0.6349\n",
            "Epoch  36 | Loss: 187.08270186185837 | train_acc: 0.68036 | test_acc: 0.6477\n",
            "Epoch  37 | Loss: 184.71235156059265 | train_acc: 0.67906 | test_acc: 0.6448\n",
            "Epoch  38 | Loss: 183.491416990757 | train_acc: 0.68616 | test_acc: 0.653\n",
            "Epoch  39 | Loss: 181.45865589380264 | train_acc: 0.68412 | test_acc: 0.6513\n",
            "Epoch  40 | Loss: 179.9505494236946 | train_acc: 0.68392 | test_acc: 0.6528\n",
            "Epoch  41 | Loss: 179.5780692100525 | train_acc: 0.6886 | test_acc: 0.6515\n",
            "Epoch  42 | Loss: 177.45856314897537 | train_acc: 0.6951 | test_acc: 0.6562\n",
            "Epoch  43 | Loss: 175.66118901968002 | train_acc: 0.69946 | test_acc: 0.6627\n",
            "Epoch  44 | Loss: 174.2708923816681 | train_acc: 0.69624 | test_acc: 0.6563\n",
            "Epoch  45 | Loss: 173.7519447207451 | train_acc: 0.702 | test_acc: 0.6593\n",
            "Epoch  46 | Loss: 171.95663064718246 | train_acc: 0.7054 | test_acc: 0.6629\n",
            "Epoch  47 | Loss: 171.38466238975525 | train_acc: 0.70622 | test_acc: 0.6577\n",
            "Epoch  48 | Loss: 169.75520259141922 | train_acc: 0.70836 | test_acc: 0.657\n",
            "Epoch  49 | Loss: 168.48771554231644 | train_acc: 0.70744 | test_acc: 0.6578\n"
          ]
        }
      ],
      "source": [
        "train_accs_SGD,test_accs_SGD =  training(50,\"Leaky_Relu\", \"SGD\")"
      ]
    },
    {
      "cell_type": "code",
      "source": [
        "Model_Relu_SGD = model"
      ],
      "metadata": {
        "id": "MUZrgSKkIa7g"
      },
      "execution_count": 24,
      "outputs": []
    },
    {
      "cell_type": "code",
      "execution_count": 23,
      "metadata": {
        "colab": {
          "base_uri": "https://localhost:8080/",
          "height": 430
        },
        "id": "5HmMkn8rClHV",
        "outputId": "05e0a64e-a587-4777-ffb5-57a2f815a8ef"
      },
      "outputs": [
        {
          "output_type": "display_data",
          "data": {
            "text/plain": [
              "<Figure size 640x480 with 1 Axes>"
            ],
            "image/png": "[encoded data removed]"
          },
          "metadata": {}
        }
      ],
      "source": [
        "plot_acc(train_accs_SGD, test_accs_SGD, label1='Train Accuracy', label2='Test Accuracy')"
      ]
    },
    {
      "cell_type": "code",
      "execution_count": null,
      "metadata": {
        "id": "cM0wPJciC5dL"
      },
      "outputs": [],
      "source": [
        "train_accs_SGD_Sigmoid,test_accs_SGD_Sigmoid =  training(50, \"Sigmoid\", \"SGD\")"
      ]
    },
    {
      "cell_type": "markdown",
      "metadata": {
        "id": "1lDZoFVbJPiI"
      },
      "source": [
        "##[FEEDBACK]"
      ]
    },
    {
      "cell_type": "markdown",
      "metadata": {
        "id": "YRDcptrqniX7"
      },
      "source": [
        "출력 결과를 보면 잘 수렴하는 것을 볼 수 있습니다.\n",
        "이전 구현과 다른 점은 다음 두 가지입니다.\n",
        "- `for data in trainloader`를 통해 batch들을 iterate하면서 model을 학습합니다.\n",
        "- `inputs, labels = inputs.to('cuda'), labels.to('cuda')`를 통해 model의 입력으로 들어가는 tensor들을 GPU로 보냅니다.\n",
        "\n",
        "마지막으로 첫 번째 data에 대한 예측 결과를 살펴봅시다."
      ]
    },
    {
      "cell_type": "markdown",
      "metadata": {
        "id": "gx2H7WNdPiJj"
      },
      "source": [
        "##[FEEDBACK] 모델 배포한 상태 및 예측값을  볼수가 있습니다."
      ]
    },
    {
      "cell_type": "code",
      "execution_count": 27,
      "metadata": {
        "id": "Zct0ssSKwjt1"
      },
      "outputs": [],
      "source": [
        "def lb_check(idx, Model):\n",
        "  x = trainset[idx][0][None]  # (1, 1, 28, 28)\n",
        "  x = x.to(device)\n",
        "\n",
        "  model = Model_Relu_SGD\n",
        "  logits = model(x)\n",
        "\n",
        "  print(logits)\n",
        "  print(\"오리지널 데이터:\",trainset[idx][1])\n",
        "  predicted_class = torch.argmax(logits, dim=1).item()\n",
        "  print(\"모델추출 데이터: \",predicted_class)\n",
        "\n",
        "  print(\"--------------------\")\n",
        "\n",
        "  print(len(trainset))\n",
        "  print(trainset[0][0].shape, trainset[0][1])\n",
        "  plt.imshow(trainset[idx][0][0], cmap='gray')\n",
        "\n",
        "  print(\"--------------------\")\n",
        "\n",
        "  def switch_label(index):\n",
        "      if index == 0:\n",
        "          return \"airplane\"\n",
        "      elif index == 1:\n",
        "          return \"automobile\"\n",
        "      elif index == 2:\n",
        "          return \"bird\"\n",
        "      elif index == 3:\n",
        "          return \"cat\"\n",
        "      elif index == 4:\n",
        "          return \"deer\"\n",
        "      elif index == 5:\n",
        "          return \"dog\"\n",
        "      elif index == 6:\n",
        "          return \"frog\"\n",
        "      elif index == 7:\n",
        "          return \"horse\"\n",
        "      elif index == 8:\n",
        "          return \"ship\"\n",
        "      elif index == 9:\n",
        "          return \"truck\"\n",
        "      else:\n",
        "          return \"Unknown\"\n",
        "\n",
        "  label_index = trainset[idx][1]\n",
        "  label_name = switch_label(label_index)\n",
        "\n",
        "  print(f\"index: {label_index}\")\n",
        "  print(f\"name: {label_name}\")\n"
      ]
    },
    {
      "cell_type": "code",
      "execution_count": 1,
      "metadata": {
        "colab": {
          "base_uri": "https://localhost:8080/",
          "height": 165
        },
        "id": "lzuMcYXTSCB7",
        "outputId": "c7b2d48e-97d2-4fd6-d0c0-411dbcc99589"
      },
      "outputs": [
        {
          "output_type": "error",
          "ename": "NameError",
          "evalue": "name 'Model_Relu_SGD' is not defined",
          "traceback": [
            "\u001b[0;31m---------------------------------------------------------------------------\u001b[0m",
            "\u001b[0;31mNameError\u001b[0m                                 Traceback (most recent call last)",
            "\u001b[0;32m<ipython-input-1-e50fe3fb23b9>\u001b[0m in \u001b[0;36m<cell line: 1>\u001b[0;34m()\u001b[0m\n\u001b[0;32m----> 1\u001b[0;31m \u001b[0mmodel\u001b[0m \u001b[0;34m=\u001b[0m \u001b[0mModel_Relu_SGD\u001b[0m\u001b[0;34m.\u001b[0m\u001b[0mto\u001b[0m\u001b[0;34m(\u001b[0m\u001b[0mdevice\u001b[0m\u001b[0;34m)\u001b[0m\u001b[0;34m\u001b[0m\u001b[0;34m\u001b[0m\u001b[0m\n\u001b[0m\u001b[1;32m      2\u001b[0m \u001b[0mlb_check\u001b[0m\u001b[0;34m(\u001b[0m\u001b[0;36m380\u001b[0m\u001b[0;34m,\u001b[0m\u001b[0mmodel\u001b[0m\u001b[0;34m)\u001b[0m\u001b[0;34m\u001b[0m\u001b[0;34m\u001b[0m\u001b[0m\n",
            "\u001b[0;31mNameError\u001b[0m: name 'Model_Relu_SGD' is not defined"
          ]
        }
      ],
      "source": [
        "model = Model_Relu_SGD.to(device)\n",
        "lb_check(380,model)"
      ]
    },
    {
      "cell_type": "markdown",
      "metadata": {
        "id": "vcQ0N7P-PY5Z"
      },
      "source": []
    },
    {
      "cell_type": "markdown",
      "metadata": {
        "id": "qzgSOrMsoZ2z"
      },
      "source": [
        "여기서 idx를 조정하여 다른 data에 대한 출력 결과도 볼 수 있습니다.\n",
        "예측 결과를 보시면 아직 성능이 그렇게 좋지 않은 것을 알 수 있습니다."
      ]
    },
    {
      "cell_type": "markdown",
      "metadata": {
        "id": "xUfwMlrtWMWH"
      },
      "source": []
    }
  ],
  "metadata": {
    "colab": {
      "provenance": [],
      "gpuType": "T4"
    },
    "kernelspec": {
      "display_name": "Python 3",
      "name": "python3"
    },
    "language_info": {
      "name": "python"
    },
    "accelerator": "GPU"
  },
  "nbformat": 4,
  "nbformat_minor": 0
}