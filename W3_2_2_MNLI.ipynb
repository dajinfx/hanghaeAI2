{
  "nbformat": 4,
  "nbformat_minor": 0,
  "metadata": {
    "colab": {
      "provenance": [],
      "gpuType": "T4"
    },
    "kernelspec": {
      "name": "python3",
      "display_name": "Python 3"
    },
    "language_info": {
      "name": "python"
    },
    "widgets": {
      "application/vnd.jupyter.widget-state+json": {
        "e16d48496f4341abb074936dfb1c6528": {
          "model_module": "@jupyter-widgets/controls",
          "model_name": "HBoxModel",
          "model_module_version": "1.5.0",
          "state": {
            "_dom_classes": [],
            "_model_module": "@jupyter-widgets/controls",
            "_model_module_version": "1.5.0",
            "_model_name": "HBoxModel",
            "_view_count": null,
            "_view_module": "@jupyter-widgets/controls",
            "_view_module_version": "1.5.0",
            "_view_name": "HBoxView",
            "box_style": "",
            "children": [
              "IPY_MODEL_ff5eee145491434bb66d9432c75a56f1",
              "IPY_MODEL_7c3f627f018d48b0a22a85a314ac49db",
              "IPY_MODEL_2beba2550e6c4b0688a0a556b8b7510d"
            ],
            "layout": "IPY_MODEL_aca57fc08b9942f4af7a3e152c465ab8"
          }
        },
        "ff5eee145491434bb66d9432c75a56f1": {
          "model_module": "@jupyter-widgets/controls",
          "model_name": "HTMLModel",
          "model_module_version": "1.5.0",
          "state": {
            "_dom_classes": [],
            "_model_module": "@jupyter-widgets/controls",
            "_model_module_version": "1.5.0",
            "_model_name": "HTMLModel",
            "_view_count": null,
            "_view_module": "@jupyter-widgets/controls",
            "_view_module_version": "1.5.0",
            "_view_name": "HTMLView",
            "description": "",
            "description_tooltip": null,
            "layout": "IPY_MODEL_c750868e49984084a6af87a7081f358d",
            "placeholder": "​",
            "style": "IPY_MODEL_f64b1babbd3c4d43a55054ff5b077092",
            "value": "tokenizer_config.json: 100%"
          }
        },
        "7c3f627f018d48b0a22a85a314ac49db": {
          "model_module": "@jupyter-widgets/controls",
          "model_name": "FloatProgressModel",
          "model_module_version": "1.5.0",
          "state": {
            "_dom_classes": [],
            "_model_module": "@jupyter-widgets/controls",
            "_model_module_version": "1.5.0",
            "_model_name": "FloatProgressModel",
            "_view_count": null,
            "_view_module": "@jupyter-widgets/controls",
            "_view_module_version": "1.5.0",
            "_view_name": "ProgressView",
            "bar_style": "success",
            "description": "",
            "description_tooltip": null,
            "layout": "IPY_MODEL_c9b5398e6373471d9122dc033d8e310d",
            "max": 48,
            "min": 0,
            "orientation": "horizontal",
            "style": "IPY_MODEL_bdd7e729263546aab0d445e272215cc2",
            "value": 48
          }
        },
        "2beba2550e6c4b0688a0a556b8b7510d": {
          "model_module": "@jupyter-widgets/controls",
          "model_name": "HTMLModel",
          "model_module_version": "1.5.0",
          "state": {
            "_dom_classes": [],
            "_model_module": "@jupyter-widgets/controls",
            "_model_module_version": "1.5.0",
            "_model_name": "HTMLModel",
            "_view_count": null,
            "_view_module": "@jupyter-widgets/controls",
            "_view_module_version": "1.5.0",
            "_view_name": "HTMLView",
            "description": "",
            "description_tooltip": null,
            "layout": "IPY_MODEL_3feec7755bc440ad84e89fe255649da7",
            "placeholder": "​",
            "style": "IPY_MODEL_0e22f4f88337461887d05b3adacdaf3b",
            "value": " 48.0/48.0 [00:00&lt;00:00, 2.35kB/s]"
          }
        },
        "aca57fc08b9942f4af7a3e152c465ab8": {
          "model_module": "@jupyter-widgets/base",
          "model_name": "LayoutModel",
          "model_module_version": "1.2.0",
          "state": {
            "_model_module": "@jupyter-widgets/base",
            "_model_module_version": "1.2.0",
            "_model_name": "LayoutModel",
            "_view_count": null,
            "_view_module": "@jupyter-widgets/base",
            "_view_module_version": "1.2.0",
            "_view_name": "LayoutView",
            "align_content": null,
            "align_items": null,
            "align_self": null,
            "border": null,
            "bottom": null,
            "display": null,
            "flex": null,
            "flex_flow": null,
            "grid_area": null,
            "grid_auto_columns": null,
            "grid_auto_flow": null,
            "grid_auto_rows": null,
            "grid_column": null,
            "grid_gap": null,
            "grid_row": null,
            "grid_template_areas": null,
            "grid_template_columns": null,
            "grid_template_rows": null,
            "height": null,
            "justify_content": null,
            "justify_items": null,
            "left": null,
            "margin": null,
            "max_height": null,
            "max_width": null,
            "min_height": null,
            "min_width": null,
            "object_fit": null,
            "object_position": null,
            "order": null,
            "overflow": null,
            "overflow_x": null,
            "overflow_y": null,
            "padding": null,
            "right": null,
            "top": null,
            "visibility": null,
            "width": null
          }
        },
        "c750868e49984084a6af87a7081f358d": {
          "model_module": "@jupyter-widgets/base",
          "model_name": "LayoutModel",
          "model_module_version": "1.2.0",
          "state": {
            "_model_module": "@jupyter-widgets/base",
            "_model_module_version": "1.2.0",
            "_model_name": "LayoutModel",
            "_view_count": null,
            "_view_module": "@jupyter-widgets/base",
            "_view_module_version": "1.2.0",
            "_view_name": "LayoutView",
            "align_content": null,
            "align_items": null,
            "align_self": null,
            "border": null,
            "bottom": null,
            "display": null,
            "flex": null,
            "flex_flow": null,
            "grid_area": null,
            "grid_auto_columns": null,
            "grid_auto_flow": null,
            "grid_auto_rows": null,
            "grid_column": null,
            "grid_gap": null,
            "grid_row": null,
            "grid_template_areas": null,
            "grid_template_columns": null,
            "grid_template_rows": null,
            "height": null,
            "justify_content": null,
            "justify_items": null,
            "left": null,
            "margin": null,
            "max_height": null,
            "max_width": null,
            "min_height": null,
            "min_width": null,
            "object_fit": null,
            "object_position": null,
            "order": null,
            "overflow": null,
            "overflow_x": null,
            "overflow_y": null,
            "padding": null,
            "right": null,
            "top": null,
            "visibility": null,
            "width": null
          }
        },
        "f64b1babbd3c4d43a55054ff5b077092": {
          "model_module": "@jupyter-widgets/controls",
          "model_name": "DescriptionStyleModel",
          "model_module_version": "1.5.0",
          "state": {
            "_model_module": "@jupyter-widgets/controls",
            "_model_module_version": "1.5.0",
            "_model_name": "DescriptionStyleModel",
            "_view_count": null,
            "_view_module": "@jupyter-widgets/base",
            "_view_module_version": "1.2.0",
            "_view_name": "StyleView",
            "description_width": ""
          }
        },
        "c9b5398e6373471d9122dc033d8e310d": {
          "model_module": "@jupyter-widgets/base",
          "model_name": "LayoutModel",
          "model_module_version": "1.2.0",
          "state": {
            "_model_module": "@jupyter-widgets/base",
            "_model_module_version": "1.2.0",
            "_model_name": "LayoutModel",
            "_view_count": null,
            "_view_module": "@jupyter-widgets/base",
            "_view_module_version": "1.2.0",
            "_view_name": "LayoutView",
            "align_content": null,
            "align_items": null,
            "align_self": null,
            "border": null,
            "bottom": null,
            "display": null,
            "flex": null,
            "flex_flow": null,
            "grid_area": null,
            "grid_auto_columns": null,
            "grid_auto_flow": null,
            "grid_auto_rows": null,
            "grid_column": null,
            "grid_gap": null,
            "grid_row": null,
            "grid_template_areas": null,
            "grid_template_columns": null,
            "grid_template_rows": null,
            "height": null,
            "justify_content": null,
            "justify_items": null,
            "left": null,
            "margin": null,
            "max_height": null,
            "max_width": null,
            "min_height": null,
            "min_width": null,
            "object_fit": null,
            "object_position": null,
            "order": null,
            "overflow": null,
            "overflow_x": null,
            "overflow_y": null,
            "padding": null,
            "right": null,
            "top": null,
            "visibility": null,
            "width": null
          }
        },
        "bdd7e729263546aab0d445e272215cc2": {
          "model_module": "@jupyter-widgets/controls",
          "model_name": "ProgressStyleModel",
          "model_module_version": "1.5.0",
          "state": {
            "_model_module": "@jupyter-widgets/controls",
            "_model_module_version": "1.5.0",
            "_model_name": "ProgressStyleModel",
            "_view_count": null,
            "_view_module": "@jupyter-widgets/base",
            "_view_module_version": "1.2.0",
            "_view_name": "StyleView",
            "bar_color": null,
            "description_width": ""
          }
        },
        "3feec7755bc440ad84e89fe255649da7": {
          "model_module": "@jupyter-widgets/base",
          "model_name": "LayoutModel",
          "model_module_version": "1.2.0",
          "state": {
            "_model_module": "@jupyter-widgets/base",
            "_model_module_version": "1.2.0",
            "_model_name": "LayoutModel",
            "_view_count": null,
            "_view_module": "@jupyter-widgets/base",
            "_view_module_version": "1.2.0",
            "_view_name": "LayoutView",
            "align_content": null,
            "align_items": null,
            "align_self": null,
            "border": null,
            "bottom": null,
            "display": null,
            "flex": null,
            "flex_flow": null,
            "grid_area": null,
            "grid_auto_columns": null,
            "grid_auto_flow": null,
            "grid_auto_rows": null,
            "grid_column": null,
            "grid_gap": null,
            "grid_row": null,
            "grid_template_areas": null,
            "grid_template_columns": null,
            "grid_template_rows": null,
            "height": null,
            "justify_content": null,
            "justify_items": null,
            "left": null,
            "margin": null,
            "max_height": null,
            "max_width": null,
            "min_height": null,
            "min_width": null,
            "object_fit": null,
            "object_position": null,
            "order": null,
            "overflow": null,
            "overflow_x": null,
            "overflow_y": null,
            "padding": null,
            "right": null,
            "top": null,
            "visibility": null,
            "width": null
          }
        },
        "0e22f4f88337461887d05b3adacdaf3b": {
          "model_module": "@jupyter-widgets/controls",
          "model_name": "DescriptionStyleModel",
          "model_module_version": "1.5.0",
          "state": {
            "_model_module": "@jupyter-widgets/controls",
            "_model_module_version": "1.5.0",
            "_model_name": "DescriptionStyleModel",
            "_view_count": null,
            "_view_module": "@jupyter-widgets/base",
            "_view_module_version": "1.2.0",
            "_view_name": "StyleView",
            "description_width": ""
          }
        },
        "ab7ac5ab6e8a4724a64410730cc38f93": {
          "model_module": "@jupyter-widgets/controls",
          "model_name": "HBoxModel",
          "model_module_version": "1.5.0",
          "state": {
            "_dom_classes": [],
            "_model_module": "@jupyter-widgets/controls",
            "_model_module_version": "1.5.0",
            "_model_name": "HBoxModel",
            "_view_count": null,
            "_view_module": "@jupyter-widgets/controls",
            "_view_module_version": "1.5.0",
            "_view_name": "HBoxView",
            "box_style": "",
            "children": [
              "IPY_MODEL_211a4eccf7ce4f90badfe9903797a21f",
              "IPY_MODEL_1c85333474264f1b94eaa269958335d2",
              "IPY_MODEL_142eac367cc54521a85824ccedebccbb"
            ],
            "layout": "IPY_MODEL_5bea9c93ccd140e8b00a29d0bddb0af1"
          }
        },
        "211a4eccf7ce4f90badfe9903797a21f": {
          "model_module": "@jupyter-widgets/controls",
          "model_name": "HTMLModel",
          "model_module_version": "1.5.0",
          "state": {
            "_dom_classes": [],
            "_model_module": "@jupyter-widgets/controls",
            "_model_module_version": "1.5.0",
            "_model_name": "HTMLModel",
            "_view_count": null,
            "_view_module": "@jupyter-widgets/controls",
            "_view_module_version": "1.5.0",
            "_view_name": "HTMLView",
            "description": "",
            "description_tooltip": null,
            "layout": "IPY_MODEL_18041c172fac4c09b4bdf6055194f8ec",
            "placeholder": "​",
            "style": "IPY_MODEL_422b6312698f4a6eb85bf42e883afd6a",
            "value": "vocab.txt: 100%"
          }
        },
        "1c85333474264f1b94eaa269958335d2": {
          "model_module": "@jupyter-widgets/controls",
          "model_name": "FloatProgressModel",
          "model_module_version": "1.5.0",
          "state": {
            "_dom_classes": [],
            "_model_module": "@jupyter-widgets/controls",
            "_model_module_version": "1.5.0",
            "_model_name": "FloatProgressModel",
            "_view_count": null,
            "_view_module": "@jupyter-widgets/controls",
            "_view_module_version": "1.5.0",
            "_view_name": "ProgressView",
            "bar_style": "success",
            "description": "",
            "description_tooltip": null,
            "layout": "IPY_MODEL_9519523778c14d2db74a977e1cd8f53b",
            "max": 231508,
            "min": 0,
            "orientation": "horizontal",
            "style": "IPY_MODEL_8afe5e9905874fb996ffcfac5ad2e2d9",
            "value": 231508
          }
        },
        "142eac367cc54521a85824ccedebccbb": {
          "model_module": "@jupyter-widgets/controls",
          "model_name": "HTMLModel",
          "model_module_version": "1.5.0",
          "state": {
            "_dom_classes": [],
            "_model_module": "@jupyter-widgets/controls",
            "_model_module_version": "1.5.0",
            "_model_name": "HTMLModel",
            "_view_count": null,
            "_view_module": "@jupyter-widgets/controls",
            "_view_module_version": "1.5.0",
            "_view_name": "HTMLView",
            "description": "",
            "description_tooltip": null,
            "layout": "IPY_MODEL_be45ed6c24484694b882a850f6af9502",
            "placeholder": "​",
            "style": "IPY_MODEL_d35de4717c9d4280b8206920904580fe",
            "value": " 232k/232k [00:00&lt;00:00, 11.5MB/s]"
          }
        },
        "5bea9c93ccd140e8b00a29d0bddb0af1": {
          "model_module": "@jupyter-widgets/base",
          "model_name": "LayoutModel",
          "model_module_version": "1.2.0",
          "state": {
            "_model_module": "@jupyter-widgets/base",
            "_model_module_version": "1.2.0",
            "_model_name": "LayoutModel",
            "_view_count": null,
            "_view_module": "@jupyter-widgets/base",
            "_view_module_version": "1.2.0",
            "_view_name": "LayoutView",
            "align_content": null,
            "align_items": null,
            "align_self": null,
            "border": null,
            "bottom": null,
            "display": null,
            "flex": null,
            "flex_flow": null,
            "grid_area": null,
            "grid_auto_columns": null,
            "grid_auto_flow": null,
            "grid_auto_rows": null,
            "grid_column": null,
            "grid_gap": null,
            "grid_row": null,
            "grid_template_areas": null,
            "grid_template_columns": null,
            "grid_template_rows": null,
            "height": null,
            "justify_content": null,
            "justify_items": null,
            "left": null,
            "margin": null,
            "max_height": null,
            "max_width": null,
            "min_height": null,
            "min_width": null,
            "object_fit": null,
            "object_position": null,
            "order": null,
            "overflow": null,
            "overflow_x": null,
            "overflow_y": null,
            "padding": null,
            "right": null,
            "top": null,
            "visibility": null,
            "width": null
          }
        },
        "18041c172fac4c09b4bdf6055194f8ec": {
          "model_module": "@jupyter-widgets/base",
          "model_name": "LayoutModel",
          "model_module_version": "1.2.0",
          "state": {
            "_model_module": "@jupyter-widgets/base",
            "_model_module_version": "1.2.0",
            "_model_name": "LayoutModel",
            "_view_count": null,
            "_view_module": "@jupyter-widgets/base",
            "_view_module_version": "1.2.0",
            "_view_name": "LayoutView",
            "align_content": null,
            "align_items": null,
            "align_self": null,
            "border": null,
            "bottom": null,
            "display": null,
            "flex": null,
            "flex_flow": null,
            "grid_area": null,
            "grid_auto_columns": null,
            "grid_auto_flow": null,
            "grid_auto_rows": null,
            "grid_column": null,
            "grid_gap": null,
            "grid_row": null,
            "grid_template_areas": null,
            "grid_template_columns": null,
            "grid_template_rows": null,
            "height": null,
            "justify_content": null,
            "justify_items": null,
            "left": null,
            "margin": null,
            "max_height": null,
            "max_width": null,
            "min_height": null,
            "min_width": null,
            "object_fit": null,
            "object_position": null,
            "order": null,
            "overflow": null,
            "overflow_x": null,
            "overflow_y": null,
            "padding": null,
            "right": null,
            "top": null,
            "visibility": null,
            "width": null
          }
        },
        "422b6312698f4a6eb85bf42e883afd6a": {
          "model_module": "@jupyter-widgets/controls",
          "model_name": "DescriptionStyleModel",
          "model_module_version": "1.5.0",
          "state": {
            "_model_module": "@jupyter-widgets/controls",
            "_model_module_version": "1.5.0",
            "_model_name": "DescriptionStyleModel",
            "_view_count": null,
            "_view_module": "@jupyter-widgets/base",
            "_view_module_version": "1.2.0",
            "_view_name": "StyleView",
            "description_width": ""
          }
        },
        "9519523778c14d2db74a977e1cd8f53b": {
          "model_module": "@jupyter-widgets/base",
          "model_name": "LayoutModel",
          "model_module_version": "1.2.0",
          "state": {
            "_model_module": "@jupyter-widgets/base",
            "_model_module_version": "1.2.0",
            "_model_name": "LayoutModel",
            "_view_count": null,
            "_view_module": "@jupyter-widgets/base",
            "_view_module_version": "1.2.0",
            "_view_name": "LayoutView",
            "align_content": null,
            "align_items": null,
            "align_self": null,
            "border": null,
            "bottom": null,
            "display": null,
            "flex": null,
            "flex_flow": null,
            "grid_area": null,
            "grid_auto_columns": null,
            "grid_auto_flow": null,
            "grid_auto_rows": null,
            "grid_column": null,
            "grid_gap": null,
            "grid_row": null,
            "grid_template_areas": null,
            "grid_template_columns": null,
            "grid_template_rows": null,
            "height": null,
            "justify_content": null,
            "justify_items": null,
            "left": null,
            "margin": null,
            "max_height": null,
            "max_width": null,
            "min_height": null,
            "min_width": null,
            "object_fit": null,
            "object_position": null,
            "order": null,
            "overflow": null,
            "overflow_x": null,
            "overflow_y": null,
            "padding": null,
            "right": null,
            "top": null,
            "visibility": null,
            "width": null
          }
        },
        "8afe5e9905874fb996ffcfac5ad2e2d9": {
          "model_module": "@jupyter-widgets/controls",
          "model_name": "ProgressStyleModel",
          "model_module_version": "1.5.0",
          "state": {
            "_model_module": "@jupyter-widgets/controls",
            "_model_module_version": "1.5.0",
            "_model_name": "ProgressStyleModel",
            "_view_count": null,
            "_view_module": "@jupyter-widgets/base",
            "_view_module_version": "1.2.0",
            "_view_name": "StyleView",
            "bar_color": null,
            "description_width": ""
          }
        },
        "be45ed6c24484694b882a850f6af9502": {
          "model_module": "@jupyter-widgets/base",
          "model_name": "LayoutModel",
          "model_module_version": "1.2.0",
          "state": {
            "_model_module": "@jupyter-widgets/base",
            "_model_module_version": "1.2.0",
            "_model_name": "LayoutModel",
            "_view_count": null,
            "_view_module": "@jupyter-widgets/base",
            "_view_module_version": "1.2.0",
            "_view_name": "LayoutView",
            "align_content": null,
            "align_items": null,
            "align_self": null,
            "border": null,
            "bottom": null,
            "display": null,
            "flex": null,
            "flex_flow": null,
            "grid_area": null,
            "grid_auto_columns": null,
            "grid_auto_flow": null,
            "grid_auto_rows": null,
            "grid_column": null,
            "grid_gap": null,
            "grid_row": null,
            "grid_template_areas": null,
            "grid_template_columns": null,
            "grid_template_rows": null,
            "height": null,
            "justify_content": null,
            "justify_items": null,
            "left": null,
            "margin": null,
            "max_height": null,
            "max_width": null,
            "min_height": null,
            "min_width": null,
            "object_fit": null,
            "object_position": null,
            "order": null,
            "overflow": null,
            "overflow_x": null,
            "overflow_y": null,
            "padding": null,
            "right": null,
            "top": null,
            "visibility": null,
            "width": null
          }
        },
        "d35de4717c9d4280b8206920904580fe": {
          "model_module": "@jupyter-widgets/controls",
          "model_name": "DescriptionStyleModel",
          "model_module_version": "1.5.0",
          "state": {
            "_model_module": "@jupyter-widgets/controls",
            "_model_module_version": "1.5.0",
            "_model_name": "DescriptionStyleModel",
            "_view_count": null,
            "_view_module": "@jupyter-widgets/base",
            "_view_module_version": "1.2.0",
            "_view_name": "StyleView",
            "description_width": ""
          }
        },
        "c1a4ea446731458f9727ec6c954607d3": {
          "model_module": "@jupyter-widgets/controls",
          "model_name": "HBoxModel",
          "model_module_version": "1.5.0",
          "state": {
            "_dom_classes": [],
            "_model_module": "@jupyter-widgets/controls",
            "_model_module_version": "1.5.0",
            "_model_name": "HBoxModel",
            "_view_count": null,
            "_view_module": "@jupyter-widgets/controls",
            "_view_module_version": "1.5.0",
            "_view_name": "HBoxView",
            "box_style": "",
            "children": [
              "IPY_MODEL_054cbfa26a15484b8b4888440d8a7dd0",
              "IPY_MODEL_82fee859f93947d18a8a63516af85056",
              "IPY_MODEL_e1a41e16b69f42b6a606de5f2161a5ba"
            ],
            "layout": "IPY_MODEL_5b0b9c800fad4e9b8ae06ec7d7be2afa"
          }
        },
        "054cbfa26a15484b8b4888440d8a7dd0": {
          "model_module": "@jupyter-widgets/controls",
          "model_name": "HTMLModel",
          "model_module_version": "1.5.0",
          "state": {
            "_dom_classes": [],
            "_model_module": "@jupyter-widgets/controls",
            "_model_module_version": "1.5.0",
            "_model_name": "HTMLModel",
            "_view_count": null,
            "_view_module": "@jupyter-widgets/controls",
            "_view_module_version": "1.5.0",
            "_view_name": "HTMLView",
            "description": "",
            "description_tooltip": null,
            "layout": "IPY_MODEL_4abe477f5d0147edbc89d13e43b02bb8",
            "placeholder": "​",
            "style": "IPY_MODEL_d4d37cdfe4f641da9cf884e8b876edee",
            "value": "tokenizer.json: 100%"
          }
        },
        "82fee859f93947d18a8a63516af85056": {
          "model_module": "@jupyter-widgets/controls",
          "model_name": "FloatProgressModel",
          "model_module_version": "1.5.0",
          "state": {
            "_dom_classes": [],
            "_model_module": "@jupyter-widgets/controls",
            "_model_module_version": "1.5.0",
            "_model_name": "FloatProgressModel",
            "_view_count": null,
            "_view_module": "@jupyter-widgets/controls",
            "_view_module_version": "1.5.0",
            "_view_name": "ProgressView",
            "bar_style": "success",
            "description": "",
            "description_tooltip": null,
            "layout": "IPY_MODEL_d4f0921544104cde9eed383f7cf6368a",
            "max": 466062,
            "min": 0,
            "orientation": "horizontal",
            "style": "IPY_MODEL_fb7221e931ab4eefa62db7cea53802e9",
            "value": 466062
          }
        },
        "e1a41e16b69f42b6a606de5f2161a5ba": {
          "model_module": "@jupyter-widgets/controls",
          "model_name": "HTMLModel",
          "model_module_version": "1.5.0",
          "state": {
            "_dom_classes": [],
            "_model_module": "@jupyter-widgets/controls",
            "_model_module_version": "1.5.0",
            "_model_name": "HTMLModel",
            "_view_count": null,
            "_view_module": "@jupyter-widgets/controls",
            "_view_module_version": "1.5.0",
            "_view_name": "HTMLView",
            "description": "",
            "description_tooltip": null,
            "layout": "IPY_MODEL_d6275a8059f345af910b1452f177623d",
            "placeholder": "​",
            "style": "IPY_MODEL_232545e6e90e4a968b5d2c9d2a9c9d07",
            "value": " 466k/466k [00:00&lt;00:00, 25.7MB/s]"
          }
        },
        "5b0b9c800fad4e9b8ae06ec7d7be2afa": {
          "model_module": "@jupyter-widgets/base",
          "model_name": "LayoutModel",
          "model_module_version": "1.2.0",
          "state": {
            "_model_module": "@jupyter-widgets/base",
            "_model_module_version": "1.2.0",
            "_model_name": "LayoutModel",
            "_view_count": null,
            "_view_module": "@jupyter-widgets/base",
            "_view_module_version": "1.2.0",
            "_view_name": "LayoutView",
            "align_content": null,
            "align_items": null,
            "align_self": null,
            "border": null,
            "bottom": null,
            "display": null,
            "flex": null,
            "flex_flow": null,
            "grid_area": null,
            "grid_auto_columns": null,
            "grid_auto_flow": null,
            "grid_auto_rows": null,
            "grid_column": null,
            "grid_gap": null,
            "grid_row": null,
            "grid_template_areas": null,
            "grid_template_columns": null,
            "grid_template_rows": null,
            "height": null,
            "justify_content": null,
            "justify_items": null,
            "left": null,
            "margin": null,
            "max_height": null,
            "max_width": null,
            "min_height": null,
            "min_width": null,
            "object_fit": null,
            "object_position": null,
            "order": null,
            "overflow": null,
            "overflow_x": null,
            "overflow_y": null,
            "padding": null,
            "right": null,
            "top": null,
            "visibility": null,
            "width": null
          }
        },
        "4abe477f5d0147edbc89d13e43b02bb8": {
          "model_module": "@jupyter-widgets/base",
          "model_name": "LayoutModel",
          "model_module_version": "1.2.0",
          "state": {
            "_model_module": "@jupyter-widgets/base",
            "_model_module_version": "1.2.0",
            "_model_name": "LayoutModel",
            "_view_count": null,
            "_view_module": "@jupyter-widgets/base",
            "_view_module_version": "1.2.0",
            "_view_name": "LayoutView",
            "align_content": null,
            "align_items": null,
            "align_self": null,
            "border": null,
            "bottom": null,
            "display": null,
            "flex": null,
            "flex_flow": null,
            "grid_area": null,
            "grid_auto_columns": null,
            "grid_auto_flow": null,
            "grid_auto_rows": null,
            "grid_column": null,
            "grid_gap": null,
            "grid_row": null,
            "grid_template_areas": null,
            "grid_template_columns": null,
            "grid_template_rows": null,
            "height": null,
            "justify_content": null,
            "justify_items": null,
            "left": null,
            "margin": null,
            "max_height": null,
            "max_width": null,
            "min_height": null,
            "min_width": null,
            "object_fit": null,
            "object_position": null,
            "order": null,
            "overflow": null,
            "overflow_x": null,
            "overflow_y": null,
            "padding": null,
            "right": null,
            "top": null,
            "visibility": null,
            "width": null
          }
        },
        "d4d37cdfe4f641da9cf884e8b876edee": {
          "model_module": "@jupyter-widgets/controls",
          "model_name": "DescriptionStyleModel",
          "model_module_version": "1.5.0",
          "state": {
            "_model_module": "@jupyter-widgets/controls",
            "_model_module_version": "1.5.0",
            "_model_name": "DescriptionStyleModel",
            "_view_count": null,
            "_view_module": "@jupyter-widgets/base",
            "_view_module_version": "1.2.0",
            "_view_name": "StyleView",
            "description_width": ""
          }
        },
        "d4f0921544104cde9eed383f7cf6368a": {
          "model_module": "@jupyter-widgets/base",
          "model_name": "LayoutModel",
          "model_module_version": "1.2.0",
          "state": {
            "_model_module": "@jupyter-widgets/base",
            "_model_module_version": "1.2.0",
            "_model_name": "LayoutModel",
            "_view_count": null,
            "_view_module": "@jupyter-widgets/base",
            "_view_module_version": "1.2.0",
            "_view_name": "LayoutView",
            "align_content": null,
            "align_items": null,
            "align_self": null,
            "border": null,
            "bottom": null,
            "display": null,
            "flex": null,
            "flex_flow": null,
            "grid_area": null,
            "grid_auto_columns": null,
            "grid_auto_flow": null,
            "grid_auto_rows": null,
            "grid_column": null,
            "grid_gap": null,
            "grid_row": null,
            "grid_template_areas": null,
            "grid_template_columns": null,
            "grid_template_rows": null,
            "height": null,
            "justify_content": null,
            "justify_items": null,
            "left": null,
            "margin": null,
            "max_height": null,
            "max_width": null,
            "min_height": null,
            "min_width": null,
            "object_fit": null,
            "object_position": null,
            "order": null,
            "overflow": null,
            "overflow_x": null,
            "overflow_y": null,
            "padding": null,
            "right": null,
            "top": null,
            "visibility": null,
            "width": null
          }
        },
        "fb7221e931ab4eefa62db7cea53802e9": {
          "model_module": "@jupyter-widgets/controls",
          "model_name": "ProgressStyleModel",
          "model_module_version": "1.5.0",
          "state": {
            "_model_module": "@jupyter-widgets/controls",
            "_model_module_version": "1.5.0",
            "_model_name": "ProgressStyleModel",
            "_view_count": null,
            "_view_module": "@jupyter-widgets/base",
            "_view_module_version": "1.2.0",
            "_view_name": "StyleView",
            "bar_color": null,
            "description_width": ""
          }
        },
        "d6275a8059f345af910b1452f177623d": {
          "model_module": "@jupyter-widgets/base",
          "model_name": "LayoutModel",
          "model_module_version": "1.2.0",
          "state": {
            "_model_module": "@jupyter-widgets/base",
            "_model_module_version": "1.2.0",
            "_model_name": "LayoutModel",
            "_view_count": null,
            "_view_module": "@jupyter-widgets/base",
            "_view_module_version": "1.2.0",
            "_view_name": "LayoutView",
            "align_content": null,
            "align_items": null,
            "align_self": null,
            "border": null,
            "bottom": null,
            "display": null,
            "flex": null,
            "flex_flow": null,
            "grid_area": null,
            "grid_auto_columns": null,
            "grid_auto_flow": null,
            "grid_auto_rows": null,
            "grid_column": null,
            "grid_gap": null,
            "grid_row": null,
            "grid_template_areas": null,
            "grid_template_columns": null,
            "grid_template_rows": null,
            "height": null,
            "justify_content": null,
            "justify_items": null,
            "left": null,
            "margin": null,
            "max_height": null,
            "max_width": null,
            "min_height": null,
            "min_width": null,
            "object_fit": null,
            "object_position": null,
            "order": null,
            "overflow": null,
            "overflow_x": null,
            "overflow_y": null,
            "padding": null,
            "right": null,
            "top": null,
            "visibility": null,
            "width": null
          }
        },
        "232545e6e90e4a968b5d2c9d2a9c9d07": {
          "model_module": "@jupyter-widgets/controls",
          "model_name": "DescriptionStyleModel",
          "model_module_version": "1.5.0",
          "state": {
            "_model_module": "@jupyter-widgets/controls",
            "_model_module_version": "1.5.0",
            "_model_name": "DescriptionStyleModel",
            "_view_count": null,
            "_view_module": "@jupyter-widgets/base",
            "_view_module_version": "1.2.0",
            "_view_name": "StyleView",
            "description_width": ""
          }
        },
        "259ff74b6c254f739205b10162c66462": {
          "model_module": "@jupyter-widgets/controls",
          "model_name": "HBoxModel",
          "model_module_version": "1.5.0",
          "state": {
            "_dom_classes": [],
            "_model_module": "@jupyter-widgets/controls",
            "_model_module_version": "1.5.0",
            "_model_name": "HBoxModel",
            "_view_count": null,
            "_view_module": "@jupyter-widgets/controls",
            "_view_module_version": "1.5.0",
            "_view_name": "HBoxView",
            "box_style": "",
            "children": [
              "IPY_MODEL_cfaddf3b61a24adba41682061f95781d",
              "IPY_MODEL_e5ab4567170945dc9052158b79870c56",
              "IPY_MODEL_1e57296b954645b28ef23ae471063e72"
            ],
            "layout": "IPY_MODEL_03dcd3706b724220986fa2e8a99083f0"
          }
        },
        "cfaddf3b61a24adba41682061f95781d": {
          "model_module": "@jupyter-widgets/controls",
          "model_name": "HTMLModel",
          "model_module_version": "1.5.0",
          "state": {
            "_dom_classes": [],
            "_model_module": "@jupyter-widgets/controls",
            "_model_module_version": "1.5.0",
            "_model_name": "HTMLModel",
            "_view_count": null,
            "_view_module": "@jupyter-widgets/controls",
            "_view_module_version": "1.5.0",
            "_view_name": "HTMLView",
            "description": "",
            "description_tooltip": null,
            "layout": "IPY_MODEL_e98f195cefce4232af3009ed3ca9b421",
            "placeholder": "​",
            "style": "IPY_MODEL_b9a0453bded941aab52961e8d9994771",
            "value": "config.json: 100%"
          }
        },
        "e5ab4567170945dc9052158b79870c56": {
          "model_module": "@jupyter-widgets/controls",
          "model_name": "FloatProgressModel",
          "model_module_version": "1.5.0",
          "state": {
            "_dom_classes": [],
            "_model_module": "@jupyter-widgets/controls",
            "_model_module_version": "1.5.0",
            "_model_name": "FloatProgressModel",
            "_view_count": null,
            "_view_module": "@jupyter-widgets/controls",
            "_view_module_version": "1.5.0",
            "_view_name": "ProgressView",
            "bar_style": "success",
            "description": "",
            "description_tooltip": null,
            "layout": "IPY_MODEL_da64aab77c644f59b76d3856221cf293",
            "max": 483,
            "min": 0,
            "orientation": "horizontal",
            "style": "IPY_MODEL_99fd8dd5a7bb421eabcf1782121cc965",
            "value": 483
          }
        },
        "1e57296b954645b28ef23ae471063e72": {
          "model_module": "@jupyter-widgets/controls",
          "model_name": "HTMLModel",
          "model_module_version": "1.5.0",
          "state": {
            "_dom_classes": [],
            "_model_module": "@jupyter-widgets/controls",
            "_model_module_version": "1.5.0",
            "_model_name": "HTMLModel",
            "_view_count": null,
            "_view_module": "@jupyter-widgets/controls",
            "_view_module_version": "1.5.0",
            "_view_name": "HTMLView",
            "description": "",
            "description_tooltip": null,
            "layout": "IPY_MODEL_0008d7ba4893476c9672a10826ecaab2",
            "placeholder": "​",
            "style": "IPY_MODEL_885904f4ba7e4a76b50f805d3626a542",
            "value": " 483/483 [00:00&lt;00:00, 33.1kB/s]"
          }
        },
        "03dcd3706b724220986fa2e8a99083f0": {
          "model_module": "@jupyter-widgets/base",
          "model_name": "LayoutModel",
          "model_module_version": "1.2.0",
          "state": {
            "_model_module": "@jupyter-widgets/base",
            "_model_module_version": "1.2.0",
            "_model_name": "LayoutModel",
            "_view_count": null,
            "_view_module": "@jupyter-widgets/base",
            "_view_module_version": "1.2.0",
            "_view_name": "LayoutView",
            "align_content": null,
            "align_items": null,
            "align_self": null,
            "border": null,
            "bottom": null,
            "display": null,
            "flex": null,
            "flex_flow": null,
            "grid_area": null,
            "grid_auto_columns": null,
            "grid_auto_flow": null,
            "grid_auto_rows": null,
            "grid_column": null,
            "grid_gap": null,
            "grid_row": null,
            "grid_template_areas": null,
            "grid_template_columns": null,
            "grid_template_rows": null,
            "height": null,
            "justify_content": null,
            "justify_items": null,
            "left": null,
            "margin": null,
            "max_height": null,
            "max_width": null,
            "min_height": null,
            "min_width": null,
            "object_fit": null,
            "object_position": null,
            "order": null,
            "overflow": null,
            "overflow_x": null,
            "overflow_y": null,
            "padding": null,
            "right": null,
            "top": null,
            "visibility": null,
            "width": null
          }
        },
        "e98f195cefce4232af3009ed3ca9b421": {
          "model_module": "@jupyter-widgets/base",
          "model_name": "LayoutModel",
          "model_module_version": "1.2.0",
          "state": {
            "_model_module": "@jupyter-widgets/base",
            "_model_module_version": "1.2.0",
            "_model_name": "LayoutModel",
            "_view_count": null,
            "_view_module": "@jupyter-widgets/base",
            "_view_module_version": "1.2.0",
            "_view_name": "LayoutView",
            "align_content": null,
            "align_items": null,
            "align_self": null,
            "border": null,
            "bottom": null,
            "display": null,
            "flex": null,
            "flex_flow": null,
            "grid_area": null,
            "grid_auto_columns": null,
            "grid_auto_flow": null,
            "grid_auto_rows": null,
            "grid_column": null,
            "grid_gap": null,
            "grid_row": null,
            "grid_template_areas": null,
            "grid_template_columns": null,
            "grid_template_rows": null,
            "height": null,
            "justify_content": null,
            "justify_items": null,
            "left": null,
            "margin": null,
            "max_height": null,
            "max_width": null,
            "min_height": null,
            "min_width": null,
            "object_fit": null,
            "object_position": null,
            "order": null,
            "overflow": null,
            "overflow_x": null,
            "overflow_y": null,
            "padding": null,
            "right": null,
            "top": null,
            "visibility": null,
            "width": null
          }
        },
        "b9a0453bded941aab52961e8d9994771": {
          "model_module": "@jupyter-widgets/controls",
          "model_name": "DescriptionStyleModel",
          "model_module_version": "1.5.0",
          "state": {
            "_model_module": "@jupyter-widgets/controls",
            "_model_module_version": "1.5.0",
            "_model_name": "DescriptionStyleModel",
            "_view_count": null,
            "_view_module": "@jupyter-widgets/base",
            "_view_module_version": "1.2.0",
            "_view_name": "StyleView",
            "description_width": ""
          }
        },
        "da64aab77c644f59b76d3856221cf293": {
          "model_module": "@jupyter-widgets/base",
          "model_name": "LayoutModel",
          "model_module_version": "1.2.0",
          "state": {
            "_model_module": "@jupyter-widgets/base",
            "_model_module_version": "1.2.0",
            "_model_name": "LayoutModel",
            "_view_count": null,
            "_view_module": "@jupyter-widgets/base",
            "_view_module_version": "1.2.0",
            "_view_name": "LayoutView",
            "align_content": null,
            "align_items": null,
            "align_self": null,
            "border": null,
            "bottom": null,
            "display": null,
            "flex": null,
            "flex_flow": null,
            "grid_area": null,
            "grid_auto_columns": null,
            "grid_auto_flow": null,
            "grid_auto_rows": null,
            "grid_column": null,
            "grid_gap": null,
            "grid_row": null,
            "grid_template_areas": null,
            "grid_template_columns": null,
            "grid_template_rows": null,
            "height": null,
            "justify_content": null,
            "justify_items": null,
            "left": null,
            "margin": null,
            "max_height": null,
            "max_width": null,
            "min_height": null,
            "min_width": null,
            "object_fit": null,
            "object_position": null,
            "order": null,
            "overflow": null,
            "overflow_x": null,
            "overflow_y": null,
            "padding": null,
            "right": null,
            "top": null,
            "visibility": null,
            "width": null
          }
        },
        "99fd8dd5a7bb421eabcf1782121cc965": {
          "model_module": "@jupyter-widgets/controls",
          "model_name": "ProgressStyleModel",
          "model_module_version": "1.5.0",
          "state": {
            "_model_module": "@jupyter-widgets/controls",
            "_model_module_version": "1.5.0",
            "_model_name": "ProgressStyleModel",
            "_view_count": null,
            "_view_module": "@jupyter-widgets/base",
            "_view_module_version": "1.2.0",
            "_view_name": "StyleView",
            "bar_color": null,
            "description_width": ""
          }
        },
        "0008d7ba4893476c9672a10826ecaab2": {
          "model_module": "@jupyter-widgets/base",
          "model_name": "LayoutModel",
          "model_module_version": "1.2.0",
          "state": {
            "_model_module": "@jupyter-widgets/base",
            "_model_module_version": "1.2.0",
            "_model_name": "LayoutModel",
            "_view_count": null,
            "_view_module": "@jupyter-widgets/base",
            "_view_module_version": "1.2.0",
            "_view_name": "LayoutView",
            "align_content": null,
            "align_items": null,
            "align_self": null,
            "border": null,
            "bottom": null,
            "display": null,
            "flex": null,
            "flex_flow": null,
            "grid_area": null,
            "grid_auto_columns": null,
            "grid_auto_flow": null,
            "grid_auto_rows": null,
            "grid_column": null,
            "grid_gap": null,
            "grid_row": null,
            "grid_template_areas": null,
            "grid_template_columns": null,
            "grid_template_rows": null,
            "height": null,
            "justify_content": null,
            "justify_items": null,
            "left": null,
            "margin": null,
            "max_height": null,
            "max_width": null,
            "min_height": null,
            "min_width": null,
            "object_fit": null,
            "object_position": null,
            "order": null,
            "overflow": null,
            "overflow_x": null,
            "overflow_y": null,
            "padding": null,
            "right": null,
            "top": null,
            "visibility": null,
            "width": null
          }
        },
        "885904f4ba7e4a76b50f805d3626a542": {
          "model_module": "@jupyter-widgets/controls",
          "model_name": "DescriptionStyleModel",
          "model_module_version": "1.5.0",
          "state": {
            "_model_module": "@jupyter-widgets/controls",
            "_model_module_version": "1.5.0",
            "_model_name": "DescriptionStyleModel",
            "_view_count": null,
            "_view_module": "@jupyter-widgets/base",
            "_view_module_version": "1.2.0",
            "_view_name": "StyleView",
            "description_width": ""
          }
        },
        "4db904bbd6224969b71103245151157c": {
          "model_module": "@jupyter-widgets/controls",
          "model_name": "HBoxModel",
          "model_module_version": "1.5.0",
          "state": {
            "_dom_classes": [],
            "_model_module": "@jupyter-widgets/controls",
            "_model_module_version": "1.5.0",
            "_model_name": "HBoxModel",
            "_view_count": null,
            "_view_module": "@jupyter-widgets/controls",
            "_view_module_version": "1.5.0",
            "_view_name": "HBoxView",
            "box_style": "",
            "children": [
              "IPY_MODEL_692e3fbafe6f4f03b9a60f78deee0102",
              "IPY_MODEL_edea8a22ade346ed88948caef0c7719a",
              "IPY_MODEL_db26cd0c4cbf434c93c0e772e63c62b9"
            ],
            "layout": "IPY_MODEL_ff2e134f2fc946259fa287242f612c0b"
          }
        },
        "692e3fbafe6f4f03b9a60f78deee0102": {
          "model_module": "@jupyter-widgets/controls",
          "model_name": "HTMLModel",
          "model_module_version": "1.5.0",
          "state": {
            "_dom_classes": [],
            "_model_module": "@jupyter-widgets/controls",
            "_model_module_version": "1.5.0",
            "_model_name": "HTMLModel",
            "_view_count": null,
            "_view_module": "@jupyter-widgets/controls",
            "_view_module_version": "1.5.0",
            "_view_name": "HTMLView",
            "description": "",
            "description_tooltip": null,
            "layout": "IPY_MODEL_ad5b46f2e1544cff936d769ab3e9cb50",
            "placeholder": "​",
            "style": "IPY_MODEL_2b39a0dd60e3422eae0d339b3d7ef115",
            "value": "model.safetensors: 100%"
          }
        },
        "edea8a22ade346ed88948caef0c7719a": {
          "model_module": "@jupyter-widgets/controls",
          "model_name": "FloatProgressModel",
          "model_module_version": "1.5.0",
          "state": {
            "_dom_classes": [],
            "_model_module": "@jupyter-widgets/controls",
            "_model_module_version": "1.5.0",
            "_model_name": "FloatProgressModel",
            "_view_count": null,
            "_view_module": "@jupyter-widgets/controls",
            "_view_module_version": "1.5.0",
            "_view_name": "ProgressView",
            "bar_style": "success",
            "description": "",
            "description_tooltip": null,
            "layout": "IPY_MODEL_50fd0347b2ec41fc8b356d830ecd4adf",
            "max": 267954768,
            "min": 0,
            "orientation": "horizontal",
            "style": "IPY_MODEL_a932321bc2714f699f4e0c3ca19e24c6",
            "value": 267954768
          }
        },
        "db26cd0c4cbf434c93c0e772e63c62b9": {
          "model_module": "@jupyter-widgets/controls",
          "model_name": "HTMLModel",
          "model_module_version": "1.5.0",
          "state": {
            "_dom_classes": [],
            "_model_module": "@jupyter-widgets/controls",
            "_model_module_version": "1.5.0",
            "_model_name": "HTMLModel",
            "_view_count": null,
            "_view_module": "@jupyter-widgets/controls",
            "_view_module_version": "1.5.0",
            "_view_name": "HTMLView",
            "description": "",
            "description_tooltip": null,
            "layout": "IPY_MODEL_6006347a0c3d48229ea557aa023710f6",
            "placeholder": "​",
            "style": "IPY_MODEL_b8cc1cee5e0d48b59d286cd67ffa81c3",
            "value": " 268M/268M [00:01&lt;00:00, 246MB/s]"
          }
        },
        "ff2e134f2fc946259fa287242f612c0b": {
          "model_module": "@jupyter-widgets/base",
          "model_name": "LayoutModel",
          "model_module_version": "1.2.0",
          "state": {
            "_model_module": "@jupyter-widgets/base",
            "_model_module_version": "1.2.0",
            "_model_name": "LayoutModel",
            "_view_count": null,
            "_view_module": "@jupyter-widgets/base",
            "_view_module_version": "1.2.0",
            "_view_name": "LayoutView",
            "align_content": null,
            "align_items": null,
            "align_self": null,
            "border": null,
            "bottom": null,
            "display": null,
            "flex": null,
            "flex_flow": null,
            "grid_area": null,
            "grid_auto_columns": null,
            "grid_auto_flow": null,
            "grid_auto_rows": null,
            "grid_column": null,
            "grid_gap": null,
            "grid_row": null,
            "grid_template_areas": null,
            "grid_template_columns": null,
            "grid_template_rows": null,
            "height": null,
            "justify_content": null,
            "justify_items": null,
            "left": null,
            "margin": null,
            "max_height": null,
            "max_width": null,
            "min_height": null,
            "min_width": null,
            "object_fit": null,
            "object_position": null,
            "order": null,
            "overflow": null,
            "overflow_x": null,
            "overflow_y": null,
            "padding": null,
            "right": null,
            "top": null,
            "visibility": null,
            "width": null
          }
        },
        "ad5b46f2e1544cff936d769ab3e9cb50": {
          "model_module": "@jupyter-widgets/base",
          "model_name": "LayoutModel",
          "model_module_version": "1.2.0",
          "state": {
            "_model_module": "@jupyter-widgets/base",
            "_model_module_version": "1.2.0",
            "_model_name": "LayoutModel",
            "_view_count": null,
            "_view_module": "@jupyter-widgets/base",
            "_view_module_version": "1.2.0",
            "_view_name": "LayoutView",
            "align_content": null,
            "align_items": null,
            "align_self": null,
            "border": null,
            "bottom": null,
            "display": null,
            "flex": null,
            "flex_flow": null,
            "grid_area": null,
            "grid_auto_columns": null,
            "grid_auto_flow": null,
            "grid_auto_rows": null,
            "grid_column": null,
            "grid_gap": null,
            "grid_row": null,
            "grid_template_areas": null,
            "grid_template_columns": null,
            "grid_template_rows": null,
            "height": null,
            "justify_content": null,
            "justify_items": null,
            "left": null,
            "margin": null,
            "max_height": null,
            "max_width": null,
            "min_height": null,
            "min_width": null,
            "object_fit": null,
            "object_position": null,
            "order": null,
            "overflow": null,
            "overflow_x": null,
            "overflow_y": null,
            "padding": null,
            "right": null,
            "top": null,
            "visibility": null,
            "width": null
          }
        },
        "2b39a0dd60e3422eae0d339b3d7ef115": {
          "model_module": "@jupyter-widgets/controls",
          "model_name": "DescriptionStyleModel",
          "model_module_version": "1.5.0",
          "state": {
            "_model_module": "@jupyter-widgets/controls",
            "_model_module_version": "1.5.0",
            "_model_name": "DescriptionStyleModel",
            "_view_count": null,
            "_view_module": "@jupyter-widgets/base",
            "_view_module_version": "1.2.0",
            "_view_name": "StyleView",
            "description_width": ""
          }
        },
        "50fd0347b2ec41fc8b356d830ecd4adf": {
          "model_module": "@jupyter-widgets/base",
          "model_name": "LayoutModel",
          "model_module_version": "1.2.0",
          "state": {
            "_model_module": "@jupyter-widgets/base",
            "_model_module_version": "1.2.0",
            "_model_name": "LayoutModel",
            "_view_count": null,
            "_view_module": "@jupyter-widgets/base",
            "_view_module_version": "1.2.0",
            "_view_name": "LayoutView",
            "align_content": null,
            "align_items": null,
            "align_self": null,
            "border": null,
            "bottom": null,
            "display": null,
            "flex": null,
            "flex_flow": null,
            "grid_area": null,
            "grid_auto_columns": null,
            "grid_auto_flow": null,
            "grid_auto_rows": null,
            "grid_column": null,
            "grid_gap": null,
            "grid_row": null,
            "grid_template_areas": null,
            "grid_template_columns": null,
            "grid_template_rows": null,
            "height": null,
            "justify_content": null,
            "justify_items": null,
            "left": null,
            "margin": null,
            "max_height": null,
            "max_width": null,
            "min_height": null,
            "min_width": null,
            "object_fit": null,
            "object_position": null,
            "order": null,
            "overflow": null,
            "overflow_x": null,
            "overflow_y": null,
            "padding": null,
            "right": null,
            "top": null,
            "visibility": null,
            "width": null
          }
        },
        "a932321bc2714f699f4e0c3ca19e24c6": {
          "model_module": "@jupyter-widgets/controls",
          "model_name": "ProgressStyleModel",
          "model_module_version": "1.5.0",
          "state": {
            "_model_module": "@jupyter-widgets/controls",
            "_model_module_version": "1.5.0",
            "_model_name": "ProgressStyleModel",
            "_view_count": null,
            "_view_module": "@jupyter-widgets/base",
            "_view_module_version": "1.2.0",
            "_view_name": "StyleView",
            "bar_color": null,
            "description_width": ""
          }
        },
        "6006347a0c3d48229ea557aa023710f6": {
          "model_module": "@jupyter-widgets/base",
          "model_name": "LayoutModel",
          "model_module_version": "1.2.0",
          "state": {
            "_model_module": "@jupyter-widgets/base",
            "_model_module_version": "1.2.0",
            "_model_name": "LayoutModel",
            "_view_count": null,
            "_view_module": "@jupyter-widgets/base",
            "_view_module_version": "1.2.0",
            "_view_name": "LayoutView",
            "align_content": null,
            "align_items": null,
            "align_self": null,
            "border": null,
            "bottom": null,
            "display": null,
            "flex": null,
            "flex_flow": null,
            "grid_area": null,
            "grid_auto_columns": null,
            "grid_auto_flow": null,
            "grid_auto_rows": null,
            "grid_column": null,
            "grid_gap": null,
            "grid_row": null,
            "grid_template_areas": null,
            "grid_template_columns": null,
            "grid_template_rows": null,
            "height": null,
            "justify_content": null,
            "justify_items": null,
            "left": null,
            "margin": null,
            "max_height": null,
            "max_width": null,
            "min_height": null,
            "min_width": null,
            "object_fit": null,
            "object_position": null,
            "order": null,
            "overflow": null,
            "overflow_x": null,
            "overflow_y": null,
            "padding": null,
            "right": null,
            "top": null,
            "visibility": null,
            "width": null
          }
        },
        "b8cc1cee5e0d48b59d286cd67ffa81c3": {
          "model_module": "@jupyter-widgets/controls",
          "model_name": "DescriptionStyleModel",
          "model_module_version": "1.5.0",
          "state": {
            "_model_module": "@jupyter-widgets/controls",
            "_model_module_version": "1.5.0",
            "_model_name": "DescriptionStyleModel",
            "_view_count": null,
            "_view_module": "@jupyter-widgets/base",
            "_view_module_version": "1.2.0",
            "_view_name": "StyleView",
            "description_width": ""
          }
        }
      }
    },
    "accelerator": "GPU"
  },
  "cells": [
    {
      "cell_type": "markdown",
      "source": [
        "##Import"
      ],
      "metadata": {
        "id": "kwX7OxtQTxzz"
      }
    },
    {
      "cell_type": "code",
      "source": [
        "import torch\n",
        "from torch.utils.data import DataLoader\n",
        "from transformers import BertTokenizerFast\n",
        "import pandas as pd\n",
        "from torch.nn.utils.rnn import pad_sequence\n",
        "\n",
        "from tokenizers import (\n",
        "    decoders,\n",
        "    models,\n",
        "    normalizers,\n",
        "    pre_tokenizers,\n",
        "    processors,\n",
        "    trainers,\n",
        "    Tokenizer,\n",
        ")"
      ],
      "metadata": {
        "id": "o2F8JLIkMHus"
      },
      "execution_count": 1,
      "outputs": []
    },
    {
      "cell_type": "markdown",
      "source": [
        "##Pre parameter setting"
      ],
      "metadata": {
        "id": "RayQq214Tsg4"
      }
    },
    {
      "cell_type": "code",
      "source": [
        "pre_train_accs = []\n",
        "pre_test_accs =[]\n",
        "pre_total_losses = []\n",
        "pre_average_losses = []\n",
        "\n",
        "full_train_accs = []\n",
        "full_test_accs =[]\n",
        "full_total_losses = []\n",
        "full_average_losses = []\n",
        "\n",
        "max_len = 512\n",
        "batch_size = 64\n",
        "lr = 0.001\n",
        "n_epochs = 20\n",
        "device = torch.device(\"cuda\" if torch.cuda.is_available() else \"cpu\")\n",
        "print(device)"
      ],
      "metadata": {
        "colab": {
          "base_uri": "https://localhost:8080/"
        },
        "id": "l2O8d7RoMCzA",
        "outputId": "5d9e5457-aad9-43fb-a8de-8899b9a759c6"
      },
      "execution_count": 2,
      "outputs": [
        {
          "output_type": "stream",
          "name": "stdout",
          "text": [
            "cuda\n"
          ]
        }
      ]
    },
    {
      "cell_type": "code",
      "source": [
        "import pandas as pd\n",
        "from google.colab import drive\n",
        "drive.mount('/content/drive')"
      ],
      "metadata": {
        "colab": {
          "base_uri": "https://localhost:8080/"
        },
        "id": "Sz7s3qM_jWK9",
        "outputId": "e4bc8131-3fed-4c25-c883-edfbb74e0cb9"
      },
      "execution_count": 3,
      "outputs": [
        {
          "output_type": "stream",
          "name": "stdout",
          "text": [
            "Mounted at /content/drive\n"
          ]
        }
      ]
    },
    {
      "cell_type": "markdown",
      "source": [
        "##Load training data"
      ],
      "metadata": {
        "id": "LKbeSyT8Thhm"
      }
    },
    {
      "cell_type": "code",
      "source": [
        "file_path = '/content/drive/MyDrive/Colab Notebooks/MNLI/train.csv'\n",
        "data_ori = pd.read_csv(file_path)\n",
        "data = data_ori\n",
        "print(data.head())"
      ],
      "metadata": {
        "colab": {
          "base_uri": "https://localhost:8080/"
        },
        "id": "M3aCBCyt67pS",
        "outputId": "ac636ae2-a729-4838-fd63-a7425eba2130"
      },
      "execution_count": 4,
      "outputs": [
        {
          "output_type": "stream",
          "name": "stdout",
          "text": [
            "   promptID   pairID                                            premise  \\\n",
            "0     31193   31193n  Conceptually cream skimming has two basic dime...   \n",
            "1    101457  101457e  you know during the season and i guess at at y...   \n",
            "2    134793  134793e  One of our number will carry out your instruct...   \n",
            "3     37397   37397e  How do you know? All this is their information...   \n",
            "4     50563   50563n  yeah i tell you what though if you go price so...   \n",
            "\n",
            "                                premise_binary_parse  \\\n",
            "0  ( ( Conceptually ( cream skimming ) ) ( ( has ...   \n",
            "1  ( you ( ( know ( during ( ( ( the season ) and...   \n",
            "2  ( ( One ( of ( our number ) ) ) ( ( will ( ( (...   \n",
            "3  ( ( How ( ( ( do you ) know ) ? ) ) ( ( All th...   \n",
            "4  ( yeah ( i ( ( tell you ) ( what ( ( though ( ...   \n",
            "\n",
            "                                       premise_parse  \\\n",
            "0  (ROOT (S (NP (JJ Conceptually) (NN cream) (NN ...   \n",
            "1  (ROOT (S (NP (PRP you)) (VP (VBP know) (PP (IN...   \n",
            "2  (ROOT (S (NP (NP (CD One)) (PP (IN of) (NP (PR...   \n",
            "3  (ROOT (S (SBARQ (WHADVP (WRB How)) (SQ (VBP do...   \n",
            "4  (ROOT (S (VP (VB yeah) (S (NP (FW i)) (VP (VB ...   \n",
            "\n",
            "                                          hypothesis  \\\n",
            "0  Product and geography are what make cream skim...   \n",
            "1  You lose the things to the following level if ...   \n",
            "2  A member of my team will execute your orders w...   \n",
            "3                  This information belongs to them.   \n",
            "4           The tennis shoes have a range of prices.   \n",
            "\n",
            "                             hypothesis_binary_parse  \\\n",
            "0  ( ( ( Product and ) geography ) ( ( are ( what...   \n",
            "1  ( You ( ( ( ( lose ( the things ) ) ( to ( the...   \n",
            "2  ( ( ( A member ) ( of ( my team ) ) ) ( ( will...   \n",
            "3  ( ( This information ) ( ( belongs ( to them )...   \n",
            "4  ( ( The ( tennis shoes ) ) ( ( have ( ( a rang...   \n",
            "\n",
            "                                    hypothesis_parse       genre  label  \n",
            "0  (ROOT (S (NP (NN Product) (CC and) (NN geograp...  government      1  \n",
            "1  (ROOT (S (NP (PRP You)) (VP (VBP lose) (NP (DT...   telephone      0  \n",
            "2  (ROOT (S (NP (NP (DT A) (NN member)) (PP (IN o...     fiction      0  \n",
            "3  (ROOT (S (NP (DT This) (NN information)) (VP (...     fiction      0  \n",
            "4  (ROOT (S (NP (DT The) (NN tennis) (NNS shoes))...   telephone      1  \n"
          ]
        }
      ]
    },
    {
      "cell_type": "markdown",
      "source": [
        "##EDA"
      ],
      "metadata": {
        "id": "YfHz20UMTmC5"
      }
    },
    {
      "cell_type": "code",
      "source": [
        "print(data.shape)"
      ],
      "metadata": {
        "colab": {
          "base_uri": "https://localhost:8080/"
        },
        "id": "5YHOKKNzzFzA",
        "outputId": "b5f3aa63-3365-4c0d-bbea-3a65f1bf9bb7"
      },
      "execution_count": 5,
      "outputs": [
        {
          "output_type": "stream",
          "name": "stdout",
          "text": [
            "(392702, 10)\n"
          ]
        }
      ]
    },
    {
      "cell_type": "code",
      "source": [
        "data = data[:10000]  #MNLI 할때 10000개만 보류하라고 하여 10000개만 보류"
      ],
      "metadata": {
        "id": "2XzGlX1om5-2"
      },
      "execution_count": 6,
      "outputs": []
    },
    {
      "cell_type": "markdown",
      "source": [],
      "metadata": {
        "id": "beBUARPMTnhn"
      }
    },
    {
      "cell_type": "code",
      "source": [
        "print(data.info())"
      ],
      "metadata": {
        "colab": {
          "base_uri": "https://localhost:8080/"
        },
        "id": "J3w4Ff-yy2Hi",
        "outputId": "1ecf41ab-b602-48fa-d26d-4e2c5c5941ac"
      },
      "execution_count": 7,
      "outputs": [
        {
          "output_type": "stream",
          "name": "stdout",
          "text": [
            "<class 'pandas.core.frame.DataFrame'>\n",
            "RangeIndex: 10000 entries, 0 to 9999\n",
            "Data columns (total 10 columns):\n",
            " #   Column                   Non-Null Count  Dtype \n",
            "---  ------                   --------------  ----- \n",
            " 0   promptID                 10000 non-null  int64 \n",
            " 1   pairID                   10000 non-null  object\n",
            " 2   premise                  10000 non-null  object\n",
            " 3   premise_binary_parse     10000 non-null  object\n",
            " 4   premise_parse            10000 non-null  object\n",
            " 5   hypothesis               9998 non-null   object\n",
            " 6   hypothesis_binary_parse  9998 non-null   object\n",
            " 7   hypothesis_parse         10000 non-null  object\n",
            " 8   genre                    10000 non-null  object\n",
            " 9   label                    10000 non-null  int64 \n",
            "dtypes: int64(2), object(8)\n",
            "memory usage: 781.4+ KB\n",
            "None\n"
          ]
        }
      ]
    },
    {
      "cell_type": "code",
      "source": [
        "print(data.shape)"
      ],
      "metadata": {
        "colab": {
          "base_uri": "https://localhost:8080/"
        },
        "id": "M-NckuvtbIaT",
        "outputId": "c0ddf417-4e66-4b0a-d75c-f1ab706b37f4"
      },
      "execution_count": 8,
      "outputs": [
        {
          "output_type": "stream",
          "name": "stdout",
          "text": [
            "(10000, 10)\n"
          ]
        }
      ]
    },
    {
      "cell_type": "code",
      "source": [
        "print(data.isnull().sum())"
      ],
      "metadata": {
        "colab": {
          "base_uri": "https://localhost:8080/"
        },
        "id": "Od7x-4_wy19G",
        "outputId": "57525898-1ce7-4ab7-cfbc-6f06c7872afe"
      },
      "execution_count": 9,
      "outputs": [
        {
          "output_type": "stream",
          "name": "stdout",
          "text": [
            "promptID                   0\n",
            "pairID                     0\n",
            "premise                    0\n",
            "premise_binary_parse       0\n",
            "premise_parse              0\n",
            "hypothesis                 2\n",
            "hypothesis_binary_parse    2\n",
            "hypothesis_parse           0\n",
            "genre                      0\n",
            "label                      0\n",
            "dtype: int64\n"
          ]
        }
      ]
    },
    {
      "cell_type": "code",
      "source": [
        "#data['hypothesis'] = data['hypothesis'].fillna(\"Unknown\")  # null 값을 unknown 으로 보충\n",
        "#data['hypothesis_binary_parse'] = data['hypothesis_binary_parse'].fillna(\"Unknown\") #  null 값을 unknown 으로 보충\n",
        "data = data.dropna()  #null 값은 삭제"
      ],
      "metadata": {
        "id": "yJO5PQ8b51bq"
      },
      "execution_count": 10,
      "outputs": []
    },
    {
      "cell_type": "code",
      "source": [
        "data = data.drop(columns=['pairID', 'premise_binary_parse', 'premise_parse', 'hypothesis_binary_parse', 'hypothesis_parse'])  # 임무와 무관한 열은 삭제"
      ],
      "metadata": {
        "id": "_na_b__b6DQc"
      },
      "execution_count": 11,
      "outputs": []
    },
    {
      "cell_type": "code",
      "source": [
        "print(data.isnull().sum())"
      ],
      "metadata": {
        "colab": {
          "base_uri": "https://localhost:8080/"
        },
        "id": "mPyF-FVk5-w_",
        "outputId": "2b261e8f-6102-4eef-e65c-c12cd457b06f"
      },
      "execution_count": 12,
      "outputs": [
        {
          "output_type": "stream",
          "name": "stdout",
          "text": [
            "promptID      0\n",
            "premise       0\n",
            "hypothesis    0\n",
            "genre         0\n",
            "label         0\n",
            "dtype: int64\n"
          ]
        }
      ]
    },
    {
      "cell_type": "code",
      "source": [
        "print(data['label'].value_counts())"
      ],
      "metadata": {
        "colab": {
          "base_uri": "https://localhost:8080/"
        },
        "id": "Bm8-gLkh7SGn",
        "outputId": "a2ea62ac-867c-43aa-a194-165d62827a0f"
      },
      "execution_count": 13,
      "outputs": [
        {
          "output_type": "stream",
          "name": "stdout",
          "text": [
            "label\n",
            "2    3685\n",
            "0    3412\n",
            "1    2901\n",
            "Name: count, dtype: int64\n"
          ]
        }
      ]
    },
    {
      "cell_type": "markdown",
      "source": [
        "Label 는 3가지 형태로 보이며 분포는 비슷함을 알수가 있습니다."
      ],
      "metadata": {
        "id": "TlNiIaUFnoAT"
      }
    },
    {
      "cell_type": "code",
      "source": [
        "import matplotlib.pyplot as plt\n",
        "\n",
        "data['label'].value_counts().plot(kind='bar')\n",
        "plt.title('Label Distribution')\n",
        "plt.xlabel('Label')\n",
        "plt.ylabel('Count')\n",
        "plt.show()"
      ],
      "metadata": {
        "colab": {
          "base_uri": "https://localhost:8080/",
          "height": 467
        },
        "id": "6cFMIshA7Yux",
        "outputId": "e0c4d0a6-f8e6-4844-859b-487600a3c244"
      },
      "execution_count": 14,
      "outputs": [
        {
          "output_type": "display_data",
          "data": {
            "text/plain": [
              "<Figure size 640x480 with 1 Axes>"
            ],
            "image/png": "[encoded data removed]"
          },
          "metadata": {}
        }
      ]
    },
    {
      "cell_type": "markdown",
      "source": [
        "##[Feedback]\n",
        "예측값 0,1,2 의 Training label 의 데이터 수량 분포가 데체로 비슷하게 3000 개 좌우로 보입니다."
      ],
      "metadata": {
        "id": "jby91cX27zQy"
      }
    },
    {
      "cell_type": "code",
      "source": [
        "print(data['premise'])"
      ],
      "metadata": {
        "colab": {
          "base_uri": "https://localhost:8080/"
        },
        "id": "oPu9KAxyrEe4",
        "outputId": "14b9b12d-cd2c-4fec-a9ec-e87cb96da487"
      },
      "execution_count": 15,
      "outputs": [
        {
          "output_type": "stream",
          "name": "stdout",
          "text": [
            "0       Conceptually cream skimming has two basic dime...\n",
            "1       you know during the season and i guess at at y...\n",
            "2       One of our number will carry out your instruct...\n",
            "3       How do you know? All this is their information...\n",
            "4       yeah i tell you what though if you go price so...\n",
            "                              ...                        \n",
            "9995    Because, despite its monopoly power, Microsoft...\n",
            "9996                                  'Right,' I mumbled.\n",
            "9997                                          Thanks dad.\n",
            "9998                                        which is good\n",
            "9999    Their breath came in clouds in the cool night ...\n",
            "Name: premise, Length: 9998, dtype: object\n"
          ]
        }
      ]
    },
    {
      "cell_type": "code",
      "source": [
        "print(data['hypothesis'])"
      ],
      "metadata": {
        "colab": {
          "base_uri": "https://localhost:8080/"
        },
        "id": "U82Dlzcyryuv",
        "outputId": "aba1f61f-b232-46b6-ef8e-9da7ac995757"
      },
      "execution_count": null,
      "outputs": [
        {
          "output_type": "stream",
          "name": "stdout",
          "text": [
            "0       Product and geography are what make cream skim...\n",
            "1       You lose the things to the following level if ...\n",
            "2       A member of my team will execute your orders w...\n",
            "3                       This information belongs to them.\n",
            "4                The tennis shoes have a range of prices.\n",
            "                              ...                        \n",
            "9995    Microsoft owns 60 percent of all computer-rela...\n",
            "9996                                    'Wrong', I said. \n",
            "9997                                       Thanks Obama. \n",
            "9998                           I don't think that's great\n",
            "9999           Their breath was invisible in the hot air.\n",
            "Name: hypothesis, Length: 9998, dtype: object\n"
          ]
        }
      ]
    },
    {
      "cell_type": "markdown",
      "source": [
        "##Load test data"
      ],
      "metadata": {
        "id": "zqpGnZHTTW0Z"
      }
    },
    {
      "cell_type": "code",
      "source": [
        "file_path = '/content/drive/MyDrive/Colab Notebooks/MNLI/validation_matched.csv'\n",
        "test_data_ori = pd.read_csv(file_path)\n",
        "test_data = test_data_ori"
      ],
      "metadata": {
        "id": "cPQ3q2I02M_b"
      },
      "execution_count": 16,
      "outputs": []
    },
    {
      "cell_type": "code",
      "source": [
        "test_data = test_data.drop(columns=['pairID', 'premise_binary_parse', 'premise_parse', 'hypothesis_binary_parse', 'hypothesis_parse'])  # 임무와 무관한 열은 삭제\n",
        "test_data = test_data.dropna()  #null 값은 삭제\n",
        "print(test_data.info())"
      ],
      "metadata": {
        "colab": {
          "base_uri": "https://localhost:8080/"
        },
        "id": "6v-hlM8p2gXk",
        "outputId": "af0b3617-d1f8-4d41-a7d7-72a1fa354a71"
      },
      "execution_count": 17,
      "outputs": [
        {
          "output_type": "stream",
          "name": "stdout",
          "text": [
            "<class 'pandas.core.frame.DataFrame'>\n",
            "RangeIndex: 9815 entries, 0 to 9814\n",
            "Data columns (total 5 columns):\n",
            " #   Column      Non-Null Count  Dtype \n",
            "---  ------      --------------  ----- \n",
            " 0   promptID    9815 non-null   int64 \n",
            " 1   premise     9815 non-null   object\n",
            " 2   hypothesis  9815 non-null   object\n",
            " 3   genre       9815 non-null   object\n",
            " 4   label       9815 non-null   int64 \n",
            "dtypes: int64(2), object(3)\n",
            "memory usage: 383.5+ KB\n",
            "None\n"
          ]
        }
      ]
    },
    {
      "cell_type": "code",
      "source": [
        "import re\n",
        "# 텍스트 전처리 함수\n",
        "def preprocess_text(text):\n",
        "    # 소문자로 변환\n",
        "    text = text.lower()\n",
        "    # 구두점 제거\n",
        "    text = re.sub(r'[^\\w\\s]', '', text)\n",
        "    # 불필요한 공백 제거\n",
        "    text = re.sub(r'\\s+', ' ', text).strip()\n",
        "    return text\n",
        "\n",
        "# 텍스트 전처리 수행\n",
        "data['premise'] = data['premise'].apply(preprocess_text)\n",
        "data['hypothesis'] = data['hypothesis'].apply(preprocess_text)\n",
        "\n",
        "# 전처리된 데이터 확인\n",
        "print(data.head())"
      ],
      "metadata": {
        "colab": {
          "base_uri": "https://localhost:8080/"
        },
        "id": "pPx3-N2KsLaW",
        "outputId": "e6af1c11-bedf-4ce7-df67-d7d2422595f7"
      },
      "execution_count": 18,
      "outputs": [
        {
          "output_type": "stream",
          "name": "stdout",
          "text": [
            "   promptID                                            premise  \\\n",
            "0     31193  conceptually cream skimming has two basic dime...   \n",
            "1    101457  you know during the season and i guess at at y...   \n",
            "2    134793  one of our number will carry out your instruct...   \n",
            "3     37397  how do you know all this is their information ...   \n",
            "4     50563  yeah i tell you what though if you go price so...   \n",
            "\n",
            "                                          hypothesis       genre  label  \n",
            "0  product and geography are what make cream skim...  government      1  \n",
            "1  you lose the things to the following level if ...   telephone      0  \n",
            "2  a member of my team will execute your orders w...     fiction      0  \n",
            "3                   this information belongs to them     fiction      0  \n",
            "4            the tennis shoes have a range of prices   telephone      1  \n"
          ]
        }
      ]
    },
    {
      "cell_type": "markdown",
      "source": [
        "##collate_fn"
      ],
      "metadata": {
        "id": "ftmC0qAjwkTM"
      }
    },
    {
      "cell_type": "code",
      "source": [
        "from transformers import DistilBertTokenizer, logging\n",
        "import torch\n",
        "\n",
        "logging.set_verbosity_error()\n",
        "\n",
        "\n",
        "# 초기화 tokenizer\n",
        "tokenizer = DistilBertTokenizer.from_pretrained(\"distilbert-base-uncased\")\n",
        "\n",
        "def collate_fn(batch):\n",
        "    premises = [item[\"premise\"] for item in batch]\n",
        "    hypotheses = [item[\"hypothesis\"] for item in batch]\n",
        "    labels = [item[\"label\"] for item in batch]\n",
        "\n",
        "    #premise & hypothesis 토큰\n",
        "    inputs = tokenizer(\n",
        "        premises,\n",
        "        hypotheses,\n",
        "        padding=True,\n",
        "        truncation=True,\n",
        "        max_length=max_len,\n",
        "        return_tensors=\"pt\"\n",
        "    )\n",
        "\n",
        "    #Tensor Lable 전환\n",
        "    labels = torch.tensor(labels, dtype=torch.long)\n",
        "\n",
        "    return {\n",
        "        \"input_ids\": inputs[\"input_ids\"],\n",
        "        \"attention_mask\": inputs[\"attention_mask\"],\n",
        "        \"labels\": labels\n",
        "    }\n"
      ],
      "metadata": {
        "id": "DC3ISsB4rJRN",
        "colab": {
          "base_uri": "https://localhost:8080/",
          "height": 269,
          "referenced_widgets": [
            "e16d48496f4341abb074936dfb1c6528",
            "ff5eee145491434bb66d9432c75a56f1",
            "7c3f627f018d48b0a22a85a314ac49db",
            "2beba2550e6c4b0688a0a556b8b7510d",
            "aca57fc08b9942f4af7a3e152c465ab8",
            "c750868e49984084a6af87a7081f358d",
            "f64b1babbd3c4d43a55054ff5b077092",
            "c9b5398e6373471d9122dc033d8e310d",
            "bdd7e729263546aab0d445e272215cc2",
            "3feec7755bc440ad84e89fe255649da7",
            "0e22f4f88337461887d05b3adacdaf3b",
            "ab7ac5ab6e8a4724a64410730cc38f93",
            "211a4eccf7ce4f90badfe9903797a21f",
            "1c85333474264f1b94eaa269958335d2",
            "142eac367cc54521a85824ccedebccbb",
            "5bea9c93ccd140e8b00a29d0bddb0af1",
            "18041c172fac4c09b4bdf6055194f8ec",
            "422b6312698f4a6eb85bf42e883afd6a",
            "9519523778c14d2db74a977e1cd8f53b",
            "8afe5e9905874fb996ffcfac5ad2e2d9",
            "be45ed6c24484694b882a850f6af9502",
            "d35de4717c9d4280b8206920904580fe",
            "c1a4ea446731458f9727ec6c954607d3",
            "054cbfa26a15484b8b4888440d8a7dd0",
            "82fee859f93947d18a8a63516af85056",
            "e1a41e16b69f42b6a606de5f2161a5ba",
            "5b0b9c800fad4e9b8ae06ec7d7be2afa",
            "4abe477f5d0147edbc89d13e43b02bb8",
            "d4d37cdfe4f641da9cf884e8b876edee",
            "d4f0921544104cde9eed383f7cf6368a",
            "fb7221e931ab4eefa62db7cea53802e9",
            "d6275a8059f345af910b1452f177623d",
            "232545e6e90e4a968b5d2c9d2a9c9d07",
            "259ff74b6c254f739205b10162c66462",
            "cfaddf3b61a24adba41682061f95781d",
            "e5ab4567170945dc9052158b79870c56",
            "1e57296b954645b28ef23ae471063e72",
            "03dcd3706b724220986fa2e8a99083f0",
            "e98f195cefce4232af3009ed3ca9b421",
            "b9a0453bded941aab52961e8d9994771",
            "da64aab77c644f59b76d3856221cf293",
            "99fd8dd5a7bb421eabcf1782121cc965",
            "0008d7ba4893476c9672a10826ecaab2",
            "885904f4ba7e4a76b50f805d3626a542"
          ]
        },
        "outputId": "74c46abd-cb9a-4e46-aa18-eeb1ba02a5f3"
      },
      "execution_count": 19,
      "outputs": [
        {
          "output_type": "stream",
          "name": "stderr",
          "text": [
            "/usr/local/lib/python3.10/dist-packages/huggingface_hub/utils/_auth.py:94: UserWarning: \n",
            "The secret `HF_TOKEN` does not exist in your Colab secrets.\n",
            "To authenticate with the Hugging Face Hub, create a token in your settings tab (https://huggingface.co/settings/tokens), set it as secret in your Google Colab and restart your session.\n",
            "You will be able to reuse this secret in all of your notebooks.\n",
            "Please note that authentication is recommended but still optional to access public models or datasets.\n",
            "  warnings.warn(\n"
          ]
        },
        {
          "output_type": "display_data",
          "data": {
            "text/plain": [
              "tokenizer_config.json:   0%|          | 0.00/48.0 [00:00<?, ?B/s]"
            ],
            "application/vnd.jupyter.widget-view+json": {
              "version_major": 2,
              "version_minor": 0,
              "model_id": "e16d48496f4341abb074936dfb1c6528"
            }
          },
          "metadata": {}
        },
        {
          "output_type": "display_data",
          "data": {
            "text/plain": [
              "vocab.txt:   0%|          | 0.00/232k [00:00<?, ?B/s]"
            ],
            "application/vnd.jupyter.widget-view+json": {
              "version_major": 2,
              "version_minor": 0,
              "model_id": "ab7ac5ab6e8a4724a64410730cc38f93"
            }
          },
          "metadata": {}
        },
        {
          "output_type": "display_data",
          "data": {
            "text/plain": [
              "tokenizer.json:   0%|          | 0.00/466k [00:00<?, ?B/s]"
            ],
            "application/vnd.jupyter.widget-view+json": {
              "version_major": 2,
              "version_minor": 0,
              "model_id": "c1a4ea446731458f9727ec6c954607d3"
            }
          },
          "metadata": {}
        },
        {
          "output_type": "display_data",
          "data": {
            "text/plain": [
              "config.json:   0%|          | 0.00/483 [00:00<?, ?B/s]"
            ],
            "application/vnd.jupyter.widget-view+json": {
              "version_major": 2,
              "version_minor": 0,
              "model_id": "259ff74b6c254f739205b10162c66462"
            }
          },
          "metadata": {}
        }
      ]
    },
    {
      "cell_type": "code",
      "source": [
        "print(tokenizer)"
      ],
      "metadata": {
        "colab": {
          "base_uri": "https://localhost:8080/"
        },
        "id": "YQEcYQIh65yK",
        "outputId": "9d82d222-e354-4729-93cc-0e036c56c556"
      },
      "execution_count": 20,
      "outputs": [
        {
          "output_type": "stream",
          "name": "stdout",
          "text": [
            "DistilBertTokenizer(name_or_path='distilbert-base-uncased', vocab_size=30522, model_max_length=512, is_fast=False, padding_side='right', truncation_side='right', special_tokens={'unk_token': '[UNK]', 'sep_token': '[SEP]', 'pad_token': '[PAD]', 'cls_token': '[CLS]', 'mask_token': '[MASK]'}, clean_up_tokenization_spaces=True, added_tokens_decoder={\n",
            "\t0: AddedToken(\"[PAD]\", rstrip=False, lstrip=False, single_word=False, normalized=False, special=True),\n",
            "\t100: AddedToken(\"[UNK]\", rstrip=False, lstrip=False, single_word=False, normalized=False, special=True),\n",
            "\t101: AddedToken(\"[CLS]\", rstrip=False, lstrip=False, single_word=False, normalized=False, special=True),\n",
            "\t102: AddedToken(\"[SEP]\", rstrip=False, lstrip=False, single_word=False, normalized=False, special=True),\n",
            "\t103: AddedToken(\"[MASK]\", rstrip=False, lstrip=False, single_word=False, normalized=False, special=True),\n",
            "}\n",
            ")\n"
          ]
        }
      ]
    },
    {
      "cell_type": "markdown",
      "source": [
        "##DataLoader"
      ],
      "metadata": {
        "id": "zTt6OtgHwZkG"
      }
    },
    {
      "cell_type": "code",
      "source": [
        "from torch.utils.data import Dataset\n",
        "\n",
        "class MultiNLIDataset(Dataset):\n",
        "    def __init__(self, dataframe):\n",
        "        self.data = dataframe\n",
        "\n",
        "    def __len__(self):\n",
        "        return len(self.data)\n",
        "\n",
        "    def __getitem__(self, idx):\n",
        "        row = self.data.iloc[idx]\n",
        "        return {\n",
        "            \"premise\": row[\"premise\"],\n",
        "            \"hypothesis\": row[\"hypothesis\"],\n",
        "            \"label\": row[\"label\"]\n",
        "        }"
      ],
      "metadata": {
        "id": "OE2NS5pksv6h"
      },
      "execution_count": 21,
      "outputs": []
    },
    {
      "cell_type": "code",
      "source": [
        "#학습 및 테스트 Dataset 생성\n",
        "train_dataset = MultiNLIDataset(data)\n",
        "test_dataset = MultiNLIDataset(test_data)\n",
        "\n",
        "train_loader = DataLoader(\n",
        "    train_dataset, batch_size=batch_size, shuffle=True, collate_fn=collate_fn\n",
        ")\n",
        "test_loader = DataLoader(\n",
        "    test_dataset, batch_size=batch_size, shuffle=False, collate_fn=collate_fn\n",
        ")\n"
      ],
      "metadata": {
        "id": "wfs2FoFcr5Ph"
      },
      "execution_count": 22,
      "outputs": []
    },
    {
      "cell_type": "markdown",
      "source": [
        "##[MyCode]\n",
        "Tokenizer 의 구체데이터를 직관적으로 검정해봅니다."
      ],
      "metadata": {
        "id": "vfTdDtCg8btK"
      }
    },
    {
      "cell_type": "code",
      "source": [
        "first_batch = next(iter(train_loader))\n",
        "# 배치 출력\n",
        "# print(first_batch['input_ids'])\n",
        "tokenizer.convert_ids_to_tokens(first_batch['input_ids'][0])"
      ],
      "metadata": {
        "colab": {
          "base_uri": "https://localhost:8080/"
        },
        "id": "NwTCdWDKbgBi",
        "outputId": "f812c7cc-20ae-4baf-de8b-89f18acc7cfe"
      },
      "execution_count": 23,
      "outputs": [
        {
          "output_type": "execute_result",
          "data": {
            "text/plain": [
              "['[CLS]',\n",
              " 'all',\n",
              " 'right',\n",
              " 'you',\n",
              " 'too',\n",
              " 'good',\n",
              " 'night',\n",
              " 'then',\n",
              " 'bye',\n",
              " 'bye',\n",
              " '[SEP]',\n",
              " 'i',\n",
              " 'will',\n",
              " 'talk',\n",
              " 'to',\n",
              " 'you',\n",
              " 'in',\n",
              " 'the',\n",
              " 'morning',\n",
              " '[SEP]',\n",
              " '[PAD]',\n",
              " '[PAD]',\n",
              " '[PAD]',\n",
              " '[PAD]',\n",
              " '[PAD]',\n",
              " '[PAD]',\n",
              " '[PAD]',\n",
              " '[PAD]',\n",
              " '[PAD]',\n",
              " '[PAD]',\n",
              " '[PAD]',\n",
              " '[PAD]',\n",
              " '[PAD]',\n",
              " '[PAD]',\n",
              " '[PAD]',\n",
              " '[PAD]',\n",
              " '[PAD]',\n",
              " '[PAD]',\n",
              " '[PAD]',\n",
              " '[PAD]',\n",
              " '[PAD]',\n",
              " '[PAD]',\n",
              " '[PAD]',\n",
              " '[PAD]',\n",
              " '[PAD]',\n",
              " '[PAD]',\n",
              " '[PAD]',\n",
              " '[PAD]',\n",
              " '[PAD]',\n",
              " '[PAD]',\n",
              " '[PAD]',\n",
              " '[PAD]',\n",
              " '[PAD]',\n",
              " '[PAD]',\n",
              " '[PAD]',\n",
              " '[PAD]',\n",
              " '[PAD]',\n",
              " '[PAD]',\n",
              " '[PAD]',\n",
              " '[PAD]',\n",
              " '[PAD]',\n",
              " '[PAD]',\n",
              " '[PAD]',\n",
              " '[PAD]',\n",
              " '[PAD]',\n",
              " '[PAD]',\n",
              " '[PAD]',\n",
              " '[PAD]',\n",
              " '[PAD]',\n",
              " '[PAD]',\n",
              " '[PAD]',\n",
              " '[PAD]',\n",
              " '[PAD]',\n",
              " '[PAD]',\n",
              " '[PAD]',\n",
              " '[PAD]',\n",
              " '[PAD]',\n",
              " '[PAD]',\n",
              " '[PAD]',\n",
              " '[PAD]']"
            ]
          },
          "metadata": {},
          "execution_count": 23
        }
      ]
    },
    {
      "cell_type": "code",
      "source": [
        "for data in train_loader:\n",
        "    print(\"Input IDs:\\n\", data[\"input_ids\"])\n",
        "    print(\"Input IDs:\\n\", tokenizer.convert_ids_to_tokens(data[\"input_ids\"][0]))\n",
        "    print(\"Attention Mask:\\n\", data[\"attention_mask\"])\n",
        "    print(\"Labels:\\n\", data[\"labels\"])\n",
        "    break"
      ],
      "metadata": {
        "colab": {
          "base_uri": "https://localhost:8080/"
        },
        "id": "rTv68TCq7Y3f",
        "outputId": "e9296a83-4772-48c2-ccdd-d8af7b62c426"
      },
      "execution_count": 24,
      "outputs": [
        {
          "output_type": "stream",
          "name": "stdout",
          "text": [
            "Input IDs:\n",
            " tensor([[  101,  2065,  1996,  ...,     0,     0,     0],\n",
            "        [  101,  2061,  2017,  ...,     0,     0,     0],\n",
            "        [  101,  1998,  2017,  ...,     0,     0,     0],\n",
            "        ...,\n",
            "        [  101,  2023, 16625,  ...,     0,     0,     0],\n",
            "        [  101,  2035,  6401,  ...,     0,     0,     0],\n",
            "        [  101,  1996, 23564,  ...,     0,     0,     0]])\n",
            "Input IDs:\n",
            " ['[CLS]', 'if', 'the', 'attorney', 'general', 'had', 'ordered', 'up', 'an', 'independent', 'counsel', 'not', 'only', 'would', 'her', 'job', 'have', 'been', 'secure', 'but', 'the', 'new', 'york', 'times', 'and', 'maybe', 'even', 'sen', '[SEP]', 'the', 'attorney', 'general', 'did', 'not', 'order', 'an', 'independent', 'counsel', '[SEP]', '[PAD]', '[PAD]', '[PAD]', '[PAD]', '[PAD]', '[PAD]', '[PAD]', '[PAD]', '[PAD]', '[PAD]', '[PAD]', '[PAD]', '[PAD]', '[PAD]', '[PAD]', '[PAD]', '[PAD]', '[PAD]', '[PAD]', '[PAD]', '[PAD]', '[PAD]', '[PAD]', '[PAD]', '[PAD]', '[PAD]', '[PAD]', '[PAD]', '[PAD]', '[PAD]', '[PAD]', '[PAD]', '[PAD]', '[PAD]', '[PAD]', '[PAD]', '[PAD]', '[PAD]', '[PAD]', '[PAD]', '[PAD]', '[PAD]', '[PAD]', '[PAD]', '[PAD]', '[PAD]', '[PAD]', '[PAD]', '[PAD]', '[PAD]', '[PAD]', '[PAD]', '[PAD]', '[PAD]', '[PAD]', '[PAD]', '[PAD]', '[PAD]', '[PAD]', '[PAD]', '[PAD]', '[PAD]', '[PAD]', '[PAD]']\n",
            "Attention Mask:\n",
            " tensor([[1, 1, 1,  ..., 0, 0, 0],\n",
            "        [1, 1, 1,  ..., 0, 0, 0],\n",
            "        [1, 1, 1,  ..., 0, 0, 0],\n",
            "        ...,\n",
            "        [1, 1, 1,  ..., 0, 0, 0],\n",
            "        [1, 1, 1,  ..., 0, 0, 0],\n",
            "        [1, 1, 1,  ..., 0, 0, 0]])\n",
            "Labels:\n",
            " tensor([0, 0, 0, 1, 2, 0, 0, 0, 0, 0, 1, 1, 0, 0, 2, 2, 1, 2, 2, 2, 0, 2, 1, 0,\n",
            "        2, 2, 0, 1, 1, 0, 0, 0, 1, 1, 1, 1, 0, 2, 0, 0, 1, 2, 0, 0, 1, 1, 0, 0,\n",
            "        0, 0, 2, 0, 0, 0, 1, 1, 2, 1, 2, 1, 0, 2, 1, 2])\n"
          ]
        }
      ]
    },
    {
      "cell_type": "markdown",
      "source": [
        "##TextClassifier"
      ],
      "metadata": {
        "id": "o1yYf9tf7Cpn"
      }
    },
    {
      "cell_type": "code",
      "source": [
        "import torch\n",
        "from torch import nn\n",
        "from transformers import DistilBertModel\n",
        "\n",
        "class TextClassifier(nn.Module):\n",
        "    def __init__(self, pretrained_model_name, num_labels):\n",
        "        super(TextClassifier, self).__init__()\n",
        "        # 사전 훈련된 DistilBERT 모델 로딩\n",
        "        self.bert = DistilBertModel.from_pretrained(pretrained_model_name)\n",
        "        # 분류 계층 정의\n",
        "        self.classifier = nn.Linear(self.bert.config.hidden_size, num_labels)\n",
        "        # self.dropout = nn.Dropout(0.3)\n",
        "\n",
        "    def forward(self, input_ids, attention_mask):\n",
        "        outputs = self.bert(input_ids=input_ids, attention_mask=attention_mask)\n",
        "        pooled_output = outputs.last_hidden_state[:, 0]  # 取 [CLS] token 的向量\n",
        "        # pooled_output = self.dropout(pooled_output)\n",
        "        logits = self.classifier(pooled_output)\n",
        "        return logits\n"
      ],
      "metadata": {
        "id": "G2PG2dRx7Bc3"
      },
      "execution_count": 25,
      "outputs": []
    },
    {
      "cell_type": "markdown",
      "source": [
        "##Model"
      ],
      "metadata": {
        "id": "GZB4GGYJwwkp"
      }
    },
    {
      "cell_type": "code",
      "source": [
        "from transformers import DistilBertForSequenceClassification, AdamW\n",
        "from tqdm import tqdm\n",
        "\n",
        "model = TextClassifier(pretrained_model_name=\"distilbert-base-uncased\", num_labels=3)\n",
        "device = torch.device(\"cuda\" if torch.cuda.is_available() else \"cpu\")\n",
        "model.to(device)"
      ],
      "metadata": {
        "colab": {
          "base_uri": "https://localhost:8080/",
          "height": 605,
          "referenced_widgets": [
            "4db904bbd6224969b71103245151157c",
            "692e3fbafe6f4f03b9a60f78deee0102",
            "edea8a22ade346ed88948caef0c7719a",
            "db26cd0c4cbf434c93c0e772e63c62b9",
            "ff2e134f2fc946259fa287242f612c0b",
            "ad5b46f2e1544cff936d769ab3e9cb50",
            "2b39a0dd60e3422eae0d339b3d7ef115",
            "50fd0347b2ec41fc8b356d830ecd4adf",
            "a932321bc2714f699f4e0c3ca19e24c6",
            "6006347a0c3d48229ea557aa023710f6",
            "b8cc1cee5e0d48b59d286cd67ffa81c3"
          ]
        },
        "id": "NjMkerSrv9Zv",
        "outputId": "1bc471a2-9097-4212-99bc-b431da8556d6"
      },
      "execution_count": 26,
      "outputs": [
        {
          "output_type": "display_data",
          "data": {
            "text/plain": [
              "model.safetensors:   0%|          | 0.00/268M [00:00<?, ?B/s]"
            ],
            "application/vnd.jupyter.widget-view+json": {
              "version_major": 2,
              "version_minor": 0,
              "model_id": "4db904bbd6224969b71103245151157c"
            }
          },
          "metadata": {}
        },
        {
          "output_type": "execute_result",
          "data": {
            "text/plain": [
              "TextClassifier(\n",
              "  (bert): DistilBertModel(\n",
              "    (embeddings): Embeddings(\n",
              "      (word_embeddings): Embedding(30522, 768, padding_idx=0)\n",
              "      (position_embeddings): Embedding(512, 768)\n",
              "      (LayerNorm): LayerNorm((768,), eps=1e-12, elementwise_affine=True)\n",
              "      (dropout): Dropout(p=0.1, inplace=False)\n",
              "    )\n",
              "    (transformer): Transformer(\n",
              "      (layer): ModuleList(\n",
              "        (0-5): 6 x TransformerBlock(\n",
              "          (attention): DistilBertSdpaAttention(\n",
              "            (dropout): Dropout(p=0.1, inplace=False)\n",
              "            (q_lin): Linear(in_features=768, out_features=768, bias=True)\n",
              "            (k_lin): Linear(in_features=768, out_features=768, bias=True)\n",
              "            (v_lin): Linear(in_features=768, out_features=768, bias=True)\n",
              "            (out_lin): Linear(in_features=768, out_features=768, bias=True)\n",
              "          )\n",
              "          (sa_layer_norm): LayerNorm((768,), eps=1e-12, elementwise_affine=True)\n",
              "          (ffn): FFN(\n",
              "            (dropout): Dropout(p=0.1, inplace=False)\n",
              "            (lin1): Linear(in_features=768, out_features=3072, bias=True)\n",
              "            (lin2): Linear(in_features=3072, out_features=768, bias=True)\n",
              "            (activation): GELUActivation()\n",
              "          )\n",
              "          (output_layer_norm): LayerNorm((768,), eps=1e-12, elementwise_affine=True)\n",
              "        )\n",
              "      )\n",
              "    )\n",
              "  )\n",
              "  (classifier): Linear(in_features=768, out_features=3, bias=True)\n",
              ")"
            ]
          },
          "metadata": {},
          "execution_count": 26
        }
      ]
    },
    {
      "cell_type": "markdown",
      "source": [
        "## Accuracy function"
      ],
      "metadata": {
        "id": "aFzd0bbczjpJ"
      }
    },
    {
      "cell_type": "code",
      "source": [
        "def accuracy(model, dataloader, device):\n",
        "    total_samples = 0\n",
        "    correct_predictions = 0\n",
        "\n",
        "    with torch.no_grad():\n",
        "        for batch in dataloader:\n",
        "\n",
        "            input_ids = batch[\"input_ids\"].to(device)\n",
        "            attention_mask = batch[\"attention_mask\"].to(device)\n",
        "            labels = batch[\"labels\"].to(device)\n",
        "\n",
        "            outputs = model(input_ids, attention_mask=attention_mask)\n",
        "\n",
        "            # if isinstance(outputs, dict):\n",
        "            #     logits = outputs[\"logits\"]\n",
        "            # else:\n",
        "            #     logits = outputs\n",
        "\n",
        "            preds = torch.argmax(outputs, dim=-1)\n",
        "\n",
        "            total_samples += labels.size(0)\n",
        "            correct_predictions += (preds == labels).sum().item()\n",
        "\n",
        "    return correct_predictions / total_samples\n"
      ],
      "metadata": {
        "id": "CUqnVRYqCa4a"
      },
      "execution_count": 27,
      "outputs": []
    },
    {
      "cell_type": "code",
      "source": [
        "for param in model.bert.parameters():\n",
        "    param.requires_grad = False"
      ],
      "metadata": {
        "id": "ua8uJ-yljh1O"
      },
      "execution_count": 28,
      "outputs": []
    },
    {
      "cell_type": "markdown",
      "source": [
        "##Training mobel"
      ],
      "metadata": {
        "id": "4yU4jDdkxRgw"
      }
    },
    {
      "cell_type": "code",
      "source": [
        "from torch.optim import Adam\n",
        "import numpy as np\n",
        "import matplotlib.pyplot as plt\n",
        "from torch import nn\n",
        "\n",
        "loss_fn = nn.CrossEntropyLoss()\n",
        "optimizer = Adam(model.parameters(), lr=lr)\n",
        "\n",
        "# Train begin\n",
        "def train_model(model, data_loader, optimizer, device, epochs, train_type):\n",
        "    for epoch in range(epochs):\n",
        "      total_loss = 0.\n",
        "      model.train()\n",
        "      for data in train_loader:\n",
        "        optimizer.zero_grad()\n",
        "\n",
        "        input_ids = data[\"input_ids\"].to(device)\n",
        "        attention_mask = data[\"attention_mask\"].to(device)\n",
        "        labels = data[\"labels\"].to(device)\n",
        "\n",
        "\n",
        "        preds = model(input_ids, attention_mask=attention_mask)\n",
        "        loss = loss_fn(preds, labels)\n",
        "        loss.backward()\n",
        "        optimizer.step()\n",
        "\n",
        "        total_loss += loss.item()\n",
        "        average_loss = total_loss / len(train_loader)\n",
        "\n",
        "      print(f\"Epoch {epoch:3d} | Train Loss: {total_loss} | Average_loss: {average_loss}\" )\n",
        "      with torch.no_grad():\n",
        "        model.eval()\n",
        "        train_acc = accuracy(model, train_loader,device)\n",
        "        test_acc = accuracy(model, test_loader,device)\n",
        "        print(f\"=========> Train acc: {train_acc:.3f} | Test acc: {test_acc:.3f}\")\n",
        "        if train_type == 0:\n",
        "          pre_train_accs.append(train_acc)\n",
        "          pre_test_accs.append(test_acc)\n",
        "          pre_total_losses.append(total_loss)\n",
        "          pre_average_losses.append(average_loss)\n",
        "        else:\n",
        "          full_train_accs.append(train_acc)\n",
        "          full_test_accs.append(test_acc)\n",
        "          full_total_losses.append(total_loss)\n",
        "          full_average_losses.append(average_loss)\n",
        "\n",
        "\n"
      ],
      "metadata": {
        "id": "RsjyL_iOxBPa"
      },
      "execution_count": 29,
      "outputs": []
    },
    {
      "cell_type": "markdown",
      "source": [
        "##Train start"
      ],
      "metadata": {
        "id": "jQbSFf1d8tL_"
      }
    },
    {
      "cell_type": "code",
      "source": [
        "import warnings\n",
        "warnings.filterwarnings(\"ignore\")\n",
        "\n",
        "# Training 시작\n",
        "train_model(model, train_loader, optimizer, device, n_epochs, train_type=0)\n"
      ],
      "metadata": {
        "colab": {
          "base_uri": "https://localhost:8080/"
        },
        "id": "ro7ay8a5x8nh",
        "outputId": "73ef193c-e2b9-4d91-8fa5-ea79ff670fc3"
      },
      "execution_count": 30,
      "outputs": [
        {
          "output_type": "stream",
          "name": "stdout",
          "text": [
            "Epoch   0 | Train Loss: 170.11701679229736 | Average_loss: 1.083547877657945\n",
            "=========> Train acc: 0.468 | Test acc: 0.429\n",
            "Epoch   1 | Train Loss: 164.71229177713394 | Average_loss: 1.0491228775613626\n",
            "=========> Train acc: 0.479 | Test acc: 0.431\n",
            "Epoch   2 | Train Loss: 162.74370485544205 | Average_loss: 1.0365841073595035\n",
            "=========> Train acc: 0.502 | Test acc: 0.457\n",
            "Epoch   3 | Train Loss: 160.79198652505875 | Average_loss: 1.0241527804143868\n",
            "=========> Train acc: 0.484 | Test acc: 0.437\n",
            "Epoch   4 | Train Loss: 159.8893187046051 | Average_loss: 1.0184033038509879\n",
            "=========> Train acc: 0.505 | Test acc: 0.462\n",
            "Epoch   5 | Train Loss: 159.7695951461792 | Average_loss: 1.017640733415154\n",
            "=========> Train acc: 0.509 | Test acc: 0.465\n",
            "Epoch   6 | Train Loss: 158.42347884178162 | Average_loss: 1.0090667442151695\n",
            "=========> Train acc: 0.529 | Test acc: 0.477\n",
            "Epoch   7 | Train Loss: 158.2196505665779 | Average_loss: 1.007768474946356\n",
            "=========> Train acc: 0.529 | Test acc: 0.478\n",
            "Epoch   8 | Train Loss: 157.0299785733223 | Average_loss: 1.0001909463268936\n",
            "=========> Train acc: 0.528 | Test acc: 0.475\n",
            "Epoch   9 | Train Loss: 156.93654841184616 | Average_loss: 0.9995958497569819\n",
            "=========> Train acc: 0.529 | Test acc: 0.481\n",
            "Epoch  10 | Train Loss: 156.3656319975853 | Average_loss: 0.9959594394750656\n",
            "=========> Train acc: 0.527 | Test acc: 0.473\n",
            "Epoch  11 | Train Loss: 156.56410932540894 | Average_loss: 0.9972236262764901\n",
            "=========> Train acc: 0.520 | Test acc: 0.470\n",
            "Epoch  12 | Train Loss: 155.90502333641052 | Average_loss: 0.9930256263465639\n",
            "=========> Train acc: 0.528 | Test acc: 0.467\n",
            "Epoch  13 | Train Loss: 154.86361980438232 | Average_loss: 0.9863924828304607\n",
            "=========> Train acc: 0.538 | Test acc: 0.483\n",
            "Epoch  14 | Train Loss: 155.460484623909 | Average_loss: 0.9901941695790382\n",
            "=========> Train acc: 0.540 | Test acc: 0.483\n",
            "Epoch  15 | Train Loss: 155.2958676815033 | Average_loss: 0.989145654022314\n",
            "=========> Train acc: 0.538 | Test acc: 0.482\n",
            "Epoch  16 | Train Loss: 154.59630435705185 | Average_loss: 0.98468983666912\n",
            "=========> Train acc: 0.530 | Test acc: 0.478\n",
            "Epoch  17 | Train Loss: 155.3291397690773 | Average_loss: 0.9893575781469892\n",
            "=========> Train acc: 0.542 | Test acc: 0.480\n",
            "Epoch  18 | Train Loss: 154.29597145318985 | Average_loss: 0.982776888236878\n",
            "=========> Train acc: 0.538 | Test acc: 0.479\n",
            "Epoch  19 | Train Loss: 154.25378024578094 | Average_loss: 0.9825081544317258\n",
            "=========> Train acc: 0.544 | Test acc: 0.484\n"
          ]
        }
      ]
    },
    {
      "cell_type": "markdown",
      "source": [
        "##PreTraining Result"
      ],
      "metadata": {
        "id": "e2gIwdWfSw5l"
      }
    },
    {
      "cell_type": "code",
      "source": [
        "def plot_averagelosses(pre_average_losses, label1='train'):\n",
        "  x = np.arange(len(pre_average_losses))\n",
        "\n",
        "  plt.plot(x, pre_average_losses, label=label1)\n",
        "  plt.legend()\n",
        "  plt.show()\n",
        "plot_averagelosses(pre_average_losses, label1='Train losses')"
      ],
      "metadata": {
        "id": "O4ryOktjKouk",
        "colab": {
          "base_uri": "https://localhost:8080/",
          "height": 430
        },
        "outputId": "3f8b8583-acd9-4eab-dea7-4d687a8e0aac"
      },
      "execution_count": 31,
      "outputs": [
        {
          "output_type": "display_data",
          "data": {
            "text/plain": [
              "<Figure size 640x480 with 1 Axes>"
            ],
            "image/png": "[encoded data removed]"
          },
          "metadata": {}
        }
      ]
    },
    {
      "cell_type": "code",
      "source": [
        "def plot_acc(train_accs, test_accs, label1='train', label2='test'):\n",
        "  x = np.arange(len(train_accs))\n",
        "\n",
        "  plt.plot(x, train_accs, label=label1)\n",
        "  plt.plot(x, test_accs, label=label2)\n",
        "  plt.legend()\n",
        "  plt.show()"
      ],
      "metadata": {
        "id": "Y1T9TpuxKvS8"
      },
      "execution_count": 32,
      "outputs": []
    },
    {
      "cell_type": "code",
      "source": [
        "plot_acc(pre_train_accs, pre_test_accs, label1='Train Accuracy', label2='Test Accuracy')"
      ],
      "metadata": {
        "id": "3GXRWNDsKzvr",
        "colab": {
          "base_uri": "https://localhost:8080/",
          "height": 430
        },
        "outputId": "b82324f1-d6fa-450a-e933-7f9b630937ac"
      },
      "execution_count": 33,
      "outputs": [
        {
          "output_type": "display_data",
          "data": {
            "text/plain": [
              "<Figure size 640x480 with 1 Axes>"
            ],
            "image/png": "[encoded data removed]"
          },
          "metadata": {}
        }
      ]
    },
    {
      "cell_type": "markdown",
      "source": [
        "##Start transform full training"
      ],
      "metadata": {
        "id": "RZ2NV5S6SzbC"
      }
    },
    {
      "cell_type": "code",
      "source": [
        "device = torch.device(\"cuda\" if torch.cuda.is_available() else \"cpu\")\n",
        "print(device)"
      ],
      "metadata": {
        "id": "wxp08AWxAzbO",
        "outputId": "6089401a-1cc7-458e-dd69-8d0f520e8f28",
        "colab": {
          "base_uri": "https://localhost:8080/"
        }
      },
      "execution_count": 34,
      "outputs": [
        {
          "output_type": "stream",
          "name": "stdout",
          "text": [
            "cuda\n"
          ]
        }
      ]
    },
    {
      "cell_type": "code",
      "source": [
        "from math import sqrt\n",
        "# MultiHeadAttention\n",
        "class MultiHeadAttention(nn.Module):\n",
        "    def __init__(self, input_dim, d_model, n_heads):\n",
        "        super().__init__()\n",
        "        self.n_heads = n_heads\n",
        "        self.depth = d_model // n_heads\n",
        "        self.query = nn.Linear(input_dim, d_model)\n",
        "        self.key = nn.Linear(input_dim, d_model)\n",
        "        self.value = nn.Linear(input_dim, d_model)\n",
        "        self.dense = nn.Linear(d_model, d_model)\n",
        "        self.softmax = nn.Softmax(dim=-1)\n",
        "\n",
        "    def forward(self, x, attention_mask=None):\n",
        "        batch_size = x.shape[0]\n",
        "\n",
        "        # Q, K, V 생성\n",
        "        q = self.query(x).view(batch_size, -1, self.n_heads, self.depth).transpose(1, 2)\n",
        "        k = self.key(x).view(batch_size, -1, self.n_heads, self.depth).transpose(1, 2)\n",
        "        v = self.value(x).view(batch_size, -1, self.n_heads, self.depth).transpose(1, 2)\n",
        "\n",
        "        # 디버깅용 출력\n",
        "        # Scaled Dot-Product Attention\n",
        "        score = torch.matmul(q, k.transpose(-2, -1)) / sqrt(self.depth)\n",
        "\n",
        "        if attention_mask is not None:\n",
        "            mask = attention_mask.unsqueeze(1).unsqueeze(2)  # 차원 확장\n",
        "            score = score.masked_fill(mask == 0, -1e9)\n",
        "\n",
        "        attention_weights = self.softmax(score)\n",
        "\n",
        "        context = torch.matmul(attention_weights, v)\n",
        "        context = context.transpose(1, 2).contiguous().view(batch_size, -1, self.n_heads * self.depth)\n",
        "\n",
        "        output = self.dense(context)\n",
        "        return output\n"
      ],
      "metadata": {
        "id": "tqb_x3uqRuSE"
      },
      "execution_count": 35,
      "outputs": []
    },
    {
      "cell_type": "code",
      "source": [
        "\n",
        "# TransformerLayer\n",
        "class TransformerLayer(nn.Module):\n",
        "    def __init__(self, d_model, n_heads, dff):\n",
        "        super().__init__()\n",
        "        self.mha = MultiHeadAttention(d_model, d_model, n_heads)\n",
        "        self.ffn = nn.Sequential(\n",
        "            nn.Linear(d_model, dff),\n",
        "            nn.ReLU(),\n",
        "            nn.Linear(dff, d_model)\n",
        "        )\n",
        "        self.layernorm1 = nn.LayerNorm(d_model)\n",
        "        self.layernorm2 = nn.LayerNorm(d_model)\n",
        "        self.dropout1 = nn.Dropout(0.1)\n",
        "        self.dropout2 = nn.Dropout(0.1)\n",
        "\n",
        "    def forward(self, x, attention_mask=None):\n",
        "        attn_output = self.mha(x, attention_mask)\n",
        "        out1 = self.layernorm1(x + self.dropout1(attn_output))\n",
        "        ffn_output = self.ffn(out1)\n",
        "        out2 = self.layernorm2(out1 + self.dropout2(ffn_output))\n",
        "        return out2"
      ],
      "metadata": {
        "id": "6onZQc2-SIT2"
      },
      "execution_count": 36,
      "outputs": []
    },
    {
      "cell_type": "code",
      "source": [
        "# TextClassifier\n",
        "class Transformer_TextClassifier(nn.Module):\n",
        "    def __init__(self, vocab_size, d_model, n_layers, n_heads, dff):\n",
        "        super().__init__()\n",
        "        self.embedding = nn.Embedding(vocab_size, d_model)\n",
        "        self.pos_encoding = nn.Parameter(torch.zeros(1, max_len, d_model), requires_grad=False)\n",
        "        self.layers = nn.ModuleList([TransformerLayer(d_model, n_heads, dff) for _ in range(n_layers)])\n",
        "        self.classifier = nn.Linear(d_model, 3)  # 3개의 감정분류\n",
        "\n",
        "    def forward(self, x, attention_mask=None):\n",
        "        seq_len = x.shape[1]\n",
        "        x = self.embedding(x) + self.pos_encoding[:, :seq_len, :]\n",
        "        for layer in self.layers:\n",
        "            x = layer(x, attention_mask)\n",
        "        x = x[:, 0, :]\n",
        "        x = self.classifier(x)\n",
        "        return x"
      ],
      "metadata": {
        "id": "jHeoNvI7SPVl"
      },
      "execution_count": 37,
      "outputs": []
    },
    {
      "cell_type": "code",
      "source": [
        "def full_accuracy(model, dataloader, device):\n",
        "    total_samples = 0\n",
        "    correct_predictions = 0\n",
        "\n",
        "    with torch.no_grad():\n",
        "        for batch in dataloader:\n",
        "\n",
        "            input_ids = batch[\"input_ids\"].to(device)\n",
        "            attention_mask = batch[\"attention_mask\"].to(device)\n",
        "            labels = batch[\"labels\"].to(device)\n",
        "\n",
        "            outputs = model(input_ids, attention_mask=attention_mask)\n",
        "\n",
        "            # if isinstance(outputs, dict):\n",
        "            #     logits = outputs[\"logits\"]\n",
        "            # else:\n",
        "            #     logits = outputs\n",
        "\n",
        "            preds = torch.argmax(outputs, dim=-1)\n",
        "\n",
        "            total_samples += labels.size(0)\n",
        "            correct_predictions += (preds == labels).sum().item()\n",
        "\n",
        "    return correct_predictions / total_samples\n"
      ],
      "metadata": {
        "id": "9nogskvj50ZR"
      },
      "execution_count": 38,
      "outputs": []
    },
    {
      "cell_type": "code",
      "source": [
        "from torch.utils.data import DataLoader\n",
        "from torch.optim import AdamW\n",
        "from tqdm import tqdm\n",
        "\n",
        "vocab_size = len(tokenizer)\n",
        "fulltrain_model = Transformer_TextClassifier(vocab_size, d_model=768, n_layers=10, n_heads=8, dff=256)\n",
        "fulltrain_model.to(device)\n"
      ],
      "metadata": {
        "id": "sQFbWJrgSoTm",
        "colab": {
          "base_uri": "https://localhost:8080/"
        },
        "outputId": "a204a1ca-b0d3-4a29-f297-4b2374b4eec4"
      },
      "execution_count": 39,
      "outputs": [
        {
          "output_type": "execute_result",
          "data": {
            "text/plain": [
              "Transformer_TextClassifier(\n",
              "  (embedding): Embedding(30522, 768)\n",
              "  (layers): ModuleList(\n",
              "    (0-9): 10 x TransformerLayer(\n",
              "      (mha): MultiHeadAttention(\n",
              "        (query): Linear(in_features=768, out_features=768, bias=True)\n",
              "        (key): Linear(in_features=768, out_features=768, bias=True)\n",
              "        (value): Linear(in_features=768, out_features=768, bias=True)\n",
              "        (dense): Linear(in_features=768, out_features=768, bias=True)\n",
              "        (softmax): Softmax(dim=-1)\n",
              "      )\n",
              "      (ffn): Sequential(\n",
              "        (0): Linear(in_features=768, out_features=256, bias=True)\n",
              "        (1): ReLU()\n",
              "        (2): Linear(in_features=256, out_features=768, bias=True)\n",
              "      )\n",
              "      (layernorm1): LayerNorm((768,), eps=1e-05, elementwise_affine=True)\n",
              "      (layernorm2): LayerNorm((768,), eps=1e-05, elementwise_affine=True)\n",
              "      (dropout1): Dropout(p=0.1, inplace=False)\n",
              "      (dropout2): Dropout(p=0.1, inplace=False)\n",
              "    )\n",
              "  )\n",
              "  (classifier): Linear(in_features=768, out_features=3, bias=True)\n",
              ")"
            ]
          },
          "metadata": {},
          "execution_count": 39
        }
      ]
    },
    {
      "cell_type": "code",
      "source": [
        "\n",
        "loss_fn = nn.CrossEntropyLoss()\n",
        "full_optimizer = Adam(fulltrain_model.parameters(), lr=lr)\n",
        "\n",
        "# Train begin\n",
        "# Train begin\n",
        "def full_train_model(model, data_loader, full_optimizer, device, epochs, train_type):\n",
        "    model.train()  # 모델을 학습 모드로 전환\n",
        "    loss_fn = nn.CrossEntropyLoss()  # 손실 함수 정의\n",
        "\n",
        "    for epoch in range(epochs):\n",
        "      total_loss = 0.\n",
        "      model.train()\n",
        "      for data in train_loader:\n",
        "        full_optimizer.zero_grad()\n",
        "\n",
        "        input_ids = data[\"input_ids\"].to(device)\n",
        "        attention_mask = data[\"attention_mask\"].to(device)\n",
        "        labels = data[\"labels\"].to(device)\n",
        "\n",
        "\n",
        "        preds = model(input_ids, attention_mask=attention_mask)\n",
        "        loss = loss_fn(preds, labels)\n",
        "        loss.backward()\n",
        "        full_optimizer.step()\n",
        "\n",
        "        total_loss += loss.item()\n",
        "        average_loss = total_loss / len(train_loader)\n",
        "\n",
        "      print(f\"Epoch {epoch:3d} | Train Loss: {total_loss} | Average_loss: {average_loss}\" )\n",
        "      with torch.no_grad():\n",
        "        model.eval()\n",
        "        train_acc = full_accuracy(model, train_loader,device)\n",
        "        test_acc = full_accuracy(model, test_loader,device)\n",
        "        print(f\"=========> Train acc: {train_acc:.3f} | Test acc: {test_acc:.3f}\")\n",
        "        full_train_accs.append(train_acc)\n",
        "        full_test_accs.append(test_acc)\n",
        "        full_total_losses.append(total_loss)\n",
        "        full_average_losses.append(average_loss)\n"
      ],
      "metadata": {
        "id": "VJo4k0M9GoJs"
      },
      "execution_count": 44,
      "outputs": []
    },
    {
      "cell_type": "code",
      "source": [
        "full_train_model(fulltrain_model, train_loader, full_optimizer, device, n_epochs, train_type=1)"
      ],
      "metadata": {
        "id": "PP0ksaAUXB0D",
        "colab": {
          "base_uri": "https://localhost:8080/"
        },
        "outputId": "ca0e3c48-fdb5-448e-8495-6964343852e8"
      },
      "execution_count": 45,
      "outputs": [
        {
          "output_type": "stream",
          "name": "stdout",
          "text": [
            "Epoch   0 | Train Loss: 197.07294011116028 | Average_loss: 1.2552416567589826\n",
            "=========> Train acc: 0.369 | Test acc: 0.327\n",
            "Epoch   1 | Train Loss: 174.7140234708786 | Average_loss: 1.112828174973749\n",
            "=========> Train acc: 0.290 | Test acc: 0.318\n",
            "Epoch   2 | Train Loss: 174.2525327205658 | Average_loss: 1.1098887434430942\n",
            "=========> Train acc: 0.369 | Test acc: 0.327\n",
            "Epoch   3 | Train Loss: 174.05328476428986 | Average_loss: 1.1086196481801902\n",
            "=========> Train acc: 0.341 | Test acc: 0.354\n",
            "Epoch   4 | Train Loss: 173.21899819374084 | Average_loss: 1.103305720979241\n",
            "=========> Train acc: 0.341 | Test acc: 0.354\n",
            "Epoch   5 | Train Loss: 173.07743155956268 | Average_loss: 1.1024040226723737\n",
            "=========> Train acc: 0.341 | Test acc: 0.354\n",
            "Epoch   6 | Train Loss: 172.6279993057251 | Average_loss: 1.0995413968517522\n",
            "=========> Train acc: 0.369 | Test acc: 0.327\n",
            "Epoch   7 | Train Loss: 172.8298817873001 | Average_loss: 1.1008272725305739\n",
            "=========> Train acc: 0.369 | Test acc: 0.327\n",
            "Epoch   8 | Train Loss: 172.5214363336563 | Average_loss: 1.0988626518067282\n",
            "=========> Train acc: 0.369 | Test acc: 0.327\n",
            "Epoch   9 | Train Loss: 172.19815731048584 | Average_loss: 1.0968035497483175\n",
            "=========> Train acc: 0.369 | Test acc: 0.327\n",
            "Epoch  10 | Train Loss: 173.13132333755493 | Average_loss: 1.1027472824048086\n",
            "=========> Train acc: 0.369 | Test acc: 0.327\n",
            "Epoch  11 | Train Loss: 172.26862239837646 | Average_loss: 1.0972523719641813\n",
            "=========> Train acc: 0.369 | Test acc: 0.327\n",
            "Epoch  12 | Train Loss: 172.16783928871155 | Average_loss: 1.096610441329373\n",
            "=========> Train acc: 0.341 | Test acc: 0.354\n",
            "Epoch  13 | Train Loss: 172.06634640693665 | Average_loss: 1.0959639898530997\n",
            "=========> Train acc: 0.369 | Test acc: 0.327\n",
            "Epoch  14 | Train Loss: 171.9109194278717 | Average_loss: 1.0949740090947242\n",
            "=========> Train acc: 0.369 | Test acc: 0.327\n",
            "Epoch  15 | Train Loss: 171.9336748123169 | Average_loss: 1.095118947849152\n",
            "=========> Train acc: 0.341 | Test acc: 0.354\n",
            "Epoch  16 | Train Loss: 172.149272441864 | Average_loss: 1.0964921811583694\n",
            "=========> Train acc: 0.341 | Test acc: 0.354\n",
            "Epoch  17 | Train Loss: 171.99677169322968 | Average_loss: 1.09552083881038\n",
            "=========> Train acc: 0.369 | Test acc: 0.327\n",
            "Epoch  18 | Train Loss: 171.92535972595215 | Average_loss: 1.0950659855156188\n",
            "=========> Train acc: 0.369 | Test acc: 0.327\n",
            "Epoch  19 | Train Loss: 171.92812633514404 | Average_loss: 1.0950836072302168\n",
            "=========> Train acc: 0.369 | Test acc: 0.327\n"
          ]
        }
      ]
    },
    {
      "cell_type": "code",
      "source": [
        "plot_averagelosses(full_average_losses, label1='Full Train losses')"
      ],
      "metadata": {
        "colab": {
          "base_uri": "https://localhost:8080/",
          "height": 430
        },
        "id": "wYA8hw2uu_Nu",
        "outputId": "533ac2f8-e041-4557-a2ef-4eedb4f06132"
      },
      "execution_count": 46,
      "outputs": [
        {
          "output_type": "display_data",
          "data": {
            "text/plain": [
              "<Figure size 640x480 with 1 Axes>"
            ],
            "image/png": "[encoded data removed]"
          },
          "metadata": {}
        }
      ]
    },
    {
      "cell_type": "code",
      "source": [
        "plot_acc(full_train_accs, full_test_accs, label1='Full Train Accuracy', label2='Full Test Accuracy')"
      ],
      "metadata": {
        "colab": {
          "base_uri": "https://localhost:8080/",
          "height": 430
        },
        "id": "Z9BTbhHsu_gq",
        "outputId": "b2288892-9fd0-4ad6-d82f-5d928c162217"
      },
      "execution_count": 47,
      "outputs": [
        {
          "output_type": "display_data",
          "data": {
            "text/plain": [
              "<Figure size 640x480 with 1 Axes>"
            ],
            "image/png": "[encoded data removed]"
          },
          "metadata": {}
        }
      ]
    },
    {
      "cell_type": "code",
      "source": [
        "full_train_accs_np = full_train_accs\n",
        "full_train_accs_np = full_train_accs_np[2:]\n",
        "full_average_losses_np = full_average_losses\n",
        "full_average_losses_np = full_average_losses_np[2:]\n",
        "\n",
        "plot_acc(pre_average_losses, full_average_losses_np, label1='Distilbert Accuracy', label2='Transformer Accuracy')"
      ],
      "metadata": {
        "colab": {
          "base_uri": "https://localhost:8080/",
          "height": 430
        },
        "id": "KvReT1tM1fm-",
        "outputId": "20f3b22f-fa4c-47e0-a7eb-05f7f318e368"
      },
      "execution_count": 64,
      "outputs": [
        {
          "output_type": "display_data",
          "data": {
            "text/plain": [
              "<Figure size 640x480 with 1 Axes>"
            ],
            "image/png": "[encoded data removed]"
          },
          "metadata": {}
        }
      ]
    },
    {
      "cell_type": "code",
      "source": [
        "plot_acc(pre_train_accs, full_train_accs_np, label1='Distilbert Accuracy', label2='Transformer Accuracy')"
      ],
      "metadata": {
        "colab": {
          "base_uri": "https://localhost:8080/",
          "height": 430
        },
        "id": "lS6x_J9-5v8W",
        "outputId": "f67b513c-d5bd-4f96-b4d3-bc4be51186a1"
      },
      "execution_count": 65,
      "outputs": [
        {
          "output_type": "display_data",
          "data": {
            "text/plain": [
              "<Figure size 640x480 with 1 Axes>"
            ],
            "image/png": "[encoded data removed]"
          },
          "metadata": {}
        }
      ]
    },
    {
      "cell_type": "markdown",
      "source": [
        "##Conclusion\n",
        "*   distilbert pretaining 모델을 통한 학습은 속도가 빠르고 정상적인 결과가 보였습니다.\n",
        "*   distilbert 결과에서는 정확도가 천천히 올라가는 모습이지만 20번의 학습차례에서 55% 가까이의 정확도가 나옵니다.\n",
        "*   transformer 를 통한 학습은 속도가 느리고, 정확도가 학습기간 정확도 계선되지 못했습니다.\n",
        "*   distilbert 모델의 성능에서 더욱 빨르고 효과가 더 좋았음을 보여줍니다.\n",
        "\n",
        "\n",
        "\n"
      ],
      "metadata": {
        "id": "D7EvKcQO0c14"
      }
    }
  ]
}