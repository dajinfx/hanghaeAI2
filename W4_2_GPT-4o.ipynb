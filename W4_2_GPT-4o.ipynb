{
  "nbformat": 4,
  "nbformat_minor": 0,
  "metadata": {
    "colab": {
      "provenance": [],
      "gpuType": "T4"
    },
    "kernelspec": {
      "name": "python3",
      "display_name": "Python 3"
    },
    "language_info": {
      "name": "python"
    },
    "accelerator": "GPU"
  },
  "cells": [
    {
      "cell_type": "markdown",
      "source": [
        "##**과제**: 수능 국어 문제 GPT-4로 풀어보기\n",
        "\n",
        "\n",
        "\n",
        "Dataset Download: https://github.com/NomaDamas/KICE_slayer_AI_Korean\n",
        "\n",
        "github의 data > 2023_11_KICE.json data를 colab으로 불러옵니다.\n",
        "\n",
        "요구사항: https://www.notion.so/teamsparta/4-GPT-4-1712dc3ef514808cb792d55f5a09186e\n",
        "\n",
        "Openai platform: https://platform.openai.com/docs/overview\n",
        "\n",
        "[![Open in Colab](https://colab.research.google.com/assets/colab-badge.svg)](https://colab.research.google.com/github/dajinfx/hanghaeAI2/blob/main/W4_2_GPT-4o.ipynb)\n",
        "\n"
      ],
      "metadata": {
        "id": "jLtm0Midb_pi"
      }
    },
    {
      "cell_type": "markdown",
      "source": [
        "##Import"
      ],
      "metadata": {
        "id": "kwX7OxtQTxzz"
      }
    },
    {
      "cell_type": "code",
      "source": [
        "import openai\n",
        "import json\n",
        "import requests\n",
        "import numpy as np\n",
        "import torch\n",
        "import pandas as pd\n",
        "from langchain.prompts import PromptTemplate"
      ],
      "metadata": {
        "id": "aASdkI8Vz8tg"
      },
      "execution_count": null,
      "outputs": []
    },
    {
      "cell_type": "code",
      "source": [
        "gpt_model=\"gpt-4o\"\n",
        "temperature = 0.7  # 각 token을 샘플링할 때 사용하는 temperature 값입니다.\n",
        "max_tokens = 4096  # 생성하는 최대 token 개수 입니다.\n",
        "frequency_penalty = 0.0  # 같은 단어가 반복적으로 나오는 것을 방지하기 위한 옵션입니다.\n",
        "\n",
        "device = 'cuda' if torch.cuda.is_available() else 'cpu'\n",
        "device"
      ],
      "metadata": {
        "id": "hoPraglb4Jn4",
        "colab": {
          "base_uri": "https://localhost:8080/",
          "height": 35
        },
        "outputId": "d82a493e-8dc8-444f-ff8e-5dff9ff1440d"
      },
      "execution_count": null,
      "outputs": [
        {
          "output_type": "execute_result",
          "data": {
            "text/plain": [
              "'cuda'"
            ],
            "application/vnd.google.colaboratory.intrinsic+json": {
              "type": "string"
            }
          },
          "metadata": {},
          "execution_count": 82
        }
      ]
    },
    {
      "cell_type": "markdown",
      "source": [
        "##Gather GPT-4  API Info\n",
        "\n",
        "Colab 에서 GPT API 파일 저장하고 가져오기 ( os 환경변수, 로컬경로 등 업로드가 다 않되는 상황에서 취한 방식)"
      ],
      "metadata": {
        "id": "bL3B6i9c0qkf"
      }
    },
    {
      "cell_type": "code",
      "source": [
        "from google.colab import files\n",
        "uploaded = files.upload()\n",
        "for filename in uploaded.keys():\n",
        "    print(f\" {filename} is uploaded\")\n",
        "\n",
        "with open('OpenAI_APIKey.txt', 'r') as file:\n",
        "    content = file.read()"
      ],
      "metadata": {
        "id": "iN-YLoZL0LPc",
        "outputId": "9432ede7-0808-42da-84b0-28e0395e341c",
        "colab": {
          "base_uri": "https://localhost:8080/",
          "height": 94
        }
      },
      "execution_count": null,
      "outputs": [
        {
          "output_type": "display_data",
          "data": {
            "text/plain": [
              "<IPython.core.display.HTML object>"
            ],
            "text/html": [
              "\n",
              "     <input type=\"file\" id=\"files-da515c77-6cf6-4d8d-bad6-13d84911d96a\" name=\"files[]\" multiple disabled\n",
              "        style=\"border:none\" />\n",
              "     <output id=\"result-da515c77-6cf6-4d8d-bad6-13d84911d96a\">\n",
              "      Upload widget is only available when the cell has been executed in the\n",
              "      current browser session. Please rerun this cell to enable.\n",
              "      </output>\n",
              "      <script>// Copyright 2017 Google LLC\n",
              "//\n",
              "// Licensed under the Apache License, Version 2.0 (the \"License\");\n",
              "// you may not use this file except in compliance with the License.\n",
              "// You may obtain a copy of the License at\n",
              "//\n",
              "//      http://www.apache.org/licenses/LICENSE-2.0\n",
              "//\n",
              "// Unless required by applicable law or agreed to in writing, software\n",
              "// distributed under the License is distributed on an \"AS IS\" BASIS,\n",
              "// WITHOUT WARRANTIES OR CONDITIONS OF ANY KIND, either express or implied.\n",
              "// See the License for the specific language governing permissions and\n",
              "// limitations under the License.\n",
              "\n",
              "/**\n",
              " * @fileoverview Helpers for google.colab Python module.\n",
              " */\n",
              "(function(scope) {\n",
              "function span(text, styleAttributes = {}) {\n",
              "  const element = document.createElement('span');\n",
              "  element.textContent = text;\n",
              "  for (const key of Object.keys(styleAttributes)) {\n",
              "    element.style[key] = styleAttributes[key];\n",
              "  }\n",
              "  return element;\n",
              "}\n",
              "\n",
              "// Max number of bytes which will be uploaded at a time.\n",
              "const MAX_PAYLOAD_SIZE = 100 * 1024;\n",
              "\n",
              "function _uploadFiles(inputId, outputId) {\n",
              "  const steps = uploadFilesStep(inputId, outputId);\n",
              "  const outputElement = document.getElementById(outputId);\n",
              "  // Cache steps on the outputElement to make it available for the next call\n",
              "  // to uploadFilesContinue from Python.\n",
              "  outputElement.steps = steps;\n",
              "\n",
              "  return _uploadFilesContinue(outputId);\n",
              "}\n",
              "\n",
              "// This is roughly an async generator (not supported in the browser yet),\n",
              "// where there are multiple asynchronous steps and the Python side is going\n",
              "// to poll for completion of each step.\n",
              "// This uses a Promise to block the python side on completion of each step,\n",
              "// then passes the result of the previous step as the input to the next step.\n",
              "function _uploadFilesContinue(outputId) {\n",
              "  const outputElement = document.getElementById(outputId);\n",
              "  const steps = outputElement.steps;\n",
              "\n",
              "  const next = steps.next(outputElement.lastPromiseValue);\n",
              "  return Promise.resolve(next.value.promise).then((value) => {\n",
              "    // Cache the last promise value to make it available to the next\n",
              "    // step of the generator.\n",
              "    outputElement.lastPromiseValue = value;\n",
              "    return next.value.response;\n",
              "  });\n",
              "}\n",
              "\n",
              "/**\n",
              " * Generator function which is called between each async step of the upload\n",
              " * process.\n",
              " * @param {string} inputId Element ID of the input file picker element.\n",
              " * @param {string} outputId Element ID of the output display.\n",
              " * @return {!Iterable<!Object>} Iterable of next steps.\n",
              " */\n",
              "function* uploadFilesStep(inputId, outputId) {\n",
              "  const inputElement = document.getElementById(inputId);\n",
              "  inputElement.disabled = false;\n",
              "\n",
              "  const outputElement = document.getElementById(outputId);\n",
              "  outputElement.innerHTML = '';\n",
              "\n",
              "  const pickedPromise = new Promise((resolve) => {\n",
              "    inputElement.addEventListener('change', (e) => {\n",
              "      resolve(e.target.files);\n",
              "    });\n",
              "  });\n",
              "\n",
              "  const cancel = document.createElement('button');\n",
              "  inputElement.parentElement.appendChild(cancel);\n",
              "  cancel.textContent = 'Cancel upload';\n",
              "  const cancelPromise = new Promise((resolve) => {\n",
              "    cancel.onclick = () => {\n",
              "      resolve(null);\n",
              "    };\n",
              "  });\n",
              "\n",
              "  // Wait for the user to pick the files.\n",
              "  const files = yield {\n",
              "    promise: Promise.race([pickedPromise, cancelPromise]),\n",
              "    response: {\n",
              "      action: 'starting',\n",
              "    }\n",
              "  };\n",
              "\n",
              "  cancel.remove();\n",
              "\n",
              "  // Disable the input element since further picks are not allowed.\n",
              "  inputElement.disabled = true;\n",
              "\n",
              "  if (!files) {\n",
              "    return {\n",
              "      response: {\n",
              "        action: 'complete',\n",
              "      }\n",
              "    };\n",
              "  }\n",
              "\n",
              "  for (const file of files) {\n",
              "    const li = document.createElement('li');\n",
              "    li.append(span(file.name, {fontWeight: 'bold'}));\n",
              "    li.append(span(\n",
              "        `(${file.type || 'n/a'}) - ${file.size} bytes, ` +\n",
              "        `last modified: ${\n",
              "            file.lastModifiedDate ? file.lastModifiedDate.toLocaleDateString() :\n",
              "                                    'n/a'} - `));\n",
              "    const percent = span('0% done');\n",
              "    li.appendChild(percent);\n",
              "\n",
              "    outputElement.appendChild(li);\n",
              "\n",
              "    const fileDataPromise = new Promise((resolve) => {\n",
              "      const reader = new FileReader();\n",
              "      reader.onload = (e) => {\n",
              "        resolve(e.target.result);\n",
              "      };\n",
              "      reader.readAsArrayBuffer(file);\n",
              "    });\n",
              "    // Wait for the data to be ready.\n",
              "    let fileData = yield {\n",
              "      promise: fileDataPromise,\n",
              "      response: {\n",
              "        action: 'continue',\n",
              "      }\n",
              "    };\n",
              "\n",
              "    // Use a chunked sending to avoid message size limits. See b/62115660.\n",
              "    let position = 0;\n",
              "    do {\n",
              "      const length = Math.min(fileData.byteLength - position, MAX_PAYLOAD_SIZE);\n",
              "      const chunk = new Uint8Array(fileData, position, length);\n",
              "      position += length;\n",
              "\n",
              "      const base64 = btoa(String.fromCharCode.apply(null, chunk));\n",
              "      yield {\n",
              "        response: {\n",
              "          action: 'append',\n",
              "          file: file.name,\n",
              "          data: base64,\n",
              "        },\n",
              "      };\n",
              "\n",
              "      let percentDone = fileData.byteLength === 0 ?\n",
              "          100 :\n",
              "          Math.round((position / fileData.byteLength) * 100);\n",
              "      percent.textContent = `${percentDone}% done`;\n",
              "\n",
              "    } while (position < fileData.byteLength);\n",
              "  }\n",
              "\n",
              "  // All done.\n",
              "  yield {\n",
              "    response: {\n",
              "      action: 'complete',\n",
              "    }\n",
              "  };\n",
              "}\n",
              "\n",
              "scope.google = scope.google || {};\n",
              "scope.google.colab = scope.google.colab || {};\n",
              "scope.google.colab._files = {\n",
              "  _uploadFiles,\n",
              "  _uploadFilesContinue,\n",
              "};\n",
              "})(self);\n",
              "</script> "
            ]
          },
          "metadata": {}
        },
        {
          "output_type": "stream",
          "name": "stdout",
          "text": [
            "Saving OpenAI_APIKey.txt to OpenAI_APIKey.txt\n",
            " OpenAI_APIKey.txt is uploaded\n"
          ]
        }
      ]
    },
    {
      "cell_type": "code",
      "source": [
        "print(content)"
      ],
      "metadata": {
        "id": "jKZYUNAv0byS"
      },
      "execution_count": null,
      "outputs": []
    },
    {
      "cell_type": "code",
      "source": [
        "openai.api_key = content"
      ],
      "metadata": {
        "id": "GpSAdd6C3mt3"
      },
      "execution_count": null,
      "outputs": []
    },
    {
      "cell_type": "markdown",
      "source": [
        "##함수: prediction(problem)"
      ],
      "metadata": {
        "id": "626ddOdcDy-9"
      }
    },
    {
      "cell_type": "code",
      "source": [
        "#\n",
        "def prediction(problem):\n",
        "    completion = openai.chat.completions.create(\n",
        "        messages=[\n",
        "            {\"role\": \"system\", \"content\": \"You are an assistant for solving Korean exam problems.\"},\n",
        "            {\"role\": \"user\", \"content\": problem}\n",
        "        ],\n",
        "        model=gpt_model,\n",
        "        response_format={\"type\": \"json_object\"},\n",
        "    )\n",
        "    return completion\n"
      ],
      "metadata": {
        "id": "sRY4XLX33qON"
      },
      "execution_count": null,
      "outputs": []
    },
    {
      "cell_type": "markdown",
      "source": [
        "##API access test"
      ],
      "metadata": {
        "id": "217f-AClDoE5"
      }
    },
    {
      "cell_type": "code",
      "source": [
        "# GPT 출력 테스트\n",
        "problem_text = \"Example question: What is the correct answer for this Korean problem?  output format: json\"\n",
        "result = prediction(problem_text)\n",
        "\n",
        "if result:\n",
        "    print(f\"GPT-4 Prediction: {result}\")\n",
        "else:\n",
        "    print(\"Failed to get a prediction.\")"
      ],
      "metadata": {
        "id": "OUSn1n2D5M7V",
        "outputId": "b2d2bfcc-052d-40c2-e718-83283b9b97e1",
        "colab": {
          "base_uri": "https://localhost:8080/"
        }
      },
      "execution_count": null,
      "outputs": [
        {
          "output_type": "stream",
          "name": "stdout",
          "text": [
            "GPT-4 Prediction: ChatCompletion(id='chatcmpl-AnhXootNsihC8d2EvDkEC2KD2ARto', choices=[Choice(finish_reason='stop', index=0, logprobs=None, message=ChatCompletionMessage(content='{\"answer\": \"The correct answer for this Korean problem cannot be determined without the problem statement or choices provided. Please provide the full question for further assistance.\"}', refusal=None, role='assistant', audio=None, function_call=None, tool_calls=None))], created=1736408820, model='gpt-4o-2024-08-06', object='chat.completion', service_tier=None, system_fingerprint='fp_5f20662549', usage=CompletionUsage(completion_tokens=33, prompt_tokens=39, total_tokens=72, completion_tokens_details=CompletionTokensDetails(accepted_prediction_tokens=0, audio_tokens=0, reasoning_tokens=0, rejected_prediction_tokens=0), prompt_tokens_details=PromptTokensDetails(audio_tokens=0, cached_tokens=0)))\n"
          ]
        }
      ]
    },
    {
      "cell_type": "code",
      "source": [
        "response_content = result.choices[0].message.content\n",
        "fruit_data = json.loads(response_content)\n",
        "\n",
        "formatted_json = json.dumps(fruit_data, indent=4, ensure_ascii=False)\n",
        "print(formatted_json)"
      ],
      "metadata": {
        "id": "7HTjpVAx0ewP",
        "outputId": "33ca9530-c913-4f86-b3a6-1665d273f20c",
        "colab": {
          "base_uri": "https://localhost:8080/"
        }
      },
      "execution_count": null,
      "outputs": [
        {
          "output_type": "stream",
          "name": "stdout",
          "text": [
            "{\n",
            "    \"answer\": \"The correct answer for this Korean problem cannot be determined without the problem statement or choices provided. Please provide the full question for further assistance.\"\n",
            "}\n"
          ]
        }
      ]
    },
    {
      "cell_type": "markdown",
      "source": [
        "##Data upload"
      ],
      "metadata": {
        "id": "LPn80JRSBGAy"
      }
    },
    {
      "cell_type": "code",
      "source": [
        "url = 'https://raw.githubusercontent.com/NomaDamas/KICE_slayer_AI_Korean/master/data/2023_11_KICE.json'\n",
        "response = requests.get(url)\n",
        "data = response.json()"
      ],
      "metadata": {
        "id": "dRe10sA5AsKk"
      },
      "execution_count": null,
      "outputs": []
    },
    {
      "cell_type": "code",
      "source": [
        "df = pd.DataFrame(data)\n",
        "print(df.head())"
      ],
      "metadata": {
        "collapsed": true,
        "id": "Q0bkmTEbAvKK",
        "outputId": "371f1d95-599f-4b83-bef7-45c8e5eb3396",
        "colab": {
          "base_uri": "https://localhost:8080/"
        }
      },
      "execution_count": null,
      "outputs": [
        {
          "output_type": "stream",
          "name": "stdout",
          "text": [
            "                   id                                          paragraph  \\\n",
            "0    2023_11_KICE_1-3  사람들이 지속적으로 책을 읽는 이유 중 하나는 즐거움이다. 독서의 즐거움에는 여러 ...   \n",
            "1    2023_11_KICE_4-9  (가)[A](중국에서 비롯된 유서(類書)는 고금의 서적에서 자료를 수집하고 항목별로...   \n",
            "2  2023_11_KICE_10-13  법령의 조문은 대개 ‘A에 해당하면 B를 해야 한다.’처럼 요건과효과로 구성된 조건...   \n",
            "3  2023_11_KICE_14-17  하루에 필요한 에너지의 양은 하루 동안의 총 열량 소모량인 대사량으로 구한다. 그중...   \n",
            "4  2023_11_KICE_18-21  혼례를 마친 후 최척이 아내와 함께 장모를 모시고 집으로 돌아오매 하인들이 기뻐했다...   \n",
            "\n",
            "   type                                           problems  \n",
            "0     0  [{'question': '윗글의 내용과 일치하지 않는 것은?', 'choices'...  \n",
            "1     0  [{'question': '(가)와 (나)에 대한 설명으로 가장 적절한 것은?', ...  \n",
            "2     0  [{'question': '윗글의 내용과 일치하지 않는 것은?', 'choices'...  \n",
            "3     0  [{'question': '윗글의 내용과 일치하지 않는 것은?', 'choices'...  \n",
            "4     1  [{'question': '윗글에 대한 설명으로 가장 적절한 것은?', 'choic...  \n"
          ]
        }
      ]
    },
    {
      "cell_type": "code",
      "source": [
        "dftest = df.copy()\n",
        "print(dftest.head())"
      ],
      "metadata": {
        "collapsed": true,
        "colab": {
          "base_uri": "https://localhost:8080/"
        },
        "id": "8t9mte-hzP0-",
        "outputId": "673b01f6-bf40-4e28-bb60-3c292ae69f3d"
      },
      "execution_count": null,
      "outputs": [
        {
          "output_type": "stream",
          "name": "stdout",
          "text": [
            "                   id                                          paragraph  \\\n",
            "0    2023_11_KICE_1-3  사람들이 지속적으로 책을 읽는 이유 중 하나는 즐거움이다. 독서의 즐거움에는 여러 ...   \n",
            "1    2023_11_KICE_4-9  (가)[A](중국에서 비롯된 유서(類書)는 고금의 서적에서 자료를 수집하고 항목별로...   \n",
            "2  2023_11_KICE_10-13  법령의 조문은 대개 ‘A에 해당하면 B를 해야 한다.’처럼 요건과효과로 구성된 조건...   \n",
            "3  2023_11_KICE_14-17  하루에 필요한 에너지의 양은 하루 동안의 총 열량 소모량인 대사량으로 구한다. 그중...   \n",
            "4  2023_11_KICE_18-21  혼례를 마친 후 최척이 아내와 함께 장모를 모시고 집으로 돌아오매 하인들이 기뻐했다...   \n",
            "\n",
            "   type                                           problems  \n",
            "0     0  [{'question': '윗글의 내용과 일치하지 않는 것은?', 'choices'...  \n",
            "1     0  [{'question': '(가)와 (나)에 대한 설명으로 가장 적절한 것은?', ...  \n",
            "2     0  [{'question': '윗글의 내용과 일치하지 않는 것은?', 'choices'...  \n",
            "3     0  [{'question': '윗글의 내용과 일치하지 않는 것은?', 'choices'...  \n",
            "4     1  [{'question': '윗글에 대한 설명으로 가장 적절한 것은?', 'choic...  \n"
          ]
        }
      ]
    },
    {
      "cell_type": "code",
      "source": [
        "def count_probles_pro(problems):\n",
        "    question_count = 0\n",
        "    choices_count = 0\n",
        "    answer_count = 0\n",
        "    score_count = 0\n",
        "\n",
        "    label_score = []\n",
        "\n",
        "    count = 0\n",
        "    for problem in problems:\n",
        "        count += 1\n",
        "        print(f\"count: {count}\")\n",
        "        print(problem)\n",
        "        print()\n",
        "        if 'question' in problem:\n",
        "            question_count += 1\n",
        "        if 'question' in problem:\n",
        "            question = problem['question']\n",
        "            print(f\"question: {question}\")\n",
        "        if 'choices' in problem:\n",
        "            choices_count += 1\n",
        "        if 'score' in problem:\n",
        "            score_count += 1\n",
        "            label_score.append(problem['score'])\n",
        "            print(f\"score: {problem['score']}\")\n",
        "        if 'answer' in problem:\n",
        "            answer_count += 1\n",
        "\n",
        "    return question_count,choices_count,answer_count,score_count,label_score\n",
        "\n",
        "question_count,choices_count,answer_count,score_count,label_score = count_probles_pro(dftest['problems'][0])\n",
        "#print(f\"question:{question_count}, choices_count:{choices_count},answer_count: {answer_count}, score_count: {score_count}\")"
      ],
      "metadata": {
        "id": "tSdD4pzZ64m-"
      },
      "execution_count": null,
      "outputs": []
    },
    {
      "cell_type": "markdown",
      "source": [
        "##데이터 정답 저장\n",
        "\n",
        "학습결과를 비교하기 위한 조치,  list 로 저장하여 데이터 순서와 정확성 문제 없도록 저장합니다."
      ],
      "metadata": {
        "id": "MZOgr5KrLWrI"
      }
    },
    {
      "cell_type": "code",
      "source": [
        "label_answer = []\n",
        "def get_label_answer(problems):\n",
        "    answer_count = 0\n",
        "\n",
        "    count = 0\n",
        "    for problem in problems:\n",
        "        count += 1\n",
        "        if 'answer' in problem:\n",
        "            answer_count += 1\n",
        "            label_answer.append(problem['answer'])\n",
        "            #print(f\"answer: {problem['answer']}\")\n",
        "    return label_answer\n",
        "\n",
        "for index in range(len(dftest['problems'])):\n",
        "  label_answer = get_label_answer(dftest['problems'][index])\n"
      ],
      "metadata": {
        "id": "JHRfIIKS2DYv"
      },
      "execution_count": null,
      "outputs": []
    },
    {
      "cell_type": "code",
      "source": [
        "print(label_answer)\n",
        "print(len(label_answer))"
      ],
      "metadata": {
        "colab": {
          "base_uri": "https://localhost:8080/"
        },
        "id": "LGmN0CIR1KPY",
        "outputId": "6f63c236-9d98-4d09-f45a-83a636c09e78"
      },
      "execution_count": null,
      "outputs": [
        {
          "output_type": "stream",
          "name": "stdout",
          "text": [
            "[4, 5, 1, 4, 5, 3, 2, 5, 2, 4, 5, 2, 5, 3, 4, 4, 1, 4, 3, 3, 5, 1, 5, 3, 3, 4, 1, 5, 1, 2, 1, 4, 2, 3, 1, 5, 3, 4, 4, 3, 2, 4, 5, 2, 1]\n",
            "45\n"
          ]
        }
      ]
    },
    {
      "cell_type": "code",
      "source": [
        "len(df['problems'])"
      ],
      "metadata": {
        "colab": {
          "base_uri": "https://localhost:8080/"
        },
        "id": "x6fd1XBJ8gVQ",
        "outputId": "4ec3adf4-a57b-49cf-8ebd-88290de56ada"
      },
      "execution_count": null,
      "outputs": [
        {
          "output_type": "execute_result",
          "data": {
            "text/plain": [
              "11"
            ]
          },
          "metadata": {},
          "execution_count": 67
        }
      ]
    },
    {
      "cell_type": "code",
      "source": [
        "label = []\n",
        "def remove_answer_and_score(problems):\n",
        "    for problem in problems:\n",
        "        if 'answer' in problem:\n",
        "            del problem['answer']  # remove answer\n",
        "            print(\"\")\n",
        "        if 'score' in problem:\n",
        "            label.append(problem['score'])\n",
        "            print(problem['score'])\n",
        "            #del problem['score']  # remove score\n",
        "    return problems\n",
        "\n",
        "#print(dftest.head())"
      ],
      "metadata": {
        "id": "tarLukXoyWxT"
      },
      "execution_count": null,
      "outputs": []
    },
    {
      "cell_type": "code",
      "source": [
        "dftest['problems'] = dftest['problems'].apply(remove_answer_and_score)"
      ],
      "metadata": {
        "id": "B4WCvV3J0tne"
      },
      "execution_count": null,
      "outputs": []
    },
    {
      "cell_type": "code",
      "source": [
        "question_count,choices_count,answer_count,score_count = count_probles_pro(dftest['problems'][0])\n",
        "print(f\"question:{question_count}, choices_count:{choices_count},answer_count: {answer_count}, score_count: {score_count}\")"
      ],
      "metadata": {
        "colab": {
          "base_uri": "https://localhost:8080/"
        },
        "collapsed": true,
        "id": "WVOkC8WbX4H-",
        "outputId": "b9750157-d03e-4975-a81c-605ac3dccf10"
      },
      "execution_count": null,
      "outputs": [
        {
          "output_type": "stream",
          "name": "stdout",
          "text": [
            "count: 1\n",
            "{'question': '윗글의 내용과 일치하지 않는 것은?', 'choices': ['같은 책을 읽은 독자라도 서로 다른 의미를 구성할 수 있다.', '다른 독자와의 소통은 독자가 인식의 폭을 확장하도록 돕는다', '독자는 직접 경험해 보지 못했던 다양한 삶을 책의 필자를 매개로 접할 수 있다.', '독자의 배경지식, 관점, 읽기 환경, 과제는 독자의 의미 구성에 영향을 주는 독자 요인이다.', '독자는 책을 읽을 때 자신이 속한 사회나 시대의 영향을 받으며 필자와 간접적으로 대화한다']}\n",
            "\n",
            "question: 윗글의 내용과 일치하지 않는 것은?\n",
            "count: 2\n",
            "{'question': '다음은 학생이 독서 후 작성한 글의 일부이다. [A]를 바탕으로 ⓐ～ⓔ를 이해한 내용으로 가장 적절한 것은?', 'question_plus': \"ⓐ('음악 시간에 들었던 베토벤의 교향곡 <합창>이 위대한 작품인 이유는 무엇일까?'하는 생각)에, 베토벤에 대한 책을 빌렸다. 책에서는 기약만으로 구성됐던 교향곡에 성악을 결합헤 개성을 드러냈다는 점에서 ⓑ(이 곡이 낭만주의 음악의 특징을 보여 준다고 했다.) <합창>을 해설한 부분에 이어, 베토벤의 생애에 관한 뒷부분도 읽었는데, ⓒ(이 내용들을 종합해, 절망적 상황에서도 열정적으로 자신이 좋아하는 일을 했기에 교향곡 구성의 새로움을 보여 준 명작이 탄생했음을 알게 됐다.) 이후 ⓓ(내가 진정으로 좋아하는 일이 무엇인지 나에게 묻게 되었다.) ⓔ(글 쓰는 일에서 가장 큰 행복을 느꼈던 나를 발견)할 수 있었고, 나도 어떤 상황에서든 좋아하는 일을 계속해야겠다고 생각했다.\", 'choices': ['ⓐ와 ⓑ에는 모두 ‘독자 자신에게서 답을 찾는 질문’이 나타난다.', 'ⓒ와 ⓓ에는 모두 ‘책에 명시된 내용’에서 질문의 답을 찾아내는 모습이 나타난다.', 'ⓐ에는 ‘책에서 답을 찾는 질문’이, ⓔ에는 그에 대한 답을 ‘독자의 경험’에서 찾아내는 모습이 나타난다.', 'ⓑ에는 ‘책에서 답을 찾는 질문’이, ⓒ에는 그에 대한 답을 ‘책의 내용들을 관계 지으며’ 찾아내는 모습이 나타난다.', 'ⓓ에는 ‘독자 자신에게서 답을 찾는 질문’이, ⓔ에는 그에 대한 답을 ‘독자의 경험’에서 찾아내는 모습이 나타난다.']}\n",
            "\n",
            "question: 다음은 학생이 독서 후 작성한 글의 일부이다. [A]를 바탕으로 ⓐ～ⓔ를 이해한 내용으로 가장 적절한 것은?\n",
            "count: 3\n",
            "{'question': '윗글을 읽고 ㉠에 대해 보인 반응으로 적절하지 않은 것은?', 'choices': ['스스로 독서 계획을 세우고 자신에게 필요한 책을 찾아 개인적으로 읽는 과정에서 경험할 수 있겠군.', '독서 모임에서 서로 다른 관점을 확인하고 자신의 관점을 조정하는 과정에서 경험할 수 있겠군.', '개인적으로 형성한 의미를, 독서 동아리를 통해 심화하는 과정에서 경험할 수 있겠군.', '자신의 독서 경험을 담은 콘텐츠를 생산하고 공유하는 과정에서 경험할 수 있겠군.', '오프라인뿐 아니라 온라인 공간에서 해석을 나누는 과정에서도 경험할 수 있겠군.']}\n",
            "\n",
            "question: 윗글을 읽고 ㉠에 대해 보인 반응으로 적절하지 않은 것은?\n",
            "question:3, choices_count:3,answer_count: 0, score_count: 0\n"
          ]
        }
      ]
    },
    {
      "cell_type": "markdown",
      "source": [
        "##데이터 전처리"
      ],
      "metadata": {
        "id": "6_Dhkai0LHwu"
      }
    },
    {
      "cell_type": "code",
      "source": [
        "def question_deliver(dt):\n",
        "    count = 0\n",
        "    #print(dt['paragraph'][5])\n",
        "    sample = []\n",
        "    for item in range(len(dt)):\n",
        "      #count +=1\n",
        "      #print(\"id: \\n\",item['id'])\n",
        "      #print(type(item))\n",
        "      paragraph = dt['paragraph'][count]\n",
        "      #print(\"paragraph: \\n\",paragraph)\n",
        "      #print(dt['problems'][count])\n",
        "\n",
        "      sample_datas = []\n",
        "      for problem in dt['problems'][count]:\n",
        "        choices_q = []\n",
        "\n",
        "        question1 = problem['question']\n",
        "        if 'question_plus' in problem:\n",
        "          question2_plus = problem['question_plus']\n",
        "        else:\n",
        "          question2_plus=\"\"\n",
        "\n",
        "        choices_count = 0\n",
        "        for choice in problem['choices']:\n",
        "          #str_choice = str(choices_count)\n",
        "          #print(str_choice)\n",
        "          choices_q.append(choice)\n",
        "          choices_count +=1\n",
        "\n",
        "        sample_data = {\n",
        "            \"question1\": question1,\n",
        "            \"question2_plus\": question2_plus,\n",
        "        }\n",
        "        #print(\"question1-----------: \",question1)\n",
        "\n",
        "        for i,choice__ in enumerate(choices_q, 1):\n",
        "          sample_data[f\"choices{i}\"] = choice__\n",
        "\n",
        "        sample_datas.append(sample_data)\n",
        "\n",
        "      problem_data={\n",
        "          \"paragraph\": paragraph,\n",
        "          \"problems\": sample_datas\n",
        "      }\n",
        "\n",
        "     #print(problem_data)\n",
        "      sample.append(problem_data)\n",
        "      count += 1\n",
        "      #print(\"count: \",count)\n",
        "    return sample\n"
      ],
      "metadata": {
        "id": "moNK0drGZvNM"
      },
      "execution_count": null,
      "outputs": []
    },
    {
      "cell_type": "markdown",
      "source": [
        "##데이터 전처리 포멧 검사\n",
        "\n",
        "GPT-4에 쉽게 넘기기 위한 전처리 데이터 포멧으로 전환함."
      ],
      "metadata": {
        "id": "DOuqdna1MYZO"
      }
    },
    {
      "cell_type": "code",
      "source": [
        "question = question_deliver(df)\n",
        "\n",
        "responses = []\n",
        "for q in question:\n",
        "  sample_string = json.dumps(q, ensure_ascii=False, indent=2)\n",
        "  print(sample_string)\n",
        "  responses.append(sample_string)\n",
        "  break"
      ],
      "metadata": {
        "colab": {
          "base_uri": "https://localhost:8080/"
        },
        "id": "mvFvO5NhNb9X",
        "outputId": "81930f5c-e8d2-4d9e-b40a-d4e2f62f5470"
      },
      "execution_count": null,
      "outputs": [
        {
          "output_type": "stream",
          "name": "stdout",
          "text": [
            "{\n",
            "  \"paragraph\": \"사람들이 지속적으로 책을 읽는 이유 중 하나는 즐거움이다. 독서의 즐거움에는 여러 가지가 있겠지만 그 중심에는 ‘소통의 즐거움’이 있다.독자는 독서를 통해 책과 소통하는 즐거움을 경험한다. 독서는필자와 간접적으로 대화하는 소통 행위이다. 독자는 자신이 속한사회나 시대의 영향 아래 필자가 속해 있거나 드러내고자 하는 사회나 시대를 경험한다. 직접 경험하지 못했던 다양한 삶을 필자를 매개로 만나고 이해하면서 독자는 더 넓은 시야로 세계를바라볼 수 있다. 이때 같은 책을 읽은 독자라도 독자의 배경지식이나 관점 등의 독자 요인, 읽기 환경이나 과제 등의 상황 요인이 다르므로, 필자가 보여 주는 세계를 그대로 수용하지 않고 저마다 소통 과정에서 다른 의미를 구성할 수 있다.[A] (이러한 소통은 독자가 책의 내용에 대해 질문하고 답을 찾아내는 과정에서 가능해진다. 독자는 책에서 답을 찾는 질문, 독자 자신에게서 답을 찾는 질문 등을 제기할 수 있다. 전자의 경우 책에 명시된 내용에서 답을 발견할 수 있고, 책의 내용들을 관계 지으며 답에 해당하는 내용을 스스로 구성할 수도 있다. 또한 후자의 경우 책에는 없는 독자의 경험에서 답을 찾을 수 있다. 이런 질문들을 풍부히 생성하고 주체적으로 답을 찾을 때 소통의 즐거움은 더 커진다.)한편 독자는 ㉠ (다른 독자와 소통하는 즐거움을 경험할 수도 있다.) 책과의 소통을 통해 개인적으로 형성한 의미를 독서 모임이나 독서 동아리 등에서 다른 독자들과 나누는 일이 이에 해당한다. 비슷한 해석에 서로 공감하며 기존 인식을 강화하거나 관점의 차이를 확인하고 기존 인식을 조정하는 과정에서, 독자는자신의 인식을 심화 확장할 수 있다. 최근 소통 공간이 온라인으로 확대되면서 독서를 통해 다른 독자들과 소통하며 즐거움을누리는 양상이 더 다양해지고 있다. 자신의 독서 경험을 담은 글이나 동영상을 생산 공유함으로써, 책을 읽지 않은 타인이 책과 소통하도록 돕는 것도 책을 통한 소통의 즐거움을 나누는 일이다.\",\n",
            "  \"problems\": [\n",
            "    {\n",
            "      \"question1\": \"윗글의 내용과 일치하지 않는 것은?\",\n",
            "      \"question2_plus\": \"\",\n",
            "      \"choices1\": \"같은 책을 읽은 독자라도 서로 다른 의미를 구성할 수 있다.\",\n",
            "      \"choices2\": \"다른 독자와의 소통은 독자가 인식의 폭을 확장하도록 돕는다\",\n",
            "      \"choices3\": \"독자는 직접 경험해 보지 못했던 다양한 삶을 책의 필자를 매개로 접할 수 있다.\",\n",
            "      \"choices4\": \"독자의 배경지식, 관점, 읽기 환경, 과제는 독자의 의미 구성에 영향을 주는 독자 요인이다.\",\n",
            "      \"choices5\": \"독자는 책을 읽을 때 자신이 속한 사회나 시대의 영향을 받으며 필자와 간접적으로 대화한다\"\n",
            "    },\n",
            "    {\n",
            "      \"question1\": \"다음은 학생이 독서 후 작성한 글의 일부이다. [A]를 바탕으로 ⓐ～ⓔ를 이해한 내용으로 가장 적절한 것은?\",\n",
            "      \"question2_plus\": \"ⓐ('음악 시간에 들었던 베토벤의 교향곡 <합창>이 위대한 작품인 이유는 무엇일까?'하는 생각)에, 베토벤에 대한 책을 빌렸다. 책에서는 기약만으로 구성됐던 교향곡에 성악을 결합헤 개성을 드러냈다는 점에서 ⓑ(이 곡이 낭만주의 음악의 특징을 보여 준다고 했다.) <합창>을 해설한 부분에 이어, 베토벤의 생애에 관한 뒷부분도 읽었는데, ⓒ(이 내용들을 종합해, 절망적 상황에서도 열정적으로 자신이 좋아하는 일을 했기에 교향곡 구성의 새로움을 보여 준 명작이 탄생했음을 알게 됐다.) 이후 ⓓ(내가 진정으로 좋아하는 일이 무엇인지 나에게 묻게 되었다.) ⓔ(글 쓰는 일에서 가장 큰 행복을 느꼈던 나를 발견)할 수 있었고, 나도 어떤 상황에서든 좋아하는 일을 계속해야겠다고 생각했다.\",\n",
            "      \"choices1\": \"ⓐ와 ⓑ에는 모두 ‘독자 자신에게서 답을 찾는 질문’이 나타난다.\",\n",
            "      \"choices2\": \"ⓒ와 ⓓ에는 모두 ‘책에 명시된 내용’에서 질문의 답을 찾아내는 모습이 나타난다.\",\n",
            "      \"choices3\": \"ⓐ에는 ‘책에서 답을 찾는 질문’이, ⓔ에는 그에 대한 답을 ‘독자의 경험’에서 찾아내는 모습이 나타난다.\",\n",
            "      \"choices4\": \"ⓑ에는 ‘책에서 답을 찾는 질문’이, ⓒ에는 그에 대한 답을 ‘책의 내용들을 관계 지으며’ 찾아내는 모습이 나타난다.\",\n",
            "      \"choices5\": \"ⓓ에는 ‘독자 자신에게서 답을 찾는 질문’이, ⓔ에는 그에 대한 답을 ‘독자의 경험’에서 찾아내는 모습이 나타난다.\"\n",
            "    },\n",
            "    {\n",
            "      \"question1\": \"윗글을 읽고 ㉠에 대해 보인 반응으로 적절하지 않은 것은?\",\n",
            "      \"question2_plus\": \"\",\n",
            "      \"choices1\": \"스스로 독서 계획을 세우고 자신에게 필요한 책을 찾아 개인적으로 읽는 과정에서 경험할 수 있겠군.\",\n",
            "      \"choices2\": \"독서 모임에서 서로 다른 관점을 확인하고 자신의 관점을 조정하는 과정에서 경험할 수 있겠군.\",\n",
            "      \"choices3\": \"개인적으로 형성한 의미를, 독서 동아리를 통해 심화하는 과정에서 경험할 수 있겠군.\",\n",
            "      \"choices4\": \"자신의 독서 경험을 담은 콘텐츠를 생산하고 공유하는 과정에서 경험할 수 있겠군.\",\n",
            "      \"choices5\": \"오프라인뿐 아니라 온라인 공간에서 해석을 나누는 과정에서도 경험할 수 있겠군.\"\n",
            "    }\n",
            "  ]\n",
            "}\n"
          ]
        }
      ]
    },
    {
      "cell_type": "markdown",
      "source": [
        "##Prediction method"
      ],
      "metadata": {
        "id": "pUxQpiY3MHG4"
      }
    },
    {
      "cell_type": "code",
      "source": [
        "def predictions(prompt,data):\n",
        "    completion = openai.chat.completions.create(\n",
        "        messages=[\n",
        "            {\"role\": \"system\", \"content\": prompt},\n",
        "            {\"role\": \"user\", \"content\": data}\n",
        "        ],\n",
        "        model=gpt_model,\n",
        "        #response_format={\"type\": \"json_object\"},\n",
        "        temperature=temperature\n",
        "    )\n",
        "    return completion"
      ],
      "metadata": {
        "id": "jslG_Rs1CGlY"
      },
      "execution_count": null,
      "outputs": []
    },
    {
      "cell_type": "markdown",
      "source": [
        "##Prompt"
      ],
      "metadata": {
        "id": "6VPV_z6ZL_1Z"
      }
    },
    {
      "cell_type": "code",
      "source": [
        "basic_prompt = \"\"\"\n",
        "    국어 시험 문제를 푸는 똑똑한 학생으로서 다음 문제의 답을 구하세요.\n",
        "    지문을 읽고, 질문에 대한 답을 1부터 5까지의 선택지 중에 한 개만 골라서 대답해야 합니다. 대답은 다 하되 json 형태로,  마지막 정답은 숫자로만 주세요\n",
        "\n",
        "    지문 :\n",
        "    {paragraph}\n",
        "\n",
        "    질문 :\n",
        "    {question1}\n",
        "\n",
        "    <보기> :\n",
        "    {question2_plus}\n",
        "\n",
        "    선택지 :\n",
        "    1번 - {choices1}\n",
        "    2번 - {choices2}\n",
        "    3번 - {choices3}\n",
        "    4번 - {choices4}\n",
        "    5번 - {choices5}\n",
        "\n",
        "    1번, 2번, 3번, 4번, 5번 중에 하나를 정답으로 고르세요. 정답 :\n",
        "\n",
        "\n",
        "    정담을 아래포멧으로  정래히주세요:\n",
        "\n",
        "    \"problem\": [\n",
        "      {\n",
        "        \"question\": \"윗글의 내용과 일치하지 않는 것은?\",\n",
        "        \"answer\": 4\n",
        "      },\n",
        "      {\n",
        "        \"question\": \"다음은 학생이 독서 후 작성한 글의 일부이다. [A]를 바탕으로 ⓐ～ⓔ를 이해한 내용으로 가장 적절한 것은?\",\n",
        "        \"answer\": 4\n",
        "      },\n",
        "      {\n",
        "        \"question\": \"윗글을 읽고 ㉠에 대해 보인 반응으로 적절하지 않은 것은?\",\n",
        "        \"answer\": 1\n",
        "      }\n",
        "    ]\n",
        "    \"\"\"\n"
      ],
      "metadata": {
        "id": "VjOU2_fqZUwd"
      },
      "execution_count": null,
      "outputs": []
    },
    {
      "cell_type": "markdown",
      "source": [
        "##Taining start"
      ],
      "metadata": {
        "id": "polNQu1mMfrw"
      }
    },
    {
      "cell_type": "code",
      "source": [
        "gpt_result = []\n",
        "pred = []\n",
        "count = 0\n",
        "for q in responses:\n",
        "  #print(q)\n",
        "  sample_string = json.dumps(q, ensure_ascii=False, indent=2)\n",
        "  #print(sample_string)\n",
        "  print(\"--------------------------------- \",count)\n",
        "  response = predictions(basic_prompt,sample_string)\n",
        "  content = response.choices[0].message.content\n",
        "  gpt_result.append(response)\n",
        "  #print(content)\n",
        "\n",
        "\n",
        "  try:\n",
        "        if content.startswith(\"```json\"):\n",
        "            content = content.replace(\"```json\", \"\").replace(\"```\", \"\").strip()\n",
        "        content_dict = json.loads(content)\n",
        "\n",
        "\n",
        "        if \"problem\" in content_dict:\n",
        "            for problem in content_dict[\"problem\"]:\n",
        "                pred.append(problem[\"answer\"])\n",
        "  except json.JSONDecodeError as e:\n",
        "        print(\"JSON 해제실패:\", e)\n",
        "        print(\"content :\", content)\n",
        "\n",
        "  count+=1\n",
        "  #break\n",
        "\n"
      ],
      "metadata": {
        "colab": {
          "base_uri": "https://localhost:8080/"
        },
        "id": "t4_iPGh_aI12",
        "outputId": "2c66b876-9683-47f9-b5e4-051684f30160"
      },
      "execution_count": null,
      "outputs": [
        {
          "output_type": "stream",
          "name": "stdout",
          "text": [
            "---------------------------------  0\n",
            "```json\n",
            "{\n",
            "  \"problem\": [\n",
            "    {\n",
            "      \"question\": \"윗글의 내용과 일치하지 않는 것은?\",\n",
            "      \"answer\": 4\n",
            "    },\n",
            "    {\n",
            "      \"question\": \"다음은 학생이 독서 후 작성한 글의 일부이다. [A]를 바탕으로 ⓐ～ⓔ를 이해한 내용으로 가장 적절한 것은?\",\n",
            "      \"answer\": 4\n",
            "    },\n",
            "    {\n",
            "      \"question\": \"윗글을 읽고 ㉠에 대해 보인 반응으로 적절하지 않은 것은?\",\n",
            "      \"answer\": 1\n",
            "    }\n",
            "  ]\n",
            "}\n",
            "```\n",
            "---------------------------------  1\n",
            "```json\n",
            "{\n",
            "  \"problem\": [\n",
            "    {\n",
            "      \"question\": \"(가)와 (나)에 대한 설명으로 가장 적절한 것은?\",\n",
            "      \"answer\": 4\n",
            "    },\n",
            "    {\n",
            "      \"question\": \"[A]에 대한 이해로 적절하지 않은 것은?\",\n",
            "      \"answer\": 5\n",
            "    },\n",
            "    {\n",
            "      \"question\": \"㉮에 대한 이해를 바탕으로 ㉠, ㉡에 대해 파악한 내용으로 적절하지 않은 것은?\",\n",
            "      \"answer\": 3\n",
            "    },\n",
            "    {\n",
            "      \"question\": \"㉯를 반박하기 위한 ‘이수광’의 말로 가장 적절한 것은?\",\n",
            "      \"answer\": 2\n",
            "    },\n",
            "    {\n",
            "      \"question\": \"(가), (나)를 읽은 학생이 <보기>의 임원경제지에 대해 보인 반응으로 적절하지 않은 것은?\",\n",
            "      \"answer\": 5\n",
            "    },\n",
            "    {\n",
            "      \"question\": \"문맥상 ⓐ～ⓔ와 바꾸어 쓰기에 적절하지 않은 것은?\",\n",
            "      \"answer\": 2\n",
            "    }\n",
            "  ]\n",
            "}\n",
            "```\n",
            "---------------------------------  2\n",
            "```json\n",
            "{\n",
            "  \"problem\": [\n",
            "    {\n",
            "      \"question\": \"윗글의 내용과 일치하지 않는 것은?\",\n",
            "      \"answer\": 4\n",
            "    },\n",
            "    {\n",
            "      \"question\": \"㉠에 대한 이해로 가장 적절한 것은?\",\n",
            "      \"answer\": 5\n",
            "    },\n",
            "    {\n",
            "      \"question\": \"윗글을 바탕으로 <보기>를 이해한 내용으로 가장 적절한 것은? [3점]\",\n",
            "      \"answer\": 2\n",
            "    },\n",
            "    {\n",
            "      \"question\": \"문맥상 ⓐ～ⓔ의 의미와 가장 가까운 것은?\",\n",
            "      \"answer\": 5\n",
            "    }\n",
            "  ]\n",
            "}\n",
            "```\n",
            "---------------------------------  3\n",
            "```json\n",
            "{\n",
            "  \"problem\": [\n",
            "    {\n",
            "      \"question\": \"윗글의 내용과 일치하지 않는 것은?\",\n",
            "      \"answer\": 3\n",
            "    },\n",
            "    {\n",
            "      \"question\": \"윗글을 읽고 추론한 내용으로 적절하지 않은 것은?\",\n",
            "      \"answer\": 3\n",
            "    },\n",
            "    {\n",
            "      \"question\": \"㉠, ㉡에 대한 이해로 가장 적절한 것은?\",\n",
            "      \"answer\": 4\n",
            "    },\n",
            "    {\n",
            "      \"question\": \"윗글을 바탕으로 <보기>를 탐구한 내용으로 가장 적절한 것은?\",\n",
            "      \"answer\": 1\n",
            "    }\n",
            "  ]\n",
            "}\n",
            "```\n",
            "---------------------------------  4\n",
            "```json\n",
            "{\n",
            "  \"problem\": [\n",
            "    {\n",
            "      \"question\": \"윗글에 대한 설명으로 가장 적절한 것은?\",\n",
            "      \"answer\": 4\n",
            "    },\n",
            "    {\n",
            "      \"question\": \"윗글의 인물에 대한 이해로 적절하지 않은 것은?\",\n",
            "      \"answer\": 3\n",
            "    },\n",
            "    {\n",
            "      \"question\": \"㉠～㉤에 대한 이해로 가장 적절한 것은?\",\n",
            "      \"answer\": 3\n",
            "    },\n",
            "    {\n",
            "      \"question\": \"<보기>를 바탕으로 윗글을 감상한 내용으로 적절하지 않은것은?\",\n",
            "      \"answer\": 5\n",
            "    }\n",
            "  ]\n",
            "}\n",
            "```\n",
            "---------------------------------  5\n",
            "```json\n",
            "{\n",
            "  \"problem\": [\n",
            "    {\n",
            "      \"question\": \"(가)～(다)의 공통점으로 가장 적절한 것은?\",\n",
            "      \"answer\": 1\n",
            "    },\n",
            "    {\n",
            "      \"question\": \"[A], [B]에 대한 설명으로 적절하지 않은 것은?\",\n",
            "      \"answer\": 5\n",
            "    },\n",
            "    {\n",
            "      \"question\": \"<보기>를 바탕으로 (가), (나)를 이해한 내용으로 적절하지 않은 것은?\",\n",
            "      \"answer\": 3\n",
            "    },\n",
            "    {\n",
            "      \"question\": \"㉠과 ㉡을 이해한 내용으로 가장 적절한 것은?\",\n",
            "      \"answer\": 3\n",
            "    },\n",
            "    {\n",
            "      \"question\": \"<보기>를 바탕으로 [C]를 읽은 독자의 반응으로 적절하지 않은 것은?\",\n",
            "      \"answer\": 4\n",
            "    }\n",
            "  ]\n",
            "}\n",
            "```\n",
            "---------------------------------  6\n",
            "```json\n",
            "{\n",
            "  \"problem\": [\n",
            "    {\n",
            "      \"question\": \"윗글에 대한 이해로 가장 적절한 것은?\",\n",
            "      \"answer\": 1\n",
            "    },\n",
            "    {\n",
            "      \"question\": \"[A]～[E]의 서술 방식에 대한 설명으로 적절하지 않은 것은?\",\n",
            "      \"answer\": 5\n",
            "    },\n",
            "    {\n",
            "      \"question\": \"윗글의 ‘오동나무’에 대한 이해로 가장 적절한 것은?\",\n",
            "      \"answer\": 1\n",
            "    },\n",
            "    {\n",
            "      \"question\": \"<보기>를 바탕으로 윗글을 감상한 내용으로 적절하지 않은 것은?\",\n",
            "      \"answer\": 2\n",
            "    }\n",
            "  ]\n",
            "}\n",
            "```\n",
            "---------------------------------  7\n",
            "```json\n",
            "{\n",
            "  \"problem\": [\n",
            "    {\n",
            "      \"question\": \"(가)와 (나)의 공통점으로 가장 적절한 것은?\",\n",
            "      \"answer\": 1\n",
            "    },\n",
            "    {\n",
            "      \"question\": \"㉠～㉤의 시적 기능에 대한 설명으로 적절하지 않은 것은?\",\n",
            "      \"answer\": 4\n",
            "    },\n",
            "    {\n",
            "      \"question\": \"[A]～[F]에 대한 이해로 가장 적절한 것은?\",\n",
            "      \"answer\": 2\n",
            "    },\n",
            "    {\n",
            "      \"question\": \"<보기>를 바탕으로 (가)와 (나)를 감상한 내용으로 적절하지 않은 것은?\",\n",
            "      \"answer\": 3\n",
            "    }\n",
            "  ]\n",
            "}\n",
            "```\n",
            "---------------------------------  8\n",
            "```json\n",
            "{\n",
            "  \"problem\": [\n",
            "    {\n",
            "      \"question\": \"위 발표자의 말하기 방식으로 적절하지 않은 것은?\",\n",
            "      \"answer\": 1\n",
            "    },\n",
            "    {\n",
            "      \"question\": \"다음은 발표자가 제시한 자료이다. 발표자의 자료 활용에 대한 설명으로 가장 적절한 것은?\",\n",
            "      \"answer\": 5\n",
            "    },\n",
            "    {\n",
            "      \"question\": \"발표 내용을 바탕으로 할 때, <보기>에 나타난 학생들의 반응에 대한 이해로 가장 적절한 것은?\",\n",
            "      \"answer\": 3\n",
            "    }\n",
            "  ]\n",
            "}\n",
            "```\n",
            "---------------------------------  9\n",
            "```json\n",
            "{\n",
            "  \"problem\": [\n",
            "    {\n",
            "      \"question\": \"(가)에 활용된 글쓰기 방식으로 가장 적절한 것은?\",\n",
            "      \"answer\": 4\n",
            "    },\n",
            "    {\n",
            "      \"question\": \"<보기>는 (가)의 마지막 문단의 초고이다. <보기>를 고쳐 쓰기 위해 친구들이 조언한 내용 중 반영되지 않은 것은?\",\n",
            "      \"answer\": 4\n",
            "    },\n",
            "    {\n",
            "      \"question\": \"[A], [B]에 대한 설명으로 적절하지 않은 것은?\",\n",
            "      \"answer\": 1\n",
            "    },\n",
            "    {\n",
            "      \"question\": \"(가)와 (나)를 고려할 때, ‘학생 1’이 쓴 [회의록]의 내용 중 적절하지 않은 것은?\",\n",
            "      \"answer\": 2\n",
            "    },\n",
            "    {\n",
            "      \"question\": \"다음은 (나)를 바탕으로 학생들이 만든 지도의 초안이다. ㉠～㉤에 대한 반응으로 가장 적절한 것은?\",\n",
            "      \"answer\": 4\n",
            "    }\n",
            "  ]\n",
            "}\n",
            "```\n",
            "---------------------------------  10\n",
            "```json\n",
            "{\n",
            "  \"problem\": [\n",
            "    {\n",
            "      \"question\": \"다음은 초고를 작성하기 전에 학생이 떠올린 생각이다. ㉠～㉤ 중, 학생의 초고에 반영되지 않은 것은?\",\n",
            "      \"answer\": 5\n",
            "    },\n",
            "    {\n",
            "      \"question\": \"다음은 초고를 읽은 교지 편집부 학생의 조언이다. 이를 반영 하여 [A]를 작성한다고 할 때, 가장 적절한 것은?\",\n",
            "      \"answer\": 4\n",
            "    },\n",
            "    {\n",
            "      \"question\": \"<보기>는 초고를 보완하기 위해 추가로 수집한 자료이다. 자료 활용 방안으로 적절하지 않은 것은?\",\n",
            "      \"answer\": 1\n",
            "    }\n",
            "  ]\n",
            "}\n",
            "```\n"
          ]
        }
      ]
    },
    {
      "cell_type": "code",
      "source": [
        "print(pred)\n",
        "print(len(pred))"
      ],
      "metadata": {
        "colab": {
          "base_uri": "https://localhost:8080/"
        },
        "id": "UhwJXh6Ez8U0",
        "outputId": "96c82c8a-b09c-4b00-d639-caedec20595d"
      },
      "execution_count": null,
      "outputs": [
        {
          "output_type": "stream",
          "name": "stdout",
          "text": [
            "[4, 4, 1, 4, 5, 3, 2, 5, 2, 4, 5, 2, 5, 3, 3, 4, 1, 4, 3, 3, 5, 1, 5, 3, 3, 4, 1, 5, 1, 2, 1, 4, 2, 3, 1, 5, 3, 4, 4, 1, 2, 4, 5, 4, 1]\n",
            "45\n"
          ]
        }
      ]
    },
    {
      "cell_type": "markdown",
      "source": [
        "##정확도 함수"
      ],
      "metadata": {
        "id": "RoQ798wPLz2A"
      }
    },
    {
      "cell_type": "code",
      "source": [
        "def accuracy(label_score, pred):\n",
        "    total_samples = 0\n",
        "    correct_predictions = 0\n",
        "\n",
        "    for label, prediction in zip(label_score, pred):\n",
        "        if label == prediction:\n",
        "            correct_predictions += 1\n",
        "        total_samples += 1\n",
        "    print(\"total_samples: \",total_samples)\n",
        "    print(\"correct_predictions: \",correct_predictions)\n",
        "    return correct_predictions / total_samples"
      ],
      "metadata": {
        "id": "64qD4WlrZoO1"
      },
      "execution_count": null,
      "outputs": []
    },
    {
      "cell_type": "code",
      "source": [
        "acc = accuracy(label_score, pred)\n",
        "print(acc)"
      ],
      "metadata": {
        "colab": {
          "base_uri": "https://localhost:8080/"
        },
        "id": "1FIXQSQf3dje",
        "outputId": "33e037b8-f7ca-4a5a-8c03-c85710860814"
      },
      "execution_count": null,
      "outputs": [
        {
          "output_type": "stream",
          "name": "stdout",
          "text": [
            "total_samples:  45\n",
            "correct_predictions:  41\n",
            "0.9111111111111111\n"
          ]
        }
      ]
    },
    {
      "cell_type": "markdown",
      "source": [
        "##결론\n",
        "\n",
        "정확도 91% 로 나온 결과로 만족합니다.\n",
        "\n",
        "여러가지 프롬프트,  rag 기반으로 시도 욕망."
      ],
      "metadata": {
        "id": "2ps8yR2_Lpbw"
      }
    },
    {
      "cell_type": "code",
      "source": [],
      "metadata": {
        "id": "-CY_HgIwaIex"
      },
      "execution_count": null,
      "outputs": []
    }
  ]
}