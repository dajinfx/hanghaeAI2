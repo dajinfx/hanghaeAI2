{
  "cells": [
    {
      "cell_type": "code",
      "source": [
        "pip install openai"
      ],
      "metadata": {
        "collapsed": true,
        "id": "vl_mTg1Q2Pxd",
        "outputId": "4a863594-3418-4829-d356-25c86179d143",
        "colab": {
          "base_uri": "https://localhost:8080/"
        }
      },
      "execution_count": 8,
      "outputs": [
        {
          "output_type": "stream",
          "name": "stdout",
          "text": [
            "Requirement already satisfied: openai in /usr/local/lib/python3.10/dist-packages (1.57.4)\n",
            "Requirement already satisfied: anyio<5,>=3.5.0 in /usr/local/lib/python3.10/dist-packages (from openai) (3.7.1)\n",
            "Requirement already satisfied: distro<2,>=1.7.0 in /usr/local/lib/python3.10/dist-packages (from openai) (1.9.0)\n",
            "Requirement already satisfied: httpx<1,>=0.23.0 in /usr/local/lib/python3.10/dist-packages (from openai) (0.28.1)\n",
            "Requirement already satisfied: jiter<1,>=0.4.0 in /usr/local/lib/python3.10/dist-packages (from openai) (0.8.2)\n",
            "Requirement already satisfied: pydantic<3,>=1.9.0 in /usr/local/lib/python3.10/dist-packages (from openai) (2.10.3)\n",
            "Requirement already satisfied: sniffio in /usr/local/lib/python3.10/dist-packages (from openai) (1.3.1)\n",
            "Requirement already satisfied: tqdm>4 in /usr/local/lib/python3.10/dist-packages (from openai) (4.67.1)\n",
            "Requirement already satisfied: typing-extensions<5,>=4.11 in /usr/local/lib/python3.10/dist-packages (from openai) (4.12.2)\n",
            "Requirement already satisfied: idna>=2.8 in /usr/local/lib/python3.10/dist-packages (from anyio<5,>=3.5.0->openai) (3.10)\n",
            "Requirement already satisfied: exceptiongroup in /usr/local/lib/python3.10/dist-packages (from anyio<5,>=3.5.0->openai) (1.2.2)\n",
            "Requirement already satisfied: certifi in /usr/local/lib/python3.10/dist-packages (from httpx<1,>=0.23.0->openai) (2024.12.14)\n",
            "Requirement already satisfied: httpcore==1.* in /usr/local/lib/python3.10/dist-packages (from httpx<1,>=0.23.0->openai) (1.0.7)\n",
            "Requirement already satisfied: h11<0.15,>=0.13 in /usr/local/lib/python3.10/dist-packages (from httpcore==1.*->httpx<1,>=0.23.0->openai) (0.14.0)\n",
            "Requirement already satisfied: annotated-types>=0.6.0 in /usr/local/lib/python3.10/dist-packages (from pydantic<3,>=1.9.0->openai) (0.7.0)\n",
            "Requirement already satisfied: pydantic-core==2.27.1 in /usr/local/lib/python3.10/dist-packages (from pydantic<3,>=1.9.0->openai) (2.27.1)\n"
          ]
        }
      ]
    },
    {
      "cell_type": "code",
      "source": [
        "import openai\n",
        "import json"
      ],
      "metadata": {
        "id": "ibchzmxI0sML"
      },
      "execution_count": 22,
      "outputs": []
    },
    {
      "cell_type": "code",
      "source": [
        "def read_api_key(filepath):\n",
        "    with open(filepath, 'r') as file:\n",
        "        api_key_info = json.load(file)\n",
        "    return api_key_info"
      ],
      "metadata": {
        "id": "vjzSqjDC39PK"
      },
      "execution_count": 24,
      "outputs": []
    },
    {
      "cell_type": "code",
      "source": [
        "from google.colab import files\n",
        "uploaded = files.upload()"
      ],
      "metadata": {
        "id": "EFgXrTTx5x1V",
        "outputId": "9e14a456-4122-4fa7-8609-a8bfb83e3cb5",
        "colab": {
          "base_uri": "https://localhost:8080/",
          "height": 73
        }
      },
      "execution_count": 30,
      "outputs": [
        {
          "output_type": "display_data",
          "data": {
            "text/plain": [
              "<IPython.core.display.HTML object>"
            ],
            "text/html": [
              "\n",
              "     <input type=\"file\" id=\"files-d2e4eac2-9257-4466-9786-c26f4a4f8caa\" name=\"files[]\" multiple disabled\n",
              "        style=\"border:none\" />\n",
              "     <output id=\"result-d2e4eac2-9257-4466-9786-c26f4a4f8caa\">\n",
              "      Upload widget is only available when the cell has been executed in the\n",
              "      current browser session. Please rerun this cell to enable.\n",
              "      </output>\n",
              "      <script>// Copyright 2017 Google LLC\n",
              "//\n",
              "// Licensed under the Apache License, Version 2.0 (the \"License\");\n",
              "// you may not use this file except in compliance with the License.\n",
              "// You may obtain a copy of the License at\n",
              "//\n",
              "//      http://www.apache.org/licenses/LICENSE-2.0\n",
              "//\n",
              "// Unless required by applicable law or agreed to in writing, software\n",
              "// distributed under the License is distributed on an \"AS IS\" BASIS,\n",
              "// WITHOUT WARRANTIES OR CONDITIONS OF ANY KIND, either express or implied.\n",
              "// See the License for the specific language governing permissions and\n",
              "// limitations under the License.\n",
              "\n",
              "/**\n",
              " * @fileoverview Helpers for google.colab Python module.\n",
              " */\n",
              "(function(scope) {\n",
              "function span(text, styleAttributes = {}) {\n",
              "  const element = document.createElement('span');\n",
              "  element.textContent = text;\n",
              "  for (const key of Object.keys(styleAttributes)) {\n",
              "    element.style[key] = styleAttributes[key];\n",
              "  }\n",
              "  return element;\n",
              "}\n",
              "\n",
              "// Max number of bytes which will be uploaded at a time.\n",
              "const MAX_PAYLOAD_SIZE = 100 * 1024;\n",
              "\n",
              "function _uploadFiles(inputId, outputId) {\n",
              "  const steps = uploadFilesStep(inputId, outputId);\n",
              "  const outputElement = document.getElementById(outputId);\n",
              "  // Cache steps on the outputElement to make it available for the next call\n",
              "  // to uploadFilesContinue from Python.\n",
              "  outputElement.steps = steps;\n",
              "\n",
              "  return _uploadFilesContinue(outputId);\n",
              "}\n",
              "\n",
              "// This is roughly an async generator (not supported in the browser yet),\n",
              "// where there are multiple asynchronous steps and the Python side is going\n",
              "// to poll for completion of each step.\n",
              "// This uses a Promise to block the python side on completion of each step,\n",
              "// then passes the result of the previous step as the input to the next step.\n",
              "function _uploadFilesContinue(outputId) {\n",
              "  const outputElement = document.getElementById(outputId);\n",
              "  const steps = outputElement.steps;\n",
              "\n",
              "  const next = steps.next(outputElement.lastPromiseValue);\n",
              "  return Promise.resolve(next.value.promise).then((value) => {\n",
              "    // Cache the last promise value to make it available to the next\n",
              "    // step of the generator.\n",
              "    outputElement.lastPromiseValue = value;\n",
              "    return next.value.response;\n",
              "  });\n",
              "}\n",
              "\n",
              "/**\n",
              " * Generator function which is called between each async step of the upload\n",
              " * process.\n",
              " * @param {string} inputId Element ID of the input file picker element.\n",
              " * @param {string} outputId Element ID of the output display.\n",
              " * @return {!Iterable<!Object>} Iterable of next steps.\n",
              " */\n",
              "function* uploadFilesStep(inputId, outputId) {\n",
              "  const inputElement = document.getElementById(inputId);\n",
              "  inputElement.disabled = false;\n",
              "\n",
              "  const outputElement = document.getElementById(outputId);\n",
              "  outputElement.innerHTML = '';\n",
              "\n",
              "  const pickedPromise = new Promise((resolve) => {\n",
              "    inputElement.addEventListener('change', (e) => {\n",
              "      resolve(e.target.files);\n",
              "    });\n",
              "  });\n",
              "\n",
              "  const cancel = document.createElement('button');\n",
              "  inputElement.parentElement.appendChild(cancel);\n",
              "  cancel.textContent = 'Cancel upload';\n",
              "  const cancelPromise = new Promise((resolve) => {\n",
              "    cancel.onclick = () => {\n",
              "      resolve(null);\n",
              "    };\n",
              "  });\n",
              "\n",
              "  // Wait for the user to pick the files.\n",
              "  const files = yield {\n",
              "    promise: Promise.race([pickedPromise, cancelPromise]),\n",
              "    response: {\n",
              "      action: 'starting',\n",
              "    }\n",
              "  };\n",
              "\n",
              "  cancel.remove();\n",
              "\n",
              "  // Disable the input element since further picks are not allowed.\n",
              "  inputElement.disabled = true;\n",
              "\n",
              "  if (!files) {\n",
              "    return {\n",
              "      response: {\n",
              "        action: 'complete',\n",
              "      }\n",
              "    };\n",
              "  }\n",
              "\n",
              "  for (const file of files) {\n",
              "    const li = document.createElement('li');\n",
              "    li.append(span(file.name, {fontWeight: 'bold'}));\n",
              "    li.append(span(\n",
              "        `(${file.type || 'n/a'}) - ${file.size} bytes, ` +\n",
              "        `last modified: ${\n",
              "            file.lastModifiedDate ? file.lastModifiedDate.toLocaleDateString() :\n",
              "                                    'n/a'} - `));\n",
              "    const percent = span('0% done');\n",
              "    li.appendChild(percent);\n",
              "\n",
              "    outputElement.appendChild(li);\n",
              "\n",
              "    const fileDataPromise = new Promise((resolve) => {\n",
              "      const reader = new FileReader();\n",
              "      reader.onload = (e) => {\n",
              "        resolve(e.target.result);\n",
              "      };\n",
              "      reader.readAsArrayBuffer(file);\n",
              "    });\n",
              "    // Wait for the data to be ready.\n",
              "    let fileData = yield {\n",
              "      promise: fileDataPromise,\n",
              "      response: {\n",
              "        action: 'continue',\n",
              "      }\n",
              "    };\n",
              "\n",
              "    // Use a chunked sending to avoid message size limits. See b/62115660.\n",
              "    let position = 0;\n",
              "    do {\n",
              "      const length = Math.min(fileData.byteLength - position, MAX_PAYLOAD_SIZE);\n",
              "      const chunk = new Uint8Array(fileData, position, length);\n",
              "      position += length;\n",
              "\n",
              "      const base64 = btoa(String.fromCharCode.apply(null, chunk));\n",
              "      yield {\n",
              "        response: {\n",
              "          action: 'append',\n",
              "          file: file.name,\n",
              "          data: base64,\n",
              "        },\n",
              "      };\n",
              "\n",
              "      let percentDone = fileData.byteLength === 0 ?\n",
              "          100 :\n",
              "          Math.round((position / fileData.byteLength) * 100);\n",
              "      percent.textContent = `${percentDone}% done`;\n",
              "\n",
              "    } while (position < fileData.byteLength);\n",
              "  }\n",
              "\n",
              "  // All done.\n",
              "  yield {\n",
              "    response: {\n",
              "      action: 'complete',\n",
              "    }\n",
              "  };\n",
              "}\n",
              "\n",
              "scope.google = scope.google || {};\n",
              "scope.google.colab = scope.google.colab || {};\n",
              "scope.google.colab._files = {\n",
              "  _uploadFiles,\n",
              "  _uploadFilesContinue,\n",
              "};\n",
              "})(self);\n",
              "</script> "
            ]
          },
          "metadata": {}
        },
        {
          "output_type": "stream",
          "name": "stdout",
          "text": [
            "Saving APIKey.txt to APIKey.txt\n"
          ]
        }
      ]
    },
    {
      "cell_type": "code",
      "source": [
        "\n",
        "for filename in uploaded.keys():\n",
        "    print(f\" {filename} is uploaded\")\n",
        "\n",
        "with open('APIKey.txt', 'r') as file:\n",
        "    content = file.read()\n"
      ],
      "metadata": {
        "id": "122Ta0H76FWy",
        "outputId": "d03bdf8d-0df1-4be6-cd57-9fd481d51cd2",
        "colab": {
          "base_uri": "https://localhost:8080/"
        }
      },
      "execution_count": 63,
      "outputs": [
        {
          "output_type": "stream",
          "name": "stdout",
          "text": [
            " APIKey.txt is uploaded\n"
          ]
        }
      ]
    },
    {
      "cell_type": "code",
      "source": [
        "print(content)"
      ],
      "metadata": {
        "id": "FZqKvDCTj7J6"
      },
      "execution_count": null,
      "outputs": []
    },
    {
      "cell_type": "code",
      "source": [
        "openai.api_key =content"
      ],
      "metadata": {
        "id": "d84Iudpy2hAN"
      },
      "execution_count": 35,
      "outputs": []
    },
    {
      "cell_type": "code",
      "source": [
        "chat_completion = openai.chat.completions.create(\n",
        "    messages=[\n",
        "        {\n",
        "            \"role\": \"user\",\n",
        "            \"content\": \"Say this is a test\",\n",
        "        }\n",
        "    ],\n",
        "    model=\"gpt-4o\",\n",
        ")\n"
      ],
      "metadata": {
        "id": "AvoHU2841sZv"
      },
      "execution_count": 38,
      "outputs": []
    },
    {
      "cell_type": "code",
      "source": [
        "chat_completion"
      ],
      "metadata": {
        "id": "GVBk-_013Vw9",
        "outputId": "f03042b1-72d3-4e07-c8fd-97b52d9b6388",
        "colab": {
          "base_uri": "https://localhost:8080/"
        }
      },
      "execution_count": 39,
      "outputs": [
        {
          "output_type": "execute_result",
          "data": {
            "text/plain": [
              "ChatCompletion(id='chatcmpl-AnGtZjtCpa9Mvi8HkepmQDjoaLmDK', choices=[Choice(finish_reason='stop', index=0, logprobs=None, message=ChatCompletionMessage(content='This is a test. How can I assist you further?', refusal=None, role='assistant', audio=None, function_call=None, tool_calls=None))], created=1736306381, model='gpt-4o-2024-08-06', object='chat.completion', service_tier=None, system_fingerprint='fp_b7d65f1a5b', usage=CompletionUsage(completion_tokens=13, prompt_tokens=12, total_tokens=25, completion_tokens_details=CompletionTokensDetails(accepted_prediction_tokens=0, audio_tokens=0, reasoning_tokens=0, rejected_prediction_tokens=0), prompt_tokens_details=PromptTokensDetails(audio_tokens=0, cached_tokens=0)))"
            ]
          },
          "metadata": {},
          "execution_count": 39
        }
      ]
    },
    {
      "cell_type": "code",
      "source": [],
      "metadata": {
        "id": "7s-nnMw4Zjwr"
      },
      "execution_count": null,
      "outputs": []
    },
    {
      "cell_type": "code",
      "source": [
        "import asyncio\n",
        "\n",
        "async def fetch_data():\n",
        "    print(\"stat gather data...\")\n",
        "    await asyncio.sleep(10)  #\n",
        "\n",
        "    print(\"data gather finished\")\n",
        "    return \"data\"\n",
        "\n",
        "def test():\n",
        "    print(\"test mid data\")\n",
        "\n",
        "async def main():\n",
        "    print(\"start main...\")\n",
        "    data = await fetch_data()  #\n",
        "    print(f\"accept data: {data}\")\n",
        "\n",
        "\n"
      ],
      "metadata": {
        "id": "D6tBiQLVf4JH"
      },
      "execution_count": 67,
      "outputs": []
    },
    {
      "cell_type": "code",
      "source": [
        "await main()"
      ],
      "metadata": {
        "id": "1tBy_VIYf3-5",
        "outputId": "3dae3b90-1324-45ae-a411-c41fb5938d07",
        "colab": {
          "base_uri": "https://localhost:8080/"
        }
      },
      "execution_count": 68,
      "outputs": [
        {
          "output_type": "stream",
          "name": "stdout",
          "text": [
            "start main...\n",
            "stat gather data...\n",
            "data gather finished\n",
            "accept data: data\n"
          ]
        }
      ]
    },
    {
      "cell_type": "code",
      "source": [
        "completion = client.chat.completions.create(\n",
        "    messages=[\n",
        "        {\n",
        "            \"role\": \"user\",\n",
        "            \"content\": \"Can you generate an example json object describing a fruit?\",\n",
        "        }\n",
        "    ],\n",
        "    model=\"gpt-4o\",\n",
        "    response_format={\"type\": \"json_object\"},\n",
        ")"
      ],
      "metadata": {
        "id": "6v1j34X3iCgC"
      },
      "execution_count": 51,
      "outputs": []
    },
    {
      "cell_type": "code",
      "source": [
        "print(completion)"
      ],
      "metadata": {
        "id": "LdOCioioiERB",
        "outputId": "f0c2446c-bbec-4591-e42a-97d059de521f",
        "colab": {
          "base_uri": "https://localhost:8080/"
        }
      },
      "execution_count": 52,
      "outputs": [
        {
          "output_type": "stream",
          "name": "stdout",
          "text": [
            "ChatCompletion(id='chatcmpl-AnJXnb0UgU4wC9GBSFmZflkfJkPFw', choices=[Choice(finish_reason='stop', index=0, logprobs=None, message=ChatCompletionMessage(content='\\n{\\n  \"name\": \"Apple\",\\n  \"color\": \"Red\",\\n  \"varieties\": [\\n    \"Gala\",\\n    \"Fuji\",\\n    \"Granny Smith\",\\n    \"Honeycrisp\"\\n  ],\\n  \"nutritional_info\": {\\n    \"calories\": 52,\\n    \"carbohydrates\": 14,\\n    \"fiber\": 2.4,\\n    \"sugars\": 10,\\n    \"protein\": 0.3,\\n    \"fat\": 0.2\\n  },\\n  \"season\": \"Fall\",\\n  \"origin\": \"Central Asia\",\\n  \"description\": \"Apples are sweet, crunchy fruits that are popular worldwide for their delicious flavor and nutritional benefits.\",\\n  \"uses\": [\\n    \"Eating fresh\",\\n    \"Making cider\",\\n    \"Baking pies\",\\n    \"Cooking sauces\"\\n  ]\\n}', refusal=None, role='assistant', audio=None, function_call=None, tool_calls=None))], created=1736316563, model='gpt-4o-2024-08-06', object='chat.completion', service_tier=None, system_fingerprint='fp_5f20662549', usage=CompletionUsage(completion_tokens=178, prompt_tokens=18, total_tokens=196, completion_tokens_details=CompletionTokensDetails(accepted_prediction_tokens=0, audio_tokens=0, reasoning_tokens=0, rejected_prediction_tokens=0), prompt_tokens_details=PromptTokensDetails(audio_tokens=0, cached_tokens=0)))\n"
          ]
        }
      ]
    },
    {
      "cell_type": "code",
      "source": [
        "print(completion.choices[0])"
      ],
      "metadata": {
        "id": "ZXbvn8ZCims2",
        "outputId": "ed7e97f8-8c69-42f5-9526-dc768be6b6d7",
        "colab": {
          "base_uri": "https://localhost:8080/"
        }
      },
      "execution_count": 55,
      "outputs": [
        {
          "output_type": "stream",
          "name": "stdout",
          "text": [
            "Choice(finish_reason='stop', index=0, logprobs=None, message=ChatCompletionMessage(content='\\n{\\n  \"name\": \"Apple\",\\n  \"color\": \"Red\",\\n  \"varieties\": [\\n    \"Gala\",\\n    \"Fuji\",\\n    \"Granny Smith\",\\n    \"Honeycrisp\"\\n  ],\\n  \"nutritional_info\": {\\n    \"calories\": 52,\\n    \"carbohydrates\": 14,\\n    \"fiber\": 2.4,\\n    \"sugars\": 10,\\n    \"protein\": 0.3,\\n    \"fat\": 0.2\\n  },\\n  \"season\": \"Fall\",\\n  \"origin\": \"Central Asia\",\\n  \"description\": \"Apples are sweet, crunchy fruits that are popular worldwide for their delicious flavor and nutritional benefits.\",\\n  \"uses\": [\\n    \"Eating fresh\",\\n    \"Making cider\",\\n    \"Baking pies\",\\n    \"Cooking sauces\"\\n  ]\\n}', refusal=None, role='assistant', audio=None, function_call=None, tool_calls=None))\n"
          ]
        }
      ]
    },
    {
      "cell_type": "code",
      "source": [
        "response_content = completion.choices[0].message.content\n",
        "fruit_data = json.loads(response_content)\n",
        "\n",
        "formatted_json = json.dumps(fruit_data, indent=4, ensure_ascii=False)\n",
        "print(formatted_json)"
      ],
      "metadata": {
        "id": "d14VuS4dicIG",
        "outputId": "6fdb304a-598b-4f33-a656-ae99eef63e6d",
        "colab": {
          "base_uri": "https://localhost:8080/"
        }
      },
      "execution_count": 60,
      "outputs": [
        {
          "output_type": "stream",
          "name": "stdout",
          "text": [
            "{\n",
            "    \"name\": \"Apple\",\n",
            "    \"color\": \"Red\",\n",
            "    \"varieties\": [\n",
            "        \"Gala\",\n",
            "        \"Fuji\",\n",
            "        \"Granny Smith\",\n",
            "        \"Honeycrisp\"\n",
            "    ],\n",
            "    \"nutritional_info\": {\n",
            "        \"calories\": 52,\n",
            "        \"carbohydrates\": 14,\n",
            "        \"fiber\": 2.4,\n",
            "        \"sugars\": 10,\n",
            "        \"protein\": 0.3,\n",
            "        \"fat\": 0.2\n",
            "    },\n",
            "    \"season\": \"Fall\",\n",
            "    \"origin\": \"Central Asia\",\n",
            "    \"description\": \"Apples are sweet, crunchy fruits that are popular worldwide for their delicious flavor and nutritional benefits.\",\n",
            "    \"uses\": [\n",
            "        \"Eating fresh\",\n",
            "        \"Making cider\",\n",
            "        \"Baking pies\",\n",
            "        \"Cooking sauces\"\n",
            "    ]\n",
            "}\n"
          ]
        }
      ]
    },
    {
      "cell_type": "code",
      "source": [
        "completion = client.chat.completions.create(\n",
        "    messages=[\n",
        "        {\n",
        "            \"role\": \"user\",\n",
        "            \"content\": \"중국 도시 10가지 json형태로 한국어로 나열해줘?\",\n",
        "        }\n",
        "    ],\n",
        "    model=\"gpt-4o\",\n",
        "    response_format={\"type\": \"json_object\"},\n",
        ")"
      ],
      "metadata": {
        "id": "7k9QwH_6kmOD"
      },
      "execution_count": 76,
      "outputs": []
    },
    {
      "cell_type": "code",
      "source": [
        "response_content = completion.choices[0].message.content\n",
        "fruit_data = json.loads(response_content)\n",
        "\n",
        "formatted_json = json.dumps(fruit_data, indent=4, ensure_ascii=False)\n",
        "print(formatted_json)"
      ],
      "metadata": {
        "id": "mOJ7w1X6lW4P",
        "outputId": "80f508ca-f774-4a79-8ccc-9a06af546deb",
        "colab": {
          "base_uri": "https://localhost:8080/"
        }
      },
      "execution_count": 77,
      "outputs": [
        {
          "output_type": "stream",
          "name": "stdout",
          "text": [
            "{\n",
            "    \"도시들\": [\n",
            "        {\n",
            "            \"이름\": \"베이징\"\n",
            "        },\n",
            "        {\n",
            "            \"이름\": \"상하이\"\n",
            "        },\n",
            "        {\n",
            "            \"이름\": \"광저우\"\n",
            "        },\n",
            "        {\n",
            "            \"이름\": \"선전\"\n",
            "        },\n",
            "        {\n",
            "            \"이름\": \"청두\"\n",
            "        },\n",
            "        {\n",
            "            \"이름\": \"충칭\"\n",
            "        },\n",
            "        {\n",
            "            \"이름\": \"시안\"\n",
            "        },\n",
            "        {\n",
            "            \"이름\": \"우한\"\n",
            "        },\n",
            "        {\n",
            "            \"이름\": \"항저우\"\n",
            "        },\n",
            "        {\n",
            "            \"이름\": \"텐진\"\n",
            "        }\n",
            "    ]\n",
            "}\n"
          ]
        }
      ]
    }
  ],
  "metadata": {
    "colab": {
      "provenance": []
    },
    "kernelspec": {
      "display_name": "Python 3",
      "name": "python3"
    },
    "language_info": {
      "name": "python"
    }
  },
  "nbformat": 4,
  "nbformat_minor": 0
}