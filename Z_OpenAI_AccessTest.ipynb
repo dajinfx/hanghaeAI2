{
  "cells": [
    {
      "cell_type": "markdown",
      "metadata": {
        "id": "OPJenlrhihrh"
      },
      "source": [
        "# MNIST 실습\n",
        "\n",
        "이번에는 28x28 흑백 손글씨 이미지를 보고 0~9 사이의 숫자 중 어떤 숫자를 쓴 것인지 예측하는 문제를 실습합니다.\n",
        "이번 실습에서는 GPU를 활용할 것이기 때문에, 이전 챕터에서 Colab에서 GPU를 설정하는 방법을 따라해주시길 바랍니다.\n",
        "\n",
        "GPU를 설정했으면 library들을 import합니다."
      ]
    },
    {
      "cell_type": "markdown",
      "source": [
        "##[Feedback]\n",
        "심화과제라서 데이터셋이 CIFAR10 바뀌지고, 다음번 강의가 CNN을 넘기고\n",
        "바로 RNN 으로 간다고 들어서,  ANN 대신 CNN 으로 구현을 해보려고 했습니다.  \n",
        "\n",
        "진행과정에 문제들이 많이 발생하여 해결하는데 시간을 많이 소비를 했었고,\n",
        "다시 ANN 모델로 기본과제 토대로 진행하려다 시간문제로 일단 이데로 올립니다."
      ],
      "metadata": {
        "id": "zxZ_kJx58341"
      }
    },
    {
      "cell_type": "code",
      "execution_count": 1,
      "metadata": {
        "id": "6lXVfXoDtoQh"
      },
      "outputs": [],
      "source": [
        "import torch\n",
        "import torchvision\n",
        "import torchvision.transforms as transforms\n",
        "from matplotlib import pyplot as plt\n",
        "from torch import nn\n",
        "from torch.optim import SGD\n",
        "import numpy as np"
      ]
    },
    {
      "cell_type": "markdown",
      "metadata": {
        "id": "pF-1zQvmiult"
      },
      "source": [
        "#[Feedback]\n",
        "저의 환경 세팅의 GPU 문제가 있어 해결이 되지 않아 cpu를 쓰게 되였습니다. 환경문제 별도로 문의드리겠습니다."
      ]
    },
    {
      "cell_type": "code",
      "execution_count": 2,
      "metadata": {
        "colab": {
          "base_uri": "https://localhost:8080/"
        },
        "id": "B7TxFte-WnXQ",
        "outputId": "21a3f9b6-7381-4513-bf47-6bb7b18f3823"
      },
      "outputs": [
        {
          "output_type": "stream",
          "name": "stdout",
          "text": [
            "cpu\n"
          ]
        }
      ],
      "source": [
        "device = torch.device(\"cuda\" if torch.cuda.is_available() else \"cpu\")\n",
        "print(device)"
      ]
    },
    {
      "cell_type": "code",
      "execution_count": 3,
      "metadata": {
        "colab": {
          "base_uri": "https://localhost:8080/"
        },
        "id": "KAYlqPaRt6ti",
        "outputId": "0d39a46a-4e79-40cd-fb24-886ce02e3622"
      },
      "outputs": [
        {
          "output_type": "stream",
          "name": "stdout",
          "text": [
            "Downloading https://www.cs.toronto.edu/~kriz/cifar-10-python.tar.gz to ./data/cifar-10-python.tar.gz\n"
          ]
        },
        {
          "output_type": "stream",
          "name": "stderr",
          "text": [
            "100%|██████████| 170M/170M [00:02<00:00, 77.9MB/s]\n"
          ]
        },
        {
          "output_type": "stream",
          "name": "stdout",
          "text": [
            "Extracting ./data/cifar-10-python.tar.gz to ./data\n",
            "Files already downloaded and verified\n"
          ]
        }
      ],
      "source": [
        "transform = transforms.Compose([\n",
        "    transforms.ToTensor(),\n",
        "    transforms.Normalize((0.5, 0.5, 0.5), (0.5, 0.5, 0.5))\n",
        "])\n",
        "\n",
        "trainset = torchvision.datasets.CIFAR10(root='./data',train=True,download=True,transform=transform)\n",
        "testset = torchvision.datasets.CIFAR10(root='./data', train=False, download=True, transform=transform)"
      ]
    },
    {
      "cell_type": "markdown",
      "metadata": {
        "id": "yvGTdcXRKHdw"
      },
      "source": [
        "[Feedback]\n",
        "어떤 데이터셋인지 이미지를 확인해보았습니다."
      ]
    },
    {
      "cell_type": "code",
      "execution_count": 4,
      "metadata": {
        "colab": {
          "base_uri": "https://localhost:8080/",
          "height": 482
        },
        "id": "Zsp3sHmojyhT",
        "outputId": "eaa41f72-6cab-4a02-a601-5424c9978458"
      },
      "outputs": [
        {
          "output_type": "stream",
          "name": "stdout",
          "text": [
            "50000\n",
            "torch.Size([3, 32, 32]) 6\n"
          ]
        },
        {
          "output_type": "execute_result",
          "data": {
            "text/plain": [
              "<matplotlib.image.AxesImage at 0x7abb597230d0>"
            ]
          },
          "metadata": {},
          "execution_count": 4
        },
        {
          "output_type": "display_data",
          "data": {
            "text/plain": [
              "<Figure size 640x480 with 1 Axes>"
            ],
            "image/png": "[encoded data removed]"
          },
          "metadata": {}
        }
      ],
      "source": [
        "from matplotlib import pyplot as plt\n",
        "print(len(trainset))\n",
        "print(trainset[0][0].shape, trainset[0][1])\n",
        "plt.imshow(trainset[20][0][0], cmap='gray')"
      ]
    },
    {
      "cell_type": "code",
      "execution_count": 5,
      "metadata": {
        "id": "UxKu3kA2i5WH"
      },
      "outputs": [],
      "source": [
        "batch_size = 256\n",
        "\n",
        "trainloader = torch.utils.data.DataLoader(trainset,batch_size=batch_size,shuffle=True)\n",
        "testloader = torch.utils.data.DataLoader(testset, batch_size=batch_size, shuffle=False)"
      ]
    },
    {
      "cell_type": "markdown",
      "metadata": {
        "id": "z4Qyrm4WlzWt"
      },
      "source": [
        "PyTorch에서는 `DataLoader`가 dataset을 인자로 받아 batch로 나눠줍니다.\n",
        "부가적으로 `batch_size`라는 인자를 통해 batch size를 받고 있으며, `shuffle`이라는 인자를 통해 data들을 섞을지 결정해줍니다.\n",
        "우리는 SGD가 완전 랜덤으로 batch를 구성해야 잘 동작하는 것을 알고 있기 때문에 `shuffle`에 `True`를 넘겨주고 있습니다.\n",
        "\n",
        "다음은 첫 번째 batch를 출력한 모습입니다."
      ]
    },
    {
      "cell_type": "markdown",
      "source": [
        "##[Feedback]\n",
        "data 모양을 내다보는 코드,  그런데,  채널 과 Dimension 같은 개념인지 햇갈립니다.  \n",
        "예를 들어 torch.Size([256, 3, 32, 32])   3 은 RGB 체널이자 3 Dim 이라고 하는거죠?"
      ],
      "metadata": {
        "id": "CnMi-EcSXWlJ"
      }
    },
    {
      "cell_type": "code",
      "execution_count": 6,
      "metadata": {
        "colab": {
          "base_uri": "https://localhost:8080/"
        },
        "id": "_Hd7XxyAvVNz",
        "outputId": "66afcb26-e949-49c2-de95-e4c8936fca29"
      },
      "outputs": [
        {
          "output_type": "stream",
          "name": "stdout",
          "text": [
            "torch.Size([256, 3, 32, 32]) torch.Size([256])\n"
          ]
        }
      ],
      "source": [
        "dataiter = iter(trainloader)\n",
        "images, labels = next(dataiter)\n",
        "print(images.shape, labels.shape)"
      ]
    },
    {
      "cell_type": "markdown",
      "metadata": {
        "id": "h0ZY5mDimRUK"
      },
      "source": [
        "`images`는 첫 번째 batch의 image들이고 `labels`는 첫 번째 batch의 label들입니다.\n",
        "위에서 batch size를 64로 설정했기 때문에 총 64개의 image와 label들이 있어야 합니다.\n",
        "실제 shape 출력 결과를 보면 그렇다는 것을 알 수 있습니다.\n",
        "\n",
        "다음은 (n, 1, 28, 28) shape의 image를 입력받아 0~9 사이의 정수 하나를 출력하는 3-layer MLP를 구현합니다."
      ]
    },
    {
      "cell_type": "markdown",
      "source": [
        "##[My code]\n",
        "Activation Sigmoid 와 Relu 비교하기 위한 모델 초기화, Leaky_Relu 로 디폴드 생성"
      ],
      "metadata": {
        "id": "VTm076ItT_xP"
      }
    },
    {
      "cell_type": "code",
      "execution_count": 7,
      "metadata": {
        "id": "OLOA-ZGTuVVG",
        "colab": {
          "base_uri": "https://localhost:8080/"
        },
        "outputId": "3b153341-b596-42a9-f428-daf73a48ed7c"
      },
      "outputs": [
        {
          "output_type": "stream",
          "name": "stdout",
          "text": [
            "act_type: Leaky_Relu\n"
          ]
        }
      ],
      "source": [
        "from torch import nn\n",
        "\n",
        "class SimpleCNN(nn.Module):\n",
        "     def __init__(self, act_type):\n",
        "        super(SimpleCNN, self).__init__()\n",
        "        self.conv1 = nn.Conv2d(3, 32, 3, padding=1)  # 입력 채널 3, 출력 채널 32, 커널 크기 3x3\n",
        "        self.pool = nn.MaxPool2d(2, 2)               # 풀링 크기 2x2\n",
        "        self.conv2 = nn.Conv2d(32, 64, 3, padding=1) # 입력 채널 32, 출력 채널 64, 커널 크기 3x3\n",
        "        self.dropout = nn.Dropout(0.1)\n",
        "        self.fc1 = nn.Linear(64 * 8 * 8, 512)        # 완전 연결 층\n",
        "        self.fc2 = nn.Linear(512, 10)                # 출력 층 (10개의 클래스)\n",
        "        self.act_type = act_type                     # 모델 activation parameter\n",
        "\n",
        "        print(\"act_type:\",act_type)\n",
        "     def forward(self, x):\n",
        "\n",
        "        # Layer 1 tensor + activation + pool\n",
        "        x = self.conv1(x)\n",
        "        if self.act_type == \"Sigmoid\":\n",
        "            x = torch.sigmoid(x)\n",
        "        elif self.act_type == \"Leaky_Relu\":\n",
        "            x = torch.nn.functional.leaky_relu(x, negative_slope=0.01)\n",
        "            x = self.dropout(x)\n",
        "        x = self.pool(x)\n",
        "\n",
        "        # Layer 2 tensor + activation + pool\n",
        "        x = self.conv2(x)\n",
        "        if self.act_type == \"Sigmoid\":\n",
        "            x = torch.sigmoid(x)\n",
        "        elif self.act_type == \"Leaky_Relu\":\n",
        "            x = torch.nn.functional.leaky_relu(x, negative_slope=0.01)\n",
        "            x = self.dropout(x)\n",
        "        x = self.pool(x)\n",
        "\n",
        "        # Full connection\n",
        "        x = x.view(x.size(0), -1)   # 플래튼\n",
        "        x = self.fc1(x)  # 1st Full connection\n",
        "        if self.act_type == \"Sigmoid\":\n",
        "            x = torch.sigmoid(x)\n",
        "        elif self.act_type == \"Leaky_Relu\":\n",
        "            x = torch.nn.functional.leaky_relu(x, negative_slope=0.01)\n",
        "            x = self.dropout(x)\n",
        "\n",
        "        # outlayer\n",
        "        x = self.fc2(x) # 2st Full connection\n",
        "        if self.act_type == \"Sigmoid\":\n",
        "            x = torch.sigmoid(x)\n",
        "        return x\n",
        "\n",
        "model = SimpleCNN(\"Leaky_Relu\") # 모델 초기화"
      ]
    },
    {
      "cell_type": "code",
      "execution_count": 8,
      "metadata": {
        "id": "sqaUyFhFWcYF"
      },
      "outputs": [],
      "source": [
        "from torch.optim import SGD\n",
        "from torch.optim import Adam\n",
        "import torch.nn.functional as F\n",
        "lr = 0.001"
      ]
    },
    {
      "cell_type": "markdown",
      "metadata": {
        "id": "5PooeOKMnRfZ"
      },
      "source": [
        "이전 코드와 거의 똑같습니다. 다른 점은 `model.to('cuda')` 코드를 통해 우리가 구현한 model을 GPU로 옮긴 것입니다.\n",
        "MNIST 부터는 모델과 data가 커지면서 훨씬 많은 행렬 연산이 이루어지기 때문에 GPU를 활용하는 것이 빠릅니다.\n",
        "\n",
        "다음은 model을 MNIST에 학습하는 코드입니다."
      ]
    },
    {
      "cell_type": "code",
      "execution_count": 9,
      "metadata": {
        "id": "1R_iV8eFnQjj"
      },
      "outputs": [],
      "source": [
        "def accuracy(model, dataloader):\n",
        "  cnt = 0\n",
        "  acc = 0\n",
        "\n",
        "  for data in dataloader:\n",
        "    inputs, labels = data\n",
        "    inputs, labels = inputs.to(device), labels.to(device)\n",
        "\n",
        "    preds = model(inputs)\n",
        "    preds = torch.argmax(preds, dim=-1)\n",
        "\n",
        "    cnt += labels.shape[0]\n",
        "    acc += (labels == preds).sum().item()\n",
        "\n",
        "  return acc / cnt"
      ]
    },
    {
      "cell_type": "markdown",
      "metadata": {
        "id": "xfY39uIQXqfe"
      },
      "source": [
        "##[My Code] Adam 은 momentum 변수가 없다고 하고 SGD는 필요하다고 검색되였습니다."
      ]
    },
    {
      "cell_type": "code",
      "execution_count": 16,
      "metadata": {
        "id": "J9rFqSmXWYc-"
      },
      "outputs": [],
      "source": [
        "def training(n_epochs,active_type, optimizer_type):\n",
        "  model = SimpleCNN(active_type) # 모델 초기화\n",
        "  model = model.to(device)\n",
        "  print(optimizer_type,\" training:\")\n",
        "  optimizer = None;\n",
        "  if   optimizer_type == \"Adam\":\n",
        "    optimizer = Adam(model.parameters(), lr=lr)\n",
        "  elif optimizer_type == \"SGD\":\n",
        "    optimizer = SGD(model.parameters(), lr=lr)\n",
        "\n",
        "  train_accs = []\n",
        "  test_accs  = []\n",
        "\n",
        "\n",
        "  criterion = None\n",
        "  for epoch in range(n_epochs):\n",
        "    total_loss = 0.\n",
        "    model.train()\n",
        "    for data in trainloader:\n",
        "      model.zero_grad()\n",
        "      #optimizer.zero_grad()\n",
        "      inputs, labels = data\n",
        "\n",
        "      if active_type == \"Sigmoid\":\n",
        "        criterion = nn.CrossEntropyLoss()\n",
        "      elif active_type == \"Leaky_Relu\":\n",
        "        criterion = nn.CrossEntropyLoss()\n",
        "      inputs, labels = inputs.to(device), labels.to(device)\n",
        "\n",
        "      preds = model(inputs)\n",
        "      #loss = (preds[:, 0] - labels).pow(2).mean()\n",
        "      loss = criterion(preds, labels)\n",
        "\n",
        "      loss.backward()\n",
        "      optimizer.step()\n",
        "\n",
        "      total_loss += loss.item()\n",
        "    model.eval()\n",
        "    train_acc = accuracy(model, trainloader)\n",
        "    test_acc = accuracy(model, testloader)\n",
        "\n",
        "    train_accs.append(train_acc)\n",
        "    test_accs.append(test_acc)\n",
        "\n",
        "    print(f\"Epoch {epoch:3d} | Loss: {total_loss} | train_acc: {train_acc} | test_acc: {test_acc}\"  )\n",
        "\n",
        "  return train_accs,test_accs"
      ]
    },
    {
      "cell_type": "code",
      "execution_count": 11,
      "metadata": {
        "id": "Eg5_ulo3RoVw"
      },
      "outputs": [],
      "source": [
        "def plot_acc(train_accs, test_accs, label1='train', label2='test'):\n",
        "  x = np.arange(len(train_accs))\n",
        "\n",
        "  plt.plot(x, train_accs, label=label1)\n",
        "  plt.plot(x, test_accs, label=label2)\n",
        "  plt.legend()\n",
        "  plt.show()"
      ]
    },
    {
      "cell_type": "code",
      "execution_count": null,
      "metadata": {
        "colab": {
          "base_uri": "https://localhost:8080/"
        },
        "id": "GIS8-hdHYFLA",
        "outputId": "feb72c3f-53d9-4d27-8e88-b4870bf89541"
      },
      "outputs": [
        {
          "output_type": "stream",
          "name": "stdout",
          "text": [
            "act_type: Leaky_Relu\n",
            "Adam  training:\n",
            "Epoch   0 | Loss: 285.15394401550293 | train_acc: 0.59392 | test_acc: 0.5816\n",
            "Epoch   1 | Loss: 209.1951104402542 | train_acc: 0.67264 | test_acc: 0.6426\n",
            "Epoch   2 | Loss: 176.42260098457336 | train_acc: 0.73506 | test_acc: 0.6879\n",
            "Epoch   3 | Loss: 150.6875188946724 | train_acc: 0.78196 | test_acc: 0.7073\n",
            "Epoch   4 | Loss: 130.15644413232803 | train_acc: 0.82024 | test_acc: 0.7183\n",
            "Epoch   5 | Loss: 110.67836943268776 | train_acc: 0.84032 | test_acc: 0.7096\n",
            "Epoch   6 | Loss: 93.24347242712975 | train_acc: 0.88746 | test_acc: 0.7327\n",
            "Epoch   7 | Loss: 75.34337252378464 | train_acc: 0.91176 | test_acc: 0.7285\n",
            "Epoch   8 | Loss: 58.5378131121397 | train_acc: 0.94534 | test_acc: 0.735\n",
            "Epoch   9 | Loss: 45.34402999281883 | train_acc: 0.96512 | test_acc: 0.7309\n",
            "Epoch  10 | Loss: 34.58346372842789 | train_acc: 0.98268 | test_acc: 0.744\n",
            "Epoch  11 | Loss: 26.846074037253857 | train_acc: 0.98494 | test_acc: 0.7342\n",
            "Epoch  12 | Loss: 20.980075128376484 | train_acc: 0.98952 | test_acc: 0.7369\n",
            "Epoch  13 | Loss: 18.061103340238333 | train_acc: 0.99486 | test_acc: 0.7346\n",
            "Epoch  14 | Loss: 14.813062455505133 | train_acc: 0.99568 | test_acc: 0.7396\n",
            "Epoch  15 | Loss: 12.630203885957599 | train_acc: 0.99672 | test_acc: 0.7403\n",
            "Epoch  16 | Loss: 11.77063873782754 | train_acc: 0.99326 | test_acc: 0.7345\n",
            "Epoch  17 | Loss: 11.346153736114502 | train_acc: 0.99504 | test_acc: 0.7385\n",
            "Epoch  18 | Loss: 9.46250980347395 | train_acc: 0.99796 | test_acc: 0.7397\n",
            "Epoch  19 | Loss: 10.538555907085538 | train_acc: 0.9961 | test_acc: 0.7365\n",
            "Epoch  20 | Loss: 8.939638523384929 | train_acc: 0.99642 | test_acc: 0.7344\n",
            "Epoch  21 | Loss: 9.059046983718872 | train_acc: 0.9979 | test_acc: 0.7407\n",
            "Epoch  22 | Loss: 8.239514324814081 | train_acc: 0.99786 | test_acc: 0.7415\n",
            "Epoch  23 | Loss: 8.731973461806774 | train_acc: 0.99814 | test_acc: 0.74\n",
            "Epoch  24 | Loss: 8.257817775011063 | train_acc: 0.99792 | test_acc: 0.7358\n",
            "Epoch  25 | Loss: 7.272267923690379 | train_acc: 0.99756 | test_acc: 0.7377\n",
            "Epoch  26 | Loss: 7.985188802704215 | train_acc: 0.99538 | test_acc: 0.7313\n",
            "Epoch  27 | Loss: 6.950783526990563 | train_acc: 0.9987 | test_acc: 0.7423\n",
            "Epoch  28 | Loss: 6.200631958432496 | train_acc: 0.99744 | test_acc: 0.7317\n",
            "Epoch  29 | Loss: 7.3837996404618025 | train_acc: 0.99856 | test_acc: 0.7373\n",
            "Epoch  30 | Loss: 6.213604527525604 | train_acc: 0.99756 | test_acc: 0.7341\n",
            "Epoch  31 | Loss: 6.796454506460577 | train_acc: 0.99684 | test_acc: 0.731\n",
            "Epoch  32 | Loss: 6.3180050533264875 | train_acc: 0.9983 | test_acc: 0.7411\n",
            "Epoch  33 | Loss: 5.771222752053291 | train_acc: 0.99822 | test_acc: 0.738\n",
            "Epoch  34 | Loss: 6.517484436975792 | train_acc: 0.9967 | test_acc: 0.7325\n",
            "Epoch  35 | Loss: 6.95234940899536 | train_acc: 0.9984 | test_acc: 0.7295\n",
            "Epoch  36 | Loss: 6.055794548243284 | train_acc: 0.9984 | test_acc: 0.7281\n",
            "Epoch  37 | Loss: 5.504489432089031 | train_acc: 0.99896 | test_acc: 0.7323\n",
            "Epoch  38 | Loss: 5.547601260710508 | train_acc: 0.99736 | test_acc: 0.7323\n",
            "Epoch  39 | Loss: 5.863415813073516 | train_acc: 0.99804 | test_acc: 0.7341\n",
            "Epoch  40 | Loss: 5.041124398354441 | train_acc: 0.99832 | test_acc: 0.7356\n",
            "Epoch  41 | Loss: 5.493977202102542 | train_acc: 0.99848 | test_acc: 0.7309\n",
            "Epoch  42 | Loss: 4.95676898653619 | train_acc: 0.99872 | test_acc: 0.7411\n",
            "Epoch  43 | Loss: 5.265486451098695 | train_acc: 0.99834 | test_acc: 0.7367\n",
            "Epoch  44 | Loss: 4.782293068477884 | train_acc: 0.99828 | test_acc: 0.7351\n",
            "Epoch  45 | Loss: 4.8667100087041035 | train_acc: 0.99844 | test_acc: 0.7297\n",
            "Epoch  46 | Loss: 4.9995050970464945 | train_acc: 0.99914 | test_acc: 0.7345\n",
            "Epoch  47 | Loss: 5.012454309035093 | train_acc: 0.9984 | test_acc: 0.732\n",
            "Epoch  48 | Loss: 5.127530788071454 | train_acc: 0.99888 | test_acc: 0.7357\n",
            "Epoch  49 | Loss: 4.30074652004987 | train_acc: 0.99906 | test_acc: 0.735\n"
          ]
        }
      ],
      "source": [
        "train_accs_Adam,test_accs_Adam =  training(50,\"Leaky_Relu\", \"Adam\")"
      ]
    },
    {
      "cell_type": "code",
      "source": [
        "Model_Relu_Adam = model"
      ],
      "metadata": {
        "id": "RAlIxrxzFeyq"
      },
      "execution_count": null,
      "outputs": []
    },
    {
      "cell_type": "code",
      "execution_count": null,
      "metadata": {
        "colab": {
          "base_uri": "https://localhost:8080/",
          "height": 430
        },
        "id": "1m1fVKknT9VZ",
        "outputId": "14bb3e2b-7526-4278-eb73-b331f9598dd2"
      },
      "outputs": [
        {
          "output_type": "display_data",
          "data": {
            "text/plain": [
              "<Figure size 640x480 with 1 Axes>"
            ],
            "image/png": "[encoded data removed]"
          },
          "metadata": {}
        }
      ],
      "source": [
        "# Epoch에 따른 train과 test data에 대한 model의 정확도를 plot합니다\n",
        "plot_acc(train_accs_Adam, test_accs_Adam, label1='Train Accuracy', label2='Test Accuracy')"
      ]
    },
    {
      "cell_type": "markdown",
      "source": [
        "##[Feedback]\n",
        "Taining 데이터 곡선이 가파롭고 훈련이 10에서부터 는 9.8에 가까운데 overfit 된 의심이 듭니다.\n",
        "Test 는 역시 10으로 부터 정확도가 7.3가깝게 되고 더이상 개선이 보이지 않았습니다."
      ],
      "metadata": {
        "id": "gcJPPkaDdTvp"
      }
    },
    {
      "cell_type": "code",
      "execution_count": 11,
      "metadata": {
        "colab": {
          "base_uri": "https://localhost:8080/"
        },
        "id": "BpJjmq-eZsgK",
        "outputId": "7215fdd9-331d-41a1-be3e-914302146681"
      },
      "outputs": [
        {
          "output_type": "stream",
          "name": "stdout",
          "text": [
            "act_type: SGD\n",
            "SGD  training:\n",
            "Epoch   0 | Loss: 413.54982340335846 | train_acc: 0.32084 | test_acc: 0.3261\n",
            "Epoch   1 | Loss: 365.8132429122925 | train_acc: 0.38588 | test_acc: 0.3908\n",
            "Epoch   2 | Loss: 339.96284902095795 | train_acc: 0.42412 | test_acc: 0.4291\n",
            "Epoch   3 | Loss: 320.7190406322479 | train_acc: 0.44522 | test_acc: 0.4477\n",
            "Epoch   4 | Loss: 309.02523922920227 | train_acc: 0.46192 | test_acc: 0.466\n",
            "Epoch   5 | Loss: 300.2231124639511 | train_acc: 0.47344 | test_acc: 0.4742\n",
            "Epoch   6 | Loss: 292.5645999908447 | train_acc: 0.48928 | test_acc: 0.4931\n",
            "Epoch   7 | Loss: 285.1854362487793 | train_acc: 0.50192 | test_acc: 0.4967\n",
            "Epoch   8 | Loss: 278.29957342147827 | train_acc: 0.51482 | test_acc: 0.5107\n",
            "Epoch   9 | Loss: 271.7720265388489 | train_acc: 0.5257 | test_acc: 0.5251\n",
            "Epoch  10 | Loss: 265.3808938264847 | train_acc: 0.53444 | test_acc: 0.5308\n",
            "Epoch  11 | Loss: 260.44907200336456 | train_acc: 0.54104 | test_acc: 0.5371\n",
            "Epoch  12 | Loss: 255.56841468811035 | train_acc: 0.55336 | test_acc: 0.5412\n",
            "Epoch  13 | Loss: 251.34743797779083 | train_acc: 0.56156 | test_acc: 0.5509\n",
            "Epoch  14 | Loss: 247.13009548187256 | train_acc: 0.57076 | test_acc: 0.5624\n",
            "Epoch  15 | Loss: 242.7935427427292 | train_acc: 0.57792 | test_acc: 0.5662\n",
            "Epoch  16 | Loss: 238.93575203418732 | train_acc: 0.58376 | test_acc: 0.5659\n",
            "Epoch  17 | Loss: 235.66483879089355 | train_acc: 0.59454 | test_acc: 0.5767\n",
            "Epoch  18 | Loss: 232.2239179611206 | train_acc: 0.60064 | test_acc: 0.5774\n",
            "Epoch  19 | Loss: 228.30128610134125 | train_acc: 0.60552 | test_acc: 0.5816\n",
            "Epoch  20 | Loss: 225.4074159860611 | train_acc: 0.60764 | test_acc: 0.589\n",
            "Epoch  21 | Loss: 222.5427211523056 | train_acc: 0.6191 | test_acc: 0.5953\n",
            "Epoch  22 | Loss: 219.402980864048 | train_acc: 0.62242 | test_acc: 0.5991\n",
            "Epoch  23 | Loss: 216.93083089590073 | train_acc: 0.62602 | test_acc: 0.6029\n",
            "Epoch  24 | Loss: 213.7924771308899 | train_acc: 0.63024 | test_acc: 0.6075\n",
            "Epoch  25 | Loss: 211.1220125555992 | train_acc: 0.6346 | test_acc: 0.6094\n",
            "Epoch  26 | Loss: 208.74654811620712 | train_acc: 0.63658 | test_acc: 0.6125\n",
            "Epoch  27 | Loss: 206.63610726594925 | train_acc: 0.6469 | test_acc: 0.6181\n",
            "Epoch  28 | Loss: 203.21862888336182 | train_acc: 0.64704 | test_acc: 0.6211\n",
            "Epoch  29 | Loss: 201.7411608695984 | train_acc: 0.65596 | test_acc: 0.6276\n",
            "Epoch  30 | Loss: 198.957748234272 | train_acc: 0.65866 | test_acc: 0.6287\n",
            "Epoch  31 | Loss: 196.75359576940536 | train_acc: 0.65888 | test_acc: 0.6305\n",
            "Epoch  32 | Loss: 194.8599117398262 | train_acc: 0.66726 | test_acc: 0.6385\n",
            "Epoch  33 | Loss: 192.98156142234802 | train_acc: 0.66738 | test_acc: 0.6346\n",
            "Epoch  34 | Loss: 191.39995515346527 | train_acc: 0.6735 | test_acc: 0.6365\n",
            "Epoch  35 | Loss: 189.5595492720604 | train_acc: 0.66686 | test_acc: 0.6358\n",
            "Epoch  36 | Loss: 188.0597729086876 | train_acc: 0.67884 | test_acc: 0.645\n",
            "Epoch  37 | Loss: 186.11965876817703 | train_acc: 0.68074 | test_acc: 0.6413\n",
            "Epoch  38 | Loss: 184.5222813487053 | train_acc: 0.68648 | test_acc: 0.6507\n",
            "Epoch  39 | Loss: 182.91738867759705 | train_acc: 0.68946 | test_acc: 0.6528\n",
            "Epoch  40 | Loss: 181.33850610256195 | train_acc: 0.69068 | test_acc: 0.6524\n",
            "Epoch  41 | Loss: 179.55302727222443 | train_acc: 0.68584 | test_acc: 0.6467\n",
            "Epoch  42 | Loss: 178.58498287200928 | train_acc: 0.69032 | test_acc: 0.6498\n",
            "Epoch  43 | Loss: 176.30612307786942 | train_acc: 0.69926 | test_acc: 0.6529\n",
            "Epoch  44 | Loss: 175.55663293600082 | train_acc: 0.70134 | test_acc: 0.6554\n",
            "Epoch  45 | Loss: 173.74175333976746 | train_acc: 0.70276 | test_acc: 0.6581\n",
            "Epoch  46 | Loss: 172.46036845445633 | train_acc: 0.70434 | test_acc: 0.6592\n",
            "Epoch  47 | Loss: 171.39996027946472 | train_acc: 0.70828 | test_acc: 0.6646\n",
            "Epoch  48 | Loss: 170.33307445049286 | train_acc: 0.71018 | test_acc: 0.6628\n",
            "Epoch  49 | Loss: 168.6710758805275 | train_acc: 0.71302 | test_acc: 0.6613\n"
          ]
        }
      ],
      "source": [
        "train_accs_SGD,test_accs_SGD =  training(50,\"Leaky_Relu\", \"SGD\")"
      ]
    },
    {
      "cell_type": "code",
      "source": [
        "Model_Relu_SGD = model"
      ],
      "metadata": {
        "id": "MUZrgSKkIa7g"
      },
      "execution_count": 14,
      "outputs": []
    },
    {
      "cell_type": "markdown",
      "source": [
        "train_accs_SGD,test_accs_SGD =  training(10,\"Leaky_Relu\", \"SGD\")"
      ],
      "metadata": {
        "id": "iOpd26fecYM4"
      }
    },
    {
      "cell_type": "code",
      "execution_count": 16,
      "metadata": {
        "colab": {
          "base_uri": "https://localhost:8080/",
          "height": 430
        },
        "id": "5HmMkn8rClHV",
        "outputId": "adf3db53-7c08-44fc-89c0-724ec60b95b9"
      },
      "outputs": [
        {
          "output_type": "display_data",
          "data": {
            "text/plain": [
              "<Figure size 640x480 with 1 Axes>"
            ],
            "image/png": "[encoded data removed]"
          },
          "metadata": {}
        }
      ],
      "source": [
        "plot_acc(train_accs_SGD, test_accs_SGD, label1='Train Accuracy', label2='Test Accuracy')"
      ]
    },
    {
      "cell_type": "markdown",
      "source": [
        "#[Feedback]\n",
        "SGD 이 Adam 로 사용한 결과보다 곡선이 더욱 smooth 합니다.\n",
        "정확도도 SGD가 더 합리적인것 같습니다."
      ],
      "metadata": {
        "id": "OUxYsfnfcup-"
      }
    },
    {
      "cell_type": "code",
      "execution_count": 17,
      "metadata": {
        "id": "cM0wPJciC5dL",
        "colab": {
          "base_uri": "https://localhost:8080/",
          "height": 356
        },
        "outputId": "bf81eb4f-13c8-46dc-eb8f-c6a5aa816605"
      },
      "outputs": [
        {
          "output_type": "stream",
          "name": "stdout",
          "text": [
            "act_type: Sigmoid\n",
            "SGD  training:\n",
            "Epoch   0 | Loss: 451.5533571243286 | train_acc: 0.1 | test_acc: 0.1\n",
            "Epoch   1 | Loss: 451.4786972999573 | train_acc: 0.1 | test_acc: 0.1\n"
          ]
        },
        {
          "output_type": "error",
          "ename": "KeyboardInterrupt",
          "evalue": "",
          "traceback": [
            "\u001b[0;31m---------------------------------------------------------------------------\u001b[0m",
            "\u001b[0;31mKeyboardInterrupt\u001b[0m                         Traceback (most recent call last)",
            "\u001b[0;32m<ipython-input-17-d251c511a4f6>\u001b[0m in \u001b[0;36m<cell line: 1>\u001b[0;34m()\u001b[0m\n\u001b[0;32m----> 1\u001b[0;31m \u001b[0mtrain_accs_SGD_Sigmoid\u001b[0m\u001b[0;34m,\u001b[0m\u001b[0mtest_accs_SGD_Sigmoid\u001b[0m \u001b[0;34m=\u001b[0m  \u001b[0mtraining\u001b[0m\u001b[0;34m(\u001b[0m\u001b[0;36m10\u001b[0m\u001b[0;34m,\u001b[0m \u001b[0;34m\"Sigmoid\"\u001b[0m\u001b[0;34m,\u001b[0m \u001b[0;34m\"SGD\"\u001b[0m\u001b[0;34m)\u001b[0m\u001b[0;34m\u001b[0m\u001b[0;34m\u001b[0m\u001b[0m\n\u001b[0m",
            "\u001b[0;32m<ipython-input-16-696cd7c69bd0>\u001b[0m in \u001b[0;36mtraining\u001b[0;34m(n_epochs, active_type, optimizer_type)\u001b[0m\n\u001b[1;32m     28\u001b[0m       \u001b[0minputs\u001b[0m\u001b[0;34m,\u001b[0m \u001b[0mlabels\u001b[0m \u001b[0;34m=\u001b[0m \u001b[0minputs\u001b[0m\u001b[0;34m.\u001b[0m\u001b[0mto\u001b[0m\u001b[0;34m(\u001b[0m\u001b[0mdevice\u001b[0m\u001b[0;34m)\u001b[0m\u001b[0;34m,\u001b[0m \u001b[0mlabels\u001b[0m\u001b[0;34m.\u001b[0m\u001b[0mto\u001b[0m\u001b[0;34m(\u001b[0m\u001b[0mdevice\u001b[0m\u001b[0;34m)\u001b[0m\u001b[0;34m\u001b[0m\u001b[0;34m\u001b[0m\u001b[0m\n\u001b[1;32m     29\u001b[0m \u001b[0;34m\u001b[0m\u001b[0m\n\u001b[0;32m---> 30\u001b[0;31m       \u001b[0mpreds\u001b[0m \u001b[0;34m=\u001b[0m \u001b[0mmodel\u001b[0m\u001b[0;34m(\u001b[0m\u001b[0minputs\u001b[0m\u001b[0;34m)\u001b[0m\u001b[0;34m\u001b[0m\u001b[0;34m\u001b[0m\u001b[0m\n\u001b[0m\u001b[1;32m     31\u001b[0m       \u001b[0;31m#loss = (preds[:, 0] - labels).pow(2).mean()\u001b[0m\u001b[0;34m\u001b[0m\u001b[0;34m\u001b[0m\u001b[0m\n\u001b[1;32m     32\u001b[0m       \u001b[0mloss\u001b[0m \u001b[0;34m=\u001b[0m \u001b[0mcriterion\u001b[0m\u001b[0;34m(\u001b[0m\u001b[0mpreds\u001b[0m\u001b[0;34m,\u001b[0m \u001b[0mlabels\u001b[0m\u001b[0;34m)\u001b[0m\u001b[0;34m\u001b[0m\u001b[0;34m\u001b[0m\u001b[0m\n",
            "\u001b[0;32m/usr/local/lib/python3.10/dist-packages/torch/nn/modules/module.py\u001b[0m in \u001b[0;36m_wrapped_call_impl\u001b[0;34m(self, *args, **kwargs)\u001b[0m\n\u001b[1;32m   1734\u001b[0m             \u001b[0;32mreturn\u001b[0m \u001b[0mself\u001b[0m\u001b[0;34m.\u001b[0m\u001b[0m_compiled_call_impl\u001b[0m\u001b[0;34m(\u001b[0m\u001b[0;34m*\u001b[0m\u001b[0margs\u001b[0m\u001b[0;34m,\u001b[0m \u001b[0;34m**\u001b[0m\u001b[0mkwargs\u001b[0m\u001b[0;34m)\u001b[0m  \u001b[0;31m# type: ignore[misc]\u001b[0m\u001b[0;34m\u001b[0m\u001b[0;34m\u001b[0m\u001b[0m\n\u001b[1;32m   1735\u001b[0m         \u001b[0;32melse\u001b[0m\u001b[0;34m:\u001b[0m\u001b[0;34m\u001b[0m\u001b[0;34m\u001b[0m\u001b[0m\n\u001b[0;32m-> 1736\u001b[0;31m             \u001b[0;32mreturn\u001b[0m \u001b[0mself\u001b[0m\u001b[0;34m.\u001b[0m\u001b[0m_call_impl\u001b[0m\u001b[0;34m(\u001b[0m\u001b[0;34m*\u001b[0m\u001b[0margs\u001b[0m\u001b[0;34m,\u001b[0m \u001b[0;34m**\u001b[0m\u001b[0mkwargs\u001b[0m\u001b[0;34m)\u001b[0m\u001b[0;34m\u001b[0m\u001b[0;34m\u001b[0m\u001b[0m\n\u001b[0m\u001b[1;32m   1737\u001b[0m \u001b[0;34m\u001b[0m\u001b[0m\n\u001b[1;32m   1738\u001b[0m     \u001b[0;31m# torchrec tests the code consistency with the following code\u001b[0m\u001b[0;34m\u001b[0m\u001b[0;34m\u001b[0m\u001b[0m\n",
            "\u001b[0;32m/usr/local/lib/python3.10/dist-packages/torch/nn/modules/module.py\u001b[0m in \u001b[0;36m_call_impl\u001b[0;34m(self, *args, **kwargs)\u001b[0m\n\u001b[1;32m   1745\u001b[0m                 \u001b[0;32mor\u001b[0m \u001b[0m_global_backward_pre_hooks\u001b[0m \u001b[0;32mor\u001b[0m \u001b[0m_global_backward_hooks\u001b[0m\u001b[0;34m\u001b[0m\u001b[0;34m\u001b[0m\u001b[0m\n\u001b[1;32m   1746\u001b[0m                 or _global_forward_hooks or _global_forward_pre_hooks):\n\u001b[0;32m-> 1747\u001b[0;31m             \u001b[0;32mreturn\u001b[0m \u001b[0mforward_call\u001b[0m\u001b[0;34m(\u001b[0m\u001b[0;34m*\u001b[0m\u001b[0margs\u001b[0m\u001b[0;34m,\u001b[0m \u001b[0;34m**\u001b[0m\u001b[0mkwargs\u001b[0m\u001b[0;34m)\u001b[0m\u001b[0;34m\u001b[0m\u001b[0;34m\u001b[0m\u001b[0m\n\u001b[0m\u001b[1;32m   1748\u001b[0m \u001b[0;34m\u001b[0m\u001b[0m\n\u001b[1;32m   1749\u001b[0m         \u001b[0mresult\u001b[0m \u001b[0;34m=\u001b[0m \u001b[0;32mNone\u001b[0m\u001b[0;34m\u001b[0m\u001b[0;34m\u001b[0m\u001b[0m\n",
            "\u001b[0;32m<ipython-input-7-ae87bdfe5d99>\u001b[0m in \u001b[0;36mforward\u001b[0;34m(self, x)\u001b[0m\n\u001b[1;32m     25\u001b[0m \u001b[0;34m\u001b[0m\u001b[0m\n\u001b[1;32m     26\u001b[0m         \u001b[0;31m# Layer 2 tensor + activation + pool\u001b[0m\u001b[0;34m\u001b[0m\u001b[0;34m\u001b[0m\u001b[0m\n\u001b[0;32m---> 27\u001b[0;31m         \u001b[0mx\u001b[0m \u001b[0;34m=\u001b[0m \u001b[0mself\u001b[0m\u001b[0;34m.\u001b[0m\u001b[0mconv2\u001b[0m\u001b[0;34m(\u001b[0m\u001b[0mx\u001b[0m\u001b[0;34m)\u001b[0m\u001b[0;34m\u001b[0m\u001b[0;34m\u001b[0m\u001b[0m\n\u001b[0m\u001b[1;32m     28\u001b[0m         \u001b[0;32mif\u001b[0m \u001b[0mself\u001b[0m\u001b[0;34m.\u001b[0m\u001b[0mact_type\u001b[0m \u001b[0;34m==\u001b[0m \u001b[0;34m\"Sigmoid\"\u001b[0m\u001b[0;34m:\u001b[0m\u001b[0;34m\u001b[0m\u001b[0;34m\u001b[0m\u001b[0m\n\u001b[1;32m     29\u001b[0m             \u001b[0mx\u001b[0m \u001b[0;34m=\u001b[0m \u001b[0mtorch\u001b[0m\u001b[0;34m.\u001b[0m\u001b[0msigmoid\u001b[0m\u001b[0;34m(\u001b[0m\u001b[0mx\u001b[0m\u001b[0;34m)\u001b[0m\u001b[0;34m\u001b[0m\u001b[0;34m\u001b[0m\u001b[0m\n",
            "\u001b[0;32m/usr/local/lib/python3.10/dist-packages/torch/nn/modules/module.py\u001b[0m in \u001b[0;36m_wrapped_call_impl\u001b[0;34m(self, *args, **kwargs)\u001b[0m\n\u001b[1;32m   1734\u001b[0m             \u001b[0;32mreturn\u001b[0m \u001b[0mself\u001b[0m\u001b[0;34m.\u001b[0m\u001b[0m_compiled_call_impl\u001b[0m\u001b[0;34m(\u001b[0m\u001b[0;34m*\u001b[0m\u001b[0margs\u001b[0m\u001b[0;34m,\u001b[0m \u001b[0;34m**\u001b[0m\u001b[0mkwargs\u001b[0m\u001b[0;34m)\u001b[0m  \u001b[0;31m# type: ignore[misc]\u001b[0m\u001b[0;34m\u001b[0m\u001b[0;34m\u001b[0m\u001b[0m\n\u001b[1;32m   1735\u001b[0m         \u001b[0;32melse\u001b[0m\u001b[0;34m:\u001b[0m\u001b[0;34m\u001b[0m\u001b[0;34m\u001b[0m\u001b[0m\n\u001b[0;32m-> 1736\u001b[0;31m             \u001b[0;32mreturn\u001b[0m \u001b[0mself\u001b[0m\u001b[0;34m.\u001b[0m\u001b[0m_call_impl\u001b[0m\u001b[0;34m(\u001b[0m\u001b[0;34m*\u001b[0m\u001b[0margs\u001b[0m\u001b[0;34m,\u001b[0m \u001b[0;34m**\u001b[0m\u001b[0mkwargs\u001b[0m\u001b[0;34m)\u001b[0m\u001b[0;34m\u001b[0m\u001b[0;34m\u001b[0m\u001b[0m\n\u001b[0m\u001b[1;32m   1737\u001b[0m \u001b[0;34m\u001b[0m\u001b[0m\n\u001b[1;32m   1738\u001b[0m     \u001b[0;31m# torchrec tests the code consistency with the following code\u001b[0m\u001b[0;34m\u001b[0m\u001b[0;34m\u001b[0m\u001b[0m\n",
            "\u001b[0;32m/usr/local/lib/python3.10/dist-packages/torch/nn/modules/module.py\u001b[0m in \u001b[0;36m_call_impl\u001b[0;34m(self, *args, **kwargs)\u001b[0m\n\u001b[1;32m   1745\u001b[0m                 \u001b[0;32mor\u001b[0m \u001b[0m_global_backward_pre_hooks\u001b[0m \u001b[0;32mor\u001b[0m \u001b[0m_global_backward_hooks\u001b[0m\u001b[0;34m\u001b[0m\u001b[0;34m\u001b[0m\u001b[0m\n\u001b[1;32m   1746\u001b[0m                 or _global_forward_hooks or _global_forward_pre_hooks):\n\u001b[0;32m-> 1747\u001b[0;31m             \u001b[0;32mreturn\u001b[0m \u001b[0mforward_call\u001b[0m\u001b[0;34m(\u001b[0m\u001b[0;34m*\u001b[0m\u001b[0margs\u001b[0m\u001b[0;34m,\u001b[0m \u001b[0;34m**\u001b[0m\u001b[0mkwargs\u001b[0m\u001b[0;34m)\u001b[0m\u001b[0;34m\u001b[0m\u001b[0;34m\u001b[0m\u001b[0m\n\u001b[0m\u001b[1;32m   1748\u001b[0m \u001b[0;34m\u001b[0m\u001b[0m\n\u001b[1;32m   1749\u001b[0m         \u001b[0mresult\u001b[0m \u001b[0;34m=\u001b[0m \u001b[0;32mNone\u001b[0m\u001b[0;34m\u001b[0m\u001b[0;34m\u001b[0m\u001b[0m\n",
            "\u001b[0;32m/usr/local/lib/python3.10/dist-packages/torch/nn/modules/conv.py\u001b[0m in \u001b[0;36mforward\u001b[0;34m(self, input)\u001b[0m\n\u001b[1;32m    552\u001b[0m \u001b[0;34m\u001b[0m\u001b[0m\n\u001b[1;32m    553\u001b[0m     \u001b[0;32mdef\u001b[0m \u001b[0mforward\u001b[0m\u001b[0;34m(\u001b[0m\u001b[0mself\u001b[0m\u001b[0;34m,\u001b[0m \u001b[0minput\u001b[0m\u001b[0;34m:\u001b[0m \u001b[0mTensor\u001b[0m\u001b[0;34m)\u001b[0m \u001b[0;34m->\u001b[0m \u001b[0mTensor\u001b[0m\u001b[0;34m:\u001b[0m\u001b[0;34m\u001b[0m\u001b[0;34m\u001b[0m\u001b[0m\n\u001b[0;32m--> 554\u001b[0;31m         \u001b[0;32mreturn\u001b[0m \u001b[0mself\u001b[0m\u001b[0;34m.\u001b[0m\u001b[0m_conv_forward\u001b[0m\u001b[0;34m(\u001b[0m\u001b[0minput\u001b[0m\u001b[0;34m,\u001b[0m \u001b[0mself\u001b[0m\u001b[0;34m.\u001b[0m\u001b[0mweight\u001b[0m\u001b[0;34m,\u001b[0m \u001b[0mself\u001b[0m\u001b[0;34m.\u001b[0m\u001b[0mbias\u001b[0m\u001b[0;34m)\u001b[0m\u001b[0;34m\u001b[0m\u001b[0;34m\u001b[0m\u001b[0m\n\u001b[0m\u001b[1;32m    555\u001b[0m \u001b[0;34m\u001b[0m\u001b[0m\n\u001b[1;32m    556\u001b[0m \u001b[0;34m\u001b[0m\u001b[0m\n",
            "\u001b[0;32m/usr/local/lib/python3.10/dist-packages/torch/nn/modules/conv.py\u001b[0m in \u001b[0;36m_conv_forward\u001b[0;34m(self, input, weight, bias)\u001b[0m\n\u001b[1;32m    547\u001b[0m                 \u001b[0mself\u001b[0m\u001b[0;34m.\u001b[0m\u001b[0mgroups\u001b[0m\u001b[0;34m,\u001b[0m\u001b[0;34m\u001b[0m\u001b[0;34m\u001b[0m\u001b[0m\n\u001b[1;32m    548\u001b[0m             )\n\u001b[0;32m--> 549\u001b[0;31m         return F.conv2d(\n\u001b[0m\u001b[1;32m    550\u001b[0m             \u001b[0minput\u001b[0m\u001b[0;34m,\u001b[0m \u001b[0mweight\u001b[0m\u001b[0;34m,\u001b[0m \u001b[0mbias\u001b[0m\u001b[0;34m,\u001b[0m \u001b[0mself\u001b[0m\u001b[0;34m.\u001b[0m\u001b[0mstride\u001b[0m\u001b[0;34m,\u001b[0m \u001b[0mself\u001b[0m\u001b[0;34m.\u001b[0m\u001b[0mpadding\u001b[0m\u001b[0;34m,\u001b[0m \u001b[0mself\u001b[0m\u001b[0;34m.\u001b[0m\u001b[0mdilation\u001b[0m\u001b[0;34m,\u001b[0m \u001b[0mself\u001b[0m\u001b[0;34m.\u001b[0m\u001b[0mgroups\u001b[0m\u001b[0;34m\u001b[0m\u001b[0;34m\u001b[0m\u001b[0m\n\u001b[1;32m    551\u001b[0m         )\n",
            "\u001b[0;31mKeyboardInterrupt\u001b[0m: "
          ]
        }
      ],
      "source": [
        "train_accs_SGD_Sigmoid,test_accs_SGD_Sigmoid =  training(10, \"Sigmoid\", \"SGD\")"
      ]
    },
    {
      "cell_type": "markdown",
      "source": [
        "##[Feedback]\n",
        "Sigmoid 로서 training 하면서 얻은 결과는 0.1 가까이로 계속나오고 계선이 되지않아 어딘가 잘못되였다고 생각했습니다.  \n",
        "검색을 해보니 CNN 모델에는 Sigmoid 이 적합하지 않다고 나옵니다.\n",
        "\n",
        "GPU 환경문제와 시간상 관계로 Sigmoid 다시 돌리다가 다 돌리지 못하고 우선 올리기로 했습니다."
      ],
      "metadata": {
        "id": "tvyMOFpte-0t"
      }
    },
    {
      "cell_type": "markdown",
      "metadata": {
        "id": "1lDZoFVbJPiI"
      },
      "source": [
        "##[FEEDBACK]"
      ]
    },
    {
      "cell_type": "markdown",
      "metadata": {
        "id": "YRDcptrqniX7"
      },
      "source": [
        "출력 결과를 보면 잘 수렴하는 것을 볼 수 있습니다.\n",
        "이전 구현과 다른 점은 다음 두 가지입니다.\n",
        "- `for data in trainloader`를 통해 batch들을 iterate하면서 model을 학습합니다.\n",
        "- `inputs, labels = inputs.to('cuda'), labels.to('cuda')`를 통해 model의 입력으로 들어가는 tensor들을 GPU로 보냅니다.\n",
        "\n",
        "마지막으로 첫 번째 data에 대한 예측 결과를 살펴봅시다."
      ]
    },
    {
      "cell_type": "markdown",
      "metadata": {
        "id": "gx2H7WNdPiJj"
      },
      "source": [
        "##[FEEDBACK] 모델 배포한 상태 및 예측값을  볼수가 있습니다."
      ]
    },
    {
      "cell_type": "code",
      "execution_count": 14,
      "metadata": {
        "id": "Zct0ssSKwjt1"
      },
      "outputs": [],
      "source": [
        "def lb_check(idx, Model):\n",
        "  x = trainset[idx][0][None]  # (1, 1, 28, 28)\n",
        "  x = x.to(device)\n",
        "\n",
        "  model = Model_Relu_SGD\n",
        "  logits = model(x)\n",
        "\n",
        "  print(logits)\n",
        "  print(\"오리지널 데이터:\",trainset[idx][1])\n",
        "  predicted_class = torch.argmax(logits, dim=1).item()\n",
        "  print(\"모델추출 데이터: \",predicted_class)\n",
        "\n",
        "  print(\"--------------------\")\n",
        "\n",
        "  print(len(trainset))\n",
        "  print(trainset[0][0].shape, trainset[0][1])\n",
        "  plt.imshow(trainset[idx][0][0], cmap='gray')\n",
        "\n",
        "  print(\"--------------------\")\n",
        "\n",
        "  def switch_label(index):\n",
        "      if index == 0:\n",
        "          return \"airplane\"\n",
        "      elif index == 1:\n",
        "          return \"automobile\"\n",
        "      elif index == 2:\n",
        "          return \"bird\"\n",
        "      elif index == 3:\n",
        "          return \"cat\"\n",
        "      elif index == 4:\n",
        "          return \"deer\"\n",
        "      elif index == 5:\n",
        "          return \"dog\"\n",
        "      elif index == 6:\n",
        "          return \"frog\"\n",
        "      elif index == 7:\n",
        "          return \"horse\"\n",
        "      elif index == 8:\n",
        "          return \"ship\"\n",
        "      elif index == 9:\n",
        "          return \"truck\"\n",
        "      else:\n",
        "          return \"Unknown\"\n",
        "\n",
        "  label_index = trainset[idx][1]\n",
        "  label_name = switch_label(label_index)\n",
        "\n",
        "  print(f\"index: {label_index}\")\n",
        "  print(f\"name: {label_name}\")\n"
      ]
    },
    {
      "cell_type": "code",
      "execution_count": 15,
      "metadata": {
        "colab": {
          "base_uri": "https://localhost:8080/",
          "height": 158
        },
        "id": "lzuMcYXTSCB7",
        "outputId": "8fd604ec-6c84-4f77-e4bb-fc3fa7b39de0"
      },
      "outputs": [
        {
          "output_type": "error",
          "ename": "NameError",
          "evalue": "name 'Model_Relu_SGD' is not defined",
          "traceback": [
            "\u001b[0;31m---------------------------------------------------------------------------\u001b[0m",
            "\u001b[0;31mNameError\u001b[0m                                 Traceback (most recent call last)",
            "\u001b[0;32m<ipython-input-15-82264a18178c>\u001b[0m in \u001b[0;36m<cell line: 1>\u001b[0;34m()\u001b[0m\n\u001b[0;32m----> 1\u001b[0;31m \u001b[0mmodel\u001b[0m \u001b[0;34m=\u001b[0m \u001b[0mModel_Relu_SGD\u001b[0m\u001b[0;34m.\u001b[0m\u001b[0mto\u001b[0m\u001b[0;34m(\u001b[0m\u001b[0mdevice\u001b[0m\u001b[0;34m)\u001b[0m\u001b[0;34m\u001b[0m\u001b[0;34m\u001b[0m\u001b[0m\n\u001b[0m\u001b[1;32m      2\u001b[0m \u001b[0mlb_check\u001b[0m\u001b[0;34m(\u001b[0m\u001b[0;36m20\u001b[0m\u001b[0;34m,\u001b[0m\u001b[0mmodel\u001b[0m\u001b[0;34m)\u001b[0m\u001b[0;34m\u001b[0m\u001b[0;34m\u001b[0m\u001b[0m\n",
            "\u001b[0;31mNameError\u001b[0m: name 'Model_Relu_SGD' is not defined"
          ]
        }
      ],
      "source": [
        "model = Model_Relu_SGD.to(device)\n",
        "lb_check(20,model)"
      ]
    },
    {
      "cell_type": "markdown",
      "metadata": {
        "id": "vcQ0N7P-PY5Z"
      },
      "source": []
    },
    {
      "cell_type": "markdown",
      "metadata": {
        "id": "qzgSOrMsoZ2z"
      },
      "source": [
        "여기서 idx를 조정하여 다른 data에 대한 출력 결과도 볼 수 있습니다.\n",
        "예측 결과를 보시면 아직 성능이 그렇게 좋지 않은 것을 알 수 있습니다."
      ]
    },
    {
      "cell_type": "markdown",
      "metadata": {
        "id": "xUfwMlrtWMWH"
      },
      "source": []
    }
  ],
  "metadata": {
    "colab": {
      "provenance": []
    },
    "kernelspec": {
      "display_name": "Python 3",
      "name": "python3"
    },
    "language_info": {
      "name": "python"
    }
  },
  "nbformat": 4,
  "nbformat_minor": 0
}
